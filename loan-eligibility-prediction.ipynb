{
 "cells": [
  {
   "cell_type": "markdown",
   "id": "f5d4c279",
   "metadata": {
    "papermill": {
     "duration": 0.051629,
     "end_time": "2022-01-30T10:16:42.754170",
     "exception": false,
     "start_time": "2022-01-30T10:16:42.702541",
     "status": "completed"
    },
    "tags": []
   },
   "source": [
    "# Loan Eligibility Prediction"
   ]
  },
  {
   "cell_type": "code",
   "execution_count": 1,
   "id": "eb2ff308",
   "metadata": {
    "_cell_guid": "b1076dfc-b9ad-4769-8c92-a6c4dae69d19",
    "_uuid": "8f2839f25d086af736a60e9eeb907d3b93b6e0e5",
    "execution": {
     "iopub.execute_input": "2022-01-30T10:16:42.868824Z",
     "iopub.status.busy": "2022-01-30T10:16:42.868200Z",
     "iopub.status.idle": "2022-01-30T10:16:43.962778Z",
     "shell.execute_reply": "2022-01-30T10:16:43.962063Z",
     "shell.execute_reply.started": "2022-01-30T10:12:49.791715Z"
    },
    "papermill": {
     "duration": 1.158467,
     "end_time": "2022-01-30T10:16:43.962944",
     "exception": false,
     "start_time": "2022-01-30T10:16:42.804477",
     "status": "completed"
    },
    "tags": []
   },
   "outputs": [
    {
     "name": "stdout",
     "output_type": "stream",
     "text": [
      "/kaggle/input/loan-eligible-dataset/loan-train.csv\n",
      "/kaggle/input/loan-eligible-dataset/loan-test.csv\n"
     ]
    }
   ],
   "source": [
    "#importing relevant libraries\n",
    "import numpy as np \n",
    "import pandas as pd \n",
    "import seaborn as sns\n",
    "import matplotlib.pyplot as plt\n",
    "sns.set()\n",
    "\n",
    "import warnings\n",
    "warnings.filterwarnings(\"ignore\")\n",
    "\n",
    "from sklearn.model_selection import train_test_split as tts\n",
    "from sklearn.preprocessing import StandardScaler, OneHotEncoder\n",
    "from sklearn.metrics import accuracy_score,f1_score, classification_report\n",
    "\n",
    "import os\n",
    "for dirname, _, filenames in os.walk('/kaggle/input'):\n",
    "    for filename in filenames:\n",
    "        print(os.path.join(dirname, filename))"
   ]
  },
  {
   "cell_type": "markdown",
   "id": "5a7cf0d6",
   "metadata": {
    "papermill": {
     "duration": 0.050972,
     "end_time": "2022-01-30T10:16:44.065198",
     "exception": false,
     "start_time": "2022-01-30T10:16:44.014226",
     "status": "completed"
    },
    "tags": []
   },
   "source": [
    "**Loading data**"
   ]
  },
  {
   "cell_type": "code",
   "execution_count": 2,
   "id": "470c2fc5",
   "metadata": {
    "execution": {
     "iopub.execute_input": "2022-01-30T10:16:44.172297Z",
     "iopub.status.busy": "2022-01-30T10:16:44.171526Z",
     "iopub.status.idle": "2022-01-30T10:16:44.198052Z",
     "shell.execute_reply": "2022-01-30T10:16:44.197358Z",
     "shell.execute_reply.started": "2022-01-30T10:12:49.809946Z"
    },
    "papermill": {
     "duration": 0.081983,
     "end_time": "2022-01-30T10:16:44.198234",
     "exception": false,
     "start_time": "2022-01-30T10:16:44.116251",
     "status": "completed"
    },
    "tags": []
   },
   "outputs": [],
   "source": [
    "train_loan_df = pd.read_csv('../input/loan-eligible-dataset/loan-train.csv')\n",
    "test_loan_df = pd.read_csv('../input/loan-eligible-dataset/loan-test.csv')"
   ]
  },
  {
   "cell_type": "code",
   "execution_count": 3,
   "id": "7206ea4c",
   "metadata": {
    "execution": {
     "iopub.execute_input": "2022-01-30T10:16:44.309232Z",
     "iopub.status.busy": "2022-01-30T10:16:44.308544Z",
     "iopub.status.idle": "2022-01-30T10:16:44.331611Z",
     "shell.execute_reply": "2022-01-30T10:16:44.330901Z",
     "shell.execute_reply.started": "2022-01-30T10:12:49.830389Z"
    },
    "papermill": {
     "duration": 0.081783,
     "end_time": "2022-01-30T10:16:44.331758",
     "exception": false,
     "start_time": "2022-01-30T10:16:44.249975",
     "status": "completed"
    },
    "tags": []
   },
   "outputs": [
    {
     "data": {
      "text/html": [
       "<div>\n",
       "<style scoped>\n",
       "    .dataframe tbody tr th:only-of-type {\n",
       "        vertical-align: middle;\n",
       "    }\n",
       "\n",
       "    .dataframe tbody tr th {\n",
       "        vertical-align: top;\n",
       "    }\n",
       "\n",
       "    .dataframe thead th {\n",
       "        text-align: right;\n",
       "    }\n",
       "</style>\n",
       "<table border=\"1\" class=\"dataframe\">\n",
       "  <thead>\n",
       "    <tr style=\"text-align: right;\">\n",
       "      <th></th>\n",
       "      <th>Loan_ID</th>\n",
       "      <th>Gender</th>\n",
       "      <th>Married</th>\n",
       "      <th>Dependents</th>\n",
       "      <th>Education</th>\n",
       "      <th>Self_Employed</th>\n",
       "      <th>ApplicantIncome</th>\n",
       "      <th>CoapplicantIncome</th>\n",
       "      <th>LoanAmount</th>\n",
       "      <th>Loan_Amount_Term</th>\n",
       "      <th>Credit_History</th>\n",
       "      <th>Property_Area</th>\n",
       "      <th>Loan_Status</th>\n",
       "    </tr>\n",
       "  </thead>\n",
       "  <tbody>\n",
       "    <tr>\n",
       "      <th>0</th>\n",
       "      <td>LP001002</td>\n",
       "      <td>Male</td>\n",
       "      <td>No</td>\n",
       "      <td>0</td>\n",
       "      <td>Graduate</td>\n",
       "      <td>No</td>\n",
       "      <td>5849</td>\n",
       "      <td>0.0</td>\n",
       "      <td>NaN</td>\n",
       "      <td>360.0</td>\n",
       "      <td>1.0</td>\n",
       "      <td>Urban</td>\n",
       "      <td>Y</td>\n",
       "    </tr>\n",
       "    <tr>\n",
       "      <th>1</th>\n",
       "      <td>LP001003</td>\n",
       "      <td>Male</td>\n",
       "      <td>Yes</td>\n",
       "      <td>1</td>\n",
       "      <td>Graduate</td>\n",
       "      <td>No</td>\n",
       "      <td>4583</td>\n",
       "      <td>1508.0</td>\n",
       "      <td>128.0</td>\n",
       "      <td>360.0</td>\n",
       "      <td>1.0</td>\n",
       "      <td>Rural</td>\n",
       "      <td>N</td>\n",
       "    </tr>\n",
       "    <tr>\n",
       "      <th>2</th>\n",
       "      <td>LP001005</td>\n",
       "      <td>Male</td>\n",
       "      <td>Yes</td>\n",
       "      <td>0</td>\n",
       "      <td>Graduate</td>\n",
       "      <td>Yes</td>\n",
       "      <td>3000</td>\n",
       "      <td>0.0</td>\n",
       "      <td>66.0</td>\n",
       "      <td>360.0</td>\n",
       "      <td>1.0</td>\n",
       "      <td>Urban</td>\n",
       "      <td>Y</td>\n",
       "    </tr>\n",
       "    <tr>\n",
       "      <th>3</th>\n",
       "      <td>LP001006</td>\n",
       "      <td>Male</td>\n",
       "      <td>Yes</td>\n",
       "      <td>0</td>\n",
       "      <td>Not Graduate</td>\n",
       "      <td>No</td>\n",
       "      <td>2583</td>\n",
       "      <td>2358.0</td>\n",
       "      <td>120.0</td>\n",
       "      <td>360.0</td>\n",
       "      <td>1.0</td>\n",
       "      <td>Urban</td>\n",
       "      <td>Y</td>\n",
       "    </tr>\n",
       "    <tr>\n",
       "      <th>4</th>\n",
       "      <td>LP001008</td>\n",
       "      <td>Male</td>\n",
       "      <td>No</td>\n",
       "      <td>0</td>\n",
       "      <td>Graduate</td>\n",
       "      <td>No</td>\n",
       "      <td>6000</td>\n",
       "      <td>0.0</td>\n",
       "      <td>141.0</td>\n",
       "      <td>360.0</td>\n",
       "      <td>1.0</td>\n",
       "      <td>Urban</td>\n",
       "      <td>Y</td>\n",
       "    </tr>\n",
       "  </tbody>\n",
       "</table>\n",
       "</div>"
      ],
      "text/plain": [
       "    Loan_ID Gender Married Dependents     Education Self_Employed  \\\n",
       "0  LP001002   Male      No          0      Graduate            No   \n",
       "1  LP001003   Male     Yes          1      Graduate            No   \n",
       "2  LP001005   Male     Yes          0      Graduate           Yes   \n",
       "3  LP001006   Male     Yes          0  Not Graduate            No   \n",
       "4  LP001008   Male      No          0      Graduate            No   \n",
       "\n",
       "   ApplicantIncome  CoapplicantIncome  LoanAmount  Loan_Amount_Term  \\\n",
       "0             5849                0.0         NaN             360.0   \n",
       "1             4583             1508.0       128.0             360.0   \n",
       "2             3000                0.0        66.0             360.0   \n",
       "3             2583             2358.0       120.0             360.0   \n",
       "4             6000                0.0       141.0             360.0   \n",
       "\n",
       "   Credit_History Property_Area Loan_Status  \n",
       "0             1.0         Urban           Y  \n",
       "1             1.0         Rural           N  \n",
       "2             1.0         Urban           Y  \n",
       "3             1.0         Urban           Y  \n",
       "4             1.0         Urban           Y  "
      ]
     },
     "execution_count": 3,
     "metadata": {},
     "output_type": "execute_result"
    }
   ],
   "source": [
    "train_loan_df.head()"
   ]
  },
  {
   "cell_type": "code",
   "execution_count": 4,
   "id": "d0b3741b",
   "metadata": {
    "execution": {
     "iopub.execute_input": "2022-01-30T10:16:44.439557Z",
     "iopub.status.busy": "2022-01-30T10:16:44.438842Z",
     "iopub.status.idle": "2022-01-30T10:16:44.442536Z",
     "shell.execute_reply": "2022-01-30T10:16:44.441894Z",
     "shell.execute_reply.started": "2022-01-30T10:12:49.851020Z"
    },
    "papermill": {
     "duration": 0.059272,
     "end_time": "2022-01-30T10:16:44.442691",
     "exception": false,
     "start_time": "2022-01-30T10:16:44.383419",
     "status": "completed"
    },
    "tags": []
   },
   "outputs": [
    {
     "name": "stdout",
     "output_type": "stream",
     "text": [
      "Rows: 614 \n",
      "Columns: 13\n"
     ]
    }
   ],
   "source": [
    "print('Rows: {0} \\nColumns: {1}'.format(train_loan_df.shape[0],train_loan_df.shape[1]))"
   ]
  },
  {
   "cell_type": "code",
   "execution_count": 5,
   "id": "bf1b4184",
   "metadata": {
    "execution": {
     "iopub.execute_input": "2022-01-30T10:16:44.561660Z",
     "iopub.status.busy": "2022-01-30T10:16:44.560755Z",
     "iopub.status.idle": "2022-01-30T10:16:44.581996Z",
     "shell.execute_reply": "2022-01-30T10:16:44.581382Z",
     "shell.execute_reply.started": "2022-01-30T10:12:49.859284Z"
    },
    "papermill": {
     "duration": 0.087616,
     "end_time": "2022-01-30T10:16:44.582148",
     "exception": false,
     "start_time": "2022-01-30T10:16:44.494532",
     "status": "completed"
    },
    "tags": []
   },
   "outputs": [
    {
     "data": {
      "text/html": [
       "<div>\n",
       "<style scoped>\n",
       "    .dataframe tbody tr th:only-of-type {\n",
       "        vertical-align: middle;\n",
       "    }\n",
       "\n",
       "    .dataframe tbody tr th {\n",
       "        vertical-align: top;\n",
       "    }\n",
       "\n",
       "    .dataframe thead th {\n",
       "        text-align: right;\n",
       "    }\n",
       "</style>\n",
       "<table border=\"1\" class=\"dataframe\">\n",
       "  <thead>\n",
       "    <tr style=\"text-align: right;\">\n",
       "      <th></th>\n",
       "      <th>ApplicantIncome</th>\n",
       "      <th>CoapplicantIncome</th>\n",
       "      <th>LoanAmount</th>\n",
       "      <th>Loan_Amount_Term</th>\n",
       "      <th>Credit_History</th>\n",
       "    </tr>\n",
       "  </thead>\n",
       "  <tbody>\n",
       "    <tr>\n",
       "      <th>count</th>\n",
       "      <td>614.000000</td>\n",
       "      <td>614.000000</td>\n",
       "      <td>592.000000</td>\n",
       "      <td>600.00000</td>\n",
       "      <td>564.000000</td>\n",
       "    </tr>\n",
       "    <tr>\n",
       "      <th>mean</th>\n",
       "      <td>5403.459283</td>\n",
       "      <td>1621.245798</td>\n",
       "      <td>146.412162</td>\n",
       "      <td>342.00000</td>\n",
       "      <td>0.842199</td>\n",
       "    </tr>\n",
       "    <tr>\n",
       "      <th>std</th>\n",
       "      <td>6109.041673</td>\n",
       "      <td>2926.248369</td>\n",
       "      <td>85.587325</td>\n",
       "      <td>65.12041</td>\n",
       "      <td>0.364878</td>\n",
       "    </tr>\n",
       "    <tr>\n",
       "      <th>min</th>\n",
       "      <td>150.000000</td>\n",
       "      <td>0.000000</td>\n",
       "      <td>9.000000</td>\n",
       "      <td>12.00000</td>\n",
       "      <td>0.000000</td>\n",
       "    </tr>\n",
       "    <tr>\n",
       "      <th>25%</th>\n",
       "      <td>2877.500000</td>\n",
       "      <td>0.000000</td>\n",
       "      <td>100.000000</td>\n",
       "      <td>360.00000</td>\n",
       "      <td>1.000000</td>\n",
       "    </tr>\n",
       "    <tr>\n",
       "      <th>50%</th>\n",
       "      <td>3812.500000</td>\n",
       "      <td>1188.500000</td>\n",
       "      <td>128.000000</td>\n",
       "      <td>360.00000</td>\n",
       "      <td>1.000000</td>\n",
       "    </tr>\n",
       "    <tr>\n",
       "      <th>75%</th>\n",
       "      <td>5795.000000</td>\n",
       "      <td>2297.250000</td>\n",
       "      <td>168.000000</td>\n",
       "      <td>360.00000</td>\n",
       "      <td>1.000000</td>\n",
       "    </tr>\n",
       "    <tr>\n",
       "      <th>max</th>\n",
       "      <td>81000.000000</td>\n",
       "      <td>41667.000000</td>\n",
       "      <td>700.000000</td>\n",
       "      <td>480.00000</td>\n",
       "      <td>1.000000</td>\n",
       "    </tr>\n",
       "  </tbody>\n",
       "</table>\n",
       "</div>"
      ],
      "text/plain": [
       "       ApplicantIncome  CoapplicantIncome  LoanAmount  Loan_Amount_Term  \\\n",
       "count       614.000000         614.000000  592.000000         600.00000   \n",
       "mean       5403.459283        1621.245798  146.412162         342.00000   \n",
       "std        6109.041673        2926.248369   85.587325          65.12041   \n",
       "min         150.000000           0.000000    9.000000          12.00000   \n",
       "25%        2877.500000           0.000000  100.000000         360.00000   \n",
       "50%        3812.500000        1188.500000  128.000000         360.00000   \n",
       "75%        5795.000000        2297.250000  168.000000         360.00000   \n",
       "max       81000.000000       41667.000000  700.000000         480.00000   \n",
       "\n",
       "       Credit_History  \n",
       "count      564.000000  \n",
       "mean         0.842199  \n",
       "std          0.364878  \n",
       "min          0.000000  \n",
       "25%          1.000000  \n",
       "50%          1.000000  \n",
       "75%          1.000000  \n",
       "max          1.000000  "
      ]
     },
     "execution_count": 5,
     "metadata": {},
     "output_type": "execute_result"
    }
   ],
   "source": [
    "#Understanding data\n",
    "train_loan_df.describe()"
   ]
  },
  {
   "cell_type": "code",
   "execution_count": 6,
   "id": "c82a84a9",
   "metadata": {
    "execution": {
     "iopub.execute_input": "2022-01-30T10:16:44.703306Z",
     "iopub.status.busy": "2022-01-30T10:16:44.702631Z",
     "iopub.status.idle": "2022-01-30T10:16:44.705623Z",
     "shell.execute_reply": "2022-01-30T10:16:44.706241Z",
     "shell.execute_reply.started": "2022-01-30T10:12:49.906334Z"
    },
    "papermill": {
     "duration": 0.070628,
     "end_time": "2022-01-30T10:16:44.706419",
     "exception": false,
     "start_time": "2022-01-30T10:16:44.635791",
     "status": "completed"
    },
    "tags": []
   },
   "outputs": [
    {
     "name": "stdout",
     "output_type": "stream",
     "text": [
      "<class 'pandas.core.frame.DataFrame'>\n",
      "RangeIndex: 614 entries, 0 to 613\n",
      "Data columns (total 13 columns):\n",
      " #   Column             Non-Null Count  Dtype  \n",
      "---  ------             --------------  -----  \n",
      " 0   Loan_ID            614 non-null    object \n",
      " 1   Gender             601 non-null    object \n",
      " 2   Married            611 non-null    object \n",
      " 3   Dependents         599 non-null    object \n",
      " 4   Education          614 non-null    object \n",
      " 5   Self_Employed      582 non-null    object \n",
      " 6   ApplicantIncome    614 non-null    int64  \n",
      " 7   CoapplicantIncome  614 non-null    float64\n",
      " 8   LoanAmount         592 non-null    float64\n",
      " 9   Loan_Amount_Term   600 non-null    float64\n",
      " 10  Credit_History     564 non-null    float64\n",
      " 11  Property_Area      614 non-null    object \n",
      " 12  Loan_Status        614 non-null    object \n",
      "dtypes: float64(4), int64(1), object(8)\n",
      "memory usage: 62.5+ KB\n"
     ]
    }
   ],
   "source": [
    "train_loan_df.info()"
   ]
  },
  {
   "cell_type": "code",
   "execution_count": 7,
   "id": "b4091b1b",
   "metadata": {
    "execution": {
     "iopub.execute_input": "2022-01-30T10:16:44.820950Z",
     "iopub.status.busy": "2022-01-30T10:16:44.820292Z",
     "iopub.status.idle": "2022-01-30T10:16:44.823512Z",
     "shell.execute_reply": "2022-01-30T10:16:44.822953Z",
     "shell.execute_reply.started": "2022-01-30T10:12:49.926799Z"
    },
    "papermill": {
     "duration": 0.064862,
     "end_time": "2022-01-30T10:16:44.823648",
     "exception": false,
     "start_time": "2022-01-30T10:16:44.758786",
     "status": "completed"
    },
    "tags": []
   },
   "outputs": [
    {
     "data": {
      "text/plain": [
       "1.0    475\n",
       "0.0     89\n",
       "Name: Credit_History, dtype: int64"
      ]
     },
     "execution_count": 7,
     "metadata": {},
     "output_type": "execute_result"
    }
   ],
   "source": [
    "train_loan_df.Credit_History.value_counts()"
   ]
  },
  {
   "cell_type": "markdown",
   "id": "bddd5907",
   "metadata": {
    "papermill": {
     "duration": 0.05347,
     "end_time": "2022-01-30T10:16:44.929766",
     "exception": false,
     "start_time": "2022-01-30T10:16:44.876296",
     "status": "completed"
    },
    "tags": []
   },
   "source": [
    "**Dropping Loan_Id as it does not hold any significance**"
   ]
  },
  {
   "cell_type": "code",
   "execution_count": 8,
   "id": "ae199a66",
   "metadata": {
    "execution": {
     "iopub.execute_input": "2022-01-30T10:16:45.044193Z",
     "iopub.status.busy": "2022-01-30T10:16:45.043521Z",
     "iopub.status.idle": "2022-01-30T10:16:45.045793Z",
     "shell.execute_reply": "2022-01-30T10:16:45.045226Z",
     "shell.execute_reply.started": "2022-01-30T10:12:49.939317Z"
    },
    "papermill": {
     "duration": 0.061902,
     "end_time": "2022-01-30T10:16:45.045928",
     "exception": false,
     "start_time": "2022-01-30T10:16:44.984026",
     "status": "completed"
    },
    "tags": []
   },
   "outputs": [],
   "source": [
    "df = train_loan_df.drop('Loan_ID', axis = 1)\n",
    "test_df = test_loan_df.drop('Loan_ID', axis = 1)"
   ]
  },
  {
   "cell_type": "code",
   "execution_count": 9,
   "id": "562d5718",
   "metadata": {
    "execution": {
     "iopub.execute_input": "2022-01-30T10:16:45.154950Z",
     "iopub.status.busy": "2022-01-30T10:16:45.154335Z",
     "iopub.status.idle": "2022-01-30T10:16:45.161617Z",
     "shell.execute_reply": "2022-01-30T10:16:45.162221Z",
     "shell.execute_reply.started": "2022-01-30T10:12:49.950293Z"
    },
    "papermill": {
     "duration": 0.063671,
     "end_time": "2022-01-30T10:16:45.162389",
     "exception": false,
     "start_time": "2022-01-30T10:16:45.098718",
     "status": "completed"
    },
    "tags": []
   },
   "outputs": [
    {
     "data": {
      "text/plain": [
       "count     614\n",
       "unique      2\n",
       "top         Y\n",
       "freq      422\n",
       "Name: Loan_Status, dtype: object"
      ]
     },
     "execution_count": 9,
     "metadata": {},
     "output_type": "execute_result"
    }
   ],
   "source": [
    "df.Loan_Status.describe()"
   ]
  },
  {
   "cell_type": "markdown",
   "id": "fa37d5ec",
   "metadata": {
    "papermill": {
     "duration": 0.052605,
     "end_time": "2022-01-30T10:16:45.267722",
     "exception": false,
     "start_time": "2022-01-30T10:16:45.215117",
     "status": "completed"
    },
    "tags": []
   },
   "source": [
    "**Mapping 'Y' as 1 and 'N'as 0**"
   ]
  },
  {
   "cell_type": "code",
   "execution_count": 10,
   "id": "e735b870",
   "metadata": {
    "execution": {
     "iopub.execute_input": "2022-01-30T10:16:45.379688Z",
     "iopub.status.busy": "2022-01-30T10:16:45.378957Z",
     "iopub.status.idle": "2022-01-30T10:16:45.382929Z",
     "shell.execute_reply": "2022-01-30T10:16:45.382362Z",
     "shell.execute_reply.started": "2022-01-30T10:12:49.969966Z"
    },
    "papermill": {
     "duration": 0.062093,
     "end_time": "2022-01-30T10:16:45.383105",
     "exception": false,
     "start_time": "2022-01-30T10:16:45.321012",
     "status": "completed"
    },
    "tags": []
   },
   "outputs": [],
   "source": [
    "df.Loan_Status = df.Loan_Status.map({'Y':1, 'N':0})\n"
   ]
  },
  {
   "cell_type": "markdown",
   "id": "e6c0c290",
   "metadata": {
    "papermill": {
     "duration": 0.05364,
     "end_time": "2022-01-30T10:16:45.490397",
     "exception": false,
     "start_time": "2022-01-30T10:16:45.436757",
     "status": "completed"
    },
    "tags": []
   },
   "source": [
    "**Changing Credit History's data type as object**\n",
    "As there are only two values '0' and '1'"
   ]
  },
  {
   "cell_type": "code",
   "execution_count": 11,
   "id": "a43cc308",
   "metadata": {
    "execution": {
     "iopub.execute_input": "2022-01-30T10:16:45.605309Z",
     "iopub.status.busy": "2022-01-30T10:16:45.604556Z",
     "iopub.status.idle": "2022-01-30T10:16:45.607130Z",
     "shell.execute_reply": "2022-01-30T10:16:45.607607Z",
     "shell.execute_reply.started": "2022-01-30T10:12:49.982063Z"
    },
    "papermill": {
     "duration": 0.063243,
     "end_time": "2022-01-30T10:16:45.607781",
     "exception": false,
     "start_time": "2022-01-30T10:16:45.544538",
     "status": "completed"
    },
    "tags": []
   },
   "outputs": [
    {
     "data": {
      "text/plain": [
       "1.0    475\n",
       "0.0     89\n",
       "Name: Credit_History, dtype: int64"
      ]
     },
     "execution_count": 11,
     "metadata": {},
     "output_type": "execute_result"
    }
   ],
   "source": [
    "df['Credit_History'].value_counts()"
   ]
  },
  {
   "cell_type": "code",
   "execution_count": 12,
   "id": "87b407b7",
   "metadata": {
    "execution": {
     "iopub.execute_input": "2022-01-30T10:16:45.719406Z",
     "iopub.status.busy": "2022-01-30T10:16:45.718715Z",
     "iopub.status.idle": "2022-01-30T10:16:45.727486Z",
     "shell.execute_reply": "2022-01-30T10:16:45.728075Z",
     "shell.execute_reply.started": "2022-01-30T10:12:49.995318Z"
    },
    "papermill": {
     "duration": 0.065409,
     "end_time": "2022-01-30T10:16:45.728276",
     "exception": false,
     "start_time": "2022-01-30T10:16:45.662867",
     "status": "completed"
    },
    "tags": []
   },
   "outputs": [],
   "source": [
    "df['Credit_History'].loc[df.Credit_History == 1.0] = 'one'\n",
    "df['Credit_History'].loc[df.Credit_History == 0.0] = 'zero'\n",
    "\n",
    "test_df['Credit_History'].loc[test_df.Credit_History == 1.0] = 'one'\n",
    "test_df['Credit_History'].loc[test_df.Credit_History == 0.0] = 'zero'"
   ]
  },
  {
   "cell_type": "markdown",
   "id": "975a109c",
   "metadata": {
    "papermill": {
     "duration": 0.055068,
     "end_time": "2022-01-30T10:16:45.839444",
     "exception": false,
     "start_time": "2022-01-30T10:16:45.784376",
     "status": "completed"
    },
    "tags": []
   },
   "source": [
    "# Univariate Analysis"
   ]
  },
  {
   "cell_type": "code",
   "execution_count": 13,
   "id": "42037841",
   "metadata": {
    "execution": {
     "iopub.execute_input": "2022-01-30T10:16:45.952069Z",
     "iopub.status.busy": "2022-01-30T10:16:45.951363Z",
     "iopub.status.idle": "2022-01-30T10:16:45.958997Z",
     "shell.execute_reply": "2022-01-30T10:16:45.959570Z",
     "shell.execute_reply.started": "2022-01-30T10:12:50.009963Z"
    },
    "papermill": {
     "duration": 0.066647,
     "end_time": "2022-01-30T10:16:45.959785",
     "exception": false,
     "start_time": "2022-01-30T10:16:45.893138",
     "status": "completed"
    },
    "tags": []
   },
   "outputs": [],
   "source": [
    "cat_cols = df.select_dtypes('object').columns \n",
    "num_cols = df.select_dtypes(['int64', 'float64']).columns"
   ]
  },
  {
   "cell_type": "code",
   "execution_count": 14,
   "id": "a3e68a08",
   "metadata": {
    "execution": {
     "iopub.execute_input": "2022-01-30T10:16:46.074413Z",
     "iopub.status.busy": "2022-01-30T10:16:46.073602Z",
     "iopub.status.idle": "2022-01-30T10:16:46.079063Z",
     "shell.execute_reply": "2022-01-30T10:16:46.079745Z",
     "shell.execute_reply.started": "2022-01-30T10:12:50.021219Z"
    },
    "papermill": {
     "duration": 0.064683,
     "end_time": "2022-01-30T10:16:46.079948",
     "exception": false,
     "start_time": "2022-01-30T10:16:46.015265",
     "status": "completed"
    },
    "tags": []
   },
   "outputs": [
    {
     "name": "stdout",
     "output_type": "stream",
     "text": [
      "Index(['Gender', 'Married', 'Dependents', 'Education', 'Self_Employed',\n",
      "       'Credit_History', 'Property_Area'],\n",
      "      dtype='object')\n",
      "Index(['ApplicantIncome', 'CoapplicantIncome', 'LoanAmount',\n",
      "       'Loan_Amount_Term', 'Loan_Status'],\n",
      "      dtype='object')\n"
     ]
    }
   ],
   "source": [
    "print(cat_cols)\n",
    "print(num_cols)"
   ]
  },
  {
   "cell_type": "markdown",
   "id": "158b0114",
   "metadata": {
    "papermill": {
     "duration": 0.054104,
     "end_time": "2022-01-30T10:16:46.188611",
     "exception": false,
     "start_time": "2022-01-30T10:16:46.134507",
     "status": "completed"
    },
    "tags": []
   },
   "source": [
    "**Count plots for categorical columns and histograms for numerical  columns**"
   ]
  },
  {
   "cell_type": "code",
   "execution_count": 15,
   "id": "7f13e148",
   "metadata": {
    "execution": {
     "iopub.execute_input": "2022-01-30T10:16:46.307669Z",
     "iopub.status.busy": "2022-01-30T10:16:46.306839Z",
     "iopub.status.idle": "2022-01-30T10:16:47.554993Z",
     "shell.execute_reply": "2022-01-30T10:16:47.555717Z",
     "shell.execute_reply.started": "2022-01-30T10:12:50.032423Z"
    },
    "papermill": {
     "duration": 1.312739,
     "end_time": "2022-01-30T10:16:47.555974",
     "exception": false,
     "start_time": "2022-01-30T10:16:46.243235",
     "status": "completed"
    },
    "tags": []
   },
   "outputs": [
    {
     "data": {
      "image/png": "[encoded data removed]",
      "text/plain": [
       "<Figure size 432x288 with 1 Axes>"
      ]
     },
     "metadata": {},
     "output_type": "display_data"
    },
    {
     "name": "stdout",
     "output_type": "stream",
     "text": [
      "\n",
      "\n",
      "\n"
     ]
    },
    {
     "data": {
      "image/png": "[encoded data removed]",
      "text/plain": [
       "<Figure size 432x288 with 1 Axes>"
      ]
     },
     "metadata": {},
     "output_type": "display_data"
    },
    {
     "name": "stdout",
     "output_type": "stream",
     "text": [
      "\n",
      "\n",
      "\n"
     ]
    },
    {
     "data": {
      "image/png": "[encoded data removed]",
      "text/plain": [
       "<Figure size 432x288 with 1 Axes>"
      ]
     },
     "metadata": {},
     "output_type": "display_data"
    },
    {
     "name": "stdout",
     "output_type": "stream",
     "text": [
      "\n",
      "\n",
      "\n"
     ]
    },
    {
     "data": {
      "image/png": "[encoded data removed]",
      "text/plain": [
       "<Figure size 432x288 with 1 Axes>"
      ]
     },
     "metadata": {},
     "output_type": "display_data"
    },
    {
     "name": "stdout",
     "output_type": "stream",
     "text": [
      "\n",
      "\n",
      "\n"
     ]
    },
    {
     "data": {
      "image/png": "[encoded data removed]",
      "text/plain": [
       "<Figure size 432x288 with 1 Axes>"
      ]
     },
     "metadata": {},
     "output_type": "display_data"
    },
    {
     "name": "stdout",
     "output_type": "stream",
     "text": [
      "\n",
      "\n",
      "\n"
     ]
    },
    {
     "data": {
      "image/png": "[encoded data removed]",
      "text/plain": [
       "<Figure size 432x288 with 1 Axes>"
      ]
     },
     "metadata": {},
     "output_type": "display_data"
    },
    {
     "name": "stdout",
     "output_type": "stream",
     "text": [
      "\n",
      "\n",
      "\n"
     ]
    },
    {
     "data": {
      "image/png": "[encoded data removed]",
      "text/plain": [
       "<Figure size 432x288 with 1 Axes>"
      ]
     },
     "metadata": {},
     "output_type": "display_data"
    },
    {
     "name": "stdout",
     "output_type": "stream",
     "text": [
      "\n",
      "\n",
      "\n"
     ]
    }
   ],
   "source": [
    "for col in cat_cols:\n",
    "    sns.countplot(df[col])\n",
    "    plt.title(col)\n",
    "    plt.show()\n",
    "    print('\\n\\n')"
   ]
  },
  {
   "cell_type": "code",
   "execution_count": 16,
   "id": "d9df4d98",
   "metadata": {
    "execution": {
     "iopub.execute_input": "2022-01-30T10:16:47.682455Z",
     "iopub.status.busy": "2022-01-30T10:16:47.681774Z",
     "iopub.status.idle": "2022-01-30T10:16:49.267275Z",
     "shell.execute_reply": "2022-01-30T10:16:49.268201Z",
     "shell.execute_reply.started": "2022-01-30T10:12:51.242676Z"
    },
    "papermill": {
     "duration": 1.649974,
     "end_time": "2022-01-30T10:16:49.268496",
     "exception": false,
     "start_time": "2022-01-30T10:16:47.618522",
     "status": "completed"
    },
    "tags": []
   },
   "outputs": [
    {
     "data": {
      "image/png": "[encoded data removed]",
      "text/plain": [
       "<Figure size 432x288 with 1 Axes>"
      ]
     },
     "metadata": {},
     "output_type": "display_data"
    },
    {
     "name": "stdout",
     "output_type": "stream",
     "text": [
      "\n",
      "\n",
      "\n"
     ]
    },
    {
     "data": {
      "image/png": "[encoded data removed]",
      "text/plain": [
       "<Figure size 432x288 with 1 Axes>"
      ]
     },
     "metadata": {},
     "output_type": "display_data"
    },
    {
     "name": "stdout",
     "output_type": "stream",
     "text": [
      "\n",
      "\n",
      "\n"
     ]
    },
    {
     "data": {
      "image/png": "[encoded data removed]",
      "text/plain": [
       "<Figure size 432x288 with 1 Axes>"
      ]
     },
     "metadata": {},
     "output_type": "display_data"
    },
    {
     "name": "stdout",
     "output_type": "stream",
     "text": [
      "\n",
      "\n",
      "\n"
     ]
    },
    {
     "data": {
      "image/png": "[encoded data removed]",
      "text/plain": [
       "<Figure size 432x288 with 1 Axes>"
      ]
     },
     "metadata": {},
     "output_type": "display_data"
    },
    {
     "name": "stdout",
     "output_type": "stream",
     "text": [
      "\n",
      "\n",
      "\n"
     ]
    },
    {
     "data": {
      "image/png": "[encoded data removed]",
      "text/plain": [
       "<Figure size 432x288 with 1 Axes>"
      ]
     },
     "metadata": {},
     "output_type": "display_data"
    },
    {
     "name": "stdout",
     "output_type": "stream",
     "text": [
      "\n",
      "\n",
      "\n"
     ]
    }
   ],
   "source": [
    "for col in num_cols:\n",
    "    sns.distplot(df[col], bins = 20)\n",
    "    plt.title(col)\n",
    "    plt.show()\n",
    "    print('\\n\\n')"
   ]
  },
  {
   "cell_type": "markdown",
   "id": "0fc1f8d4",
   "metadata": {
    "papermill": {
     "duration": 0.067616,
     "end_time": "2022-01-30T10:16:49.405879",
     "exception": false,
     "start_time": "2022-01-30T10:16:49.338263",
     "status": "completed"
    },
    "tags": []
   },
   "source": [
    "# Bivariate Analysis"
   ]
  },
  {
   "cell_type": "code",
   "execution_count": 17,
   "id": "cfed6d5b",
   "metadata": {
    "execution": {
     "iopub.execute_input": "2022-01-30T10:16:49.545276Z",
     "iopub.status.busy": "2022-01-30T10:16:49.544546Z",
     "iopub.status.idle": "2022-01-30T10:16:50.905048Z",
     "shell.execute_reply": "2022-01-30T10:16:50.905631Z",
     "shell.execute_reply.started": "2022-01-30T10:12:52.868627Z"
    },
    "papermill": {
     "duration": 1.432444,
     "end_time": "2022-01-30T10:16:50.905863",
     "exception": false,
     "start_time": "2022-01-30T10:16:49.473419",
     "status": "completed"
    },
    "tags": []
   },
   "outputs": [
    {
     "data": {
      "image/png": "[encoded data removed]",
      "text/plain": [
       "<Figure size 432x288 with 1 Axes>"
      ]
     },
     "metadata": {},
     "output_type": "display_data"
    },
    {
     "name": "stdout",
     "output_type": "stream",
     "text": [
      "\n",
      "\n",
      "\n"
     ]
    },
    {
     "data": {
      "image/png": "[encoded data removed]",
      "text/plain": [
       "<Figure size 432x288 with 1 Axes>"
      ]
     },
     "metadata": {},
     "output_type": "display_data"
    },
    {
     "name": "stdout",
     "output_type": "stream",
     "text": [
      "\n",
      "\n",
      "\n"
     ]
    },
    {
     "data": {
      "image/png": "[encoded data removed]",
      "text/plain": [
       "<Figure size 432x288 with 1 Axes>"
      ]
     },
     "metadata": {},
     "output_type": "display_data"
    },
    {
     "name": "stdout",
     "output_type": "stream",
     "text": [
      "\n",
      "\n",
      "\n"
     ]
    },
    {
     "data": {
      "image/png": "[encoded data removed]",
      "text/plain": [
       "<Figure size 432x288 with 1 Axes>"
      ]
     },
     "metadata": {},
     "output_type": "display_data"
    },
    {
     "name": "stdout",
     "output_type": "stream",
     "text": [
      "\n",
      "\n",
      "\n"
     ]
    },
    {
     "data": {
      "image/png": "[encoded data removed]",
      "text/plain": [
       "<Figure size 432x288 with 1 Axes>"
      ]
     },
     "metadata": {},
     "output_type": "display_data"
    },
    {
     "name": "stdout",
     "output_type": "stream",
     "text": [
      "\n",
      "\n",
      "\n"
     ]
    },
    {
     "data": {
      "image/png": "[encoded data removed]",
      "text/plain": [
       "<Figure size 432x288 with 1 Axes>"
      ]
     },
     "metadata": {},
     "output_type": "display_data"
    },
    {
     "name": "stdout",
     "output_type": "stream",
     "text": [
      "\n",
      "\n",
      "\n"
     ]
    },
    {
     "data": {
      "image/png": "[encoded data removed]",
      "text/plain": [
       "<Figure size 432x288 with 1 Axes>"
      ]
     },
     "metadata": {},
     "output_type": "display_data"
    },
    {
     "name": "stdout",
     "output_type": "stream",
     "text": [
      "\n",
      "\n",
      "\n"
     ]
    }
   ],
   "source": [
    "#plotting BAR CHARTS for Categorical data\n",
    "for col in cat_cols:\n",
    "    sns.barplot( data = df.groupby(col)['Loan_Status'].mean().reset_index() ,x=col ,y=\"Loan_Status\")\n",
    "    plt.title('Eligibility percentage based on '+ col.upper())\n",
    "    plt.show()\n",
    "    print('\\n\\n') "
   ]
  },
  {
   "cell_type": "markdown",
   "id": "7f47679b",
   "metadata": {
    "papermill": {
     "duration": 0.076251,
     "end_time": "2022-01-30T10:16:51.059109",
     "exception": false,
     "start_time": "2022-01-30T10:16:50.982858",
     "status": "completed"
    },
    "tags": []
   },
   "source": [
    "**From this we can conclude that:**\n",
    "*   Male has slightly higher chance for being eligible for loan\n",
    "*   Married people have more chances of being approved for the loan\n",
    "*   People with 2 or no dependents have more chances than people with more than 3 dependednts.\n",
    "*   Graduate individual has more chances of getting an approval\n",
    "*   Self employes or not, both has similar chance of getting an approval\n",
    "*   People living in semiurban area are more likely to get a loan approved\n",
    "*   People with credit history with 1.0 is more likely to get approved"
   ]
  },
  {
   "cell_type": "code",
   "execution_count": 18,
   "id": "27a36dfc",
   "metadata": {
    "execution": {
     "iopub.execute_input": "2022-01-30T10:16:51.218165Z",
     "iopub.status.busy": "2022-01-30T10:16:51.217115Z",
     "iopub.status.idle": "2022-01-30T10:16:51.234190Z",
     "shell.execute_reply": "2022-01-30T10:16:51.234712Z",
     "shell.execute_reply.started": "2022-01-30T10:12:54.177056Z"
    },
    "papermill": {
     "duration": 0.09928,
     "end_time": "2022-01-30T10:16:51.234882",
     "exception": false,
     "start_time": "2022-01-30T10:16:51.135602",
     "status": "completed"
    },
    "tags": []
   },
   "outputs": [
    {
     "name": "stdout",
     "output_type": "stream",
     "text": [
      "   Loan_Status  ApplicantIncome\n",
      "0            0           3833.5\n",
      "1            1           3812.5\n",
      "\n",
      "\n",
      "\n",
      "   Loan_Status  CoapplicantIncome\n",
      "0            0              268.0\n",
      "1            1             1239.5\n",
      "\n",
      "\n",
      "\n",
      "   Loan_Status  LoanAmount\n",
      "0            0       129.0\n",
      "1            1       126.0\n",
      "\n",
      "\n",
      "\n",
      "   Loan_Status  Loan_Amount_Term\n",
      "0            0             360.0\n",
      "1            1             360.0\n",
      "\n",
      "\n",
      "\n"
     ]
    }
   ],
   "source": [
    "for i in num_cols:\n",
    "    if i != 'Loan_Status':\n",
    "        print(df.groupby('Loan_Status')[i].median().reset_index())\n",
    "        print('\\n\\n')"
   ]
  },
  {
   "cell_type": "markdown",
   "id": "ee876681",
   "metadata": {
    "papermill": {
     "duration": 0.075787,
     "end_time": "2022-01-30T10:16:51.386644",
     "exception": false,
     "start_time": "2022-01-30T10:16:51.310857",
     "status": "completed"
    },
    "tags": []
   },
   "source": [
    "**We can conclude:**\n",
    "* The median Applicant income of eligible cadidates is  3812.5\n",
    "* The median Coapplicant income of eligible cadidates is 1239.5\n",
    "* The median Loan amount of eligible cadidates is 126.0\n",
    "* The median Loan amount term of eligible cadidates is 360.0\n"
   ]
  },
  {
   "cell_type": "markdown",
   "id": "a82b86a6",
   "metadata": {
    "papermill": {
     "duration": 0.075611,
     "end_time": "2022-01-30T10:16:51.537729",
     "exception": false,
     "start_time": "2022-01-30T10:16:51.462118",
     "status": "completed"
    },
    "tags": []
   },
   "source": [
    "**Dealing with missing values**"
   ]
  },
  {
   "cell_type": "code",
   "execution_count": 19,
   "id": "73b7d33b",
   "metadata": {
    "execution": {
     "iopub.execute_input": "2022-01-30T10:16:51.695678Z",
     "iopub.status.busy": "2022-01-30T10:16:51.695003Z",
     "iopub.status.idle": "2022-01-30T10:16:51.700896Z",
     "shell.execute_reply": "2022-01-30T10:16:51.701383Z",
     "shell.execute_reply.started": "2022-01-30T10:12:54.203056Z"
    },
    "papermill": {
     "duration": 0.08721,
     "end_time": "2022-01-30T10:16:51.701554",
     "exception": false,
     "start_time": "2022-01-30T10:16:51.614344",
     "status": "completed"
    },
    "tags": []
   },
   "outputs": [
    {
     "data": {
      "text/plain": [
       "Gender               13\n",
       "Married               3\n",
       "Dependents           15\n",
       "Education             0\n",
       "Self_Employed        32\n",
       "ApplicantIncome       0\n",
       "CoapplicantIncome     0\n",
       "LoanAmount           22\n",
       "Loan_Amount_Term     14\n",
       "Credit_History       50\n",
       "Property_Area         0\n",
       "Loan_Status           0\n",
       "dtype: int64"
      ]
     },
     "execution_count": 19,
     "metadata": {},
     "output_type": "execute_result"
    }
   ],
   "source": [
    "df.isna().sum()"
   ]
  },
  {
   "cell_type": "markdown",
   "id": "dfb8a62e",
   "metadata": {
    "papermill": {
     "duration": 0.076332,
     "end_time": "2022-01-30T10:16:51.854537",
     "exception": false,
     "start_time": "2022-01-30T10:16:51.778205",
     "status": "completed"
    },
    "tags": []
   },
   "source": [
    "**Filling numerical data with median and categorical with mode**"
   ]
  },
  {
   "cell_type": "code",
   "execution_count": 20,
   "id": "fe67f002",
   "metadata": {
    "execution": {
     "iopub.execute_input": "2022-01-30T10:16:52.012201Z",
     "iopub.status.busy": "2022-01-30T10:16:52.011495Z",
     "iopub.status.idle": "2022-01-30T10:16:52.020990Z",
     "shell.execute_reply": "2022-01-30T10:16:52.021541Z",
     "shell.execute_reply.started": "2022-01-30T10:12:54.215151Z"
    },
    "papermill": {
     "duration": 0.090892,
     "end_time": "2022-01-30T10:16:52.021743",
     "exception": false,
     "start_time": "2022-01-30T10:16:51.930851",
     "status": "completed"
    },
    "tags": []
   },
   "outputs": [
    {
     "data": {
      "text/plain": [
       "Gender               13\n",
       "Married               3\n",
       "Dependents           15\n",
       "Education             0\n",
       "Self_Employed        32\n",
       "ApplicantIncome       0\n",
       "CoapplicantIncome     0\n",
       "LoanAmount            0\n",
       "Loan_Amount_Term      0\n",
       "Credit_History       50\n",
       "Property_Area         0\n",
       "Loan_Status           0\n",
       "dtype: int64"
      ]
     },
     "execution_count": 20,
     "metadata": {},
     "output_type": "execute_result"
    }
   ],
   "source": [
    "for col in num_cols:\n",
    "        df[col].fillna(df[col].median(), inplace = True)\n",
    "df.isna().sum()       "
   ]
  },
  {
   "cell_type": "code",
   "execution_count": 21,
   "id": "2b998144",
   "metadata": {
    "execution": {
     "iopub.execute_input": "2022-01-30T10:16:52.179039Z",
     "iopub.status.busy": "2022-01-30T10:16:52.178395Z",
     "iopub.status.idle": "2022-01-30T10:16:52.189949Z",
     "shell.execute_reply": "2022-01-30T10:16:52.190589Z",
     "shell.execute_reply.started": "2022-01-30T10:12:54.233812Z"
    },
    "papermill": {
     "duration": 0.092,
     "end_time": "2022-01-30T10:16:52.190804",
     "exception": false,
     "start_time": "2022-01-30T10:16:52.098804",
     "status": "completed"
    },
    "tags": []
   },
   "outputs": [
    {
     "name": "stdout",
     "output_type": "stream",
     "text": [
      "Gender 0    Male\n",
      "dtype: object\n",
      "Married 0    Yes\n",
      "dtype: object\n",
      "Dependents 0    0\n",
      "dtype: object\n",
      "Education 0    Graduate\n",
      "dtype: object\n",
      "Self_Employed 0    No\n",
      "dtype: object\n",
      "Credit_History 0    one\n",
      "dtype: object\n",
      "Property_Area 0    Semiurban\n",
      "dtype: object\n"
     ]
    }
   ],
   "source": [
    "for col in cat_cols:\n",
    "    print(col, df[col].mode())"
   ]
  },
  {
   "cell_type": "code",
   "execution_count": 22,
   "id": "15ab3f4d",
   "metadata": {
    "execution": {
     "iopub.execute_input": "2022-01-30T10:16:52.348814Z",
     "iopub.status.busy": "2022-01-30T10:16:52.348122Z",
     "iopub.status.idle": "2022-01-30T10:16:52.356540Z",
     "shell.execute_reply": "2022-01-30T10:16:52.357075Z",
     "shell.execute_reply.started": "2022-01-30T10:12:54.249949Z"
    },
    "papermill": {
     "duration": 0.08907,
     "end_time": "2022-01-30T10:16:52.357272",
     "exception": false,
     "start_time": "2022-01-30T10:16:52.268202",
     "status": "completed"
    },
    "tags": []
   },
   "outputs": [
    {
     "data": {
      "text/plain": [
       "Gender               11\n",
       "Married               0\n",
       "Dependents           10\n",
       "Education             0\n",
       "Self_Employed        23\n",
       "ApplicantIncome       0\n",
       "CoapplicantIncome     0\n",
       "LoanAmount            5\n",
       "Loan_Amount_Term      6\n",
       "Credit_History       29\n",
       "Property_Area         0\n",
       "dtype: int64"
      ]
     },
     "execution_count": 22,
     "metadata": {},
     "output_type": "execute_result"
    }
   ],
   "source": [
    "test_df.isna().sum()"
   ]
  },
  {
   "cell_type": "code",
   "execution_count": 23,
   "id": "e9f34de4",
   "metadata": {
    "execution": {
     "iopub.execute_input": "2022-01-30T10:16:52.515486Z",
     "iopub.status.busy": "2022-01-30T10:16:52.514800Z",
     "iopub.status.idle": "2022-01-30T10:16:52.526436Z",
     "shell.execute_reply": "2022-01-30T10:16:52.526959Z",
     "shell.execute_reply.started": "2022-01-30T10:12:54.266395Z"
    },
    "papermill": {
     "duration": 0.092582,
     "end_time": "2022-01-30T10:16:52.527170",
     "exception": false,
     "start_time": "2022-01-30T10:16:52.434588",
     "status": "completed"
    },
    "tags": []
   },
   "outputs": [],
   "source": [
    "df.Gender.fillna('Male', inplace = True)\n",
    "df.Married.fillna('Yes', inplace = True)\n",
    "df.Dependents.fillna('0', inplace = True)\n",
    "df.Self_Employed.fillna('No', inplace = True)\n",
    "\n",
    "\n",
    "test_df.Gender.fillna('Male', inplace = True)\n",
    "test_df.Dependents.fillna('0', inplace = True)\n",
    "test_df.Self_Employed.fillna('No', inplace = True)\n",
    "test_df.LoanAmount.fillna(test_df.LoanAmount.median(), inplace = True)\n",
    "test_df.Loan_Amount_Term.fillna(test_df.Loan_Amount_Term.median(), inplace = True)\n"
   ]
  },
  {
   "cell_type": "markdown",
   "id": "727f0a5d",
   "metadata": {
    "papermill": {
     "duration": 0.077818,
     "end_time": "2022-01-30T10:16:52.683672",
     "exception": false,
     "start_time": "2022-01-30T10:16:52.605854",
     "status": "completed"
    },
    "tags": []
   },
   "source": [
    "**Filling credit history with 'na'**"
   ]
  },
  {
   "cell_type": "code",
   "execution_count": 24,
   "id": "ca48169a",
   "metadata": {
    "execution": {
     "iopub.execute_input": "2022-01-30T10:16:52.844487Z",
     "iopub.status.busy": "2022-01-30T10:16:52.843844Z",
     "iopub.status.idle": "2022-01-30T10:16:52.848582Z",
     "shell.execute_reply": "2022-01-30T10:16:52.849113Z",
     "shell.execute_reply.started": "2022-01-30T10:12:54.281857Z"
    },
    "papermill": {
     "duration": 0.087765,
     "end_time": "2022-01-30T10:16:52.849293",
     "exception": false,
     "start_time": "2022-01-30T10:16:52.761528",
     "status": "completed"
    },
    "tags": []
   },
   "outputs": [],
   "source": [
    "df.Credit_History.fillna('na', inplace = True)\n",
    "\n",
    "test_df.Credit_History.fillna('na', inplace = True)"
   ]
  },
  {
   "cell_type": "code",
   "execution_count": 25,
   "id": "ae87ef3a",
   "metadata": {
    "execution": {
     "iopub.execute_input": "2022-01-30T10:16:53.009641Z",
     "iopub.status.busy": "2022-01-30T10:16:53.008871Z",
     "iopub.status.idle": "2022-01-30T10:16:53.012155Z",
     "shell.execute_reply": "2022-01-30T10:16:53.012612Z",
     "shell.execute_reply.started": "2022-01-30T10:12:54.291937Z"
    },
    "papermill": {
     "duration": 0.086022,
     "end_time": "2022-01-30T10:16:53.012814",
     "exception": false,
     "start_time": "2022-01-30T10:16:52.926792",
     "status": "completed"
    },
    "tags": []
   },
   "outputs": [
    {
     "data": {
      "text/plain": [
       "(614, 12)"
      ]
     },
     "execution_count": 25,
     "metadata": {},
     "output_type": "execute_result"
    }
   ],
   "source": [
    "df.shape"
   ]
  },
  {
   "cell_type": "code",
   "execution_count": 26,
   "id": "24dc0005",
   "metadata": {
    "execution": {
     "iopub.execute_input": "2022-01-30T10:16:53.174558Z",
     "iopub.status.busy": "2022-01-30T10:16:53.173847Z",
     "iopub.status.idle": "2022-01-30T10:16:53.180613Z",
     "shell.execute_reply": "2022-01-30T10:16:53.180134Z",
     "shell.execute_reply.started": "2022-01-30T10:12:54.303845Z"
    },
    "papermill": {
     "duration": 0.088873,
     "end_time": "2022-01-30T10:16:53.180754",
     "exception": false,
     "start_time": "2022-01-30T10:16:53.091881",
     "status": "completed"
    },
    "tags": []
   },
   "outputs": [
    {
     "data": {
      "text/plain": [
       "Gender               0\n",
       "Married              0\n",
       "Dependents           0\n",
       "Education            0\n",
       "Self_Employed        0\n",
       "ApplicantIncome      0\n",
       "CoapplicantIncome    0\n",
       "LoanAmount           0\n",
       "Loan_Amount_Term     0\n",
       "Credit_History       0\n",
       "Property_Area        0\n",
       "Loan_Status          0\n",
       "dtype: int64"
      ]
     },
     "execution_count": 26,
     "metadata": {},
     "output_type": "execute_result"
    }
   ],
   "source": [
    "df.isna().sum()"
   ]
  },
  {
   "cell_type": "markdown",
   "id": "4d4910b0",
   "metadata": {
    "papermill": {
     "duration": 0.085881,
     "end_time": "2022-01-30T10:16:53.344493",
     "exception": false,
     "start_time": "2022-01-30T10:16:53.258612",
     "status": "completed"
    },
    "tags": []
   },
   "source": [
    "# Balancing dataset"
   ]
  },
  {
   "cell_type": "code",
   "execution_count": 27,
   "id": "af535ec3",
   "metadata": {
    "execution": {
     "iopub.execute_input": "2022-01-30T10:16:53.516820Z",
     "iopub.status.busy": "2022-01-30T10:16:53.511953Z",
     "iopub.status.idle": "2022-01-30T10:16:53.521863Z",
     "shell.execute_reply": "2022-01-30T10:16:53.522431Z",
     "shell.execute_reply.started": "2022-01-30T10:12:54.319857Z"
    },
    "papermill": {
     "duration": 0.091044,
     "end_time": "2022-01-30T10:16:53.522601",
     "exception": false,
     "start_time": "2022-01-30T10:16:53.431557",
     "status": "completed"
    },
    "tags": []
   },
   "outputs": [],
   "source": [
    "loan_1 = df.loc[df.Loan_Status == 1].sample(192, random_state = 0)\n",
    "loan_0 = df.loc[df.Loan_Status == 0]\n",
    "data = pd.concat([loan_1, loan_0], axis = 0)"
   ]
  },
  {
   "cell_type": "code",
   "execution_count": 28,
   "id": "6ffa30db",
   "metadata": {
    "execution": {
     "iopub.execute_input": "2022-01-30T10:16:53.685184Z",
     "iopub.status.busy": "2022-01-30T10:16:53.684495Z",
     "iopub.status.idle": "2022-01-30T10:16:53.688078Z",
     "shell.execute_reply": "2022-01-30T10:16:53.687520Z",
     "shell.execute_reply.started": "2022-01-30T10:12:54.338091Z"
    },
    "papermill": {
     "duration": 0.086203,
     "end_time": "2022-01-30T10:16:53.688251",
     "exception": false,
     "start_time": "2022-01-30T10:16:53.602048",
     "status": "completed"
    },
    "tags": []
   },
   "outputs": [],
   "source": [
    "balanced_data = data.reset_index(drop = True)"
   ]
  },
  {
   "cell_type": "code",
   "execution_count": 29,
   "id": "c294ef30",
   "metadata": {
    "execution": {
     "iopub.execute_input": "2022-01-30T10:16:53.851754Z",
     "iopub.status.busy": "2022-01-30T10:16:53.851101Z",
     "iopub.status.idle": "2022-01-30T10:16:53.853992Z",
     "shell.execute_reply": "2022-01-30T10:16:53.853490Z",
     "shell.execute_reply.started": "2022-01-30T10:12:54.353451Z"
    },
    "papermill": {
     "duration": 0.087127,
     "end_time": "2022-01-30T10:16:53.854179",
     "exception": false,
     "start_time": "2022-01-30T10:16:53.767052",
     "status": "completed"
    },
    "tags": []
   },
   "outputs": [],
   "source": [
    "X = balanced_data.drop('Loan_Status', axis = 1)\n",
    "y = balanced_data['Loan_Status']\n",
    "\n",
    "x_test = test_df"
   ]
  },
  {
   "cell_type": "markdown",
   "id": "3c34c2e6",
   "metadata": {
    "papermill": {
     "duration": 0.078362,
     "end_time": "2022-01-30T10:16:54.011677",
     "exception": false,
     "start_time": "2022-01-30T10:16:53.933315",
     "status": "completed"
    },
    "tags": []
   },
   "source": [
    "**Scaling data**"
   ]
  },
  {
   "cell_type": "code",
   "execution_count": 30,
   "id": "816d52c8",
   "metadata": {
    "execution": {
     "iopub.execute_input": "2022-01-30T10:16:54.172522Z",
     "iopub.status.busy": "2022-01-30T10:16:54.171839Z",
     "iopub.status.idle": "2022-01-30T10:16:54.184481Z",
     "shell.execute_reply": "2022-01-30T10:16:54.184991Z",
     "shell.execute_reply.started": "2022-01-30T10:12:54.363181Z"
    },
    "papermill": {
     "duration": 0.093933,
     "end_time": "2022-01-30T10:16:54.185178",
     "exception": false,
     "start_time": "2022-01-30T10:16:54.091245",
     "status": "completed"
    },
    "tags": []
   },
   "outputs": [],
   "source": [
    "num_cols = X.select_dtypes(['int64', 'float64']).columns\n",
    "scaler = StandardScaler()\n",
    "scaled_data = scaler.fit_transform(X[num_cols])\n",
    "\n",
    "scaled_test = scaler.fit_transform(x_test[num_cols])"
   ]
  },
  {
   "cell_type": "markdown",
   "id": "bc9ef8db",
   "metadata": {
    "papermill": {
     "duration": 0.078212,
     "end_time": "2022-01-30T10:16:54.341394",
     "exception": false,
     "start_time": "2022-01-30T10:16:54.263182",
     "status": "completed"
    },
    "tags": []
   },
   "source": [
    "**Encoding categorical columns**"
   ]
  },
  {
   "cell_type": "code",
   "execution_count": 31,
   "id": "55710500",
   "metadata": {
    "execution": {
     "iopub.execute_input": "2022-01-30T10:16:54.503850Z",
     "iopub.status.busy": "2022-01-30T10:16:54.503149Z",
     "iopub.status.idle": "2022-01-30T10:16:54.517252Z",
     "shell.execute_reply": "2022-01-30T10:16:54.517752Z",
     "shell.execute_reply.started": "2022-01-30T10:12:54.389508Z"
    },
    "papermill": {
     "duration": 0.096325,
     "end_time": "2022-01-30T10:16:54.517937",
     "exception": false,
     "start_time": "2022-01-30T10:16:54.421612",
     "status": "completed"
    },
    "tags": []
   },
   "outputs": [],
   "source": [
    "cat_cols = X.select_dtypes('object').columns\n",
    "encoder = OneHotEncoder(handle_unknown='ignore', sparse = False)\n",
    "encoded_data = encoder.fit_transform(X[cat_cols])\n",
    "\n",
    "encoded_test = encoder.fit_transform(test_df[cat_cols])"
   ]
  },
  {
   "cell_type": "code",
   "execution_count": 32,
   "id": "651b528b",
   "metadata": {
    "execution": {
     "iopub.execute_input": "2022-01-30T10:16:54.678437Z",
     "iopub.status.busy": "2022-01-30T10:16:54.677710Z",
     "iopub.status.idle": "2022-01-30T10:16:54.684791Z",
     "shell.execute_reply": "2022-01-30T10:16:54.685313Z",
     "shell.execute_reply.started": "2022-01-30T10:12:54.412737Z"
    },
    "papermill": {
     "duration": 0.088656,
     "end_time": "2022-01-30T10:16:54.685485",
     "exception": false,
     "start_time": "2022-01-30T10:16:54.596829",
     "status": "completed"
    },
    "tags": []
   },
   "outputs": [],
   "source": [
    "scaled_X = pd.DataFrame(scaled_data, columns = num_cols)\n",
    "encoded_X = pd.DataFrame(encoded_data, columns = encoder.get_feature_names())\n",
    "X_preprocessed = pd.concat([scaled_X, encoded_X], axis = 1)\n",
    "\n",
    "\n",
    "scaled_X_test = pd.DataFrame(scaled_test, columns = num_cols)\n",
    "encoded_X_test = pd.DataFrame(encoded_test, columns = encoder.get_feature_names())\n",
    "X_test_preprocessed = pd.concat([scaled_X_test,encoded_X_test ], axis = 1)"
   ]
  },
  {
   "cell_type": "code",
   "execution_count": 33,
   "id": "39e06a68",
   "metadata": {
    "execution": {
     "iopub.execute_input": "2022-01-30T10:16:54.846324Z",
     "iopub.status.busy": "2022-01-30T10:16:54.845701Z",
     "iopub.status.idle": "2022-01-30T10:16:54.887627Z",
     "shell.execute_reply": "2022-01-30T10:16:54.887052Z",
     "shell.execute_reply.started": "2022-01-30T10:12:54.424143Z"
    },
    "papermill": {
     "duration": 0.12352,
     "end_time": "2022-01-30T10:16:54.887763",
     "exception": false,
     "start_time": "2022-01-30T10:16:54.764243",
     "status": "completed"
    },
    "tags": []
   },
   "outputs": [
    {
     "data": {
      "text/html": [
       "<div>\n",
       "<style scoped>\n",
       "    .dataframe tbody tr th:only-of-type {\n",
       "        vertical-align: middle;\n",
       "    }\n",
       "\n",
       "    .dataframe tbody tr th {\n",
       "        vertical-align: top;\n",
       "    }\n",
       "\n",
       "    .dataframe thead th {\n",
       "        text-align: right;\n",
       "    }\n",
       "</style>\n",
       "<table border=\"1\" class=\"dataframe\">\n",
       "  <thead>\n",
       "    <tr style=\"text-align: right;\">\n",
       "      <th></th>\n",
       "      <th>ApplicantIncome</th>\n",
       "      <th>CoapplicantIncome</th>\n",
       "      <th>LoanAmount</th>\n",
       "      <th>Loan_Amount_Term</th>\n",
       "      <th>x0_Female</th>\n",
       "      <th>x0_Male</th>\n",
       "      <th>x1_No</th>\n",
       "      <th>x1_Yes</th>\n",
       "      <th>x2_0</th>\n",
       "      <th>x2_1</th>\n",
       "      <th>...</th>\n",
       "      <th>x3_Graduate</th>\n",
       "      <th>x3_Not Graduate</th>\n",
       "      <th>x4_No</th>\n",
       "      <th>x4_Yes</th>\n",
       "      <th>x5_na</th>\n",
       "      <th>x5_one</th>\n",
       "      <th>x5_zero</th>\n",
       "      <th>x6_Rural</th>\n",
       "      <th>x6_Semiurban</th>\n",
       "      <th>x6_Urban</th>\n",
       "    </tr>\n",
       "  </thead>\n",
       "  <tbody>\n",
       "    <tr>\n",
       "      <th>0</th>\n",
       "      <td>-0.356616</td>\n",
       "      <td>-0.071917</td>\n",
       "      <td>-0.598759</td>\n",
       "      <td>0.268285</td>\n",
       "      <td>0.0</td>\n",
       "      <td>1.0</td>\n",
       "      <td>0.0</td>\n",
       "      <td>1.0</td>\n",
       "      <td>1.0</td>\n",
       "      <td>0.0</td>\n",
       "      <td>...</td>\n",
       "      <td>1.0</td>\n",
       "      <td>0.0</td>\n",
       "      <td>1.0</td>\n",
       "      <td>0.0</td>\n",
       "      <td>0.0</td>\n",
       "      <td>1.0</td>\n",
       "      <td>0.0</td>\n",
       "      <td>0.0</td>\n",
       "      <td>0.0</td>\n",
       "      <td>1.0</td>\n",
       "    </tr>\n",
       "    <tr>\n",
       "      <th>1</th>\n",
       "      <td>-0.422439</td>\n",
       "      <td>-0.001589</td>\n",
       "      <td>-0.459770</td>\n",
       "      <td>0.268285</td>\n",
       "      <td>0.0</td>\n",
       "      <td>1.0</td>\n",
       "      <td>0.0</td>\n",
       "      <td>1.0</td>\n",
       "      <td>1.0</td>\n",
       "      <td>0.0</td>\n",
       "      <td>...</td>\n",
       "      <td>0.0</td>\n",
       "      <td>1.0</td>\n",
       "      <td>1.0</td>\n",
       "      <td>0.0</td>\n",
       "      <td>0.0</td>\n",
       "      <td>1.0</td>\n",
       "      <td>0.0</td>\n",
       "      <td>1.0</td>\n",
       "      <td>0.0</td>\n",
       "      <td>0.0</td>\n",
       "    </tr>\n",
       "    <tr>\n",
       "      <th>2</th>\n",
       "      <td>-0.260236</td>\n",
       "      <td>-0.071917</td>\n",
       "      <td>-0.031218</td>\n",
       "      <td>0.268285</td>\n",
       "      <td>1.0</td>\n",
       "      <td>0.0</td>\n",
       "      <td>0.0</td>\n",
       "      <td>1.0</td>\n",
       "      <td>1.0</td>\n",
       "      <td>0.0</td>\n",
       "      <td>...</td>\n",
       "      <td>1.0</td>\n",
       "      <td>0.0</td>\n",
       "      <td>1.0</td>\n",
       "      <td>0.0</td>\n",
       "      <td>0.0</td>\n",
       "      <td>1.0</td>\n",
       "      <td>0.0</td>\n",
       "      <td>0.0</td>\n",
       "      <td>1.0</td>\n",
       "      <td>0.0</td>\n",
       "    </tr>\n",
       "    <tr>\n",
       "      <th>3</th>\n",
       "      <td>-0.437641</td>\n",
       "      <td>0.844678</td>\n",
       "      <td>0.339420</td>\n",
       "      <td>0.268285</td>\n",
       "      <td>0.0</td>\n",
       "      <td>1.0</td>\n",
       "      <td>0.0</td>\n",
       "      <td>1.0</td>\n",
       "      <td>0.0</td>\n",
       "      <td>0.0</td>\n",
       "      <td>...</td>\n",
       "      <td>1.0</td>\n",
       "      <td>0.0</td>\n",
       "      <td>0.0</td>\n",
       "      <td>1.0</td>\n",
       "      <td>0.0</td>\n",
       "      <td>1.0</td>\n",
       "      <td>0.0</td>\n",
       "      <td>1.0</td>\n",
       "      <td>0.0</td>\n",
       "      <td>0.0</td>\n",
       "    </tr>\n",
       "    <tr>\n",
       "      <th>4</th>\n",
       "      <td>0.276842</td>\n",
       "      <td>-0.497677</td>\n",
       "      <td>-0.309197</td>\n",
       "      <td>0.268285</td>\n",
       "      <td>1.0</td>\n",
       "      <td>0.0</td>\n",
       "      <td>1.0</td>\n",
       "      <td>0.0</td>\n",
       "      <td>1.0</td>\n",
       "      <td>0.0</td>\n",
       "      <td>...</td>\n",
       "      <td>1.0</td>\n",
       "      <td>0.0</td>\n",
       "      <td>1.0</td>\n",
       "      <td>0.0</td>\n",
       "      <td>0.0</td>\n",
       "      <td>1.0</td>\n",
       "      <td>0.0</td>\n",
       "      <td>1.0</td>\n",
       "      <td>0.0</td>\n",
       "      <td>0.0</td>\n",
       "    </tr>\n",
       "    <tr>\n",
       "      <th>...</th>\n",
       "      <td>...</td>\n",
       "      <td>...</td>\n",
       "      <td>...</td>\n",
       "      <td>...</td>\n",
       "      <td>...</td>\n",
       "      <td>...</td>\n",
       "      <td>...</td>\n",
       "      <td>...</td>\n",
       "      <td>...</td>\n",
       "      <td>...</td>\n",
       "      <td>...</td>\n",
       "      <td>...</td>\n",
       "      <td>...</td>\n",
       "      <td>...</td>\n",
       "      <td>...</td>\n",
       "      <td>...</td>\n",
       "      <td>...</td>\n",
       "      <td>...</td>\n",
       "      <td>...</td>\n",
       "      <td>...</td>\n",
       "      <td>...</td>\n",
       "    </tr>\n",
       "    <tr>\n",
       "      <th>379</th>\n",
       "      <td>0.152644</td>\n",
       "      <td>-0.205861</td>\n",
       "      <td>0.466828</td>\n",
       "      <td>0.268285</td>\n",
       "      <td>0.0</td>\n",
       "      <td>1.0</td>\n",
       "      <td>0.0</td>\n",
       "      <td>1.0</td>\n",
       "      <td>0.0</td>\n",
       "      <td>0.0</td>\n",
       "      <td>...</td>\n",
       "      <td>0.0</td>\n",
       "      <td>1.0</td>\n",
       "      <td>0.0</td>\n",
       "      <td>1.0</td>\n",
       "      <td>0.0</td>\n",
       "      <td>1.0</td>\n",
       "      <td>0.0</td>\n",
       "      <td>1.0</td>\n",
       "      <td>0.0</td>\n",
       "      <td>0.0</td>\n",
       "    </tr>\n",
       "    <tr>\n",
       "      <th>380</th>\n",
       "      <td>-0.363608</td>\n",
       "      <td>-0.497677</td>\n",
       "      <td>-0.679836</td>\n",
       "      <td>0.268285</td>\n",
       "      <td>0.0</td>\n",
       "      <td>1.0</td>\n",
       "      <td>1.0</td>\n",
       "      <td>0.0</td>\n",
       "      <td>1.0</td>\n",
       "      <td>0.0</td>\n",
       "      <td>...</td>\n",
       "      <td>1.0</td>\n",
       "      <td>0.0</td>\n",
       "      <td>1.0</td>\n",
       "      <td>0.0</td>\n",
       "      <td>0.0</td>\n",
       "      <td>0.0</td>\n",
       "      <td>1.0</td>\n",
       "      <td>0.0</td>\n",
       "      <td>1.0</td>\n",
       "      <td>0.0</td>\n",
       "    </tr>\n",
       "    <tr>\n",
       "      <th>381</th>\n",
       "      <td>-0.754446</td>\n",
       "      <td>11.661432</td>\n",
       "      <td>2.354769</td>\n",
       "      <td>-2.447570</td>\n",
       "      <td>1.0</td>\n",
       "      <td>0.0</td>\n",
       "      <td>1.0</td>\n",
       "      <td>0.0</td>\n",
       "      <td>0.0</td>\n",
       "      <td>0.0</td>\n",
       "      <td>...</td>\n",
       "      <td>1.0</td>\n",
       "      <td>0.0</td>\n",
       "      <td>1.0</td>\n",
       "      <td>0.0</td>\n",
       "      <td>1.0</td>\n",
       "      <td>0.0</td>\n",
       "      <td>0.0</td>\n",
       "      <td>0.0</td>\n",
       "      <td>0.0</td>\n",
       "      <td>1.0</td>\n",
       "    </tr>\n",
       "    <tr>\n",
       "      <th>382</th>\n",
       "      <td>-0.452843</td>\n",
       "      <td>0.611225</td>\n",
       "      <td>-0.216538</td>\n",
       "      <td>-2.447570</td>\n",
       "      <td>0.0</td>\n",
       "      <td>1.0</td>\n",
       "      <td>0.0</td>\n",
       "      <td>1.0</td>\n",
       "      <td>1.0</td>\n",
       "      <td>0.0</td>\n",
       "      <td>...</td>\n",
       "      <td>0.0</td>\n",
       "      <td>1.0</td>\n",
       "      <td>1.0</td>\n",
       "      <td>0.0</td>\n",
       "      <td>0.0</td>\n",
       "      <td>1.0</td>\n",
       "      <td>0.0</td>\n",
       "      <td>0.0</td>\n",
       "      <td>0.0</td>\n",
       "      <td>1.0</td>\n",
       "    </tr>\n",
       "    <tr>\n",
       "      <th>383</th>\n",
       "      <td>-0.120988</td>\n",
       "      <td>-0.497677</td>\n",
       "      <td>-0.158625</td>\n",
       "      <td>0.268285</td>\n",
       "      <td>1.0</td>\n",
       "      <td>0.0</td>\n",
       "      <td>1.0</td>\n",
       "      <td>0.0</td>\n",
       "      <td>1.0</td>\n",
       "      <td>0.0</td>\n",
       "      <td>...</td>\n",
       "      <td>1.0</td>\n",
       "      <td>0.0</td>\n",
       "      <td>0.0</td>\n",
       "      <td>1.0</td>\n",
       "      <td>0.0</td>\n",
       "      <td>0.0</td>\n",
       "      <td>1.0</td>\n",
       "      <td>0.0</td>\n",
       "      <td>1.0</td>\n",
       "      <td>0.0</td>\n",
       "    </tr>\n",
       "  </tbody>\n",
       "</table>\n",
       "<p>384 rows × 22 columns</p>\n",
       "</div>"
      ],
      "text/plain": [
       "     ApplicantIncome  CoapplicantIncome  LoanAmount  Loan_Amount_Term  \\\n",
       "0          -0.356616          -0.071917   -0.598759          0.268285   \n",
       "1          -0.422439          -0.001589   -0.459770          0.268285   \n",
       "2          -0.260236          -0.071917   -0.031218          0.268285   \n",
       "3          -0.437641           0.844678    0.339420          0.268285   \n",
       "4           0.276842          -0.497677   -0.309197          0.268285   \n",
       "..               ...                ...         ...               ...   \n",
       "379         0.152644          -0.205861    0.466828          0.268285   \n",
       "380        -0.363608          -0.497677   -0.679836          0.268285   \n",
       "381        -0.754446          11.661432    2.354769         -2.447570   \n",
       "382        -0.452843           0.611225   -0.216538         -2.447570   \n",
       "383        -0.120988          -0.497677   -0.158625          0.268285   \n",
       "\n",
       "     x0_Female  x0_Male  x1_No  x1_Yes  x2_0  x2_1  ...  x3_Graduate  \\\n",
       "0          0.0      1.0    0.0     1.0   1.0   0.0  ...          1.0   \n",
       "1          0.0      1.0    0.0     1.0   1.0   0.0  ...          0.0   \n",
       "2          1.0      0.0    0.0     1.0   1.0   0.0  ...          1.0   \n",
       "3          0.0      1.0    0.0     1.0   0.0   0.0  ...          1.0   \n",
       "4          1.0      0.0    1.0     0.0   1.0   0.0  ...          1.0   \n",
       "..         ...      ...    ...     ...   ...   ...  ...          ...   \n",
       "379        0.0      1.0    0.0     1.0   0.0   0.0  ...          0.0   \n",
       "380        0.0      1.0    1.0     0.0   1.0   0.0  ...          1.0   \n",
       "381        1.0      0.0    1.0     0.0   0.0   0.0  ...          1.0   \n",
       "382        0.0      1.0    0.0     1.0   1.0   0.0  ...          0.0   \n",
       "383        1.0      0.0    1.0     0.0   1.0   0.0  ...          1.0   \n",
       "\n",
       "     x3_Not Graduate  x4_No  x4_Yes  x5_na  x5_one  x5_zero  x6_Rural  \\\n",
       "0                0.0    1.0     0.0    0.0     1.0      0.0       0.0   \n",
       "1                1.0    1.0     0.0    0.0     1.0      0.0       1.0   \n",
       "2                0.0    1.0     0.0    0.0     1.0      0.0       0.0   \n",
       "3                0.0    0.0     1.0    0.0     1.0      0.0       1.0   \n",
       "4                0.0    1.0     0.0    0.0     1.0      0.0       1.0   \n",
       "..               ...    ...     ...    ...     ...      ...       ...   \n",
       "379              1.0    0.0     1.0    0.0     1.0      0.0       1.0   \n",
       "380              0.0    1.0     0.0    0.0     0.0      1.0       0.0   \n",
       "381              0.0    1.0     0.0    1.0     0.0      0.0       0.0   \n",
       "382              1.0    1.0     0.0    0.0     1.0      0.0       0.0   \n",
       "383              0.0    0.0     1.0    0.0     0.0      1.0       0.0   \n",
       "\n",
       "     x6_Semiurban  x6_Urban  \n",
       "0             0.0       1.0  \n",
       "1             0.0       0.0  \n",
       "2             1.0       0.0  \n",
       "3             0.0       0.0  \n",
       "4             0.0       0.0  \n",
       "..            ...       ...  \n",
       "379           0.0       0.0  \n",
       "380           1.0       0.0  \n",
       "381           0.0       1.0  \n",
       "382           0.0       1.0  \n",
       "383           1.0       0.0  \n",
       "\n",
       "[384 rows x 22 columns]"
      ]
     },
     "execution_count": 33,
     "metadata": {},
     "output_type": "execute_result"
    }
   ],
   "source": [
    "X_preprocessed"
   ]
  },
  {
   "cell_type": "markdown",
   "id": "604f5390",
   "metadata": {
    "papermill": {
     "duration": 0.078738,
     "end_time": "2022-01-30T10:16:55.046858",
     "exception": false,
     "start_time": "2022-01-30T10:16:54.968120",
     "status": "completed"
    },
    "tags": []
   },
   "source": [
    "**Splitting data into training and validation data**"
   ]
  },
  {
   "cell_type": "code",
   "execution_count": 34,
   "id": "f0881875",
   "metadata": {
    "execution": {
     "iopub.execute_input": "2022-01-30T10:16:55.207839Z",
     "iopub.status.busy": "2022-01-30T10:16:55.207013Z",
     "iopub.status.idle": "2022-01-30T10:16:55.213627Z",
     "shell.execute_reply": "2022-01-30T10:16:55.214107Z",
     "shell.execute_reply.started": "2022-01-30T10:12:54.472684Z"
    },
    "papermill": {
     "duration": 0.088443,
     "end_time": "2022-01-30T10:16:55.214277",
     "exception": false,
     "start_time": "2022-01-30T10:16:55.125834",
     "status": "completed"
    },
    "tags": []
   },
   "outputs": [],
   "source": [
    "x_train, x_valid, y_train, y_valid = tts(X_preprocessed,y , test_size = 0.1, random_state = 0, stratify = y)"
   ]
  },
  {
   "cell_type": "markdown",
   "id": "1663da90",
   "metadata": {
    "papermill": {
     "duration": 0.078862,
     "end_time": "2022-01-30T10:16:55.372337",
     "exception": false,
     "start_time": "2022-01-30T10:16:55.293475",
     "status": "completed"
    },
    "tags": []
   },
   "source": [
    "# Model Selection"
   ]
  },
  {
   "cell_type": "code",
   "execution_count": 35,
   "id": "95d79717",
   "metadata": {
    "execution": {
     "iopub.execute_input": "2022-01-30T10:16:55.533783Z",
     "iopub.status.busy": "2022-01-30T10:16:55.533177Z",
     "iopub.status.idle": "2022-01-30T10:16:55.943008Z",
     "shell.execute_reply": "2022-01-30T10:16:55.943715Z",
     "shell.execute_reply.started": "2022-01-30T10:12:54.483449Z"
    },
    "papermill": {
     "duration": 0.492446,
     "end_time": "2022-01-30T10:16:55.943912",
     "exception": false,
     "start_time": "2022-01-30T10:16:55.451466",
     "status": "completed"
    },
    "tags": []
   },
   "outputs": [
    {
     "data": {
      "text/plain": [
       "SVC(kernel='linear', random_state=0)"
      ]
     },
     "execution_count": 35,
     "metadata": {},
     "output_type": "execute_result"
    }
   ],
   "source": [
    "from sklearn.linear_model import LogisticRegression\n",
    "from sklearn.ensemble import RandomForestClassifier\n",
    "from sklearn import svm\n",
    "\n",
    "model_rf = RandomForestClassifier(random_state = 0)\n",
    "model_rf.fit(x_train,y_train)\n",
    "\n",
    "model_lr = LogisticRegression(max_iter = 250)\n",
    "model_lr.fit(x_train,y_train)\n",
    "\n",
    "model_sv = svm.SVC(kernel='linear', random_state = 0)\n",
    "model_sv.fit(x_train,y_train)"
   ]
  },
  {
   "cell_type": "markdown",
   "id": "3934d73d",
   "metadata": {
    "papermill": {
     "duration": 0.080003,
     "end_time": "2022-01-30T10:16:56.105051",
     "exception": false,
     "start_time": "2022-01-30T10:16:56.025048",
     "status": "completed"
    },
    "tags": []
   },
   "source": [
    "**Model Evaluation**"
   ]
  },
  {
   "cell_type": "code",
   "execution_count": 36,
   "id": "7825777e",
   "metadata": {
    "execution": {
     "iopub.execute_input": "2022-01-30T10:16:56.273053Z",
     "iopub.status.busy": "2022-01-30T10:16:56.272011Z",
     "iopub.status.idle": "2022-01-30T10:16:56.286112Z",
     "shell.execute_reply": "2022-01-30T10:16:56.286772Z",
     "shell.execute_reply.started": "2022-01-30T10:12:54.671624Z"
    },
    "papermill": {
     "duration": 0.102506,
     "end_time": "2022-01-30T10:16:56.286979",
     "exception": false,
     "start_time": "2022-01-30T10:16:56.184473",
     "status": "completed"
    },
    "tags": []
   },
   "outputs": [],
   "source": [
    "preds_lr = model_lr.predict(x_valid)\n",
    "preds_rf = model_rf.predict(x_valid)\n",
    "preds_sv = model_sv.predict(x_valid)"
   ]
  },
  {
   "cell_type": "code",
   "execution_count": 37,
   "id": "ab0b71ba",
   "metadata": {
    "execution": {
     "iopub.execute_input": "2022-01-30T10:16:56.448983Z",
     "iopub.status.busy": "2022-01-30T10:16:56.448368Z",
     "iopub.status.idle": "2022-01-30T10:16:56.455604Z",
     "shell.execute_reply": "2022-01-30T10:16:56.455109Z",
     "shell.execute_reply.started": "2022-01-30T10:12:54.695846Z"
    },
    "papermill": {
     "duration": 0.088957,
     "end_time": "2022-01-30T10:16:56.455762",
     "exception": false,
     "start_time": "2022-01-30T10:16:56.366805",
     "status": "completed"
    },
    "tags": []
   },
   "outputs": [
    {
     "name": "stdout",
     "output_type": "stream",
     "text": [
      "Accuracy score for Logistic regression: 0.5897435897435898\n",
      "F1 score for Logistic regression: 0.6190476190476191 \n"
     ]
    }
   ],
   "source": [
    "print('Accuracy score for Logistic regression: {0}\\nF1 score for Logistic regression: {1} '.format(accuracy_score(preds_lr, y_valid),f1_score(preds_lr, y_valid)))"
   ]
  },
  {
   "cell_type": "code",
   "execution_count": 38,
   "id": "860c728f",
   "metadata": {
    "execution": {
     "iopub.execute_input": "2022-01-30T10:16:56.622671Z",
     "iopub.status.busy": "2022-01-30T10:16:56.621977Z",
     "iopub.status.idle": "2022-01-30T10:16:56.628589Z",
     "shell.execute_reply": "2022-01-30T10:16:56.629463Z",
     "shell.execute_reply.started": "2022-01-30T10:12:54.704577Z"
    },
    "papermill": {
     "duration": 0.092419,
     "end_time": "2022-01-30T10:16:56.629692",
     "exception": false,
     "start_time": "2022-01-30T10:16:56.537273",
     "status": "completed"
    },
    "tags": []
   },
   "outputs": [
    {
     "name": "stdout",
     "output_type": "stream",
     "text": [
      "Accuracy score for Random_Forest: 0.6153846153846154\n",
      "F1 score for Random Forest: 0.6153846153846154 \n"
     ]
    }
   ],
   "source": [
    "print('Accuracy score for Random_Forest: {0}\\nF1 score for Random Forest: {1} '.format(accuracy_score(preds_rf, y_valid),f1_score(preds_rf, y_valid)))"
   ]
  },
  {
   "cell_type": "code",
   "execution_count": 39,
   "id": "54908b65",
   "metadata": {
    "execution": {
     "iopub.execute_input": "2022-01-30T10:16:56.796850Z",
     "iopub.status.busy": "2022-01-30T10:16:56.796221Z",
     "iopub.status.idle": "2022-01-30T10:16:56.800997Z",
     "shell.execute_reply": "2022-01-30T10:16:56.801639Z",
     "shell.execute_reply.started": "2022-01-30T10:12:54.719532Z"
    },
    "papermill": {
     "duration": 0.09118,
     "end_time": "2022-01-30T10:16:56.801869",
     "exception": false,
     "start_time": "2022-01-30T10:16:56.710689",
     "status": "completed"
    },
    "tags": []
   },
   "outputs": [
    {
     "name": "stdout",
     "output_type": "stream",
     "text": [
      "Accuracy score for SVM: 0.6410256410256411\n",
      "F1 score for SVM: 0.72 \n"
     ]
    }
   ],
   "source": [
    "print('Accuracy score for SVM: {0}\\nF1 score for SVM: {1} '.format(accuracy_score(preds_sv, y_valid),f1_score(preds_sv, y_valid)))"
   ]
  },
  {
   "cell_type": "code",
   "execution_count": 40,
   "id": "967855bc",
   "metadata": {
    "execution": {
     "iopub.execute_input": "2022-01-30T10:16:56.972426Z",
     "iopub.status.busy": "2022-01-30T10:16:56.971195Z",
     "iopub.status.idle": "2022-01-30T10:16:56.979208Z",
     "shell.execute_reply": "2022-01-30T10:16:56.979673Z",
     "shell.execute_reply.started": "2022-01-30T10:12:54.730967Z"
    },
    "papermill": {
     "duration": 0.096364,
     "end_time": "2022-01-30T10:16:56.979858",
     "exception": false,
     "start_time": "2022-01-30T10:16:56.883494",
     "status": "completed"
    },
    "tags": []
   },
   "outputs": [
    {
     "name": "stdout",
     "output_type": "stream",
     "text": [
      "LOGISTICS REGRESSION\n",
      "\n",
      "              precision    recall  f1-score   support\n",
      "\n",
      "           0       0.50      0.62      0.56        16\n",
      "           1       0.68      0.57      0.62        23\n",
      "\n",
      "    accuracy                           0.59        39\n",
      "   macro avg       0.59      0.60      0.59        39\n",
      "weighted avg       0.61      0.59      0.59        39\n",
      "\n"
     ]
    }
   ],
   "source": [
    "print('LOGISTICS REGRESSION\\n')\n",
    "print(classification_report(preds_lr, y_valid))"
   ]
  },
  {
   "cell_type": "code",
   "execution_count": 41,
   "id": "99c297db",
   "metadata": {
    "execution": {
     "iopub.execute_input": "2022-01-30T10:16:57.150464Z",
     "iopub.status.busy": "2022-01-30T10:16:57.149700Z",
     "iopub.status.idle": "2022-01-30T10:16:57.155600Z",
     "shell.execute_reply": "2022-01-30T10:16:57.156057Z",
     "shell.execute_reply.started": "2022-01-30T10:12:54.744900Z"
    },
    "papermill": {
     "duration": 0.095084,
     "end_time": "2022-01-30T10:16:57.156280",
     "exception": false,
     "start_time": "2022-01-30T10:16:57.061196",
     "status": "completed"
    },
    "tags": []
   },
   "outputs": [
    {
     "name": "stdout",
     "output_type": "stream",
     "text": [
      "RANDOM FOREST\n",
      "\n",
      "              precision    recall  f1-score   support\n",
      "\n",
      "           0       0.60      0.63      0.62        19\n",
      "           1       0.63      0.60      0.62        20\n",
      "\n",
      "    accuracy                           0.62        39\n",
      "   macro avg       0.62      0.62      0.62        39\n",
      "weighted avg       0.62      0.62      0.62        39\n",
      "\n"
     ]
    }
   ],
   "source": [
    "print('RANDOM FOREST\\n')\n",
    "print(classification_report(preds_rf, y_valid))"
   ]
  },
  {
   "cell_type": "code",
   "execution_count": 42,
   "id": "ed7f9566",
   "metadata": {
    "execution": {
     "iopub.execute_input": "2022-01-30T10:16:57.325389Z",
     "iopub.status.busy": "2022-01-30T10:16:57.324729Z",
     "iopub.status.idle": "2022-01-30T10:16:57.331836Z",
     "shell.execute_reply": "2022-01-30T10:16:57.332305Z",
     "shell.execute_reply.started": "2022-01-30T10:12:54.756928Z"
    },
    "papermill": {
     "duration": 0.094115,
     "end_time": "2022-01-30T10:16:57.332479",
     "exception": false,
     "start_time": "2022-01-30T10:16:57.238364",
     "status": "completed"
    },
    "tags": []
   },
   "outputs": [
    {
     "name": "stdout",
     "output_type": "stream",
     "text": [
      "SUPPORT VECTOR\n",
      "\n",
      "              precision    recall  f1-score   support\n",
      "\n",
      "           0       0.35      0.88      0.50         8\n",
      "           1       0.95      0.58      0.72        31\n",
      "\n",
      "    accuracy                           0.64        39\n",
      "   macro avg       0.65      0.73      0.61        39\n",
      "weighted avg       0.82      0.64      0.67        39\n",
      "\n"
     ]
    }
   ],
   "source": [
    "print('SUPPORT VECTOR\\n')\n",
    "print(classification_report(preds_sv, y_valid))"
   ]
  },
  {
   "cell_type": "markdown",
   "id": "ba7a3356",
   "metadata": {
    "papermill": {
     "duration": 0.082018,
     "end_time": "2022-01-30T10:16:57.496547",
     "exception": false,
     "start_time": "2022-01-30T10:16:57.414529",
     "status": "completed"
    },
    "tags": []
   },
   "source": [
    "**Determinig optimal max_depth for RANDOM FOREST**"
   ]
  },
  {
   "cell_type": "code",
   "execution_count": 43,
   "id": "673cb722",
   "metadata": {
    "execution": {
     "iopub.execute_input": "2022-01-30T10:16:57.669252Z",
     "iopub.status.busy": "2022-01-30T10:16:57.668542Z",
     "iopub.status.idle": "2022-01-30T10:16:58.726464Z",
     "shell.execute_reply": "2022-01-30T10:16:58.726978Z",
     "shell.execute_reply.started": "2022-01-30T10:16:01.948528Z"
    },
    "papermill": {
     "duration": 1.149225,
     "end_time": "2022-01-30T10:16:58.727172",
     "exception": false,
     "start_time": "2022-01-30T10:16:57.577947",
     "status": "completed"
    },
    "tags": []
   },
   "outputs": [
    {
     "data": {
      "text/plain": [
       "<matplotlib.legend.Legend at 0x7f30d70d8f10>"
      ]
     },
     "execution_count": 43,
     "metadata": {},
     "output_type": "execute_result"
    },
    {
     "data": {
      "image/png": "[encoded data removed]",
      "text/plain": [
       "<Figure size 432x288 with 1 Axes>"
      ]
     },
     "metadata": {},
     "output_type": "display_data"
    }
   ],
   "source": [
    "f1scores_train = []\n",
    "f1scores_valid = []\n",
    "\n",
    "depth = range (3, 15)\n",
    "\n",
    "for i in depth:\n",
    "    model = RandomForestClassifier(max_depth = i, n_estimators = 25, random_state = 0)\n",
    "    model.fit(x_train, y_train)\n",
    "    \n",
    "    train_preds = model.predict(x_train)\n",
    "    valid_preds = model.predict(x_valid)\n",
    "    \n",
    "   # print(classification_report(valid_preds, y_valid))\n",
    "    \n",
    "    f1scores_train.append(f1_score(train_preds, y_train))\n",
    "    f1scores_valid.append(f1_score(valid_preds, y_valid))\n",
    "    \n",
    "plt.plot(depth, f1scores_train, color = 'r')\n",
    "plt.plot(depth ,f1scores_valid, color = 'b')\n",
    "plt.legend(['Training F1 score', 'Validation F1 score'])"
   ]
  },
  {
   "cell_type": "markdown",
   "id": "37a749ad",
   "metadata": {
    "papermill": {
     "duration": 0.084354,
     "end_time": "2022-01-30T10:16:58.894716",
     "exception": false,
     "start_time": "2022-01-30T10:16:58.810362",
     "status": "completed"
    },
    "tags": []
   },
   "source": [
    "**Final Model**"
   ]
  },
  {
   "cell_type": "code",
   "execution_count": 44,
   "id": "00237206",
   "metadata": {
    "execution": {
     "iopub.execute_input": "2022-01-30T10:16:59.066538Z",
     "iopub.status.busy": "2022-01-30T10:16:59.065800Z",
     "iopub.status.idle": "2022-01-30T10:16:59.125892Z",
     "shell.execute_reply": "2022-01-30T10:16:59.125342Z",
     "shell.execute_reply.started": "2022-01-30T10:13:55.723509Z"
    },
    "papermill": {
     "duration": 0.147178,
     "end_time": "2022-01-30T10:16:59.126041",
     "exception": false,
     "start_time": "2022-01-30T10:16:58.978863",
     "status": "completed"
    },
    "tags": []
   },
   "outputs": [],
   "source": [
    "final_model = RandomForestClassifier(max_depth = 5, n_estimators = 25, random_state = 0)\n",
    "#final_model = LogisticRegression()\n",
    "final_model.fit(x_train, y_train)\n",
    "preds = final_model.predict(x_valid)"
   ]
  },
  {
   "cell_type": "markdown",
   "id": "d43770c4",
   "metadata": {
    "papermill": {
     "duration": 0.08283,
     "end_time": "2022-01-30T10:16:59.294030",
     "exception": false,
     "start_time": "2022-01-30T10:16:59.211200",
     "status": "completed"
    },
    "tags": []
   },
   "source": [
    "There is more precision with max_depth = 5"
   ]
  },
  {
   "cell_type": "code",
   "execution_count": 45,
   "id": "1026cce0",
   "metadata": {
    "execution": {
     "iopub.execute_input": "2022-01-30T10:16:59.470027Z",
     "iopub.status.busy": "2022-01-30T10:16:59.468681Z",
     "iopub.status.idle": "2022-01-30T10:16:59.473405Z",
     "shell.execute_reply": "2022-01-30T10:16:59.473921Z",
     "shell.execute_reply.started": "2022-01-30T10:13:56.099598Z"
    },
    "papermill": {
     "duration": 0.095836,
     "end_time": "2022-01-30T10:16:59.474109",
     "exception": false,
     "start_time": "2022-01-30T10:16:59.378273",
     "status": "completed"
    },
    "tags": []
   },
   "outputs": [
    {
     "name": "stdout",
     "output_type": "stream",
     "text": [
      "Accuracy score for final model: 0.717948717948718\n",
      "F1 score for final model: 0.744186046511628 \n"
     ]
    }
   ],
   "source": [
    "print( 'Accuracy score for final model: {0}\\nF1 score for final model: {1} '.format(accuracy_score(preds, y_valid),f1_score(preds, y_valid)))"
   ]
  },
  {
   "cell_type": "code",
   "execution_count": 46,
   "id": "e4b8d298",
   "metadata": {
    "execution": {
     "iopub.execute_input": "2022-01-30T10:16:59.644849Z",
     "iopub.status.busy": "2022-01-30T10:16:59.644181Z",
     "iopub.status.idle": "2022-01-30T10:16:59.652595Z",
     "shell.execute_reply": "2022-01-30T10:16:59.653144Z",
     "shell.execute_reply.started": "2022-01-30T10:14:00.559015Z"
    },
    "papermill": {
     "duration": 0.095917,
     "end_time": "2022-01-30T10:16:59.653318",
     "exception": false,
     "start_time": "2022-01-30T10:16:59.557401",
     "status": "completed"
    },
    "tags": []
   },
   "outputs": [
    {
     "name": "stdout",
     "output_type": "stream",
     "text": [
      "              precision    recall  f1-score   support\n",
      "\n",
      "           0       0.60      0.80      0.69        15\n",
      "           1       0.84      0.67      0.74        24\n",
      "\n",
      "    accuracy                           0.72        39\n",
      "   macro avg       0.72      0.73      0.71        39\n",
      "weighted avg       0.75      0.72      0.72        39\n",
      "\n"
     ]
    }
   ],
   "source": [
    "print(classification_report(preds, y_valid))"
   ]
  },
  {
   "cell_type": "code",
   "execution_count": 47,
   "id": "814bc38e",
   "metadata": {
    "execution": {
     "iopub.execute_input": "2022-01-30T10:16:59.825343Z",
     "iopub.status.busy": "2022-01-30T10:16:59.824663Z",
     "iopub.status.idle": "2022-01-30T10:16:59.832959Z",
     "shell.execute_reply": "2022-01-30T10:16:59.833412Z",
     "shell.execute_reply.started": "2022-01-30T10:12:55.751865Z"
    },
    "papermill": {
     "duration": 0.095941,
     "end_time": "2022-01-30T10:16:59.833588",
     "exception": false,
     "start_time": "2022-01-30T10:16:59.737647",
     "status": "completed"
    },
    "tags": []
   },
   "outputs": [
    {
     "data": {
      "text/plain": [
       "array([1, 1, 1, 1, 0, 0, 0, 0, 1, 0, 0, 1, 1, 0, 1, 0, 1, 1, 0, 1, 0, 1,\n",
       "       1, 0, 1, 0, 1, 1, 1, 1, 1, 1, 1, 1, 1, 0, 1, 1, 1, 1, 1, 1, 1, 1,\n",
       "       1, 1, 0, 1, 0, 1, 1, 1, 1, 1, 1, 0, 0, 1, 0, 1, 1, 1, 1, 0, 1, 1,\n",
       "       0, 0, 1, 0, 1, 1, 1, 1, 1, 0, 1, 1, 1, 1, 0, 0, 0, 1, 0, 1, 1, 1,\n",
       "       1, 0, 1, 0, 1, 1, 0, 1, 0, 1, 1, 1, 1, 0, 1, 1, 1, 1, 0, 1, 1, 0,\n",
       "       1, 1, 1, 1, 1, 1, 0, 0, 0, 0, 1, 1, 1, 0, 0, 1, 0, 1, 1, 1, 1, 1,\n",
       "       1, 0, 1, 1, 1, 1, 1, 1, 0, 1, 0, 0, 1, 1, 1, 0, 1, 1, 0, 1, 1, 0,\n",
       "       1, 1, 1, 1, 1, 0, 0, 0, 1, 1, 0, 0, 0, 1, 0, 1, 1, 1, 1, 0, 0, 1,\n",
       "       1, 1, 1, 1, 1, 1, 1, 1, 1, 1, 1, 1, 0, 1, 1, 1, 0, 0, 1, 1, 0, 1,\n",
       "       0, 1, 1, 1, 1, 1, 1, 1, 1, 1, 1, 0, 1, 0, 1, 1, 0, 1, 1, 1, 0, 1,\n",
       "       1, 0, 1, 0, 0, 1, 1, 1, 0, 0, 0, 0, 1, 1, 1, 0, 0, 0, 1, 1, 0, 0,\n",
       "       1, 0, 1, 0, 1, 1, 1, 1, 0, 1, 1, 1, 1, 0, 1, 1, 1, 0, 1, 1, 0, 0,\n",
       "       1, 1, 0, 0, 0, 1, 0, 0, 0, 0, 0, 1, 1, 1, 0, 1, 1, 1, 0, 0, 0, 0,\n",
       "       0, 0, 1, 1, 1, 1, 0, 0, 0, 1, 1, 0, 1, 1, 1, 0, 0, 0, 1, 0, 1, 1,\n",
       "       1, 1, 1, 0, 1, 1, 1, 1, 1, 0, 0, 1, 1, 0, 1, 1, 1, 0, 1, 1, 1, 1,\n",
       "       1, 1, 0, 1, 1, 1, 0, 1, 1, 0, 1, 0, 1, 1, 0, 1, 0, 0, 1, 1, 1, 0,\n",
       "       1, 1, 0, 1, 1, 1, 1, 1, 1, 1, 0, 1, 1, 1, 1])"
      ]
     },
     "execution_count": 47,
     "metadata": {},
     "output_type": "execute_result"
    }
   ],
   "source": [
    "#Predictions on test_data\n",
    "model_lr.predict(X_test_preprocessed)"
   ]
  },
  {
   "cell_type": "markdown",
   "id": "857bc679",
   "metadata": {
    "papermill": {
     "duration": 0.085249,
     "end_time": "2022-01-30T10:17:00.002650",
     "exception": false,
     "start_time": "2022-01-30T10:16:59.917401",
     "status": "completed"
    },
    "tags": []
   },
   "source": [
    "# Deploying model"
   ]
  },
  {
   "cell_type": "code",
   "execution_count": 48,
   "id": "2c336856",
   "metadata": {
    "execution": {
     "iopub.execute_input": "2022-01-30T10:17:00.174956Z",
     "iopub.status.busy": "2022-01-30T10:17:00.174291Z",
     "iopub.status.idle": "2022-01-30T10:17:00.179624Z",
     "shell.execute_reply": "2022-01-30T10:17:00.180231Z",
     "shell.execute_reply.started": "2022-01-30T10:12:55.764934Z"
    },
    "papermill": {
     "duration": 0.092604,
     "end_time": "2022-01-30T10:17:00.180401",
     "exception": false,
     "start_time": "2022-01-30T10:17:00.087797",
     "status": "completed"
    },
    "tags": []
   },
   "outputs": [],
   "source": [
    "import pickle \n",
    "#save the model to disk\n",
    "filename = 'model.pkl'\n",
    "pickle.dump(final_model, open(filename, 'wb')) # wb means write as binary"
   ]
  },
  {
   "cell_type": "markdown",
   "id": "7f47e2bb",
   "metadata": {
    "papermill": {
     "duration": 0.087659,
     "end_time": "2022-01-30T10:17:00.352679",
     "exception": false,
     "start_time": "2022-01-30T10:17:00.265020",
     "status": "completed"
    },
    "tags": []
   },
   "source": [
    "**To read model from file**"
   ]
  },
  {
   "cell_type": "code",
   "execution_count": 49,
   "id": "60d40bbe",
   "metadata": {
    "execution": {
     "iopub.execute_input": "2022-01-30T10:17:00.523061Z",
     "iopub.status.busy": "2022-01-30T10:17:00.522451Z",
     "iopub.status.idle": "2022-01-30T10:17:00.532183Z",
     "shell.execute_reply": "2022-01-30T10:17:00.532711Z",
     "shell.execute_reply.started": "2022-01-30T10:12:55.774359Z"
    },
    "papermill": {
     "duration": 0.096612,
     "end_time": "2022-01-30T10:17:00.532948",
     "exception": false,
     "start_time": "2022-01-30T10:17:00.436336",
     "status": "completed"
    },
    "tags": []
   },
   "outputs": [],
   "source": [
    "# load the model from disk\n",
    "loaded_model = pickle.load(open(filename, 'rb')) # rb means read as binary\n",
    "preds = loaded_model.predict(x_valid)"
   ]
  },
  {
   "cell_type": "code",
   "execution_count": 50,
   "id": "31e7a382",
   "metadata": {
    "execution": {
     "iopub.execute_input": "2022-01-30T10:17:00.708408Z",
     "iopub.status.busy": "2022-01-30T10:17:00.707693Z",
     "iopub.status.idle": "2022-01-30T10:17:00.711618Z",
     "shell.execute_reply": "2022-01-30T10:17:00.712108Z",
     "shell.execute_reply.started": "2022-01-30T10:12:55.791499Z"
    },
    "papermill": {
     "duration": 0.094984,
     "end_time": "2022-01-30T10:17:00.712295",
     "exception": false,
     "start_time": "2022-01-30T10:17:00.617311",
     "status": "completed"
    },
    "tags": []
   },
   "outputs": [
    {
     "name": "stdout",
     "output_type": "stream",
     "text": [
      "Accuracy score : 0.717948717948718\n",
      "F1 score : 0.744186046511628 \n"
     ]
    }
   ],
   "source": [
    "print( 'Accuracy score : {0}\\nF1 score : {1} '.format(accuracy_score(preds, y_valid),f1_score(preds, y_valid)))"
   ]
  },
  {
   "cell_type": "code",
   "execution_count": null,
   "id": "c346c33b",
   "metadata": {
    "papermill": {
     "duration": 0.083509,
     "end_time": "2022-01-30T10:17:00.880359",
     "exception": false,
     "start_time": "2022-01-30T10:17:00.796850",
     "status": "completed"
    },
    "tags": []
   },
   "outputs": [],
   "source": []
  }
 ],
 "metadata": {
  "kernelspec": {
   "display_name": "Python 3",
   "language": "python",
   "name": "python3"
  },
  "language_info": {
   "codemirror_mode": {
    "name": "ipython",
    "version": 3
   },
   "file_extension": ".py",
   "mimetype": "text/x-python",
   "name": "python",
   "nbconvert_exporter": "python",
   "pygments_lexer": "ipython3",
   "version": "3.7.12"
  },
  "papermill": {
   "default_parameters": {},
   "duration": 28.790816,
   "end_time": "2022-01-30T10:17:01.676145",
   "environment_variables": {},
   "exception": null,
   "input_path": "__notebook__.ipynb",
   "output_path": "__notebook__.ipynb",
   "parameters": {},
   "start_time": "2022-01-30T10:16:32.885329",
   "version": "2.3.3"
  }
 },
 "nbformat": 4,
 "nbformat_minor": 5
}
