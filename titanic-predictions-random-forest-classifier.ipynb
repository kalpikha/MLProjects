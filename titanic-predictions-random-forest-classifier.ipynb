{
 "cells": [
  {
   "cell_type": "code",
   "execution_count": 1,
   "id": "0c33f109",
   "metadata": {
    "_cell_guid": "b1076dfc-b9ad-4769-8c92-a6c4dae69d19",
    "_uuid": "8f2839f25d086af736a60e9eeb907d3b93b6e0e5",
    "execution": {
     "iopub.execute_input": "2021-07-31T02:38:44.990374Z",
     "iopub.status.busy": "2021-07-31T02:38:44.988659Z",
     "iopub.status.idle": "2021-07-31T02:38:45.000998Z",
     "shell.execute_reply": "2021-07-31T02:38:45.001609Z",
     "shell.execute_reply.started": "2021-07-29T13:41:14.748862Z"
    },
    "papermill": {
     "duration": 0.052382,
     "end_time": "2021-07-31T02:38:45.001902",
     "exception": false,
     "start_time": "2021-07-31T02:38:44.949520",
     "status": "completed"
    },
    "tags": []
   },
   "outputs": [
    {
     "name": "stdout",
     "output_type": "stream",
     "text": [
      "/kaggle/input/titanic/train.csv\n",
      "/kaggle/input/titanic/test.csv\n",
      "/kaggle/input/titanic/gender_submission.csv\n"
     ]
    }
   ],
   "source": [
    "# This Python 3 environment comes with many helpful analytics libraries installed\n",
    "# It is defined by the kaggle/python Docker image: https://github.com/kaggle/docker-python\n",
    "# For example, here's several helpful packages to load\n",
    "\n",
    "import numpy as np # linear algebra\n",
    "import pandas as pd # data processing, CSV file I/O (e.g. pd.read_csv)\n",
    "\n",
    "# Input data files are available in the read-only \"../input/\" directory\n",
    "# For example, running this (by clicking run or pressing Shift+Enter) will list all files under the input directory\n",
    "\n",
    "import os\n",
    "for dirname, _, filenames in os.walk('/kaggle/input'):\n",
    "    for filename in filenames:\n",
    "        print(os.path.join(dirname, filename))\n",
    "\n",
    "# You can write up to 20GB to the current directory (/kaggle/working/) that gets preserved as output when you create a version using \"Save & Run All\" \n",
    "# You can also write temporary files to /kaggle/temp/, but they won't be saved outside of the current session"
   ]
  },
  {
   "cell_type": "markdown",
   "id": "a201c5ce",
   "metadata": {
    "papermill": {
     "duration": 0.035155,
     "end_time": "2021-07-31T02:38:45.072413",
     "exception": false,
     "start_time": "2021-07-31T02:38:45.037258",
     "status": "completed"
    },
    "tags": []
   },
   "source": [
    "# Loading data"
   ]
  },
  {
   "cell_type": "code",
   "execution_count": 2,
   "id": "03989288",
   "metadata": {
    "execution": {
     "iopub.execute_input": "2021-07-31T02:38:45.145393Z",
     "iopub.status.busy": "2021-07-31T02:38:45.144756Z",
     "iopub.status.idle": "2021-07-31T02:38:45.250469Z",
     "shell.execute_reply": "2021-07-31T02:38:45.249880Z",
     "shell.execute_reply.started": "2021-07-29T13:41:14.773772Z"
    },
    "papermill": {
     "duration": 0.144183,
     "end_time": "2021-07-31T02:38:45.250613",
     "exception": false,
     "start_time": "2021-07-31T02:38:45.106430",
     "status": "completed"
    },
    "tags": []
   },
   "outputs": [],
   "source": [
    "train_data = pd.read_csv('../input/titanic/train.csv')\n",
    "test_data = pd.read_csv('../input/titanic/test.csv')\n"
   ]
  },
  {
   "cell_type": "markdown",
   "id": "5ad36e56",
   "metadata": {
    "papermill": {
     "duration": 0.033672,
     "end_time": "2021-07-31T02:38:45.318368",
     "exception": false,
     "start_time": "2021-07-31T02:38:45.284696",
     "status": "completed"
    },
    "tags": []
   },
   "source": [
    "# Looking into data"
   ]
  },
  {
   "cell_type": "code",
   "execution_count": 3,
   "id": "586ae076",
   "metadata": {
    "execution": {
     "iopub.execute_input": "2021-07-31T02:38:45.399760Z",
     "iopub.status.busy": "2021-07-31T02:38:45.399061Z",
     "iopub.status.idle": "2021-07-31T02:38:45.420050Z",
     "shell.execute_reply": "2021-07-31T02:38:45.420507Z",
     "shell.execute_reply.started": "2021-07-29T13:41:14.955172Z"
    },
    "papermill": {
     "duration": 0.068194,
     "end_time": "2021-07-31T02:38:45.420682",
     "exception": false,
     "start_time": "2021-07-31T02:38:45.352488",
     "status": "completed"
    },
    "tags": []
   },
   "outputs": [
    {
     "data": {
      "text/html": [
       "<div>\n",
       "<style scoped>\n",
       "    .dataframe tbody tr th:only-of-type {\n",
       "        vertical-align: middle;\n",
       "    }\n",
       "\n",
       "    .dataframe tbody tr th {\n",
       "        vertical-align: top;\n",
       "    }\n",
       "\n",
       "    .dataframe thead th {\n",
       "        text-align: right;\n",
       "    }\n",
       "</style>\n",
       "<table border=\"1\" class=\"dataframe\">\n",
       "  <thead>\n",
       "    <tr style=\"text-align: right;\">\n",
       "      <th></th>\n",
       "      <th>PassengerId</th>\n",
       "      <th>Survived</th>\n",
       "      <th>Pclass</th>\n",
       "      <th>Name</th>\n",
       "      <th>Sex</th>\n",
       "      <th>Age</th>\n",
       "      <th>SibSp</th>\n",
       "      <th>Parch</th>\n",
       "      <th>Ticket</th>\n",
       "      <th>Fare</th>\n",
       "      <th>Cabin</th>\n",
       "      <th>Embarked</th>\n",
       "    </tr>\n",
       "  </thead>\n",
       "  <tbody>\n",
       "    <tr>\n",
       "      <th>0</th>\n",
       "      <td>1</td>\n",
       "      <td>0</td>\n",
       "      <td>3</td>\n",
       "      <td>Braund, Mr. Owen Harris</td>\n",
       "      <td>male</td>\n",
       "      <td>22.0</td>\n",
       "      <td>1</td>\n",
       "      <td>0</td>\n",
       "      <td>A/5 21171</td>\n",
       "      <td>7.2500</td>\n",
       "      <td>NaN</td>\n",
       "      <td>S</td>\n",
       "    </tr>\n",
       "    <tr>\n",
       "      <th>1</th>\n",
       "      <td>2</td>\n",
       "      <td>1</td>\n",
       "      <td>1</td>\n",
       "      <td>Cumings, Mrs. John Bradley (Florence Briggs Th...</td>\n",
       "      <td>female</td>\n",
       "      <td>38.0</td>\n",
       "      <td>1</td>\n",
       "      <td>0</td>\n",
       "      <td>PC 17599</td>\n",
       "      <td>71.2833</td>\n",
       "      <td>C85</td>\n",
       "      <td>C</td>\n",
       "    </tr>\n",
       "    <tr>\n",
       "      <th>2</th>\n",
       "      <td>3</td>\n",
       "      <td>1</td>\n",
       "      <td>3</td>\n",
       "      <td>Heikkinen, Miss. Laina</td>\n",
       "      <td>female</td>\n",
       "      <td>26.0</td>\n",
       "      <td>0</td>\n",
       "      <td>0</td>\n",
       "      <td>STON/O2. 3101282</td>\n",
       "      <td>7.9250</td>\n",
       "      <td>NaN</td>\n",
       "      <td>S</td>\n",
       "    </tr>\n",
       "    <tr>\n",
       "      <th>3</th>\n",
       "      <td>4</td>\n",
       "      <td>1</td>\n",
       "      <td>1</td>\n",
       "      <td>Futrelle, Mrs. Jacques Heath (Lily May Peel)</td>\n",
       "      <td>female</td>\n",
       "      <td>35.0</td>\n",
       "      <td>1</td>\n",
       "      <td>0</td>\n",
       "      <td>113803</td>\n",
       "      <td>53.1000</td>\n",
       "      <td>C123</td>\n",
       "      <td>S</td>\n",
       "    </tr>\n",
       "    <tr>\n",
       "      <th>4</th>\n",
       "      <td>5</td>\n",
       "      <td>0</td>\n",
       "      <td>3</td>\n",
       "      <td>Allen, Mr. William Henry</td>\n",
       "      <td>male</td>\n",
       "      <td>35.0</td>\n",
       "      <td>0</td>\n",
       "      <td>0</td>\n",
       "      <td>373450</td>\n",
       "      <td>8.0500</td>\n",
       "      <td>NaN</td>\n",
       "      <td>S</td>\n",
       "    </tr>\n",
       "  </tbody>\n",
       "</table>\n",
       "</div>"
      ],
      "text/plain": [
       "   PassengerId  Survived  Pclass  \\\n",
       "0            1         0       3   \n",
       "1            2         1       1   \n",
       "2            3         1       3   \n",
       "3            4         1       1   \n",
       "4            5         0       3   \n",
       "\n",
       "                                                Name     Sex   Age  SibSp  \\\n",
       "0                            Braund, Mr. Owen Harris    male  22.0      1   \n",
       "1  Cumings, Mrs. John Bradley (Florence Briggs Th...  female  38.0      1   \n",
       "2                             Heikkinen, Miss. Laina  female  26.0      0   \n",
       "3       Futrelle, Mrs. Jacques Heath (Lily May Peel)  female  35.0      1   \n",
       "4                           Allen, Mr. William Henry    male  35.0      0   \n",
       "\n",
       "   Parch            Ticket     Fare Cabin Embarked  \n",
       "0      0         A/5 21171   7.2500   NaN        S  \n",
       "1      0          PC 17599  71.2833   C85        C  \n",
       "2      0  STON/O2. 3101282   7.9250   NaN        S  \n",
       "3      0            113803  53.1000  C123        S  \n",
       "4      0            373450   8.0500   NaN        S  "
      ]
     },
     "execution_count": 3,
     "metadata": {},
     "output_type": "execute_result"
    }
   ],
   "source": [
    "\n",
    "train_data.head()"
   ]
  },
  {
   "cell_type": "markdown",
   "id": "2969c55d",
   "metadata": {
    "papermill": {
     "duration": 0.033958,
     "end_time": "2021-07-31T02:38:45.489219",
     "exception": false,
     "start_time": "2021-07-31T02:38:45.455261",
     "status": "completed"
    },
    "tags": []
   },
   "source": [
    "# Checking how much people survival is dependent on some factors"
   ]
  },
  {
   "cell_type": "code",
   "execution_count": 4,
   "id": "64204f64",
   "metadata": {
    "execution": {
     "iopub.execute_input": "2021-07-31T02:38:45.561886Z",
     "iopub.status.busy": "2021-07-31T02:38:45.560955Z",
     "iopub.status.idle": "2021-07-31T02:38:45.577715Z",
     "shell.execute_reply": "2021-07-31T02:38:45.577248Z",
     "shell.execute_reply.started": "2021-07-29T13:41:14.986305Z"
    },
    "papermill": {
     "duration": 0.054188,
     "end_time": "2021-07-31T02:38:45.577856",
     "exception": false,
     "start_time": "2021-07-31T02:38:45.523668",
     "status": "completed"
    },
    "tags": []
   },
   "outputs": [
    {
     "data": {
      "text/html": [
       "<div>\n",
       "<style scoped>\n",
       "    .dataframe tbody tr th:only-of-type {\n",
       "        vertical-align: middle;\n",
       "    }\n",
       "\n",
       "    .dataframe tbody tr th {\n",
       "        vertical-align: top;\n",
       "    }\n",
       "\n",
       "    .dataframe thead th {\n",
       "        text-align: right;\n",
       "    }\n",
       "</style>\n",
       "<table border=\"1\" class=\"dataframe\">\n",
       "  <thead>\n",
       "    <tr style=\"text-align: right;\">\n",
       "      <th></th>\n",
       "      <th>Pclass</th>\n",
       "      <th>Survived</th>\n",
       "    </tr>\n",
       "  </thead>\n",
       "  <tbody>\n",
       "    <tr>\n",
       "      <th>0</th>\n",
       "      <td>1</td>\n",
       "      <td>0.629630</td>\n",
       "    </tr>\n",
       "    <tr>\n",
       "      <th>1</th>\n",
       "      <td>2</td>\n",
       "      <td>0.472826</td>\n",
       "    </tr>\n",
       "    <tr>\n",
       "      <th>2</th>\n",
       "      <td>3</td>\n",
       "      <td>0.242363</td>\n",
       "    </tr>\n",
       "  </tbody>\n",
       "</table>\n",
       "</div>"
      ],
      "text/plain": [
       "   Pclass  Survived\n",
       "0       1  0.629630\n",
       "1       2  0.472826\n",
       "2       3  0.242363"
      ]
     },
     "execution_count": 4,
     "metadata": {},
     "output_type": "execute_result"
    }
   ],
   "source": [
    "train_data[['Pclass', 'Survived']].groupby(['Pclass'], as_index=False).mean()"
   ]
  },
  {
   "cell_type": "code",
   "execution_count": 5,
   "id": "9e80f3f1",
   "metadata": {
    "execution": {
     "iopub.execute_input": "2021-07-31T02:38:45.657331Z",
     "iopub.status.busy": "2021-07-31T02:38:45.653014Z",
     "iopub.status.idle": "2021-07-31T02:38:45.667610Z",
     "shell.execute_reply": "2021-07-31T02:38:45.668062Z",
     "shell.execute_reply.started": "2021-07-29T13:41:15.007724Z"
    },
    "papermill": {
     "duration": 0.055365,
     "end_time": "2021-07-31T02:38:45.668238",
     "exception": false,
     "start_time": "2021-07-31T02:38:45.612873",
     "status": "completed"
    },
    "tags": []
   },
   "outputs": [
    {
     "data": {
      "text/html": [
       "<div>\n",
       "<style scoped>\n",
       "    .dataframe tbody tr th:only-of-type {\n",
       "        vertical-align: middle;\n",
       "    }\n",
       "\n",
       "    .dataframe tbody tr th {\n",
       "        vertical-align: top;\n",
       "    }\n",
       "\n",
       "    .dataframe thead th {\n",
       "        text-align: right;\n",
       "    }\n",
       "</style>\n",
       "<table border=\"1\" class=\"dataframe\">\n",
       "  <thead>\n",
       "    <tr style=\"text-align: right;\">\n",
       "      <th></th>\n",
       "      <th>Sex</th>\n",
       "      <th>Survived</th>\n",
       "    </tr>\n",
       "  </thead>\n",
       "  <tbody>\n",
       "    <tr>\n",
       "      <th>0</th>\n",
       "      <td>female</td>\n",
       "      <td>0.742038</td>\n",
       "    </tr>\n",
       "    <tr>\n",
       "      <th>1</th>\n",
       "      <td>male</td>\n",
       "      <td>0.188908</td>\n",
       "    </tr>\n",
       "  </tbody>\n",
       "</table>\n",
       "</div>"
      ],
      "text/plain": [
       "      Sex  Survived\n",
       "0  female  0.742038\n",
       "1    male  0.188908"
      ]
     },
     "execution_count": 5,
     "metadata": {},
     "output_type": "execute_result"
    }
   ],
   "source": [
    "train_data[['Sex', 'Survived']].groupby(['Sex'], as_index=False).mean()"
   ]
  },
  {
   "cell_type": "code",
   "execution_count": 6,
   "id": "8801a738",
   "metadata": {
    "execution": {
     "iopub.execute_input": "2021-07-31T02:38:45.741834Z",
     "iopub.status.busy": "2021-07-31T02:38:45.741201Z",
     "iopub.status.idle": "2021-07-31T02:38:45.755324Z",
     "shell.execute_reply": "2021-07-31T02:38:45.755729Z",
     "shell.execute_reply.started": "2021-07-29T13:41:15.036702Z"
    },
    "papermill": {
     "duration": 0.052401,
     "end_time": "2021-07-31T02:38:45.755898",
     "exception": false,
     "start_time": "2021-07-31T02:38:45.703497",
     "status": "completed"
    },
    "tags": []
   },
   "outputs": [
    {
     "data": {
      "text/html": [
       "<div>\n",
       "<style scoped>\n",
       "    .dataframe tbody tr th:only-of-type {\n",
       "        vertical-align: middle;\n",
       "    }\n",
       "\n",
       "    .dataframe tbody tr th {\n",
       "        vertical-align: top;\n",
       "    }\n",
       "\n",
       "    .dataframe thead th {\n",
       "        text-align: right;\n",
       "    }\n",
       "</style>\n",
       "<table border=\"1\" class=\"dataframe\">\n",
       "  <thead>\n",
       "    <tr style=\"text-align: right;\">\n",
       "      <th></th>\n",
       "      <th>Embarked</th>\n",
       "      <th>Survived</th>\n",
       "    </tr>\n",
       "  </thead>\n",
       "  <tbody>\n",
       "    <tr>\n",
       "      <th>0</th>\n",
       "      <td>C</td>\n",
       "      <td>0.553571</td>\n",
       "    </tr>\n",
       "    <tr>\n",
       "      <th>1</th>\n",
       "      <td>Q</td>\n",
       "      <td>0.389610</td>\n",
       "    </tr>\n",
       "    <tr>\n",
       "      <th>2</th>\n",
       "      <td>S</td>\n",
       "      <td>0.336957</td>\n",
       "    </tr>\n",
       "  </tbody>\n",
       "</table>\n",
       "</div>"
      ],
      "text/plain": [
       "  Embarked  Survived\n",
       "0        C  0.553571\n",
       "1        Q  0.389610\n",
       "2        S  0.336957"
      ]
     },
     "execution_count": 6,
     "metadata": {},
     "output_type": "execute_result"
    }
   ],
   "source": [
    "train_data[['Embarked', 'Survived']].groupby(['Embarked'], as_index=False).mean()"
   ]
  },
  {
   "cell_type": "code",
   "execution_count": 7,
   "id": "052070b9",
   "metadata": {
    "execution": {
     "iopub.execute_input": "2021-07-31T02:38:45.853604Z",
     "iopub.status.busy": "2021-07-31T02:38:45.847519Z",
     "iopub.status.idle": "2021-07-31T02:38:45.857547Z",
     "shell.execute_reply": "2021-07-31T02:38:45.857941Z",
     "shell.execute_reply.started": "2021-07-29T13:41:15.06444Z"
    },
    "papermill": {
     "duration": 0.058684,
     "end_time": "2021-07-31T02:38:45.858124",
     "exception": false,
     "start_time": "2021-07-31T02:38:45.799440",
     "status": "completed"
    },
    "tags": []
   },
   "outputs": [
    {
     "data": {
      "text/html": [
       "<div>\n",
       "<style scoped>\n",
       "    .dataframe tbody tr th:only-of-type {\n",
       "        vertical-align: middle;\n",
       "    }\n",
       "\n",
       "    .dataframe tbody tr th {\n",
       "        vertical-align: top;\n",
       "    }\n",
       "\n",
       "    .dataframe thead th {\n",
       "        text-align: right;\n",
       "    }\n",
       "</style>\n",
       "<table border=\"1\" class=\"dataframe\">\n",
       "  <thead>\n",
       "    <tr style=\"text-align: right;\">\n",
       "      <th></th>\n",
       "      <th>SibSp</th>\n",
       "      <th>Survived</th>\n",
       "    </tr>\n",
       "  </thead>\n",
       "  <tbody>\n",
       "    <tr>\n",
       "      <th>0</th>\n",
       "      <td>0</td>\n",
       "      <td>0.345395</td>\n",
       "    </tr>\n",
       "    <tr>\n",
       "      <th>1</th>\n",
       "      <td>1</td>\n",
       "      <td>0.535885</td>\n",
       "    </tr>\n",
       "    <tr>\n",
       "      <th>2</th>\n",
       "      <td>2</td>\n",
       "      <td>0.464286</td>\n",
       "    </tr>\n",
       "    <tr>\n",
       "      <th>3</th>\n",
       "      <td>3</td>\n",
       "      <td>0.250000</td>\n",
       "    </tr>\n",
       "    <tr>\n",
       "      <th>4</th>\n",
       "      <td>4</td>\n",
       "      <td>0.166667</td>\n",
       "    </tr>\n",
       "    <tr>\n",
       "      <th>5</th>\n",
       "      <td>5</td>\n",
       "      <td>0.000000</td>\n",
       "    </tr>\n",
       "    <tr>\n",
       "      <th>6</th>\n",
       "      <td>8</td>\n",
       "      <td>0.000000</td>\n",
       "    </tr>\n",
       "  </tbody>\n",
       "</table>\n",
       "</div>"
      ],
      "text/plain": [
       "   SibSp  Survived\n",
       "0      0  0.345395\n",
       "1      1  0.535885\n",
       "2      2  0.464286\n",
       "3      3  0.250000\n",
       "4      4  0.166667\n",
       "5      5  0.000000\n",
       "6      8  0.000000"
      ]
     },
     "execution_count": 7,
     "metadata": {},
     "output_type": "execute_result"
    }
   ],
   "source": [
    "train_data[['SibSp', 'Survived']].groupby(['SibSp'], as_index=False).mean()"
   ]
  },
  {
   "cell_type": "code",
   "execution_count": 8,
   "id": "0caed00c",
   "metadata": {
    "execution": {
     "iopub.execute_input": "2021-07-31T02:38:45.943756Z",
     "iopub.status.busy": "2021-07-31T02:38:45.942866Z",
     "iopub.status.idle": "2021-07-31T02:38:45.947243Z",
     "shell.execute_reply": "2021-07-31T02:38:45.946639Z",
     "shell.execute_reply.started": "2021-07-29T13:41:15.092314Z"
    },
    "papermill": {
     "duration": 0.052796,
     "end_time": "2021-07-31T02:38:45.947381",
     "exception": false,
     "start_time": "2021-07-31T02:38:45.894585",
     "status": "completed"
    },
    "tags": []
   },
   "outputs": [
    {
     "data": {
      "text/html": [
       "<div>\n",
       "<style scoped>\n",
       "    .dataframe tbody tr th:only-of-type {\n",
       "        vertical-align: middle;\n",
       "    }\n",
       "\n",
       "    .dataframe tbody tr th {\n",
       "        vertical-align: top;\n",
       "    }\n",
       "\n",
       "    .dataframe thead th {\n",
       "        text-align: right;\n",
       "    }\n",
       "</style>\n",
       "<table border=\"1\" class=\"dataframe\">\n",
       "  <thead>\n",
       "    <tr style=\"text-align: right;\">\n",
       "      <th></th>\n",
       "      <th>Parch</th>\n",
       "      <th>Survived</th>\n",
       "    </tr>\n",
       "  </thead>\n",
       "  <tbody>\n",
       "    <tr>\n",
       "      <th>0</th>\n",
       "      <td>0</td>\n",
       "      <td>0.343658</td>\n",
       "    </tr>\n",
       "    <tr>\n",
       "      <th>1</th>\n",
       "      <td>1</td>\n",
       "      <td>0.550847</td>\n",
       "    </tr>\n",
       "    <tr>\n",
       "      <th>2</th>\n",
       "      <td>2</td>\n",
       "      <td>0.500000</td>\n",
       "    </tr>\n",
       "    <tr>\n",
       "      <th>3</th>\n",
       "      <td>3</td>\n",
       "      <td>0.600000</td>\n",
       "    </tr>\n",
       "    <tr>\n",
       "      <th>4</th>\n",
       "      <td>4</td>\n",
       "      <td>0.000000</td>\n",
       "    </tr>\n",
       "    <tr>\n",
       "      <th>5</th>\n",
       "      <td>5</td>\n",
       "      <td>0.200000</td>\n",
       "    </tr>\n",
       "    <tr>\n",
       "      <th>6</th>\n",
       "      <td>6</td>\n",
       "      <td>0.000000</td>\n",
       "    </tr>\n",
       "  </tbody>\n",
       "</table>\n",
       "</div>"
      ],
      "text/plain": [
       "   Parch  Survived\n",
       "0      0  0.343658\n",
       "1      1  0.550847\n",
       "2      2  0.500000\n",
       "3      3  0.600000\n",
       "4      4  0.000000\n",
       "5      5  0.200000\n",
       "6      6  0.000000"
      ]
     },
     "execution_count": 8,
     "metadata": {},
     "output_type": "execute_result"
    }
   ],
   "source": [
    "train_data[['Parch', 'Survived']].groupby(['Parch'], as_index=False).mean()"
   ]
  },
  {
   "cell_type": "markdown",
   "id": "b6b54467",
   "metadata": {
    "papermill": {
     "duration": 0.03611,
     "end_time": "2021-07-31T02:38:46.019608",
     "exception": false,
     "start_time": "2021-07-31T02:38:45.983498",
     "status": "completed"
    },
    "tags": []
   },
   "source": [
    "# Using Seaborn for visualization"
   ]
  },
  {
   "cell_type": "code",
   "execution_count": 9,
   "id": "4513f5f6",
   "metadata": {
    "execution": {
     "iopub.execute_input": "2021-07-31T02:38:46.097223Z",
     "iopub.status.busy": "2021-07-31T02:38:46.096653Z",
     "iopub.status.idle": "2021-07-31T02:38:47.242677Z",
     "shell.execute_reply": "2021-07-31T02:38:47.243090Z",
     "shell.execute_reply.started": "2021-07-29T13:41:15.121291Z"
    },
    "papermill": {
     "duration": 1.186777,
     "end_time": "2021-07-31T02:38:47.243264",
     "exception": false,
     "start_time": "2021-07-31T02:38:46.056487",
     "status": "completed"
    },
    "tags": []
   },
   "outputs": [
    {
     "data": {
      "text/plain": [
       "<AxesSubplot:xlabel='Pclass', ylabel='Survived'>"
      ]
     },
     "execution_count": 9,
     "metadata": {},
     "output_type": "execute_result"
    },
    {
     "data": {
      "image/png": "[encoded data removed]",
      "text/plain": [
       "<Figure size 432x288 with 1 Axes>"
      ]
     },
     "metadata": {},
     "output_type": "display_data"
    }
   ],
   "source": [
    "import seaborn as sns\n",
    "sns.set()\n",
    "sns.barplot(x='Pclass', y='Survived', data=train_data)"
   ]
  },
  {
   "cell_type": "code",
   "execution_count": 10,
   "id": "a2d23df4",
   "metadata": {
    "execution": {
     "iopub.execute_input": "2021-07-31T02:38:47.327254Z",
     "iopub.status.busy": "2021-07-31T02:38:47.324680Z",
     "iopub.status.idle": "2021-07-31T02:38:47.517926Z",
     "shell.execute_reply": "2021-07-31T02:38:47.517403Z",
     "shell.execute_reply.started": "2021-07-29T13:41:15.776421Z"
    },
    "papermill": {
     "duration": 0.237834,
     "end_time": "2021-07-31T02:38:47.518082",
     "exception": false,
     "start_time": "2021-07-31T02:38:47.280248",
     "status": "completed"
    },
    "tags": []
   },
   "outputs": [
    {
     "data": {
      "text/plain": [
       "<AxesSubplot:xlabel='Sex', ylabel='Survived'>"
      ]
     },
     "execution_count": 10,
     "metadata": {},
     "output_type": "execute_result"
    },
    {
     "data": {
      "image/png": "[encoded data removed]",
      "text/plain": [
       "<Figure size 432x288 with 1 Axes>"
      ]
     },
     "metadata": {},
     "output_type": "display_data"
    }
   ],
   "source": [
    "sns.barplot(x='Sex', y='Survived', data=train_data)"
   ]
  },
  {
   "cell_type": "markdown",
   "id": "2e2981cd",
   "metadata": {
    "papermill": {
     "duration": 0.037797,
     "end_time": "2021-07-31T02:38:47.593715",
     "exception": false,
     "start_time": "2021-07-31T02:38:47.555918",
     "status": "completed"
    },
    "tags": []
   },
   "source": [
    "# Concatinating train and test data "
   ]
  },
  {
   "cell_type": "code",
   "execution_count": 11,
   "id": "7e7ea7ee",
   "metadata": {
    "execution": {
     "iopub.execute_input": "2021-07-31T02:38:47.681438Z",
     "iopub.status.busy": "2021-07-31T02:38:47.679561Z",
     "iopub.status.idle": "2021-07-31T02:38:47.684678Z",
     "shell.execute_reply": "2021-07-31T02:38:47.685122Z",
     "shell.execute_reply.started": "2021-07-29T13:41:16.024194Z"
    },
    "papermill": {
     "duration": 0.052907,
     "end_time": "2021-07-31T02:38:47.685300",
     "exception": false,
     "start_time": "2021-07-31T02:38:47.632393",
     "status": "completed"
    },
    "tags": []
   },
   "outputs": [],
   "source": [
    "train_test_data=pd.concat([train_data, test_data], sort=True).reset_index(drop=True)"
   ]
  },
  {
   "cell_type": "markdown",
   "id": "0e6cfa81",
   "metadata": {
    "papermill": {
     "duration": 0.042656,
     "end_time": "2021-07-31T02:38:47.765634",
     "exception": false,
     "start_time": "2021-07-31T02:38:47.722978",
     "status": "completed"
    },
    "tags": []
   },
   "source": [
    "**Extracting different Titles in the sex**"
   ]
  },
  {
   "cell_type": "code",
   "execution_count": 12,
   "id": "ee5ac5ec",
   "metadata": {
    "execution": {
     "iopub.execute_input": "2021-07-31T02:38:47.874804Z",
     "iopub.status.busy": "2021-07-31T02:38:47.873138Z",
     "iopub.status.idle": "2021-07-31T02:38:47.916770Z",
     "shell.execute_reply": "2021-07-31T02:38:47.916161Z",
     "shell.execute_reply.started": "2021-07-29T13:41:16.03694Z"
    },
    "papermill": {
     "duration": 0.100137,
     "end_time": "2021-07-31T02:38:47.916929",
     "exception": false,
     "start_time": "2021-07-31T02:38:47.816792",
     "status": "completed"
    },
    "tags": []
   },
   "outputs": [
    {
     "data": {
      "text/html": [
       "<div>\n",
       "<style scoped>\n",
       "    .dataframe tbody tr th:only-of-type {\n",
       "        vertical-align: middle;\n",
       "    }\n",
       "\n",
       "    .dataframe tbody tr th {\n",
       "        vertical-align: top;\n",
       "    }\n",
       "\n",
       "    .dataframe thead th {\n",
       "        text-align: right;\n",
       "    }\n",
       "</style>\n",
       "<table border=\"1\" class=\"dataframe\">\n",
       "  <thead>\n",
       "    <tr style=\"text-align: right;\">\n",
       "      <th>Sex</th>\n",
       "      <th>female</th>\n",
       "      <th>male</th>\n",
       "    </tr>\n",
       "    <tr>\n",
       "      <th>Title</th>\n",
       "      <th></th>\n",
       "      <th></th>\n",
       "    </tr>\n",
       "  </thead>\n",
       "  <tbody>\n",
       "    <tr>\n",
       "      <th>Capt</th>\n",
       "      <td>0</td>\n",
       "      <td>1</td>\n",
       "    </tr>\n",
       "    <tr>\n",
       "      <th>Col</th>\n",
       "      <td>0</td>\n",
       "      <td>4</td>\n",
       "    </tr>\n",
       "    <tr>\n",
       "      <th>Countess</th>\n",
       "      <td>1</td>\n",
       "      <td>0</td>\n",
       "    </tr>\n",
       "    <tr>\n",
       "      <th>Don</th>\n",
       "      <td>0</td>\n",
       "      <td>1</td>\n",
       "    </tr>\n",
       "    <tr>\n",
       "      <th>Dona</th>\n",
       "      <td>1</td>\n",
       "      <td>0</td>\n",
       "    </tr>\n",
       "    <tr>\n",
       "      <th>Dr</th>\n",
       "      <td>1</td>\n",
       "      <td>7</td>\n",
       "    </tr>\n",
       "    <tr>\n",
       "      <th>Jonkheer</th>\n",
       "      <td>0</td>\n",
       "      <td>1</td>\n",
       "    </tr>\n",
       "    <tr>\n",
       "      <th>Lady</th>\n",
       "      <td>1</td>\n",
       "      <td>0</td>\n",
       "    </tr>\n",
       "    <tr>\n",
       "      <th>Major</th>\n",
       "      <td>0</td>\n",
       "      <td>2</td>\n",
       "    </tr>\n",
       "    <tr>\n",
       "      <th>Master</th>\n",
       "      <td>0</td>\n",
       "      <td>61</td>\n",
       "    </tr>\n",
       "    <tr>\n",
       "      <th>Miss</th>\n",
       "      <td>260</td>\n",
       "      <td>0</td>\n",
       "    </tr>\n",
       "    <tr>\n",
       "      <th>Mlle</th>\n",
       "      <td>2</td>\n",
       "      <td>0</td>\n",
       "    </tr>\n",
       "    <tr>\n",
       "      <th>Mme</th>\n",
       "      <td>1</td>\n",
       "      <td>0</td>\n",
       "    </tr>\n",
       "    <tr>\n",
       "      <th>Mr</th>\n",
       "      <td>0</td>\n",
       "      <td>757</td>\n",
       "    </tr>\n",
       "    <tr>\n",
       "      <th>Mrs</th>\n",
       "      <td>197</td>\n",
       "      <td>0</td>\n",
       "    </tr>\n",
       "    <tr>\n",
       "      <th>Ms</th>\n",
       "      <td>2</td>\n",
       "      <td>0</td>\n",
       "    </tr>\n",
       "    <tr>\n",
       "      <th>Rev</th>\n",
       "      <td>0</td>\n",
       "      <td>8</td>\n",
       "    </tr>\n",
       "    <tr>\n",
       "      <th>Sir</th>\n",
       "      <td>0</td>\n",
       "      <td>1</td>\n",
       "    </tr>\n",
       "  </tbody>\n",
       "</table>\n",
       "</div>"
      ],
      "text/plain": [
       "Sex       female  male\n",
       "Title                 \n",
       "Capt           0     1\n",
       "Col            0     4\n",
       "Countess       1     0\n",
       "Don            0     1\n",
       "Dona           1     0\n",
       "Dr             1     7\n",
       "Jonkheer       0     1\n",
       "Lady           1     0\n",
       "Major          0     2\n",
       "Master         0    61\n",
       "Miss         260     0\n",
       "Mlle           2     0\n",
       "Mme            1     0\n",
       "Mr             0   757\n",
       "Mrs          197     0\n",
       "Ms             2     0\n",
       "Rev            0     8\n",
       "Sir            0     1"
      ]
     },
     "execution_count": 12,
     "metadata": {},
     "output_type": "execute_result"
    }
   ],
   "source": [
    "train_test_data['Title'] = train_test_data.Name.str.extract('([A-Za-z]+)\\.')\n",
    "pd.crosstab(train_test_data['Title'], train_test_data['Sex'])"
   ]
  },
  {
   "cell_type": "code",
   "execution_count": 13,
   "id": "ba860a85",
   "metadata": {
    "execution": {
     "iopub.execute_input": "2021-07-31T02:38:47.999998Z",
     "iopub.status.busy": "2021-07-31T02:38:47.999128Z",
     "iopub.status.idle": "2021-07-31T02:38:48.014924Z",
     "shell.execute_reply": "2021-07-31T02:38:48.015422Z",
     "shell.execute_reply.started": "2021-07-29T13:41:16.082899Z"
    },
    "papermill": {
     "duration": 0.058664,
     "end_time": "2021-07-31T02:38:48.015590",
     "exception": false,
     "start_time": "2021-07-31T02:38:47.956926",
     "status": "completed"
    },
    "tags": []
   },
   "outputs": [
    {
     "data": {
      "text/html": [
       "<div>\n",
       "<style scoped>\n",
       "    .dataframe tbody tr th:only-of-type {\n",
       "        vertical-align: middle;\n",
       "    }\n",
       "\n",
       "    .dataframe tbody tr th {\n",
       "        vertical-align: top;\n",
       "    }\n",
       "\n",
       "    .dataframe thead th {\n",
       "        text-align: right;\n",
       "    }\n",
       "</style>\n",
       "<table border=\"1\" class=\"dataframe\">\n",
       "  <thead>\n",
       "    <tr style=\"text-align: right;\">\n",
       "      <th></th>\n",
       "      <th>Title</th>\n",
       "      <th>Survived</th>\n",
       "    </tr>\n",
       "  </thead>\n",
       "  <tbody>\n",
       "    <tr>\n",
       "      <th>0</th>\n",
       "      <td>Capt</td>\n",
       "      <td>0.000000</td>\n",
       "    </tr>\n",
       "    <tr>\n",
       "      <th>1</th>\n",
       "      <td>Col</td>\n",
       "      <td>0.500000</td>\n",
       "    </tr>\n",
       "    <tr>\n",
       "      <th>2</th>\n",
       "      <td>Countess</td>\n",
       "      <td>1.000000</td>\n",
       "    </tr>\n",
       "    <tr>\n",
       "      <th>3</th>\n",
       "      <td>Don</td>\n",
       "      <td>0.000000</td>\n",
       "    </tr>\n",
       "    <tr>\n",
       "      <th>4</th>\n",
       "      <td>Dona</td>\n",
       "      <td>NaN</td>\n",
       "    </tr>\n",
       "    <tr>\n",
       "      <th>5</th>\n",
       "      <td>Dr</td>\n",
       "      <td>0.428571</td>\n",
       "    </tr>\n",
       "    <tr>\n",
       "      <th>6</th>\n",
       "      <td>Jonkheer</td>\n",
       "      <td>0.000000</td>\n",
       "    </tr>\n",
       "    <tr>\n",
       "      <th>7</th>\n",
       "      <td>Lady</td>\n",
       "      <td>1.000000</td>\n",
       "    </tr>\n",
       "    <tr>\n",
       "      <th>8</th>\n",
       "      <td>Major</td>\n",
       "      <td>0.500000</td>\n",
       "    </tr>\n",
       "    <tr>\n",
       "      <th>9</th>\n",
       "      <td>Master</td>\n",
       "      <td>0.575000</td>\n",
       "    </tr>\n",
       "    <tr>\n",
       "      <th>10</th>\n",
       "      <td>Miss</td>\n",
       "      <td>0.697802</td>\n",
       "    </tr>\n",
       "    <tr>\n",
       "      <th>11</th>\n",
       "      <td>Mlle</td>\n",
       "      <td>1.000000</td>\n",
       "    </tr>\n",
       "    <tr>\n",
       "      <th>12</th>\n",
       "      <td>Mme</td>\n",
       "      <td>1.000000</td>\n",
       "    </tr>\n",
       "    <tr>\n",
       "      <th>13</th>\n",
       "      <td>Mr</td>\n",
       "      <td>0.156673</td>\n",
       "    </tr>\n",
       "    <tr>\n",
       "      <th>14</th>\n",
       "      <td>Mrs</td>\n",
       "      <td>0.792000</td>\n",
       "    </tr>\n",
       "    <tr>\n",
       "      <th>15</th>\n",
       "      <td>Ms</td>\n",
       "      <td>1.000000</td>\n",
       "    </tr>\n",
       "    <tr>\n",
       "      <th>16</th>\n",
       "      <td>Rev</td>\n",
       "      <td>0.000000</td>\n",
       "    </tr>\n",
       "    <tr>\n",
       "      <th>17</th>\n",
       "      <td>Sir</td>\n",
       "      <td>1.000000</td>\n",
       "    </tr>\n",
       "  </tbody>\n",
       "</table>\n",
       "</div>"
      ],
      "text/plain": [
       "       Title  Survived\n",
       "0       Capt  0.000000\n",
       "1        Col  0.500000\n",
       "2   Countess  1.000000\n",
       "3        Don  0.000000\n",
       "4       Dona       NaN\n",
       "5         Dr  0.428571\n",
       "6   Jonkheer  0.000000\n",
       "7       Lady  1.000000\n",
       "8      Major  0.500000\n",
       "9     Master  0.575000\n",
       "10      Miss  0.697802\n",
       "11      Mlle  1.000000\n",
       "12       Mme  1.000000\n",
       "13        Mr  0.156673\n",
       "14       Mrs  0.792000\n",
       "15        Ms  1.000000\n",
       "16       Rev  0.000000\n",
       "17       Sir  1.000000"
      ]
     },
     "execution_count": 13,
     "metadata": {},
     "output_type": "execute_result"
    }
   ],
   "source": [
    "train_test_data[['Title', 'Survived']].groupby(['Title'], as_index=False).mean()"
   ]
  },
  {
   "cell_type": "markdown",
   "id": "99e1b9ce",
   "metadata": {
    "papermill": {
     "duration": 0.038638,
     "end_time": "2021-07-31T02:38:48.092817",
     "exception": false,
     "start_time": "2021-07-31T02:38:48.054179",
     "status": "completed"
    },
    "tags": []
   },
   "source": [
    "**Replacing titles with 'other' if not 'Miss' or 'Mrs' or 'Master**"
   ]
  },
  {
   "cell_type": "code",
   "execution_count": 14,
   "id": "080928fe",
   "metadata": {
    "execution": {
     "iopub.execute_input": "2021-07-31T02:38:48.177560Z",
     "iopub.status.busy": "2021-07-31T02:38:48.176639Z",
     "iopub.status.idle": "2021-07-31T02:38:48.180051Z",
     "shell.execute_reply": "2021-07-31T02:38:48.180484Z",
     "shell.execute_reply.started": "2021-07-29T13:41:16.10193Z"
    },
    "papermill": {
     "duration": 0.049,
     "end_time": "2021-07-31T02:38:48.180650",
     "exception": false,
     "start_time": "2021-07-31T02:38:48.131650",
     "status": "completed"
    },
    "tags": []
   },
   "outputs": [],
   "source": [
    "train_test_data['Title'] = train_test_data['Title'].replace(['Lady', 'Countess','Capt', 'Col', 'Don', 'Dr', 'Major', 'Rev', 'Sir', 'Jonkheer', 'Dona'], 'Other')"
   ]
  },
  {
   "cell_type": "code",
   "execution_count": 15,
   "id": "6f8a26d8",
   "metadata": {
    "execution": {
     "iopub.execute_input": "2021-07-31T02:38:48.264357Z",
     "iopub.status.busy": "2021-07-31T02:38:48.262729Z",
     "iopub.status.idle": "2021-07-31T02:38:48.268080Z",
     "shell.execute_reply": "2021-07-31T02:38:48.268521Z",
     "shell.execute_reply.started": "2021-07-29T13:41:16.112571Z"
    },
    "papermill": {
     "duration": 0.049311,
     "end_time": "2021-07-31T02:38:48.268680",
     "exception": false,
     "start_time": "2021-07-31T02:38:48.219369",
     "status": "completed"
    },
    "tags": []
   },
   "outputs": [],
   "source": [
    "train_test_data['Title'] = train_test_data['Title'].replace('Mlle', 'Miss')\n",
    "train_test_data['Title'] = train_test_data['Title'].replace('Ms', 'Miss')\n",
    "train_test_data['Title'] = train_test_data['Title'].replace('Mme', 'Mrs')"
   ]
  },
  {
   "cell_type": "code",
   "execution_count": 16,
   "id": "fc631117",
   "metadata": {
    "execution": {
     "iopub.execute_input": "2021-07-31T02:38:48.352922Z",
     "iopub.status.busy": "2021-07-31T02:38:48.352339Z",
     "iopub.status.idle": "2021-07-31T02:38:48.354048Z",
     "shell.execute_reply": "2021-07-31T02:38:48.354586Z",
     "shell.execute_reply.started": "2021-07-29T13:41:16.129245Z"
    },
    "papermill": {
     "duration": 0.047137,
     "end_time": "2021-07-31T02:38:48.354749",
     "exception": false,
     "start_time": "2021-07-31T02:38:48.307612",
     "status": "completed"
    },
    "tags": []
   },
   "outputs": [],
   "source": [
    "train_test_data['Title'] = train_test_data['Title'].map({'Master': 0, 'Miss': 1, 'Mr': 2, 'Mrs': 3, 'Other': 4}).astype(int)"
   ]
  },
  {
   "cell_type": "code",
   "execution_count": 17,
   "id": "5ceb18bc",
   "metadata": {
    "execution": {
     "iopub.execute_input": "2021-07-31T02:38:48.434760Z",
     "iopub.status.busy": "2021-07-31T02:38:48.434179Z",
     "iopub.status.idle": "2021-07-31T02:38:48.450446Z",
     "shell.execute_reply": "2021-07-31T02:38:48.449913Z",
     "shell.execute_reply.started": "2021-07-29T13:41:16.151262Z"
    },
    "papermill": {
     "duration": 0.057246,
     "end_time": "2021-07-31T02:38:48.450585",
     "exception": false,
     "start_time": "2021-07-31T02:38:48.393339",
     "status": "completed"
    },
    "tags": []
   },
   "outputs": [
    {
     "data": {
      "text/html": [
       "<div>\n",
       "<style scoped>\n",
       "    .dataframe tbody tr th:only-of-type {\n",
       "        vertical-align: middle;\n",
       "    }\n",
       "\n",
       "    .dataframe tbody tr th {\n",
       "        vertical-align: top;\n",
       "    }\n",
       "\n",
       "    .dataframe thead th {\n",
       "        text-align: right;\n",
       "    }\n",
       "</style>\n",
       "<table border=\"1\" class=\"dataframe\">\n",
       "  <thead>\n",
       "    <tr style=\"text-align: right;\">\n",
       "      <th></th>\n",
       "      <th>Age</th>\n",
       "      <th>Cabin</th>\n",
       "      <th>Embarked</th>\n",
       "      <th>Fare</th>\n",
       "      <th>Name</th>\n",
       "      <th>Parch</th>\n",
       "      <th>PassengerId</th>\n",
       "      <th>Pclass</th>\n",
       "      <th>Sex</th>\n",
       "      <th>SibSp</th>\n",
       "      <th>Survived</th>\n",
       "      <th>Ticket</th>\n",
       "      <th>Title</th>\n",
       "    </tr>\n",
       "  </thead>\n",
       "  <tbody>\n",
       "    <tr>\n",
       "      <th>0</th>\n",
       "      <td>22.0</td>\n",
       "      <td>NaN</td>\n",
       "      <td>S</td>\n",
       "      <td>7.2500</td>\n",
       "      <td>Braund, Mr. Owen Harris</td>\n",
       "      <td>0</td>\n",
       "      <td>1</td>\n",
       "      <td>3</td>\n",
       "      <td>male</td>\n",
       "      <td>1</td>\n",
       "      <td>0.0</td>\n",
       "      <td>A/5 21171</td>\n",
       "      <td>2</td>\n",
       "    </tr>\n",
       "    <tr>\n",
       "      <th>1</th>\n",
       "      <td>38.0</td>\n",
       "      <td>C85</td>\n",
       "      <td>C</td>\n",
       "      <td>71.2833</td>\n",
       "      <td>Cumings, Mrs. John Bradley (Florence Briggs Th...</td>\n",
       "      <td>0</td>\n",
       "      <td>2</td>\n",
       "      <td>1</td>\n",
       "      <td>female</td>\n",
       "      <td>1</td>\n",
       "      <td>1.0</td>\n",
       "      <td>PC 17599</td>\n",
       "      <td>3</td>\n",
       "    </tr>\n",
       "    <tr>\n",
       "      <th>2</th>\n",
       "      <td>26.0</td>\n",
       "      <td>NaN</td>\n",
       "      <td>S</td>\n",
       "      <td>7.9250</td>\n",
       "      <td>Heikkinen, Miss. Laina</td>\n",
       "      <td>0</td>\n",
       "      <td>3</td>\n",
       "      <td>3</td>\n",
       "      <td>female</td>\n",
       "      <td>0</td>\n",
       "      <td>1.0</td>\n",
       "      <td>STON/O2. 3101282</td>\n",
       "      <td>1</td>\n",
       "    </tr>\n",
       "    <tr>\n",
       "      <th>3</th>\n",
       "      <td>35.0</td>\n",
       "      <td>C123</td>\n",
       "      <td>S</td>\n",
       "      <td>53.1000</td>\n",
       "      <td>Futrelle, Mrs. Jacques Heath (Lily May Peel)</td>\n",
       "      <td>0</td>\n",
       "      <td>4</td>\n",
       "      <td>1</td>\n",
       "      <td>female</td>\n",
       "      <td>1</td>\n",
       "      <td>1.0</td>\n",
       "      <td>113803</td>\n",
       "      <td>3</td>\n",
       "    </tr>\n",
       "    <tr>\n",
       "      <th>4</th>\n",
       "      <td>35.0</td>\n",
       "      <td>NaN</td>\n",
       "      <td>S</td>\n",
       "      <td>8.0500</td>\n",
       "      <td>Allen, Mr. William Henry</td>\n",
       "      <td>0</td>\n",
       "      <td>5</td>\n",
       "      <td>3</td>\n",
       "      <td>male</td>\n",
       "      <td>0</td>\n",
       "      <td>0.0</td>\n",
       "      <td>373450</td>\n",
       "      <td>2</td>\n",
       "    </tr>\n",
       "  </tbody>\n",
       "</table>\n",
       "</div>"
      ],
      "text/plain": [
       "    Age Cabin Embarked     Fare  \\\n",
       "0  22.0   NaN        S   7.2500   \n",
       "1  38.0   C85        C  71.2833   \n",
       "2  26.0   NaN        S   7.9250   \n",
       "3  35.0  C123        S  53.1000   \n",
       "4  35.0   NaN        S   8.0500   \n",
       "\n",
       "                                                Name  Parch  PassengerId  \\\n",
       "0                            Braund, Mr. Owen Harris      0            1   \n",
       "1  Cumings, Mrs. John Bradley (Florence Briggs Th...      0            2   \n",
       "2                             Heikkinen, Miss. Laina      0            3   \n",
       "3       Futrelle, Mrs. Jacques Heath (Lily May Peel)      0            4   \n",
       "4                           Allen, Mr. William Henry      0            5   \n",
       "\n",
       "   Pclass     Sex  SibSp  Survived            Ticket  Title  \n",
       "0       3    male      1       0.0         A/5 21171      2  \n",
       "1       1  female      1       1.0          PC 17599      3  \n",
       "2       3  female      0       1.0  STON/O2. 3101282      1  \n",
       "3       1  female      1       1.0            113803      3  \n",
       "4       3    male      0       0.0            373450      2  "
      ]
     },
     "execution_count": 17,
     "metadata": {},
     "output_type": "execute_result"
    }
   ],
   "source": [
    "train_test_data.head()"
   ]
  },
  {
   "cell_type": "code",
   "execution_count": 18,
   "id": "247a554d",
   "metadata": {
    "execution": {
     "iopub.execute_input": "2021-07-31T02:38:48.535878Z",
     "iopub.status.busy": "2021-07-31T02:38:48.534953Z",
     "iopub.status.idle": "2021-07-31T02:38:48.537616Z",
     "shell.execute_reply": "2021-07-31T02:38:48.537180Z",
     "shell.execute_reply.started": "2021-07-29T13:41:16.184097Z"
    },
    "papermill": {
     "duration": 0.048047,
     "end_time": "2021-07-31T02:38:48.537749",
     "exception": false,
     "start_time": "2021-07-31T02:38:48.489702",
     "status": "completed"
    },
    "tags": []
   },
   "outputs": [],
   "source": [
    "train_test_data['Sex'] = train_test_data['Sex'].map({'female': 1, 'male': 0}).astype(int)"
   ]
  },
  {
   "cell_type": "code",
   "execution_count": 19,
   "id": "5bb742a4",
   "metadata": {
    "execution": {
     "iopub.execute_input": "2021-07-31T02:38:48.630838Z",
     "iopub.status.busy": "2021-07-31T02:38:48.624572Z",
     "iopub.status.idle": "2021-07-31T02:38:48.635590Z",
     "shell.execute_reply": "2021-07-31T02:38:48.635017Z",
     "shell.execute_reply.started": "2021-07-29T13:41:16.201048Z"
    },
    "papermill": {
     "duration": 0.059213,
     "end_time": "2021-07-31T02:38:48.635721",
     "exception": false,
     "start_time": "2021-07-31T02:38:48.576508",
     "status": "completed"
    },
    "tags": []
   },
   "outputs": [
    {
     "data": {
      "text/html": [
       "<div>\n",
       "<style scoped>\n",
       "    .dataframe tbody tr th:only-of-type {\n",
       "        vertical-align: middle;\n",
       "    }\n",
       "\n",
       "    .dataframe tbody tr th {\n",
       "        vertical-align: top;\n",
       "    }\n",
       "\n",
       "    .dataframe thead th {\n",
       "        text-align: right;\n",
       "    }\n",
       "</style>\n",
       "<table border=\"1\" class=\"dataframe\">\n",
       "  <thead>\n",
       "    <tr style=\"text-align: right;\">\n",
       "      <th></th>\n",
       "      <th>Age</th>\n",
       "      <th>Cabin</th>\n",
       "      <th>Embarked</th>\n",
       "      <th>Fare</th>\n",
       "      <th>Name</th>\n",
       "      <th>Parch</th>\n",
       "      <th>PassengerId</th>\n",
       "      <th>Pclass</th>\n",
       "      <th>Sex</th>\n",
       "      <th>SibSp</th>\n",
       "      <th>Survived</th>\n",
       "      <th>Ticket</th>\n",
       "      <th>Title</th>\n",
       "    </tr>\n",
       "  </thead>\n",
       "  <tbody>\n",
       "    <tr>\n",
       "      <th>0</th>\n",
       "      <td>22.0</td>\n",
       "      <td>NaN</td>\n",
       "      <td>S</td>\n",
       "      <td>7.2500</td>\n",
       "      <td>Braund, Mr. Owen Harris</td>\n",
       "      <td>0</td>\n",
       "      <td>1</td>\n",
       "      <td>3</td>\n",
       "      <td>0</td>\n",
       "      <td>1</td>\n",
       "      <td>0.0</td>\n",
       "      <td>A/5 21171</td>\n",
       "      <td>2</td>\n",
       "    </tr>\n",
       "    <tr>\n",
       "      <th>1</th>\n",
       "      <td>38.0</td>\n",
       "      <td>C85</td>\n",
       "      <td>C</td>\n",
       "      <td>71.2833</td>\n",
       "      <td>Cumings, Mrs. John Bradley (Florence Briggs Th...</td>\n",
       "      <td>0</td>\n",
       "      <td>2</td>\n",
       "      <td>1</td>\n",
       "      <td>1</td>\n",
       "      <td>1</td>\n",
       "      <td>1.0</td>\n",
       "      <td>PC 17599</td>\n",
       "      <td>3</td>\n",
       "    </tr>\n",
       "    <tr>\n",
       "      <th>2</th>\n",
       "      <td>26.0</td>\n",
       "      <td>NaN</td>\n",
       "      <td>S</td>\n",
       "      <td>7.9250</td>\n",
       "      <td>Heikkinen, Miss. Laina</td>\n",
       "      <td>0</td>\n",
       "      <td>3</td>\n",
       "      <td>3</td>\n",
       "      <td>1</td>\n",
       "      <td>0</td>\n",
       "      <td>1.0</td>\n",
       "      <td>STON/O2. 3101282</td>\n",
       "      <td>1</td>\n",
       "    </tr>\n",
       "    <tr>\n",
       "      <th>3</th>\n",
       "      <td>35.0</td>\n",
       "      <td>C123</td>\n",
       "      <td>S</td>\n",
       "      <td>53.1000</td>\n",
       "      <td>Futrelle, Mrs. Jacques Heath (Lily May Peel)</td>\n",
       "      <td>0</td>\n",
       "      <td>4</td>\n",
       "      <td>1</td>\n",
       "      <td>1</td>\n",
       "      <td>1</td>\n",
       "      <td>1.0</td>\n",
       "      <td>113803</td>\n",
       "      <td>3</td>\n",
       "    </tr>\n",
       "    <tr>\n",
       "      <th>4</th>\n",
       "      <td>35.0</td>\n",
       "      <td>NaN</td>\n",
       "      <td>S</td>\n",
       "      <td>8.0500</td>\n",
       "      <td>Allen, Mr. William Henry</td>\n",
       "      <td>0</td>\n",
       "      <td>5</td>\n",
       "      <td>3</td>\n",
       "      <td>0</td>\n",
       "      <td>0</td>\n",
       "      <td>0.0</td>\n",
       "      <td>373450</td>\n",
       "      <td>2</td>\n",
       "    </tr>\n",
       "  </tbody>\n",
       "</table>\n",
       "</div>"
      ],
      "text/plain": [
       "    Age Cabin Embarked     Fare  \\\n",
       "0  22.0   NaN        S   7.2500   \n",
       "1  38.0   C85        C  71.2833   \n",
       "2  26.0   NaN        S   7.9250   \n",
       "3  35.0  C123        S  53.1000   \n",
       "4  35.0   NaN        S   8.0500   \n",
       "\n",
       "                                                Name  Parch  PassengerId  \\\n",
       "0                            Braund, Mr. Owen Harris      0            1   \n",
       "1  Cumings, Mrs. John Bradley (Florence Briggs Th...      0            2   \n",
       "2                             Heikkinen, Miss. Laina      0            3   \n",
       "3       Futrelle, Mrs. Jacques Heath (Lily May Peel)      0            4   \n",
       "4                           Allen, Mr. William Henry      0            5   \n",
       "\n",
       "   Pclass  Sex  SibSp  Survived            Ticket  Title  \n",
       "0       3    0      1       0.0         A/5 21171      2  \n",
       "1       1    1      1       1.0          PC 17599      3  \n",
       "2       3    1      0       1.0  STON/O2. 3101282      1  \n",
       "3       1    1      1       1.0            113803      3  \n",
       "4       3    0      0       0.0            373450      2  "
      ]
     },
     "execution_count": 19,
     "metadata": {},
     "output_type": "execute_result"
    }
   ],
   "source": [
    "train_test_data.head()"
   ]
  },
  {
   "cell_type": "markdown",
   "id": "8da77436",
   "metadata": {
    "papermill": {
     "duration": 0.038795,
     "end_time": "2021-07-31T02:38:48.714630",
     "exception": false,
     "start_time": "2021-07-31T02:38:48.675835",
     "status": "completed"
    },
    "tags": []
   },
   "source": [
    "# Checking for null values"
   ]
  },
  {
   "cell_type": "code",
   "execution_count": 20,
   "id": "f9d5a01c",
   "metadata": {
    "execution": {
     "iopub.execute_input": "2021-07-31T02:38:48.798593Z",
     "iopub.status.busy": "2021-07-31T02:38:48.797897Z",
     "iopub.status.idle": "2021-07-31T02:38:48.803666Z",
     "shell.execute_reply": "2021-07-31T02:38:48.804151Z",
     "shell.execute_reply.started": "2021-07-29T13:41:16.234107Z"
    },
    "papermill": {
     "duration": 0.050092,
     "end_time": "2021-07-31T02:38:48.804320",
     "exception": false,
     "start_time": "2021-07-31T02:38:48.754228",
     "status": "completed"
    },
    "tags": []
   },
   "outputs": [
    {
     "data": {
      "text/plain": [
       "Age             263\n",
       "Cabin          1014\n",
       "Embarked          2\n",
       "Fare              1\n",
       "Name              0\n",
       "Parch             0\n",
       "PassengerId       0\n",
       "Pclass            0\n",
       "Sex               0\n",
       "SibSp             0\n",
       "Survived        418\n",
       "Ticket            0\n",
       "Title             0\n",
       "dtype: int64"
      ]
     },
     "execution_count": 20,
     "metadata": {},
     "output_type": "execute_result"
    }
   ],
   "source": [
    "train_test_data.isnull().sum()"
   ]
  },
  {
   "cell_type": "code",
   "execution_count": 21,
   "id": "6d1aa7c5",
   "metadata": {
    "execution": {
     "iopub.execute_input": "2021-07-31T02:38:48.889286Z",
     "iopub.status.busy": "2021-07-31T02:38:48.888695Z",
     "iopub.status.idle": "2021-07-31T02:38:48.899556Z",
     "shell.execute_reply": "2021-07-31T02:38:48.899079Z",
     "shell.execute_reply.started": "2021-07-29T13:41:16.25711Z"
    },
    "papermill": {
     "duration": 0.055108,
     "end_time": "2021-07-31T02:38:48.899697",
     "exception": false,
     "start_time": "2021-07-31T02:38:48.844589",
     "status": "completed"
    },
    "tags": []
   },
   "outputs": [
    {
     "data": {
      "text/plain": [
       "count     1307\n",
       "unique       3\n",
       "top          S\n",
       "freq       914\n",
       "Name: Embarked, dtype: object"
      ]
     },
     "execution_count": 21,
     "metadata": {},
     "output_type": "execute_result"
    }
   ],
   "source": [
    "train_test_data.Embarked.describe()"
   ]
  },
  {
   "cell_type": "markdown",
   "id": "49f6d1bf",
   "metadata": {
    "papermill": {
     "duration": 0.040517,
     "end_time": "2021-07-31T02:38:48.980096",
     "exception": false,
     "start_time": "2021-07-31T02:38:48.939579",
     "status": "completed"
    },
    "tags": []
   },
   "source": [
    "**Filling null values with their mean or most used**"
   ]
  },
  {
   "cell_type": "code",
   "execution_count": 22,
   "id": "9250ab4f",
   "metadata": {
    "execution": {
     "iopub.execute_input": "2021-07-31T02:38:49.066654Z",
     "iopub.status.busy": "2021-07-31T02:38:49.066055Z",
     "iopub.status.idle": "2021-07-31T02:38:49.068868Z",
     "shell.execute_reply": "2021-07-31T02:38:49.068401Z",
     "shell.execute_reply.started": "2021-07-29T13:41:16.277373Z"
    },
    "papermill": {
     "duration": 0.048732,
     "end_time": "2021-07-31T02:38:49.068998",
     "exception": false,
     "start_time": "2021-07-31T02:38:49.020266",
     "status": "completed"
    },
    "tags": []
   },
   "outputs": [],
   "source": [
    "train_test_data.Embarked.fillna('S', inplace = True)"
   ]
  },
  {
   "cell_type": "code",
   "execution_count": 23,
   "id": "76d13555",
   "metadata": {
    "execution": {
     "iopub.execute_input": "2021-07-31T02:38:49.155770Z",
     "iopub.status.busy": "2021-07-31T02:38:49.155164Z",
     "iopub.status.idle": "2021-07-31T02:38:49.156861Z",
     "shell.execute_reply": "2021-07-31T02:38:49.157266Z",
     "shell.execute_reply.started": "2021-07-29T13:41:16.292552Z"
    },
    "papermill": {
     "duration": 0.047909,
     "end_time": "2021-07-31T02:38:49.157433",
     "exception": false,
     "start_time": "2021-07-31T02:38:49.109524",
     "status": "completed"
    },
    "tags": []
   },
   "outputs": [],
   "source": [
    "train_test_data['Embarked'] = train_test_data['Embarked'].map({'S': 0, 'C': 1, 'Q': 2})"
   ]
  },
  {
   "cell_type": "code",
   "execution_count": 24,
   "id": "4ca32044",
   "metadata": {
    "execution": {
     "iopub.execute_input": "2021-07-31T02:38:49.239942Z",
     "iopub.status.busy": "2021-07-31T02:38:49.239404Z",
     "iopub.status.idle": "2021-07-31T02:38:49.254167Z",
     "shell.execute_reply": "2021-07-31T02:38:49.254677Z",
     "shell.execute_reply.started": "2021-07-29T13:41:16.312812Z"
    },
    "papermill": {
     "duration": 0.057478,
     "end_time": "2021-07-31T02:38:49.254838",
     "exception": false,
     "start_time": "2021-07-31T02:38:49.197360",
     "status": "completed"
    },
    "tags": []
   },
   "outputs": [
    {
     "data": {
      "text/html": [
       "<div>\n",
       "<style scoped>\n",
       "    .dataframe tbody tr th:only-of-type {\n",
       "        vertical-align: middle;\n",
       "    }\n",
       "\n",
       "    .dataframe tbody tr th {\n",
       "        vertical-align: top;\n",
       "    }\n",
       "\n",
       "    .dataframe thead th {\n",
       "        text-align: right;\n",
       "    }\n",
       "</style>\n",
       "<table border=\"1\" class=\"dataframe\">\n",
       "  <thead>\n",
       "    <tr style=\"text-align: right;\">\n",
       "      <th></th>\n",
       "      <th>Age</th>\n",
       "      <th>Cabin</th>\n",
       "      <th>Embarked</th>\n",
       "      <th>Fare</th>\n",
       "      <th>Name</th>\n",
       "      <th>Parch</th>\n",
       "      <th>PassengerId</th>\n",
       "      <th>Pclass</th>\n",
       "      <th>Sex</th>\n",
       "      <th>SibSp</th>\n",
       "      <th>Survived</th>\n",
       "      <th>Ticket</th>\n",
       "      <th>Title</th>\n",
       "    </tr>\n",
       "  </thead>\n",
       "  <tbody>\n",
       "    <tr>\n",
       "      <th>0</th>\n",
       "      <td>22.0</td>\n",
       "      <td>NaN</td>\n",
       "      <td>0</td>\n",
       "      <td>7.2500</td>\n",
       "      <td>Braund, Mr. Owen Harris</td>\n",
       "      <td>0</td>\n",
       "      <td>1</td>\n",
       "      <td>3</td>\n",
       "      <td>0</td>\n",
       "      <td>1</td>\n",
       "      <td>0.0</td>\n",
       "      <td>A/5 21171</td>\n",
       "      <td>2</td>\n",
       "    </tr>\n",
       "    <tr>\n",
       "      <th>1</th>\n",
       "      <td>38.0</td>\n",
       "      <td>C85</td>\n",
       "      <td>1</td>\n",
       "      <td>71.2833</td>\n",
       "      <td>Cumings, Mrs. John Bradley (Florence Briggs Th...</td>\n",
       "      <td>0</td>\n",
       "      <td>2</td>\n",
       "      <td>1</td>\n",
       "      <td>1</td>\n",
       "      <td>1</td>\n",
       "      <td>1.0</td>\n",
       "      <td>PC 17599</td>\n",
       "      <td>3</td>\n",
       "    </tr>\n",
       "    <tr>\n",
       "      <th>2</th>\n",
       "      <td>26.0</td>\n",
       "      <td>NaN</td>\n",
       "      <td>0</td>\n",
       "      <td>7.9250</td>\n",
       "      <td>Heikkinen, Miss. Laina</td>\n",
       "      <td>0</td>\n",
       "      <td>3</td>\n",
       "      <td>3</td>\n",
       "      <td>1</td>\n",
       "      <td>0</td>\n",
       "      <td>1.0</td>\n",
       "      <td>STON/O2. 3101282</td>\n",
       "      <td>1</td>\n",
       "    </tr>\n",
       "    <tr>\n",
       "      <th>3</th>\n",
       "      <td>35.0</td>\n",
       "      <td>C123</td>\n",
       "      <td>0</td>\n",
       "      <td>53.1000</td>\n",
       "      <td>Futrelle, Mrs. Jacques Heath (Lily May Peel)</td>\n",
       "      <td>0</td>\n",
       "      <td>4</td>\n",
       "      <td>1</td>\n",
       "      <td>1</td>\n",
       "      <td>1</td>\n",
       "      <td>1.0</td>\n",
       "      <td>113803</td>\n",
       "      <td>3</td>\n",
       "    </tr>\n",
       "    <tr>\n",
       "      <th>4</th>\n",
       "      <td>35.0</td>\n",
       "      <td>NaN</td>\n",
       "      <td>0</td>\n",
       "      <td>8.0500</td>\n",
       "      <td>Allen, Mr. William Henry</td>\n",
       "      <td>0</td>\n",
       "      <td>5</td>\n",
       "      <td>3</td>\n",
       "      <td>0</td>\n",
       "      <td>0</td>\n",
       "      <td>0.0</td>\n",
       "      <td>373450</td>\n",
       "      <td>2</td>\n",
       "    </tr>\n",
       "  </tbody>\n",
       "</table>\n",
       "</div>"
      ],
      "text/plain": [
       "    Age Cabin  Embarked     Fare  \\\n",
       "0  22.0   NaN         0   7.2500   \n",
       "1  38.0   C85         1  71.2833   \n",
       "2  26.0   NaN         0   7.9250   \n",
       "3  35.0  C123         0  53.1000   \n",
       "4  35.0   NaN         0   8.0500   \n",
       "\n",
       "                                                Name  Parch  PassengerId  \\\n",
       "0                            Braund, Mr. Owen Harris      0            1   \n",
       "1  Cumings, Mrs. John Bradley (Florence Briggs Th...      0            2   \n",
       "2                             Heikkinen, Miss. Laina      0            3   \n",
       "3       Futrelle, Mrs. Jacques Heath (Lily May Peel)      0            4   \n",
       "4                           Allen, Mr. William Henry      0            5   \n",
       "\n",
       "   Pclass  Sex  SibSp  Survived            Ticket  Title  \n",
       "0       3    0      1       0.0         A/5 21171      2  \n",
       "1       1    1      1       1.0          PC 17599      3  \n",
       "2       3    1      0       1.0  STON/O2. 3101282      1  \n",
       "3       1    1      1       1.0            113803      3  \n",
       "4       3    0      0       0.0            373450      2  "
      ]
     },
     "execution_count": 24,
     "metadata": {},
     "output_type": "execute_result"
    }
   ],
   "source": [
    "train_test_data.head()"
   ]
  },
  {
   "cell_type": "code",
   "execution_count": 25,
   "id": "f8b38ff3",
   "metadata": {
    "execution": {
     "iopub.execute_input": "2021-07-31T02:38:49.344080Z",
     "iopub.status.busy": "2021-07-31T02:38:49.343473Z",
     "iopub.status.idle": "2021-07-31T02:38:49.346080Z",
     "shell.execute_reply": "2021-07-31T02:38:49.346552Z",
     "shell.execute_reply.started": "2021-07-29T13:41:16.340936Z"
    },
    "papermill": {
     "duration": 0.051332,
     "end_time": "2021-07-31T02:38:49.346717",
     "exception": false,
     "start_time": "2021-07-31T02:38:49.295385",
     "status": "completed"
    },
    "tags": []
   },
   "outputs": [
    {
     "data": {
      "text/plain": [
       "0       22\n",
       "1       38\n",
       "2       26\n",
       "3       35\n",
       "4       35\n",
       "        ..\n",
       "1304    29\n",
       "1305    39\n",
       "1306    38\n",
       "1307    29\n",
       "1308    29\n",
       "Name: Age, Length: 1309, dtype: int64"
      ]
     },
     "execution_count": 25,
     "metadata": {},
     "output_type": "execute_result"
    }
   ],
   "source": [
    "train_test_data.Age.fillna(train_test_data.Age.mean(), inplace = True)\n",
    "train_test_data.Age.astype(int)"
   ]
  },
  {
   "cell_type": "code",
   "execution_count": 26,
   "id": "d6d847de",
   "metadata": {
    "execution": {
     "iopub.execute_input": "2021-07-31T02:38:49.430276Z",
     "iopub.status.busy": "2021-07-31T02:38:49.429719Z",
     "iopub.status.idle": "2021-07-31T02:38:49.438170Z",
     "shell.execute_reply": "2021-07-31T02:38:49.438694Z",
     "shell.execute_reply.started": "2021-07-29T13:41:16.359166Z"
    },
    "papermill": {
     "duration": 0.051554,
     "end_time": "2021-07-31T02:38:49.438852",
     "exception": false,
     "start_time": "2021-07-31T02:38:49.387298",
     "status": "completed"
    },
    "tags": []
   },
   "outputs": [
    {
     "data": {
      "text/plain": [
       "Age               0\n",
       "Cabin          1014\n",
       "Embarked          0\n",
       "Fare              0\n",
       "Name              0\n",
       "Parch             0\n",
       "PassengerId       0\n",
       "Pclass            0\n",
       "Sex               0\n",
       "SibSp             0\n",
       "Survived        418\n",
       "Ticket            0\n",
       "Title             0\n",
       "dtype: int64"
      ]
     },
     "execution_count": 26,
     "metadata": {},
     "output_type": "execute_result"
    }
   ],
   "source": [
    "train_test_data.Fare.fillna(train_test_data.Fare.mean(), inplace = True)\n",
    "\n",
    "train_test_data.isnull().sum()"
   ]
  },
  {
   "cell_type": "markdown",
   "id": "e059bec8",
   "metadata": {
    "papermill": {
     "duration": 0.040367,
     "end_time": "2021-07-31T02:38:49.520224",
     "exception": false,
     "start_time": "2021-07-31T02:38:49.479857",
     "status": "completed"
    },
    "tags": []
   },
   "source": [
    "# Creating different bands for Age"
   ]
  },
  {
   "cell_type": "code",
   "execution_count": 27,
   "id": "02dde554",
   "metadata": {
    "execution": {
     "iopub.execute_input": "2021-07-31T02:38:49.604466Z",
     "iopub.status.busy": "2021-07-31T02:38:49.603898Z",
     "iopub.status.idle": "2021-07-31T02:38:49.625417Z",
     "shell.execute_reply": "2021-07-31T02:38:49.624920Z",
     "shell.execute_reply.started": "2021-07-29T13:41:16.386969Z"
    },
    "papermill": {
     "duration": 0.064457,
     "end_time": "2021-07-31T02:38:49.625559",
     "exception": false,
     "start_time": "2021-07-31T02:38:49.561102",
     "status": "completed"
    },
    "tags": []
   },
   "outputs": [
    {
     "name": "stdout",
     "output_type": "stream",
     "text": [
      "          AgeBand  Survived\n",
      "0   (0.169, 18.0]  0.503597\n",
      "1    (18.0, 24.0]  0.347826\n",
      "2    (24.0, 29.0]  0.355140\n",
      "3  (29.0, 29.881]  0.293785\n",
      "4  (29.881, 33.0]  0.430380\n",
      "5    (33.0, 43.0]  0.425197\n",
      "6    (43.0, 80.0]  0.370968\n"
     ]
    }
   ],
   "source": [
    "train_test_data['AgeBand'] = pd.qcut(train_test_data['Age'], 7)\n",
    "print (train_test_data[['AgeBand', 'Survived']].groupby(['AgeBand'], as_index=False).mean())"
   ]
  },
  {
   "cell_type": "code",
   "execution_count": 28,
   "id": "709b93d7",
   "metadata": {
    "execution": {
     "iopub.execute_input": "2021-07-31T02:38:49.721179Z",
     "iopub.status.busy": "2021-07-31T02:38:49.720543Z",
     "iopub.status.idle": "2021-07-31T02:38:49.722483Z",
     "shell.execute_reply": "2021-07-31T02:38:49.722893Z",
     "shell.execute_reply.started": "2021-07-29T13:41:16.41276Z"
    },
    "papermill": {
     "duration": 0.056016,
     "end_time": "2021-07-31T02:38:49.723085",
     "exception": false,
     "start_time": "2021-07-31T02:38:49.667069",
     "status": "completed"
    },
    "tags": []
   },
   "outputs": [],
   "source": [
    "train_test_data.loc[train_test_data['Age'] <= 18, 'Age_Band'] = 0\n",
    "train_test_data.loc[(train_test_data['Age'] > 18) & (train_test_data['Age'] <= 22), 'Age_Band'] = 1\n",
    "train_test_data.loc[(train_test_data['Age'] > 22) & (train_test_data['Age'] <= 25), 'Age_Band'] = 2\n",
    "train_test_data.loc[(train_test_data['Age'] > 25) & (train_test_data['Age'] <= 43), 'Age_Band'] = 3\n",
    "train_test_data.loc[train_test_data['Age'] > 43, 'Age_Band'] = 4"
   ]
  },
  {
   "cell_type": "code",
   "execution_count": 29,
   "id": "0092e7c3",
   "metadata": {
    "execution": {
     "iopub.execute_input": "2021-07-31T02:38:49.810316Z",
     "iopub.status.busy": "2021-07-31T02:38:49.809637Z",
     "iopub.status.idle": "2021-07-31T02:38:49.813554Z",
     "shell.execute_reply": "2021-07-31T02:38:49.814016Z",
     "shell.execute_reply.started": "2021-07-29T13:41:16.431686Z"
    },
    "papermill": {
     "duration": 0.048942,
     "end_time": "2021-07-31T02:38:49.814199",
     "exception": false,
     "start_time": "2021-07-31T02:38:49.765257",
     "status": "completed"
    },
    "tags": []
   },
   "outputs": [],
   "source": [
    "train_test_data['Age_Band'] = train_test_data['Age_Band'].astype(int)"
   ]
  },
  {
   "cell_type": "code",
   "execution_count": 30,
   "id": "36fb6fe9",
   "metadata": {
    "execution": {
     "iopub.execute_input": "2021-07-31T02:38:49.912508Z",
     "iopub.status.busy": "2021-07-31T02:38:49.908015Z",
     "iopub.status.idle": "2021-07-31T02:38:49.917827Z",
     "shell.execute_reply": "2021-07-31T02:38:49.918263Z",
     "shell.execute_reply.started": "2021-07-29T13:41:16.441037Z"
    },
    "papermill": {
     "duration": 0.062543,
     "end_time": "2021-07-31T02:38:49.918435",
     "exception": false,
     "start_time": "2021-07-31T02:38:49.855892",
     "status": "completed"
    },
    "tags": []
   },
   "outputs": [
    {
     "data": {
      "text/html": [
       "<div>\n",
       "<style scoped>\n",
       "    .dataframe tbody tr th:only-of-type {\n",
       "        vertical-align: middle;\n",
       "    }\n",
       "\n",
       "    .dataframe tbody tr th {\n",
       "        vertical-align: top;\n",
       "    }\n",
       "\n",
       "    .dataframe thead th {\n",
       "        text-align: right;\n",
       "    }\n",
       "</style>\n",
       "<table border=\"1\" class=\"dataframe\">\n",
       "  <thead>\n",
       "    <tr style=\"text-align: right;\">\n",
       "      <th></th>\n",
       "      <th>Age</th>\n",
       "      <th>Cabin</th>\n",
       "      <th>Embarked</th>\n",
       "      <th>Fare</th>\n",
       "      <th>Name</th>\n",
       "      <th>Parch</th>\n",
       "      <th>PassengerId</th>\n",
       "      <th>Pclass</th>\n",
       "      <th>Sex</th>\n",
       "      <th>SibSp</th>\n",
       "      <th>Survived</th>\n",
       "      <th>Ticket</th>\n",
       "      <th>Title</th>\n",
       "      <th>AgeBand</th>\n",
       "      <th>Age_Band</th>\n",
       "    </tr>\n",
       "  </thead>\n",
       "  <tbody>\n",
       "    <tr>\n",
       "      <th>0</th>\n",
       "      <td>22.0</td>\n",
       "      <td>NaN</td>\n",
       "      <td>0</td>\n",
       "      <td>7.2500</td>\n",
       "      <td>Braund, Mr. Owen Harris</td>\n",
       "      <td>0</td>\n",
       "      <td>1</td>\n",
       "      <td>3</td>\n",
       "      <td>0</td>\n",
       "      <td>1</td>\n",
       "      <td>0.0</td>\n",
       "      <td>A/5 21171</td>\n",
       "      <td>2</td>\n",
       "      <td>(18.0, 24.0]</td>\n",
       "      <td>1</td>\n",
       "    </tr>\n",
       "    <tr>\n",
       "      <th>1</th>\n",
       "      <td>38.0</td>\n",
       "      <td>C85</td>\n",
       "      <td>1</td>\n",
       "      <td>71.2833</td>\n",
       "      <td>Cumings, Mrs. John Bradley (Florence Briggs Th...</td>\n",
       "      <td>0</td>\n",
       "      <td>2</td>\n",
       "      <td>1</td>\n",
       "      <td>1</td>\n",
       "      <td>1</td>\n",
       "      <td>1.0</td>\n",
       "      <td>PC 17599</td>\n",
       "      <td>3</td>\n",
       "      <td>(33.0, 43.0]</td>\n",
       "      <td>3</td>\n",
       "    </tr>\n",
       "    <tr>\n",
       "      <th>2</th>\n",
       "      <td>26.0</td>\n",
       "      <td>NaN</td>\n",
       "      <td>0</td>\n",
       "      <td>7.9250</td>\n",
       "      <td>Heikkinen, Miss. Laina</td>\n",
       "      <td>0</td>\n",
       "      <td>3</td>\n",
       "      <td>3</td>\n",
       "      <td>1</td>\n",
       "      <td>0</td>\n",
       "      <td>1.0</td>\n",
       "      <td>STON/O2. 3101282</td>\n",
       "      <td>1</td>\n",
       "      <td>(24.0, 29.0]</td>\n",
       "      <td>3</td>\n",
       "    </tr>\n",
       "    <tr>\n",
       "      <th>3</th>\n",
       "      <td>35.0</td>\n",
       "      <td>C123</td>\n",
       "      <td>0</td>\n",
       "      <td>53.1000</td>\n",
       "      <td>Futrelle, Mrs. Jacques Heath (Lily May Peel)</td>\n",
       "      <td>0</td>\n",
       "      <td>4</td>\n",
       "      <td>1</td>\n",
       "      <td>1</td>\n",
       "      <td>1</td>\n",
       "      <td>1.0</td>\n",
       "      <td>113803</td>\n",
       "      <td>3</td>\n",
       "      <td>(33.0, 43.0]</td>\n",
       "      <td>3</td>\n",
       "    </tr>\n",
       "    <tr>\n",
       "      <th>4</th>\n",
       "      <td>35.0</td>\n",
       "      <td>NaN</td>\n",
       "      <td>0</td>\n",
       "      <td>8.0500</td>\n",
       "      <td>Allen, Mr. William Henry</td>\n",
       "      <td>0</td>\n",
       "      <td>5</td>\n",
       "      <td>3</td>\n",
       "      <td>0</td>\n",
       "      <td>0</td>\n",
       "      <td>0.0</td>\n",
       "      <td>373450</td>\n",
       "      <td>2</td>\n",
       "      <td>(33.0, 43.0]</td>\n",
       "      <td>3</td>\n",
       "    </tr>\n",
       "  </tbody>\n",
       "</table>\n",
       "</div>"
      ],
      "text/plain": [
       "    Age Cabin  Embarked     Fare  \\\n",
       "0  22.0   NaN         0   7.2500   \n",
       "1  38.0   C85         1  71.2833   \n",
       "2  26.0   NaN         0   7.9250   \n",
       "3  35.0  C123         0  53.1000   \n",
       "4  35.0   NaN         0   8.0500   \n",
       "\n",
       "                                                Name  Parch  PassengerId  \\\n",
       "0                            Braund, Mr. Owen Harris      0            1   \n",
       "1  Cumings, Mrs. John Bradley (Florence Briggs Th...      0            2   \n",
       "2                             Heikkinen, Miss. Laina      0            3   \n",
       "3       Futrelle, Mrs. Jacques Heath (Lily May Peel)      0            4   \n",
       "4                           Allen, Mr. William Henry      0            5   \n",
       "\n",
       "   Pclass  Sex  SibSp  Survived            Ticket  Title       AgeBand  \\\n",
       "0       3    0      1       0.0         A/5 21171      2  (18.0, 24.0]   \n",
       "1       1    1      1       1.0          PC 17599      3  (33.0, 43.0]   \n",
       "2       3    1      0       1.0  STON/O2. 3101282      1  (24.0, 29.0]   \n",
       "3       1    1      1       1.0            113803      3  (33.0, 43.0]   \n",
       "4       3    0      0       0.0            373450      2  (33.0, 43.0]   \n",
       "\n",
       "   Age_Band  \n",
       "0         1  \n",
       "1         3  \n",
       "2         3  \n",
       "3         3  \n",
       "4         3  "
      ]
     },
     "execution_count": 30,
     "metadata": {},
     "output_type": "execute_result"
    }
   ],
   "source": [
    "train_test_data.head()"
   ]
  },
  {
   "cell_type": "markdown",
   "id": "cb88951f",
   "metadata": {
    "papermill": {
     "duration": 0.042022,
     "end_time": "2021-07-31T02:38:50.002016",
     "exception": false,
     "start_time": "2021-07-31T02:38:49.959994",
     "status": "completed"
    },
    "tags": []
   },
   "source": [
    "# Creating different bands for fare"
   ]
  },
  {
   "cell_type": "code",
   "execution_count": 31,
   "id": "990fc255",
   "metadata": {
    "execution": {
     "iopub.execute_input": "2021-07-31T02:38:50.088715Z",
     "iopub.status.busy": "2021-07-31T02:38:50.088097Z",
     "iopub.status.idle": "2021-07-31T02:38:50.102899Z",
     "shell.execute_reply": "2021-07-31T02:38:50.103392Z",
     "shell.execute_reply.started": "2021-07-29T13:41:16.480814Z"
    },
    "papermill": {
     "duration": 0.059588,
     "end_time": "2021-07-31T02:38:50.103563",
     "exception": false,
     "start_time": "2021-07-31T02:38:50.043975",
     "status": "completed"
    },
    "tags": []
   },
   "outputs": [
    {
     "name": "stdout",
     "output_type": "stream",
     "text": [
      "           FareBand  Survived\n",
      "0    (-0.001, 7.75]  0.207143\n",
      "1     (7.75, 7.896]  0.180723\n",
      "2   (7.896, 10.008]  0.203540\n",
      "3  (10.008, 14.454]  0.405405\n",
      "4   (14.454, 24.15]  0.436364\n",
      "5   (24.15, 31.275]  0.445378\n",
      "6   (31.275, 69.55]  0.481818\n",
      "7  (69.55, 512.329]  0.723810\n"
     ]
    }
   ],
   "source": [
    "train_test_data['FareBand'] = pd.qcut(train_test_data['Fare'], 8)\n",
    "print (train_test_data[['FareBand', 'Survived']].groupby(['FareBand'], as_index=False).mean())"
   ]
  },
  {
   "cell_type": "code",
   "execution_count": 32,
   "id": "9e9a38a2",
   "metadata": {
    "execution": {
     "iopub.execute_input": "2021-07-31T02:38:50.197343Z",
     "iopub.status.busy": "2021-07-31T02:38:50.196703Z",
     "iopub.status.idle": "2021-07-31T02:38:50.199646Z",
     "shell.execute_reply": "2021-07-31T02:38:50.199203Z",
     "shell.execute_reply.started": "2021-07-29T13:41:16.503956Z"
    },
    "papermill": {
     "duration": 0.054222,
     "end_time": "2021-07-31T02:38:50.199781",
     "exception": false,
     "start_time": "2021-07-31T02:38:50.145559",
     "status": "completed"
    },
    "tags": []
   },
   "outputs": [],
   "source": [
    "train_test_data.loc[train_test_data['Fare'] <= 9.844, 'Fare_Band'] = 0\n",
    "train_test_data.loc[(train_test_data['Fare'] > 9.844) & (train_test_data['Fare'] <= 69.55), 'Fare_Band'] = 1\n",
    "train_test_data.loc[train_test_data['Fare'] > 69.55, 'Fare_Band'] = 2\n",
    "train_test_data['Fare_Band'] = train_test_data['Fare_Band'].astype(int)"
   ]
  },
  {
   "cell_type": "code",
   "execution_count": 33,
   "id": "04cd7a1a",
   "metadata": {
    "execution": {
     "iopub.execute_input": "2021-07-31T02:38:50.303220Z",
     "iopub.status.busy": "2021-07-31T02:38:50.302604Z",
     "iopub.status.idle": "2021-07-31T02:38:50.305951Z",
     "shell.execute_reply": "2021-07-31T02:38:50.305495Z",
     "shell.execute_reply.started": "2021-07-29T13:41:16.520014Z"
    },
    "papermill": {
     "duration": 0.064238,
     "end_time": "2021-07-31T02:38:50.306101",
     "exception": false,
     "start_time": "2021-07-31T02:38:50.241863",
     "status": "completed"
    },
    "tags": []
   },
   "outputs": [
    {
     "data": {
      "text/html": [
       "<div>\n",
       "<style scoped>\n",
       "    .dataframe tbody tr th:only-of-type {\n",
       "        vertical-align: middle;\n",
       "    }\n",
       "\n",
       "    .dataframe tbody tr th {\n",
       "        vertical-align: top;\n",
       "    }\n",
       "\n",
       "    .dataframe thead th {\n",
       "        text-align: right;\n",
       "    }\n",
       "</style>\n",
       "<table border=\"1\" class=\"dataframe\">\n",
       "  <thead>\n",
       "    <tr style=\"text-align: right;\">\n",
       "      <th></th>\n",
       "      <th>Age</th>\n",
       "      <th>Cabin</th>\n",
       "      <th>Embarked</th>\n",
       "      <th>Fare</th>\n",
       "      <th>Name</th>\n",
       "      <th>Parch</th>\n",
       "      <th>PassengerId</th>\n",
       "      <th>Pclass</th>\n",
       "      <th>Sex</th>\n",
       "      <th>SibSp</th>\n",
       "      <th>Survived</th>\n",
       "      <th>Ticket</th>\n",
       "      <th>Title</th>\n",
       "      <th>AgeBand</th>\n",
       "      <th>Age_Band</th>\n",
       "      <th>FareBand</th>\n",
       "      <th>Fare_Band</th>\n",
       "    </tr>\n",
       "  </thead>\n",
       "  <tbody>\n",
       "    <tr>\n",
       "      <th>0</th>\n",
       "      <td>22.0</td>\n",
       "      <td>NaN</td>\n",
       "      <td>0</td>\n",
       "      <td>7.2500</td>\n",
       "      <td>Braund, Mr. Owen Harris</td>\n",
       "      <td>0</td>\n",
       "      <td>1</td>\n",
       "      <td>3</td>\n",
       "      <td>0</td>\n",
       "      <td>1</td>\n",
       "      <td>0.0</td>\n",
       "      <td>A/5 21171</td>\n",
       "      <td>2</td>\n",
       "      <td>(18.0, 24.0]</td>\n",
       "      <td>1</td>\n",
       "      <td>(-0.001, 7.75]</td>\n",
       "      <td>0</td>\n",
       "    </tr>\n",
       "    <tr>\n",
       "      <th>1</th>\n",
       "      <td>38.0</td>\n",
       "      <td>C85</td>\n",
       "      <td>1</td>\n",
       "      <td>71.2833</td>\n",
       "      <td>Cumings, Mrs. John Bradley (Florence Briggs Th...</td>\n",
       "      <td>0</td>\n",
       "      <td>2</td>\n",
       "      <td>1</td>\n",
       "      <td>1</td>\n",
       "      <td>1</td>\n",
       "      <td>1.0</td>\n",
       "      <td>PC 17599</td>\n",
       "      <td>3</td>\n",
       "      <td>(33.0, 43.0]</td>\n",
       "      <td>3</td>\n",
       "      <td>(69.55, 512.329]</td>\n",
       "      <td>2</td>\n",
       "    </tr>\n",
       "    <tr>\n",
       "      <th>2</th>\n",
       "      <td>26.0</td>\n",
       "      <td>NaN</td>\n",
       "      <td>0</td>\n",
       "      <td>7.9250</td>\n",
       "      <td>Heikkinen, Miss. Laina</td>\n",
       "      <td>0</td>\n",
       "      <td>3</td>\n",
       "      <td>3</td>\n",
       "      <td>1</td>\n",
       "      <td>0</td>\n",
       "      <td>1.0</td>\n",
       "      <td>STON/O2. 3101282</td>\n",
       "      <td>1</td>\n",
       "      <td>(24.0, 29.0]</td>\n",
       "      <td>3</td>\n",
       "      <td>(7.896, 10.008]</td>\n",
       "      <td>0</td>\n",
       "    </tr>\n",
       "    <tr>\n",
       "      <th>3</th>\n",
       "      <td>35.0</td>\n",
       "      <td>C123</td>\n",
       "      <td>0</td>\n",
       "      <td>53.1000</td>\n",
       "      <td>Futrelle, Mrs. Jacques Heath (Lily May Peel)</td>\n",
       "      <td>0</td>\n",
       "      <td>4</td>\n",
       "      <td>1</td>\n",
       "      <td>1</td>\n",
       "      <td>1</td>\n",
       "      <td>1.0</td>\n",
       "      <td>113803</td>\n",
       "      <td>3</td>\n",
       "      <td>(33.0, 43.0]</td>\n",
       "      <td>3</td>\n",
       "      <td>(31.275, 69.55]</td>\n",
       "      <td>1</td>\n",
       "    </tr>\n",
       "    <tr>\n",
       "      <th>4</th>\n",
       "      <td>35.0</td>\n",
       "      <td>NaN</td>\n",
       "      <td>0</td>\n",
       "      <td>8.0500</td>\n",
       "      <td>Allen, Mr. William Henry</td>\n",
       "      <td>0</td>\n",
       "      <td>5</td>\n",
       "      <td>3</td>\n",
       "      <td>0</td>\n",
       "      <td>0</td>\n",
       "      <td>0.0</td>\n",
       "      <td>373450</td>\n",
       "      <td>2</td>\n",
       "      <td>(33.0, 43.0]</td>\n",
       "      <td>3</td>\n",
       "      <td>(7.896, 10.008]</td>\n",
       "      <td>0</td>\n",
       "    </tr>\n",
       "  </tbody>\n",
       "</table>\n",
       "</div>"
      ],
      "text/plain": [
       "    Age Cabin  Embarked     Fare  \\\n",
       "0  22.0   NaN         0   7.2500   \n",
       "1  38.0   C85         1  71.2833   \n",
       "2  26.0   NaN         0   7.9250   \n",
       "3  35.0  C123         0  53.1000   \n",
       "4  35.0   NaN         0   8.0500   \n",
       "\n",
       "                                                Name  Parch  PassengerId  \\\n",
       "0                            Braund, Mr. Owen Harris      0            1   \n",
       "1  Cumings, Mrs. John Bradley (Florence Briggs Th...      0            2   \n",
       "2                             Heikkinen, Miss. Laina      0            3   \n",
       "3       Futrelle, Mrs. Jacques Heath (Lily May Peel)      0            4   \n",
       "4                           Allen, Mr. William Henry      0            5   \n",
       "\n",
       "   Pclass  Sex  SibSp  Survived            Ticket  Title       AgeBand  \\\n",
       "0       3    0      1       0.0         A/5 21171      2  (18.0, 24.0]   \n",
       "1       1    1      1       1.0          PC 17599      3  (33.0, 43.0]   \n",
       "2       3    1      0       1.0  STON/O2. 3101282      1  (24.0, 29.0]   \n",
       "3       1    1      1       1.0            113803      3  (33.0, 43.0]   \n",
       "4       3    0      0       0.0            373450      2  (33.0, 43.0]   \n",
       "\n",
       "   Age_Band          FareBand  Fare_Band  \n",
       "0         1    (-0.001, 7.75]          0  \n",
       "1         3  (69.55, 512.329]          2  \n",
       "2         3   (7.896, 10.008]          0  \n",
       "3         3   (31.275, 69.55]          1  \n",
       "4         3   (7.896, 10.008]          0  "
      ]
     },
     "execution_count": 33,
     "metadata": {},
     "output_type": "execute_result"
    }
   ],
   "source": [
    "train_test_data.head()"
   ]
  },
  {
   "cell_type": "markdown",
   "id": "b6684e27",
   "metadata": {
    "papermill": {
     "duration": 0.04228,
     "end_time": "2021-07-31T02:38:50.390995",
     "exception": false,
     "start_time": "2021-07-31T02:38:50.348715",
     "status": "completed"
    },
    "tags": []
   },
   "source": [
    "# combining familysize"
   ]
  },
  {
   "cell_type": "code",
   "execution_count": 34,
   "id": "d2a80cfa",
   "metadata": {
    "execution": {
     "iopub.execute_input": "2021-07-31T02:38:50.478644Z",
     "iopub.status.busy": "2021-07-31T02:38:50.478002Z",
     "iopub.status.idle": "2021-07-31T02:38:50.490695Z",
     "shell.execute_reply": "2021-07-31T02:38:50.490119Z",
     "shell.execute_reply.started": "2021-07-29T13:41:16.555663Z"
    },
    "papermill": {
     "duration": 0.057453,
     "end_time": "2021-07-31T02:38:50.490829",
     "exception": false,
     "start_time": "2021-07-31T02:38:50.433376",
     "status": "completed"
    },
    "tags": []
   },
   "outputs": [
    {
     "name": "stdout",
     "output_type": "stream",
     "text": [
      "   FamilySize  Survived\n",
      "0           1  0.303538\n",
      "1           2  0.552795\n",
      "2           3  0.578431\n",
      "3           4  0.724138\n",
      "4           5  0.200000\n",
      "5           6  0.136364\n",
      "6           7  0.333333\n",
      "7           8  0.000000\n",
      "8          11  0.000000\n"
     ]
    }
   ],
   "source": [
    "train_test_data['FamilySize'] = train_test_data['SibSp'] +  train_test_data['Parch'] + 1\n",
    "train_test_data['FamilySize'] = train_test_data['FamilySize'].astype(int)\n",
    "print (train_test_data[['FamilySize', 'Survived']].groupby(['FamilySize'], as_index=False).mean())"
   ]
  },
  {
   "cell_type": "markdown",
   "id": "fcb9ac4e",
   "metadata": {
    "papermill": {
     "duration": 0.042258,
     "end_time": "2021-07-31T02:38:50.575848",
     "exception": false,
     "start_time": "2021-07-31T02:38:50.533590",
     "status": "completed"
    },
    "tags": []
   },
   "source": [
    "** if family size = 0 => person is alone**"
   ]
  },
  {
   "cell_type": "code",
   "execution_count": 35,
   "id": "cab3f1db",
   "metadata": {
    "execution": {
     "iopub.execute_input": "2021-07-31T02:38:50.663785Z",
     "iopub.status.busy": "2021-07-31T02:38:50.663215Z",
     "iopub.status.idle": "2021-07-31T02:38:50.670314Z",
     "shell.execute_reply": "2021-07-31T02:38:50.670753Z",
     "shell.execute_reply.started": "2021-07-29T13:41:16.573682Z"
    },
    "papermill": {
     "duration": 0.052378,
     "end_time": "2021-07-31T02:38:50.670907",
     "exception": false,
     "start_time": "2021-07-31T02:38:50.618529",
     "status": "completed"
    },
    "tags": []
   },
   "outputs": [],
   "source": [
    "train_test_data.loc[train_test_data['FamilySize'] == 1, 'IsAlone'] = 1\n",
    "train_test_data.loc[train_test_data['FamilySize'] > 1, 'IsAlone'] = 0\n",
    "train_test_data['IsAlone'] = train_test_data['IsAlone'].astype(int)"
   ]
  },
  {
   "cell_type": "code",
   "execution_count": 36,
   "id": "dcf9b204",
   "metadata": {
    "execution": {
     "iopub.execute_input": "2021-07-31T02:38:50.759019Z",
     "iopub.status.busy": "2021-07-31T02:38:50.758479Z",
     "iopub.status.idle": "2021-07-31T02:38:50.769138Z",
     "shell.execute_reply": "2021-07-31T02:38:50.768657Z",
     "shell.execute_reply.started": "2021-07-29T13:41:16.590195Z"
    },
    "papermill": {
     "duration": 0.055864,
     "end_time": "2021-07-31T02:38:50.769273",
     "exception": false,
     "start_time": "2021-07-31T02:38:50.713409",
     "status": "completed"
    },
    "tags": []
   },
   "outputs": [
    {
     "name": "stdout",
     "output_type": "stream",
     "text": [
      "   IsAlone  Survived\n",
      "0        0  0.505650\n",
      "1        1  0.303538\n"
     ]
    }
   ],
   "source": [
    "print (train_test_data[['IsAlone', 'Survived']].groupby(['IsAlone'], as_index=False).mean())"
   ]
  },
  {
   "cell_type": "code",
   "execution_count": 37,
   "id": "194d47f0",
   "metadata": {
    "execution": {
     "iopub.execute_input": "2021-07-31T02:38:50.874694Z",
     "iopub.status.busy": "2021-07-31T02:38:50.874072Z",
     "iopub.status.idle": "2021-07-31T02:38:50.876930Z",
     "shell.execute_reply": "2021-07-31T02:38:50.877439Z",
     "shell.execute_reply.started": "2021-07-29T13:41:16.609936Z"
    },
    "papermill": {
     "duration": 0.065653,
     "end_time": "2021-07-31T02:38:50.877607",
     "exception": false,
     "start_time": "2021-07-31T02:38:50.811954",
     "status": "completed"
    },
    "tags": []
   },
   "outputs": [
    {
     "data": {
      "text/html": [
       "<div>\n",
       "<style scoped>\n",
       "    .dataframe tbody tr th:only-of-type {\n",
       "        vertical-align: middle;\n",
       "    }\n",
       "\n",
       "    .dataframe tbody tr th {\n",
       "        vertical-align: top;\n",
       "    }\n",
       "\n",
       "    .dataframe thead th {\n",
       "        text-align: right;\n",
       "    }\n",
       "</style>\n",
       "<table border=\"1\" class=\"dataframe\">\n",
       "  <thead>\n",
       "    <tr style=\"text-align: right;\">\n",
       "      <th></th>\n",
       "      <th>Age</th>\n",
       "      <th>Cabin</th>\n",
       "      <th>Embarked</th>\n",
       "      <th>Fare</th>\n",
       "      <th>Name</th>\n",
       "      <th>Parch</th>\n",
       "      <th>PassengerId</th>\n",
       "      <th>Pclass</th>\n",
       "      <th>Sex</th>\n",
       "      <th>SibSp</th>\n",
       "      <th>Survived</th>\n",
       "      <th>Ticket</th>\n",
       "      <th>Title</th>\n",
       "      <th>AgeBand</th>\n",
       "      <th>Age_Band</th>\n",
       "      <th>FareBand</th>\n",
       "      <th>Fare_Band</th>\n",
       "      <th>FamilySize</th>\n",
       "      <th>IsAlone</th>\n",
       "    </tr>\n",
       "  </thead>\n",
       "  <tbody>\n",
       "    <tr>\n",
       "      <th>0</th>\n",
       "      <td>22.0</td>\n",
       "      <td>NaN</td>\n",
       "      <td>0</td>\n",
       "      <td>7.2500</td>\n",
       "      <td>Braund, Mr. Owen Harris</td>\n",
       "      <td>0</td>\n",
       "      <td>1</td>\n",
       "      <td>3</td>\n",
       "      <td>0</td>\n",
       "      <td>1</td>\n",
       "      <td>0.0</td>\n",
       "      <td>A/5 21171</td>\n",
       "      <td>2</td>\n",
       "      <td>(18.0, 24.0]</td>\n",
       "      <td>1</td>\n",
       "      <td>(-0.001, 7.75]</td>\n",
       "      <td>0</td>\n",
       "      <td>2</td>\n",
       "      <td>0</td>\n",
       "    </tr>\n",
       "    <tr>\n",
       "      <th>1</th>\n",
       "      <td>38.0</td>\n",
       "      <td>C85</td>\n",
       "      <td>1</td>\n",
       "      <td>71.2833</td>\n",
       "      <td>Cumings, Mrs. John Bradley (Florence Briggs Th...</td>\n",
       "      <td>0</td>\n",
       "      <td>2</td>\n",
       "      <td>1</td>\n",
       "      <td>1</td>\n",
       "      <td>1</td>\n",
       "      <td>1.0</td>\n",
       "      <td>PC 17599</td>\n",
       "      <td>3</td>\n",
       "      <td>(33.0, 43.0]</td>\n",
       "      <td>3</td>\n",
       "      <td>(69.55, 512.329]</td>\n",
       "      <td>2</td>\n",
       "      <td>2</td>\n",
       "      <td>0</td>\n",
       "    </tr>\n",
       "    <tr>\n",
       "      <th>2</th>\n",
       "      <td>26.0</td>\n",
       "      <td>NaN</td>\n",
       "      <td>0</td>\n",
       "      <td>7.9250</td>\n",
       "      <td>Heikkinen, Miss. Laina</td>\n",
       "      <td>0</td>\n",
       "      <td>3</td>\n",
       "      <td>3</td>\n",
       "      <td>1</td>\n",
       "      <td>0</td>\n",
       "      <td>1.0</td>\n",
       "      <td>STON/O2. 3101282</td>\n",
       "      <td>1</td>\n",
       "      <td>(24.0, 29.0]</td>\n",
       "      <td>3</td>\n",
       "      <td>(7.896, 10.008]</td>\n",
       "      <td>0</td>\n",
       "      <td>1</td>\n",
       "      <td>1</td>\n",
       "    </tr>\n",
       "    <tr>\n",
       "      <th>3</th>\n",
       "      <td>35.0</td>\n",
       "      <td>C123</td>\n",
       "      <td>0</td>\n",
       "      <td>53.1000</td>\n",
       "      <td>Futrelle, Mrs. Jacques Heath (Lily May Peel)</td>\n",
       "      <td>0</td>\n",
       "      <td>4</td>\n",
       "      <td>1</td>\n",
       "      <td>1</td>\n",
       "      <td>1</td>\n",
       "      <td>1.0</td>\n",
       "      <td>113803</td>\n",
       "      <td>3</td>\n",
       "      <td>(33.0, 43.0]</td>\n",
       "      <td>3</td>\n",
       "      <td>(31.275, 69.55]</td>\n",
       "      <td>1</td>\n",
       "      <td>2</td>\n",
       "      <td>0</td>\n",
       "    </tr>\n",
       "    <tr>\n",
       "      <th>4</th>\n",
       "      <td>35.0</td>\n",
       "      <td>NaN</td>\n",
       "      <td>0</td>\n",
       "      <td>8.0500</td>\n",
       "      <td>Allen, Mr. William Henry</td>\n",
       "      <td>0</td>\n",
       "      <td>5</td>\n",
       "      <td>3</td>\n",
       "      <td>0</td>\n",
       "      <td>0</td>\n",
       "      <td>0.0</td>\n",
       "      <td>373450</td>\n",
       "      <td>2</td>\n",
       "      <td>(33.0, 43.0]</td>\n",
       "      <td>3</td>\n",
       "      <td>(7.896, 10.008]</td>\n",
       "      <td>0</td>\n",
       "      <td>1</td>\n",
       "      <td>1</td>\n",
       "    </tr>\n",
       "  </tbody>\n",
       "</table>\n",
       "</div>"
      ],
      "text/plain": [
       "    Age Cabin  Embarked     Fare  \\\n",
       "0  22.0   NaN         0   7.2500   \n",
       "1  38.0   C85         1  71.2833   \n",
       "2  26.0   NaN         0   7.9250   \n",
       "3  35.0  C123         0  53.1000   \n",
       "4  35.0   NaN         0   8.0500   \n",
       "\n",
       "                                                Name  Parch  PassengerId  \\\n",
       "0                            Braund, Mr. Owen Harris      0            1   \n",
       "1  Cumings, Mrs. John Bradley (Florence Briggs Th...      0            2   \n",
       "2                             Heikkinen, Miss. Laina      0            3   \n",
       "3       Futrelle, Mrs. Jacques Heath (Lily May Peel)      0            4   \n",
       "4                           Allen, Mr. William Henry      0            5   \n",
       "\n",
       "   Pclass  Sex  SibSp  Survived            Ticket  Title       AgeBand  \\\n",
       "0       3    0      1       0.0         A/5 21171      2  (18.0, 24.0]   \n",
       "1       1    1      1       1.0          PC 17599      3  (33.0, 43.0]   \n",
       "2       3    1      0       1.0  STON/O2. 3101282      1  (24.0, 29.0]   \n",
       "3       1    1      1       1.0            113803      3  (33.0, 43.0]   \n",
       "4       3    0      0       0.0            373450      2  (33.0, 43.0]   \n",
       "\n",
       "   Age_Band          FareBand  Fare_Band  FamilySize  IsAlone  \n",
       "0         1    (-0.001, 7.75]          0           2        0  \n",
       "1         3  (69.55, 512.329]          2           2        0  \n",
       "2         3   (7.896, 10.008]          0           1        1  \n",
       "3         3   (31.275, 69.55]          1           2        0  \n",
       "4         3   (7.896, 10.008]          0           1        1  "
      ]
     },
     "execution_count": 37,
     "metadata": {},
     "output_type": "execute_result"
    }
   ],
   "source": [
    "train_test_data.head()"
   ]
  },
  {
   "cell_type": "markdown",
   "id": "b8c425bc",
   "metadata": {
    "papermill": {
     "duration": 0.042777,
     "end_time": "2021-07-31T02:38:50.963740",
     "exception": false,
     "start_time": "2021-07-31T02:38:50.920963",
     "status": "completed"
    },
    "tags": []
   },
   "source": [
    "# Dropping the un-necessary columns for good predictions"
   ]
  },
  {
   "cell_type": "code",
   "execution_count": 38,
   "id": "27cd5943",
   "metadata": {
    "execution": {
     "iopub.execute_input": "2021-07-31T02:38:51.054102Z",
     "iopub.status.busy": "2021-07-31T02:38:51.053551Z",
     "iopub.status.idle": "2021-07-31T02:38:51.059329Z",
     "shell.execute_reply": "2021-07-31T02:38:51.058805Z",
     "shell.execute_reply.started": "2021-07-29T13:41:16.647574Z"
    },
    "papermill": {
     "duration": 0.052226,
     "end_time": "2021-07-31T02:38:51.059474",
     "exception": false,
     "start_time": "2021-07-31T02:38:51.007248",
     "status": "completed"
    },
    "tags": []
   },
   "outputs": [],
   "source": [
    "drop_cols = ['Age', 'Cabin', 'Fare', 'Name', 'Parch', 'SibSp', 'Ticket', 'AgeBand',\n",
    "             'FareBand', 'FamilySize']\n",
    "\n",
    "train_test_data.drop(columns=drop_cols, inplace=True)"
   ]
  },
  {
   "cell_type": "code",
   "execution_count": 39,
   "id": "b9f363a3",
   "metadata": {
    "execution": {
     "iopub.execute_input": "2021-07-31T02:38:51.158235Z",
     "iopub.status.busy": "2021-07-31T02:38:51.157573Z",
     "iopub.status.idle": "2021-07-31T02:38:51.161845Z",
     "shell.execute_reply": "2021-07-31T02:38:51.161289Z",
     "shell.execute_reply.started": "2021-07-29T13:41:16.665499Z"
    },
    "papermill": {
     "duration": 0.058719,
     "end_time": "2021-07-31T02:38:51.161973",
     "exception": false,
     "start_time": "2021-07-31T02:38:51.103254",
     "status": "completed"
    },
    "tags": []
   },
   "outputs": [
    {
     "data": {
      "text/html": [
       "<div>\n",
       "<style scoped>\n",
       "    .dataframe tbody tr th:only-of-type {\n",
       "        vertical-align: middle;\n",
       "    }\n",
       "\n",
       "    .dataframe tbody tr th {\n",
       "        vertical-align: top;\n",
       "    }\n",
       "\n",
       "    .dataframe thead th {\n",
       "        text-align: right;\n",
       "    }\n",
       "</style>\n",
       "<table border=\"1\" class=\"dataframe\">\n",
       "  <thead>\n",
       "    <tr style=\"text-align: right;\">\n",
       "      <th></th>\n",
       "      <th>Embarked</th>\n",
       "      <th>PassengerId</th>\n",
       "      <th>Pclass</th>\n",
       "      <th>Sex</th>\n",
       "      <th>Survived</th>\n",
       "      <th>Title</th>\n",
       "      <th>Age_Band</th>\n",
       "      <th>Fare_Band</th>\n",
       "      <th>IsAlone</th>\n",
       "    </tr>\n",
       "  </thead>\n",
       "  <tbody>\n",
       "    <tr>\n",
       "      <th>0</th>\n",
       "      <td>0</td>\n",
       "      <td>1</td>\n",
       "      <td>3</td>\n",
       "      <td>0</td>\n",
       "      <td>0.0</td>\n",
       "      <td>2</td>\n",
       "      <td>1</td>\n",
       "      <td>0</td>\n",
       "      <td>0</td>\n",
       "    </tr>\n",
       "    <tr>\n",
       "      <th>1</th>\n",
       "      <td>1</td>\n",
       "      <td>2</td>\n",
       "      <td>1</td>\n",
       "      <td>1</td>\n",
       "      <td>1.0</td>\n",
       "      <td>3</td>\n",
       "      <td>3</td>\n",
       "      <td>2</td>\n",
       "      <td>0</td>\n",
       "    </tr>\n",
       "    <tr>\n",
       "      <th>2</th>\n",
       "      <td>0</td>\n",
       "      <td>3</td>\n",
       "      <td>3</td>\n",
       "      <td>1</td>\n",
       "      <td>1.0</td>\n",
       "      <td>1</td>\n",
       "      <td>3</td>\n",
       "      <td>0</td>\n",
       "      <td>1</td>\n",
       "    </tr>\n",
       "    <tr>\n",
       "      <th>3</th>\n",
       "      <td>0</td>\n",
       "      <td>4</td>\n",
       "      <td>1</td>\n",
       "      <td>1</td>\n",
       "      <td>1.0</td>\n",
       "      <td>3</td>\n",
       "      <td>3</td>\n",
       "      <td>1</td>\n",
       "      <td>0</td>\n",
       "    </tr>\n",
       "    <tr>\n",
       "      <th>4</th>\n",
       "      <td>0</td>\n",
       "      <td>5</td>\n",
       "      <td>3</td>\n",
       "      <td>0</td>\n",
       "      <td>0.0</td>\n",
       "      <td>2</td>\n",
       "      <td>3</td>\n",
       "      <td>0</td>\n",
       "      <td>1</td>\n",
       "    </tr>\n",
       "  </tbody>\n",
       "</table>\n",
       "</div>"
      ],
      "text/plain": [
       "   Embarked  PassengerId  Pclass  Sex  Survived  Title  Age_Band  Fare_Band  \\\n",
       "0         0            1       3    0       0.0      2         1          0   \n",
       "1         1            2       1    1       1.0      3         3          2   \n",
       "2         0            3       3    1       1.0      1         3          0   \n",
       "3         0            4       1    1       1.0      3         3          1   \n",
       "4         0            5       3    0       0.0      2         3          0   \n",
       "\n",
       "   IsAlone  \n",
       "0        0  \n",
       "1        0  \n",
       "2        1  \n",
       "3        0  \n",
       "4        1  "
      ]
     },
     "execution_count": 39,
     "metadata": {},
     "output_type": "execute_result"
    }
   ],
   "source": [
    "train_test_data.head()"
   ]
  },
  {
   "cell_type": "markdown",
   "id": "2c2cb66a",
   "metadata": {
    "papermill": {
     "duration": 0.043367,
     "end_time": "2021-07-31T02:38:51.249415",
     "exception": false,
     "start_time": "2021-07-31T02:38:51.206048",
     "status": "completed"
    },
    "tags": []
   },
   "source": [
    "# Separating out our training data and test data"
   ]
  },
  {
   "cell_type": "code",
   "execution_count": 40,
   "id": "569e526b",
   "metadata": {
    "execution": {
     "iopub.execute_input": "2021-07-31T02:38:51.350252Z",
     "iopub.status.busy": "2021-07-31T02:38:51.349530Z",
     "iopub.status.idle": "2021-07-31T02:38:51.352376Z",
     "shell.execute_reply": "2021-07-31T02:38:51.352803Z",
     "shell.execute_reply.started": "2021-07-29T13:41:16.69193Z"
    },
    "papermill": {
     "duration": 0.059644,
     "end_time": "2021-07-31T02:38:51.352974",
     "exception": false,
     "start_time": "2021-07-31T02:38:51.293330",
     "status": "completed"
    },
    "tags": []
   },
   "outputs": [
    {
     "data": {
      "text/html": [
       "<div>\n",
       "<style scoped>\n",
       "    .dataframe tbody tr th:only-of-type {\n",
       "        vertical-align: middle;\n",
       "    }\n",
       "\n",
       "    .dataframe tbody tr th {\n",
       "        vertical-align: top;\n",
       "    }\n",
       "\n",
       "    .dataframe thead th {\n",
       "        text-align: right;\n",
       "    }\n",
       "</style>\n",
       "<table border=\"1\" class=\"dataframe\">\n",
       "  <thead>\n",
       "    <tr style=\"text-align: right;\">\n",
       "      <th></th>\n",
       "      <th>Embarked</th>\n",
       "      <th>PassengerId</th>\n",
       "      <th>Pclass</th>\n",
       "      <th>Sex</th>\n",
       "      <th>Survived</th>\n",
       "      <th>Title</th>\n",
       "      <th>Age_Band</th>\n",
       "      <th>Fare_Band</th>\n",
       "      <th>IsAlone</th>\n",
       "    </tr>\n",
       "  </thead>\n",
       "  <tbody>\n",
       "    <tr>\n",
       "      <th>0</th>\n",
       "      <td>0</td>\n",
       "      <td>1</td>\n",
       "      <td>3</td>\n",
       "      <td>0</td>\n",
       "      <td>0.0</td>\n",
       "      <td>2</td>\n",
       "      <td>1</td>\n",
       "      <td>0</td>\n",
       "      <td>0</td>\n",
       "    </tr>\n",
       "    <tr>\n",
       "      <th>1</th>\n",
       "      <td>1</td>\n",
       "      <td>2</td>\n",
       "      <td>1</td>\n",
       "      <td>1</td>\n",
       "      <td>1.0</td>\n",
       "      <td>3</td>\n",
       "      <td>3</td>\n",
       "      <td>2</td>\n",
       "      <td>0</td>\n",
       "    </tr>\n",
       "    <tr>\n",
       "      <th>2</th>\n",
       "      <td>0</td>\n",
       "      <td>3</td>\n",
       "      <td>3</td>\n",
       "      <td>1</td>\n",
       "      <td>1.0</td>\n",
       "      <td>1</td>\n",
       "      <td>3</td>\n",
       "      <td>0</td>\n",
       "      <td>1</td>\n",
       "    </tr>\n",
       "    <tr>\n",
       "      <th>3</th>\n",
       "      <td>0</td>\n",
       "      <td>4</td>\n",
       "      <td>1</td>\n",
       "      <td>1</td>\n",
       "      <td>1.0</td>\n",
       "      <td>3</td>\n",
       "      <td>3</td>\n",
       "      <td>1</td>\n",
       "      <td>0</td>\n",
       "    </tr>\n",
       "    <tr>\n",
       "      <th>4</th>\n",
       "      <td>0</td>\n",
       "      <td>5</td>\n",
       "      <td>3</td>\n",
       "      <td>0</td>\n",
       "      <td>0.0</td>\n",
       "      <td>2</td>\n",
       "      <td>3</td>\n",
       "      <td>0</td>\n",
       "      <td>1</td>\n",
       "    </tr>\n",
       "  </tbody>\n",
       "</table>\n",
       "</div>"
      ],
      "text/plain": [
       "   Embarked  PassengerId  Pclass  Sex  Survived  Title  Age_Band  Fare_Band  \\\n",
       "0         0            1       3    0       0.0      2         1          0   \n",
       "1         1            2       1    1       1.0      3         3          2   \n",
       "2         0            3       3    1       1.0      1         3          0   \n",
       "3         0            4       1    1       1.0      3         3          1   \n",
       "4         0            5       3    0       0.0      2         3          0   \n",
       "\n",
       "   IsAlone  \n",
       "0        0  \n",
       "1        0  \n",
       "2        1  \n",
       "3        0  \n",
       "4        1  "
      ]
     },
     "execution_count": 40,
     "metadata": {},
     "output_type": "execute_result"
    }
   ],
   "source": [
    "train_data = train_test_data[train_test_data['Survived'].notna()]\n",
    "train_data.head()"
   ]
  },
  {
   "cell_type": "code",
   "execution_count": 41,
   "id": "75542fe1",
   "metadata": {
    "execution": {
     "iopub.execute_input": "2021-07-31T02:38:51.446977Z",
     "iopub.status.busy": "2021-07-31T02:38:51.446384Z",
     "iopub.status.idle": "2021-07-31T02:38:51.452788Z",
     "shell.execute_reply": "2021-07-31T02:38:51.451977Z",
     "shell.execute_reply.started": "2021-07-29T13:41:16.718475Z"
    },
    "papermill": {
     "duration": 0.053976,
     "end_time": "2021-07-31T02:38:51.452976",
     "exception": false,
     "start_time": "2021-07-31T02:38:51.399000",
     "status": "completed"
    },
    "tags": []
   },
   "outputs": [
    {
     "name": "stderr",
     "output_type": "stream",
     "text": [
      "/opt/conda/lib/python3.7/site-packages/ipykernel_launcher.py:1: SettingWithCopyWarning: \n",
      "A value is trying to be set on a copy of a slice from a DataFrame.\n",
      "Try using .loc[row_indexer,col_indexer] = value instead\n",
      "\n",
      "See the caveats in the documentation: https://pandas.pydata.org/pandas-docs/stable/user_guide/indexing.html#returning-a-view-versus-a-copy\n",
      "  \"\"\"Entry point for launching an IPython kernel.\n"
     ]
    }
   ],
   "source": [
    "train_data['Survived'] = train_data['Survived'].astype(int)"
   ]
  },
  {
   "cell_type": "code",
   "execution_count": 42,
   "id": "04e8d230",
   "metadata": {
    "execution": {
     "iopub.execute_input": "2021-07-31T02:38:51.546235Z",
     "iopub.status.busy": "2021-07-31T02:38:51.545330Z",
     "iopub.status.idle": "2021-07-31T02:38:51.556488Z",
     "shell.execute_reply": "2021-07-31T02:38:51.556929Z",
     "shell.execute_reply.started": "2021-07-29T13:41:16.73341Z"
    },
    "papermill": {
     "duration": 0.05897,
     "end_time": "2021-07-31T02:38:51.557113",
     "exception": false,
     "start_time": "2021-07-31T02:38:51.498143",
     "status": "completed"
    },
    "tags": []
   },
   "outputs": [
    {
     "data": {
      "text/html": [
       "<div>\n",
       "<style scoped>\n",
       "    .dataframe tbody tr th:only-of-type {\n",
       "        vertical-align: middle;\n",
       "    }\n",
       "\n",
       "    .dataframe tbody tr th {\n",
       "        vertical-align: top;\n",
       "    }\n",
       "\n",
       "    .dataframe thead th {\n",
       "        text-align: right;\n",
       "    }\n",
       "</style>\n",
       "<table border=\"1\" class=\"dataframe\">\n",
       "  <thead>\n",
       "    <tr style=\"text-align: right;\">\n",
       "      <th></th>\n",
       "      <th>Embarked</th>\n",
       "      <th>PassengerId</th>\n",
       "      <th>Pclass</th>\n",
       "      <th>Sex</th>\n",
       "      <th>Survived</th>\n",
       "      <th>Title</th>\n",
       "      <th>Age_Band</th>\n",
       "      <th>Fare_Band</th>\n",
       "      <th>IsAlone</th>\n",
       "    </tr>\n",
       "  </thead>\n",
       "  <tbody>\n",
       "    <tr>\n",
       "      <th>0</th>\n",
       "      <td>0</td>\n",
       "      <td>1</td>\n",
       "      <td>3</td>\n",
       "      <td>0</td>\n",
       "      <td>0</td>\n",
       "      <td>2</td>\n",
       "      <td>1</td>\n",
       "      <td>0</td>\n",
       "      <td>0</td>\n",
       "    </tr>\n",
       "    <tr>\n",
       "      <th>1</th>\n",
       "      <td>1</td>\n",
       "      <td>2</td>\n",
       "      <td>1</td>\n",
       "      <td>1</td>\n",
       "      <td>1</td>\n",
       "      <td>3</td>\n",
       "      <td>3</td>\n",
       "      <td>2</td>\n",
       "      <td>0</td>\n",
       "    </tr>\n",
       "    <tr>\n",
       "      <th>2</th>\n",
       "      <td>0</td>\n",
       "      <td>3</td>\n",
       "      <td>3</td>\n",
       "      <td>1</td>\n",
       "      <td>1</td>\n",
       "      <td>1</td>\n",
       "      <td>3</td>\n",
       "      <td>0</td>\n",
       "      <td>1</td>\n",
       "    </tr>\n",
       "    <tr>\n",
       "      <th>3</th>\n",
       "      <td>0</td>\n",
       "      <td>4</td>\n",
       "      <td>1</td>\n",
       "      <td>1</td>\n",
       "      <td>1</td>\n",
       "      <td>3</td>\n",
       "      <td>3</td>\n",
       "      <td>1</td>\n",
       "      <td>0</td>\n",
       "    </tr>\n",
       "    <tr>\n",
       "      <th>4</th>\n",
       "      <td>0</td>\n",
       "      <td>5</td>\n",
       "      <td>3</td>\n",
       "      <td>0</td>\n",
       "      <td>0</td>\n",
       "      <td>2</td>\n",
       "      <td>3</td>\n",
       "      <td>0</td>\n",
       "      <td>1</td>\n",
       "    </tr>\n",
       "  </tbody>\n",
       "</table>\n",
       "</div>"
      ],
      "text/plain": [
       "   Embarked  PassengerId  Pclass  Sex  Survived  Title  Age_Band  Fare_Band  \\\n",
       "0         0            1       3    0         0      2         1          0   \n",
       "1         1            2       1    1         1      3         3          2   \n",
       "2         0            3       3    1         1      1         3          0   \n",
       "3         0            4       1    1         1      3         3          1   \n",
       "4         0            5       3    0         0      2         3          0   \n",
       "\n",
       "   IsAlone  \n",
       "0        0  \n",
       "1        0  \n",
       "2        1  \n",
       "3        0  \n",
       "4        1  "
      ]
     },
     "execution_count": 42,
     "metadata": {},
     "output_type": "execute_result"
    }
   ],
   "source": [
    "train_data.head()"
   ]
  },
  {
   "cell_type": "markdown",
   "id": "3c8b6883",
   "metadata": {
    "papermill": {
     "duration": 0.044636,
     "end_time": "2021-07-31T02:38:51.646152",
     "exception": false,
     "start_time": "2021-07-31T02:38:51.601516",
     "status": "completed"
    },
    "tags": []
   },
   "source": [
    "**Separating test data**"
   ]
  },
  {
   "cell_type": "code",
   "execution_count": 43,
   "id": "b5f1592e",
   "metadata": {
    "execution": {
     "iopub.execute_input": "2021-07-31T02:38:51.740355Z",
     "iopub.status.busy": "2021-07-31T02:38:51.739392Z",
     "iopub.status.idle": "2021-07-31T02:38:51.745105Z",
     "shell.execute_reply": "2021-07-31T02:38:51.745566Z",
     "shell.execute_reply.started": "2021-07-29T13:41:16.755043Z"
    },
    "papermill": {
     "duration": 0.054032,
     "end_time": "2021-07-31T02:38:51.745737",
     "exception": false,
     "start_time": "2021-07-31T02:38:51.691705",
     "status": "completed"
    },
    "tags": []
   },
   "outputs": [],
   "source": [
    "test_data = train_test_data.drop(train_test_data[train_test_data.Survived >= 0].index)"
   ]
  },
  {
   "cell_type": "code",
   "execution_count": 44,
   "id": "b97d5e78",
   "metadata": {
    "execution": {
     "iopub.execute_input": "2021-07-31T02:38:51.839329Z",
     "iopub.status.busy": "2021-07-31T02:38:51.838439Z",
     "iopub.status.idle": "2021-07-31T02:38:51.850078Z",
     "shell.execute_reply": "2021-07-31T02:38:51.850519Z",
     "shell.execute_reply.started": "2021-07-29T13:41:16.774033Z"
    },
    "papermill": {
     "duration": 0.059871,
     "end_time": "2021-07-31T02:38:51.850684",
     "exception": false,
     "start_time": "2021-07-31T02:38:51.790813",
     "status": "completed"
    },
    "tags": []
   },
   "outputs": [
    {
     "data": {
      "text/html": [
       "<div>\n",
       "<style scoped>\n",
       "    .dataframe tbody tr th:only-of-type {\n",
       "        vertical-align: middle;\n",
       "    }\n",
       "\n",
       "    .dataframe tbody tr th {\n",
       "        vertical-align: top;\n",
       "    }\n",
       "\n",
       "    .dataframe thead th {\n",
       "        text-align: right;\n",
       "    }\n",
       "</style>\n",
       "<table border=\"1\" class=\"dataframe\">\n",
       "  <thead>\n",
       "    <tr style=\"text-align: right;\">\n",
       "      <th></th>\n",
       "      <th>Embarked</th>\n",
       "      <th>PassengerId</th>\n",
       "      <th>Pclass</th>\n",
       "      <th>Sex</th>\n",
       "      <th>Survived</th>\n",
       "      <th>Title</th>\n",
       "      <th>Age_Band</th>\n",
       "      <th>Fare_Band</th>\n",
       "      <th>IsAlone</th>\n",
       "    </tr>\n",
       "  </thead>\n",
       "  <tbody>\n",
       "    <tr>\n",
       "      <th>891</th>\n",
       "      <td>2</td>\n",
       "      <td>892</td>\n",
       "      <td>3</td>\n",
       "      <td>0</td>\n",
       "      <td>NaN</td>\n",
       "      <td>2</td>\n",
       "      <td>3</td>\n",
       "      <td>0</td>\n",
       "      <td>1</td>\n",
       "    </tr>\n",
       "    <tr>\n",
       "      <th>892</th>\n",
       "      <td>0</td>\n",
       "      <td>893</td>\n",
       "      <td>3</td>\n",
       "      <td>1</td>\n",
       "      <td>NaN</td>\n",
       "      <td>3</td>\n",
       "      <td>4</td>\n",
       "      <td>0</td>\n",
       "      <td>0</td>\n",
       "    </tr>\n",
       "    <tr>\n",
       "      <th>893</th>\n",
       "      <td>2</td>\n",
       "      <td>894</td>\n",
       "      <td>2</td>\n",
       "      <td>0</td>\n",
       "      <td>NaN</td>\n",
       "      <td>2</td>\n",
       "      <td>4</td>\n",
       "      <td>0</td>\n",
       "      <td>1</td>\n",
       "    </tr>\n",
       "    <tr>\n",
       "      <th>894</th>\n",
       "      <td>0</td>\n",
       "      <td>895</td>\n",
       "      <td>3</td>\n",
       "      <td>0</td>\n",
       "      <td>NaN</td>\n",
       "      <td>2</td>\n",
       "      <td>3</td>\n",
       "      <td>0</td>\n",
       "      <td>1</td>\n",
       "    </tr>\n",
       "    <tr>\n",
       "      <th>895</th>\n",
       "      <td>0</td>\n",
       "      <td>896</td>\n",
       "      <td>3</td>\n",
       "      <td>1</td>\n",
       "      <td>NaN</td>\n",
       "      <td>3</td>\n",
       "      <td>1</td>\n",
       "      <td>1</td>\n",
       "      <td>0</td>\n",
       "    </tr>\n",
       "  </tbody>\n",
       "</table>\n",
       "</div>"
      ],
      "text/plain": [
       "     Embarked  PassengerId  Pclass  Sex  Survived  Title  Age_Band  Fare_Band  \\\n",
       "891         2          892       3    0       NaN      2         3          0   \n",
       "892         0          893       3    1       NaN      3         4          0   \n",
       "893         2          894       2    0       NaN      2         4          0   \n",
       "894         0          895       3    0       NaN      2         3          0   \n",
       "895         0          896       3    1       NaN      3         1          1   \n",
       "\n",
       "     IsAlone  \n",
       "891        1  \n",
       "892        0  \n",
       "893        1  \n",
       "894        1  \n",
       "895        0  "
      ]
     },
     "execution_count": 44,
     "metadata": {},
     "output_type": "execute_result"
    }
   ],
   "source": [
    "test_data.head()"
   ]
  },
  {
   "cell_type": "markdown",
   "id": "3883f204",
   "metadata": {
    "papermill": {
     "duration": 0.04475,
     "end_time": "2021-07-31T02:38:51.941321",
     "exception": false,
     "start_time": "2021-07-31T02:38:51.896571",
     "status": "completed"
    },
    "tags": []
   },
   "source": [
    "# Using random forest Classifier MODEL"
   ]
  },
  {
   "cell_type": "markdown",
   "id": "0fb54a3b",
   "metadata": {
    "papermill": {
     "duration": 0.045486,
     "end_time": "2021-07-31T02:38:52.032389",
     "exception": false,
     "start_time": "2021-07-31T02:38:51.986903",
     "status": "completed"
    },
    "tags": []
   },
   "source": [
    "** Categorical columns to dummies**"
   ]
  },
  {
   "cell_type": "code",
   "execution_count": 45,
   "id": "8bd3aa31",
   "metadata": {
    "execution": {
     "iopub.execute_input": "2021-07-31T02:38:52.126943Z",
     "iopub.status.busy": "2021-07-31T02:38:52.126065Z",
     "iopub.status.idle": "2021-07-31T02:38:52.668781Z",
     "shell.execute_reply": "2021-07-31T02:38:52.668252Z",
     "shell.execute_reply.started": "2021-07-29T13:41:38.053919Z"
    },
    "papermill": {
     "duration": 0.590576,
     "end_time": "2021-07-31T02:38:52.668916",
     "exception": false,
     "start_time": "2021-07-31T02:38:52.078340",
     "status": "completed"
    },
    "tags": []
   },
   "outputs": [],
   "source": [
    "y = train_data[\"Survived\"]\n",
    "features = [\"Embarked\", \"Pclass\", \"Sex\", \"Title\", \"Age_Band\", \"Fare_Band\", \"IsAlone\"]\n",
    "X = pd.get_dummies(train_data[features])\n",
    "X_test = pd.get_dummies(test_data[features])\n",
    "\n",
    "from sklearn.ensemble import RandomForestClassifier\n",
    "model = RandomForestClassifier(n_estimators=100, max_depth=5, random_state=1)\n",
    "model.fit(X, y)\n",
    "predictions = model.predict(X_test)"
   ]
  },
  {
   "cell_type": "code",
   "execution_count": 46,
   "id": "3d406245",
   "metadata": {
    "execution": {
     "iopub.execute_input": "2021-07-31T02:38:52.768283Z",
     "iopub.status.busy": "2021-07-31T02:38:52.767706Z",
     "iopub.status.idle": "2021-07-31T02:38:52.788406Z",
     "shell.execute_reply": "2021-07-31T02:38:52.788807Z",
     "shell.execute_reply.started": "2021-07-29T13:41:38.460046Z"
    },
    "papermill": {
     "duration": 0.073167,
     "end_time": "2021-07-31T02:38:52.788979",
     "exception": false,
     "start_time": "2021-07-31T02:38:52.715812",
     "status": "completed"
    },
    "tags": []
   },
   "outputs": [
    {
     "name": "stdout",
     "output_type": "stream",
     "text": [
      "83.61\n"
     ]
    }
   ],
   "source": [
    "acc_random_forest = round(model.score(X, train_data['Survived']) * 100, 2)\n",
    "print (acc_random_forest)"
   ]
  },
  {
   "cell_type": "markdown",
   "id": "bba5b546",
   "metadata": {
    "papermill": {
     "duration": 0.045462,
     "end_time": "2021-07-31T02:38:52.881191",
     "exception": false,
     "start_time": "2021-07-31T02:38:52.835729",
     "status": "completed"
    },
    "tags": []
   },
   "source": [
    "# Submission"
   ]
  },
  {
   "cell_type": "code",
   "execution_count": 47,
   "id": "799938c7",
   "metadata": {
    "execution": {
     "iopub.execute_input": "2021-07-31T02:38:52.980775Z",
     "iopub.status.busy": "2021-07-31T02:38:52.979830Z",
     "iopub.status.idle": "2021-07-31T02:38:52.986913Z",
     "shell.execute_reply": "2021-07-31T02:38:52.986334Z",
     "shell.execute_reply.started": "2021-07-29T13:41:17.180203Z"
    },
    "papermill": {
     "duration": 0.060128,
     "end_time": "2021-07-31T02:38:52.987078",
     "exception": false,
     "start_time": "2021-07-31T02:38:52.926950",
     "status": "completed"
    },
    "tags": []
   },
   "outputs": [
    {
     "name": "stdout",
     "output_type": "stream",
     "text": [
      "Your submission was successfully saved!\n"
     ]
    }
   ],
   "source": [
    "output = pd.DataFrame({'PassengerId': test_data.PassengerId, 'Survived': predictions})\n",
    "output.to_csv('submission.csv', index=False)\n",
    "print(\"Your submission was successfully saved!\")"
   ]
  },
  {
   "cell_type": "code",
   "execution_count": null,
   "id": "5c1bf1f0",
   "metadata": {
    "papermill": {
     "duration": 0.045904,
     "end_time": "2021-07-31T02:38:53.079251",
     "exception": false,
     "start_time": "2021-07-31T02:38:53.033347",
     "status": "completed"
    },
    "tags": []
   },
   "outputs": [],
   "source": []
  }
 ],
 "metadata": {
  "kernelspec": {
   "display_name": "Python 3",
   "language": "python",
   "name": "python3"
  },
  "language_info": {
   "codemirror_mode": {
    "name": "ipython",
    "version": 3
   },
   "file_extension": ".py",
   "mimetype": "text/x-python",
   "name": "python",
   "nbconvert_exporter": "python",
   "pygments_lexer": "ipython3",
   "version": "3.7.10"
  },
  "papermill": {
   "default_parameters": {},
   "duration": 16.864905,
   "end_time": "2021-07-31T02:38:54.689391",
   "environment_variables": {},
   "exception": null,
   "input_path": "__notebook__.ipynb",
   "output_path": "__notebook__.ipynb",
   "parameters": {},
   "start_time": "2021-07-31T02:38:37.824486",
   "version": "2.3.3"
  }
 },
 "nbformat": 4,
 "nbformat_minor": 5
}
