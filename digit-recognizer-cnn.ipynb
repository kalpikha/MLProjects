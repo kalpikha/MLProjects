{
 "cells": [
  {
   "cell_type": "markdown",
   "id": "d3ccb52f",
   "metadata": {
    "papermill": {
     "duration": 0.0321,
     "end_time": "2022-02-26T10:06:17.503942",
     "exception": false,
     "start_time": "2022-02-26T10:06:17.471842",
     "status": "completed"
    },
    "tags": []
   },
   "source": [
    "# Convolution Neural Nets for Digit Recognizer"
   ]
  },
  {
   "cell_type": "markdown",
   "id": "18a17188",
   "metadata": {
    "papermill": {
     "duration": 0.019407,
     "end_time": "2022-02-26T10:06:17.546629",
     "exception": false,
     "start_time": "2022-02-26T10:06:17.527222",
     "status": "completed"
    },
    "tags": []
   },
   "source": [
    "**Importing relevant libraries**"
   ]
  },
  {
   "cell_type": "code",
   "execution_count": 1,
   "id": "01d20d1f",
   "metadata": {
    "_cell_guid": "b1076dfc-b9ad-4769-8c92-a6c4dae69d19",
    "_uuid": "8f2839f25d086af736a60e9eeb907d3b93b6e0e5",
    "execution": {
     "iopub.execute_input": "2022-02-26T10:06:17.592175Z",
     "iopub.status.busy": "2022-02-26T10:06:17.591362Z",
     "iopub.status.idle": "2022-02-26T10:06:23.966827Z",
     "shell.execute_reply": "2022-02-26T10:06:23.967319Z",
     "shell.execute_reply.started": "2022-02-26T09:40:01.749201Z"
    },
    "papermill": {
     "duration": 6.402946,
     "end_time": "2022-02-26T10:06:23.967640",
     "exception": false,
     "start_time": "2022-02-26T10:06:17.564694",
     "status": "completed"
    },
    "tags": []
   },
   "outputs": [
    {
     "name": "stdout",
     "output_type": "stream",
     "text": [
      "/kaggle/input/digit-recognizer/sample_submission.csv\n",
      "/kaggle/input/digit-recognizer/train.csv\n",
      "/kaggle/input/digit-recognizer/test.csv\n"
     ]
    }
   ],
   "source": [
    "import numpy as np # linear algebra\n",
    "import pandas as pd # data processing, CSV file I/O (e.g. pd.read_csv)\n",
    "\n",
    "import warnings\n",
    "warnings.filterwarnings(\"ignore\")\n",
    "\n",
    "import tensorflow as tf\n",
    "\n",
    "from sklearn.model_selection import train_test_split as tts\n",
    "\n",
    "import os\n",
    "for dirname, _, filenames in os.walk('/kaggle/input'):\n",
    "    for filename in filenames:\n",
    "        print(os.path.join(dirname, filename))        "
   ]
  },
  {
   "cell_type": "markdown",
   "id": "37fd82ac",
   "metadata": {
    "papermill": {
     "duration": 0.018153,
     "end_time": "2022-02-26T10:06:24.003913",
     "exception": false,
     "start_time": "2022-02-26T10:06:23.985760",
     "status": "completed"
    },
    "tags": []
   },
   "source": [
    "**Loading data**"
   ]
  },
  {
   "cell_type": "code",
   "execution_count": 2,
   "id": "bb65fa77",
   "metadata": {
    "execution": {
     "iopub.execute_input": "2022-02-26T10:06:24.045097Z",
     "iopub.status.busy": "2022-02-26T10:06:24.044226Z",
     "iopub.status.idle": "2022-02-26T10:06:29.011634Z",
     "shell.execute_reply": "2022-02-26T10:06:29.011193Z",
     "shell.execute_reply.started": "2022-02-26T09:40:02.236099Z"
    },
    "papermill": {
     "duration": 4.990242,
     "end_time": "2022-02-26T10:06:29.011749",
     "exception": false,
     "start_time": "2022-02-26T10:06:24.021507",
     "status": "completed"
    },
    "tags": []
   },
   "outputs": [],
   "source": [
    "traindf = pd.read_csv('../input/digit-recognizer/train.csv')\n",
    "testdf = pd.read_csv('../input/digit-recognizer/test.csv')"
   ]
  },
  {
   "cell_type": "code",
   "execution_count": 3,
   "id": "7dacd119",
   "metadata": {
    "execution": {
     "iopub.execute_input": "2022-02-26T10:06:29.055728Z",
     "iopub.status.busy": "2022-02-26T10:06:29.055118Z",
     "iopub.status.idle": "2022-02-26T10:06:29.110972Z",
     "shell.execute_reply": "2022-02-26T10:06:29.110527Z",
     "shell.execute_reply.started": "2022-02-26T09:40:07.000933Z"
    },
    "papermill": {
     "duration": 0.081408,
     "end_time": "2022-02-26T10:06:29.111085",
     "exception": false,
     "start_time": "2022-02-26T10:06:29.029677",
     "status": "completed"
    },
    "tags": []
   },
   "outputs": [
    {
     "name": "stdout",
     "output_type": "stream",
     "text": [
      "<class 'pandas.core.frame.DataFrame'>\n",
      "RangeIndex: 42000 entries, 0 to 41999\n",
      "Columns: 785 entries, label to pixel783\n",
      "dtypes: int64(785)\n",
      "memory usage: 251.5 MB\n"
     ]
    }
   ],
   "source": [
    "traindf.info()"
   ]
  },
  {
   "cell_type": "markdown",
   "id": "597d917c",
   "metadata": {
    "papermill": {
     "duration": 0.017431,
     "end_time": "2022-02-26T10:06:29.146736",
     "exception": false,
     "start_time": "2022-02-26T10:06:29.129305",
     "status": "completed"
    },
    "tags": []
   },
   "source": [
    "**Splitting into inputs as X and targets as y**"
   ]
  },
  {
   "cell_type": "code",
   "execution_count": 4,
   "id": "90b9d8aa",
   "metadata": {
    "execution": {
     "iopub.execute_input": "2022-02-26T10:06:29.231302Z",
     "iopub.status.busy": "2022-02-26T10:06:29.230617Z",
     "iopub.status.idle": "2022-02-26T10:06:29.232286Z",
     "shell.execute_reply": "2022-02-26T10:06:29.232760Z",
     "shell.execute_reply.started": "2022-02-26T09:40:07.058151Z"
    },
    "papermill": {
     "duration": 0.068657,
     "end_time": "2022-02-26T10:06:29.232896",
     "exception": false,
     "start_time": "2022-02-26T10:06:29.164239",
     "status": "completed"
    },
    "tags": []
   },
   "outputs": [],
   "source": [
    "X = traindf.drop('label', axis = 1).values\n",
    "y = traindf.label.values"
   ]
  },
  {
   "cell_type": "markdown",
   "id": "f17632fa",
   "metadata": {
    "papermill": {
     "duration": 0.017974,
     "end_time": "2022-02-26T10:06:29.268574",
     "exception": false,
     "start_time": "2022-02-26T10:06:29.250600",
     "status": "completed"
    },
    "tags": []
   },
   "source": [
    "**Reshaping data**"
   ]
  },
  {
   "cell_type": "code",
   "execution_count": 5,
   "id": "274c0337",
   "metadata": {
    "execution": {
     "iopub.execute_input": "2022-02-26T10:06:29.307515Z",
     "iopub.status.busy": "2022-02-26T10:06:29.306875Z",
     "iopub.status.idle": "2022-02-26T10:06:29.311532Z",
     "shell.execute_reply": "2022-02-26T10:06:29.311915Z",
     "shell.execute_reply.started": "2022-02-26T09:40:07.163984Z"
    },
    "papermill": {
     "duration": 0.02531,
     "end_time": "2022-02-26T10:06:29.312049",
     "exception": false,
     "start_time": "2022-02-26T10:06:29.286739",
     "status": "completed"
    },
    "tags": []
   },
   "outputs": [],
   "source": [
    "#convert train and test datasets to (num_images, img_rows, img_cols,1)\n",
    "X = X.reshape(X.shape[0], 28, 28,1)\n",
    "test_df = testdf.values.reshape(testdf.shape[0], 28, 28,1)\n",
    "\n",
    "y = y.reshape(-1,1)"
   ]
  },
  {
   "cell_type": "markdown",
   "id": "4d2fb74f",
   "metadata": {
    "papermill": {
     "duration": 0.017566,
     "end_time": "2022-02-26T10:06:29.347628",
     "exception": false,
     "start_time": "2022-02-26T10:06:29.330062",
     "status": "completed"
    },
    "tags": []
   },
   "source": [
    "# Visualizing handwritten digits"
   ]
  },
  {
   "cell_type": "code",
   "execution_count": 6,
   "id": "cd2b75c8",
   "metadata": {
    "execution": {
     "iopub.execute_input": "2022-02-26T10:06:29.392204Z",
     "iopub.status.busy": "2022-02-26T10:06:29.391740Z",
     "iopub.status.idle": "2022-02-26T10:06:30.638844Z",
     "shell.execute_reply": "2022-02-26T10:06:30.638214Z",
     "shell.execute_reply.started": "2022-02-26T09:40:07.178552Z"
    },
    "papermill": {
     "duration": 1.273794,
     "end_time": "2022-02-26T10:06:30.639013",
     "exception": false,
     "start_time": "2022-02-26T10:06:29.365219",
     "status": "completed"
    },
    "tags": []
   },
   "outputs": [
    {
     "data": {
      "image/png": "[encoded data removed]",
      "text/plain": [
       "<Figure size 432x288 with 1 Axes>"
      ]
     },
     "metadata": {
      "needs_background": "light"
     },
     "output_type": "display_data"
    },
    {
     "data": {
      "image/png": "[encoded data removed]",
      "text/plain": [
       "<Figure size 432x288 with 1 Axes>"
      ]
     },
     "metadata": {
      "needs_background": "light"
     },
     "output_type": "display_data"
    },
    {
     "data": {
      "image/png": "[encoded data removed]",
      "text/plain": [
       "<Figure size 432x288 with 1 Axes>"
      ]
     },
     "metadata": {
      "needs_background": "light"
     },
     "output_type": "display_data"
    },
    {
     "data": {
      "image/png": "[encoded data removed]",
      "text/plain": [
       "<Figure size 432x288 with 1 Axes>"
      ]
     },
     "metadata": {
      "needs_background": "light"
     },
     "output_type": "display_data"
    },
    {
     "data": {
      "image/png": "[encoded data removed]",
      "text/plain": [
       "<Figure size 432x288 with 1 Axes>"
      ]
     },
     "metadata": {
      "needs_background": "light"
     },
     "output_type": "display_data"
    },
    {
     "data": {
      "image/png": "[encoded data removed]",
      "text/plain": [
       "<Figure size 432x288 with 1 Axes>"
      ]
     },
     "metadata": {
      "needs_background": "light"
     },
     "output_type": "display_data"
    },
    {
     "data": {
      "image/png": "[encoded data removed]",
      "text/plain": [
       "<Figure size 432x288 with 1 Axes>"
      ]
     },
     "metadata": {
      "needs_background": "light"
     },
     "output_type": "display_data"
    },
    {
     "data": {
      "image/png": "[encoded data removed]",
      "text/plain": [
       "<Figure size 432x288 with 1 Axes>"
      ]
     },
     "metadata": {
      "needs_background": "light"
     },
     "output_type": "display_data"
    },
    {
     "data": {
      "image/png": "[encoded data removed]",
      "text/plain": [
       "<Figure size 432x288 with 1 Axes>"
      ]
     },
     "metadata": {
      "needs_background": "light"
     },
     "output_type": "display_data"
    },
    {
     "data": {
      "image/png": "[encoded data removed]",
      "text/plain": [
       "<Figure size 432x288 with 1 Axes>"
      ]
     },
     "metadata": {
      "needs_background": "light"
     },
     "output_type": "display_data"
    }
   ],
   "source": [
    "import matplotlib.pyplot as plt\n",
    "import matplotlib.cm as cm\n",
    "\n",
    "\n",
    "for i in range(0,10):\n",
    "    plt.imshow(X[i]) \n",
    "    plt.title(f\"Digit: {y[i]}\")\n",
    "    plt.show() "
   ]
  },
  {
   "cell_type": "markdown",
   "id": "150deca6",
   "metadata": {
    "papermill": {
     "duration": 0.033493,
     "end_time": "2022-02-26T10:06:30.709549",
     "exception": false,
     "start_time": "2022-02-26T10:06:30.676056",
     "status": "completed"
    },
    "tags": []
   },
   "source": [
    "**Scaling data**"
   ]
  },
  {
   "cell_type": "code",
   "execution_count": 7,
   "id": "d80a5c26",
   "metadata": {
    "execution": {
     "iopub.execute_input": "2022-02-26T10:06:30.781065Z",
     "iopub.status.busy": "2022-02-26T10:06:30.780461Z",
     "iopub.status.idle": "2022-02-26T10:06:30.917167Z",
     "shell.execute_reply": "2022-02-26T10:06:30.916491Z",
     "shell.execute_reply.started": "2022-02-26T09:40:08.939472Z"
    },
    "papermill": {
     "duration": 0.174358,
     "end_time": "2022-02-26T10:06:30.917305",
     "exception": false,
     "start_time": "2022-02-26T10:06:30.742947",
     "status": "completed"
    },
    "tags": []
   },
   "outputs": [],
   "source": [
    "X = X/255\n",
    "test_df = test_df/255"
   ]
  },
  {
   "cell_type": "markdown",
   "id": "47900e8b",
   "metadata": {
    "papermill": {
     "duration": 0.033679,
     "end_time": "2022-02-26T10:06:30.985322",
     "exception": false,
     "start_time": "2022-02-26T10:06:30.951643",
     "status": "completed"
    },
    "tags": []
   },
   "source": [
    "**Splitting data for training and validation sets using train_test_split**"
   ]
  },
  {
   "cell_type": "code",
   "execution_count": 8,
   "id": "41416ca8",
   "metadata": {
    "execution": {
     "iopub.execute_input": "2022-02-26T10:06:31.056449Z",
     "iopub.status.busy": "2022-02-26T10:06:31.055605Z",
     "iopub.status.idle": "2022-02-26T10:06:31.474395Z",
     "shell.execute_reply": "2022-02-26T10:06:31.473814Z",
     "shell.execute_reply.started": "2022-02-26T09:28:59.506095Z"
    },
    "papermill": {
     "duration": 0.455384,
     "end_time": "2022-02-26T10:06:31.474552",
     "exception": false,
     "start_time": "2022-02-26T10:06:31.019168",
     "status": "completed"
    },
    "tags": []
   },
   "outputs": [],
   "source": [
    "x_train, x_valid, y_train, y_valid = tts(X,y,test_size = 0.10, random_state = 0, stratify = y )"
   ]
  },
  {
   "cell_type": "markdown",
   "id": "ba824d51",
   "metadata": {
    "papermill": {
     "duration": 0.034315,
     "end_time": "2022-02-26T10:06:31.543717",
     "exception": false,
     "start_time": "2022-02-26T10:06:31.509402",
     "status": "completed"
    },
    "tags": []
   },
   "source": [
    "# Building CNN model"
   ]
  },
  {
   "cell_type": "code",
   "execution_count": 9,
   "id": "05befa81",
   "metadata": {
    "execution": {
     "iopub.execute_input": "2022-02-26T10:06:31.621552Z",
     "iopub.status.busy": "2022-02-26T10:06:31.620757Z",
     "iopub.status.idle": "2022-02-26T10:06:32.880279Z",
     "shell.execute_reply": "2022-02-26T10:06:32.879087Z",
     "shell.execute_reply.started": "2022-02-26T09:29:00.198518Z"
    },
    "papermill": {
     "duration": 1.301849,
     "end_time": "2022-02-26T10:06:32.880472",
     "exception": false,
     "start_time": "2022-02-26T10:06:31.578623",
     "status": "completed"
    },
    "tags": []
   },
   "outputs": [
    {
     "name": "stderr",
     "output_type": "stream",
     "text": [
      "\n",
      "User settings:\n",
      "\n",
      "   KMP_AFFINITY=granularity=fine,noverbose,compact,1,0\n",
      "   KMP_BLOCKTIME=0\n",
      "   KMP_DUPLICATE_LIB_OK=True\n",
      "   KMP_INIT_AT_FORK=FALSE\n",
      "   KMP_SETTINGS=1\n",
      "   KMP_WARNINGS=0\n",
      "\n",
      "Effective settings:\n",
      "\n",
      "   KMP_ABORT_DELAY=0\n",
      "   KMP_ADAPTIVE_LOCK_PROPS='1,1024'\n",
      "   KMP_ALIGN_ALLOC=64\n",
      "   KMP_ALL_THREADPRIVATE=128\n",
      "   KMP_ATOMIC_MODE=2\n",
      "   KMP_BLOCKTIME=0\n",
      "   KMP_CPUINFO_FILE: value is not defined\n",
      "   KMP_DETERMINISTIC_REDUCTION=false\n",
      "   KMP_DEVICE_THREAD_LIMIT=2147483647\n",
      "   KMP_DISP_NUM_BUFFERS=7\n",
      "   KMP_DUPLICATE_LIB_OK=true\n",
      "   KMP_ENABLE_TASK_THROTTLING=true\n",
      "   KMP_FORCE_REDUCTION: value is not defined\n",
      "   KMP_FOREIGN_THREADS_THREADPRIVATE=true\n",
      "   KMP_FORKJOIN_BARRIER='2,2'\n",
      "   KMP_FORKJOIN_BARRIER_PATTERN='hyper,hyper'\n",
      "   KMP_GTID_MODE=3\n",
      "   KMP_HANDLE_SIGNALS=false\n",
      "   KMP_HOT_TEAMS_MAX_LEVEL=1\n",
      "   KMP_HOT_TEAMS_MODE=0\n",
      "   KMP_INIT_AT_FORK=true\n",
      "   KMP_LIBRARY=throughput\n",
      "   KMP_LOCK_KIND=queuing\n",
      "   KMP_MALLOC_POOL_INCR=1M\n",
      "   KMP_NUM_LOCKS_IN_BLOCK=1\n",
      "   KMP_PLAIN_BARRIER='2,2'\n",
      "   KMP_PLAIN_BARRIER_PATTERN='hyper,hyper'\n",
      "   KMP_REDUCTION_BARRIER='1,1'\n",
      "   KMP_REDUCTION_BARRIER_PATTERN='hyper,hyper'\n",
      "   KMP_SCHEDULE='static,balanced;guided,iterative'\n",
      "   KMP_SETTINGS=true\n",
      "   KMP_SPIN_BACKOFF_PARAMS='4096,100'\n",
      "   KMP_STACKOFFSET=64\n",
      "   KMP_STACKPAD=0\n",
      "   KMP_STACKSIZE=8M\n",
      "   KMP_STORAGE_MAP=false\n",
      "   KMP_TASKING=2\n",
      "   KMP_TASKLOOP_MIN_TASKS=0\n",
      "   KMP_TASK_STEALING_CONSTRAINT=1\n",
      "   KMP_TEAMS_THREAD_LIMIT=4\n",
      "   KMP_TOPOLOGY_METHOD=all\n",
      "   KMP_USE_YIELD=1\n",
      "   KMP_VERSION=false\n",
      "   KMP_WARNINGS=false\n",
      "   OMP_AFFINITY_FORMAT='OMP: pid %P tid %i thread %n bound to OS proc set {%A}'\n",
      "   OMP_ALLOCATOR=omp_default_mem_alloc\n",
      "   OMP_CANCELLATION=false\n",
      "   OMP_DEFAULT_DEVICE=0\n",
      "   OMP_DISPLAY_AFFINITY=false\n",
      "   OMP_DISPLAY_ENV=false\n",
      "   OMP_DYNAMIC=false\n",
      "   OMP_MAX_ACTIVE_LEVELS=1\n",
      "   OMP_MAX_TASK_PRIORITY=0\n",
      "   OMP_NESTED: deprecated; max-active-levels-var=1\n",
      "   OMP_NUM_THREADS: value is not defined\n",
      "   OMP_PLACES: value is not defined\n",
      "   OMP_PROC_BIND='intel'\n",
      "   OMP_SCHEDULE='static'\n",
      "   OMP_STACKSIZE=8M\n",
      "   OMP_TARGET_OFFLOAD=DEFAULT\n",
      "   OMP_THREAD_LIMIT=2147483647\n",
      "   OMP_WAIT_POLICY=PASSIVE\n",
      "   KMP_AFFINITY='noverbose,warnings,respect,granularity=fine,compact,1,0'\n",
      "\n",
      "2022-02-26 10:06:32.770911: I tensorflow/core/common_runtime/process_util.cc:146] Creating new thread pool with default inter op setting: 2. Tune using inter_op_parallelism_threads for best performance.\n"
     ]
    }
   ],
   "source": [
    "from keras import layers\n",
    "from keras import models\n",
    "\n",
    "model = tf.keras.Sequential([\n",
    "    \n",
    "    layers.Conv2D(32, (3, 3), activation='relu', input_shape=(28, 28, 1)),\n",
    "    layers.MaxPooling2D((2, 2)),\n",
    "    layers.Conv2D(64, (3, 3), activation='relu'),\n",
    "    layers.MaxPooling2D((2, 2)),\n",
    "    layers.Conv2D(64, (3, 3), activation='relu'),\n",
    "    layers.Flatten(),\n",
    "    layers.Dense(64, activation='relu'),\n",
    "    layers.Dropout(0.3),\n",
    "\n",
    "    layers.Dense(10, activation='softmax')\n",
    "])"
   ]
  },
  {
   "cell_type": "code",
   "execution_count": 10,
   "id": "3a2aa2b5",
   "metadata": {
    "execution": {
     "iopub.execute_input": "2022-02-26T10:06:32.952266Z",
     "iopub.status.busy": "2022-02-26T10:06:32.951590Z",
     "iopub.status.idle": "2022-02-26T10:06:32.959889Z",
     "shell.execute_reply": "2022-02-26T10:06:32.960562Z",
     "shell.execute_reply.started": "2022-02-26T09:29:01.482196Z"
    },
    "papermill": {
     "duration": 0.046264,
     "end_time": "2022-02-26T10:06:32.960769",
     "exception": false,
     "start_time": "2022-02-26T10:06:32.914505",
     "status": "completed"
    },
    "tags": []
   },
   "outputs": [
    {
     "name": "stdout",
     "output_type": "stream",
     "text": [
      "Model: \"sequential\"\n",
      "_________________________________________________________________\n",
      "Layer (type)                 Output Shape              Param #   \n",
      "=================================================================\n",
      "conv2d (Conv2D)              (None, 26, 26, 32)        320       \n",
      "_________________________________________________________________\n",
      "max_pooling2d (MaxPooling2D) (None, 13, 13, 32)        0         \n",
      "_________________________________________________________________\n",
      "conv2d_1 (Conv2D)            (None, 11, 11, 64)        18496     \n",
      "_________________________________________________________________\n",
      "max_pooling2d_1 (MaxPooling2 (None, 5, 5, 64)          0         \n",
      "_________________________________________________________________\n",
      "conv2d_2 (Conv2D)            (None, 3, 3, 64)          36928     \n",
      "_________________________________________________________________\n",
      "flatten (Flatten)            (None, 576)               0         \n",
      "_________________________________________________________________\n",
      "dense (Dense)                (None, 64)                36928     \n",
      "_________________________________________________________________\n",
      "dropout (Dropout)            (None, 64)                0         \n",
      "_________________________________________________________________\n",
      "dense_1 (Dense)              (None, 10)                650       \n",
      "=================================================================\n",
      "Total params: 93,322\n",
      "Trainable params: 93,322\n",
      "Non-trainable params: 0\n",
      "_________________________________________________________________\n"
     ]
    }
   ],
   "source": [
    " model.summary()"
   ]
  },
  {
   "cell_type": "code",
   "execution_count": 11,
   "id": "d1ea9e49",
   "metadata": {
    "execution": {
     "iopub.execute_input": "2022-02-26T10:06:33.041077Z",
     "iopub.status.busy": "2022-02-26T10:06:33.040560Z",
     "iopub.status.idle": "2022-02-26T10:06:33.046062Z",
     "shell.execute_reply": "2022-02-26T10:06:33.046526Z",
     "shell.execute_reply.started": "2022-02-26T09:29:01.496950Z"
    },
    "papermill": {
     "duration": 0.048856,
     "end_time": "2022-02-26T10:06:33.046675",
     "exception": false,
     "start_time": "2022-02-26T10:06:32.997819",
     "status": "completed"
    },
    "tags": []
   },
   "outputs": [],
   "source": [
    "model.compile(\n",
    "    optimizer='rmsprop',\n",
    "    loss='sparse_categorical_crossentropy',\n",
    "    metrics=['accuracy'])"
   ]
  },
  {
   "cell_type": "code",
   "execution_count": 12,
   "id": "9fd695b2",
   "metadata": {
    "execution": {
     "iopub.execute_input": "2022-02-26T10:06:33.099444Z",
     "iopub.status.busy": "2022-02-26T10:06:33.098916Z",
     "iopub.status.idle": "2022-02-26T10:06:33.101075Z",
     "shell.execute_reply": "2022-02-26T10:06:33.101450Z",
     "shell.execute_reply.started": "2022-02-26T09:29:01.521462Z"
    },
    "papermill": {
     "duration": 0.031146,
     "end_time": "2022-02-26T10:06:33.101597",
     "exception": false,
     "start_time": "2022-02-26T10:06:33.070451",
     "status": "completed"
    },
    "tags": []
   },
   "outputs": [],
   "source": [
    "early_stopping = tf.keras.callbacks.EarlyStopping( \n",
    "                    patience = 2, \n",
    "                    min_delta = 0.001, \n",
    "                    restore_best_weights = True, )"
   ]
  },
  {
   "cell_type": "markdown",
   "id": "a8a495c3",
   "metadata": {
    "papermill": {
     "duration": 0.023096,
     "end_time": "2022-02-26T10:06:33.149472",
     "exception": false,
     "start_time": "2022-02-26T10:06:33.126376",
     "status": "completed"
    },
    "tags": []
   },
   "source": [
    "**Training model**"
   ]
  },
  {
   "cell_type": "code",
   "execution_count": 13,
   "id": "5006a1a4",
   "metadata": {
    "execution": {
     "iopub.execute_input": "2022-02-26T10:06:33.201686Z",
     "iopub.status.busy": "2022-02-26T10:06:33.201094Z",
     "iopub.status.idle": "2022-02-26T10:12:46.053115Z",
     "shell.execute_reply": "2022-02-26T10:12:46.052593Z",
     "shell.execute_reply.started": "2022-02-26T09:29:01.532719Z"
    },
    "papermill": {
     "duration": 372.880627,
     "end_time": "2022-02-26T10:12:46.053244",
     "exception": false,
     "start_time": "2022-02-26T10:06:33.172617",
     "status": "completed"
    },
    "tags": []
   },
   "outputs": [
    {
     "name": "stderr",
     "output_type": "stream",
     "text": [
      "2022-02-26 10:06:33.343159: I tensorflow/compiler/mlir/mlir_graph_optimization_pass.cc:185] None of the MLIR Optimization Passes are enabled (registered 2)\n"
     ]
    },
    {
     "name": "stdout",
     "output_type": "stream",
     "text": [
      "Epoch 1/30\n",
      "305/305 [==============================] - 14s 41ms/step - loss: 0.4169 - accuracy: 0.8679\n",
      "Epoch 2/30\n",
      "305/305 [==============================] - 12s 39ms/step - loss: 0.1064 - accuracy: 0.9682\n",
      "Epoch 3/30\n",
      "305/305 [==============================] - 12s 39ms/step - loss: 0.0684 - accuracy: 0.9793\n",
      "Epoch 4/30\n",
      "305/305 [==============================] - 13s 41ms/step - loss: 0.0514 - accuracy: 0.9842\n",
      "Epoch 5/30\n",
      "305/305 [==============================] - 12s 40ms/step - loss: 0.0435 - accuracy: 0.9868\n",
      "Epoch 6/30\n",
      "305/305 [==============================] - 13s 41ms/step - loss: 0.0361 - accuracy: 0.9898\n",
      "Epoch 7/30\n",
      "305/305 [==============================] - 12s 40ms/step - loss: 0.0312 - accuracy: 0.9907\n",
      "Epoch 8/30\n",
      "305/305 [==============================] - 12s 39ms/step - loss: 0.0265 - accuracy: 0.9916\n",
      "Epoch 9/30\n",
      "305/305 [==============================] - 12s 41ms/step - loss: 0.0227 - accuracy: 0.9933\n",
      "Epoch 10/30\n",
      "305/305 [==============================] - 12s 39ms/step - loss: 0.0198 - accuracy: 0.9936\n",
      "Epoch 11/30\n",
      "305/305 [==============================] - 12s 41ms/step - loss: 0.0161 - accuracy: 0.9952\n",
      "Epoch 12/30\n",
      "305/305 [==============================] - 12s 38ms/step - loss: 0.0159 - accuracy: 0.9954\n",
      "Epoch 13/30\n",
      "305/305 [==============================] - 12s 41ms/step - loss: 0.0126 - accuracy: 0.9962\n",
      "Epoch 14/30\n",
      "305/305 [==============================] - 13s 41ms/step - loss: 0.0135 - accuracy: 0.9958\n",
      "Epoch 15/30\n",
      "305/305 [==============================] - 12s 41ms/step - loss: 0.0104 - accuracy: 0.9968\n",
      "Epoch 16/30\n",
      "305/305 [==============================] - 12s 40ms/step - loss: 0.0113 - accuracy: 0.9963\n",
      "Epoch 17/30\n",
      "305/305 [==============================] - 13s 42ms/step - loss: 0.0095 - accuracy: 0.9972\n",
      "Epoch 18/30\n",
      "305/305 [==============================] - 13s 41ms/step - loss: 0.0091 - accuracy: 0.9969\n",
      "Epoch 19/30\n",
      "305/305 [==============================] - 12s 41ms/step - loss: 0.0086 - accuracy: 0.9971\n",
      "Epoch 20/30\n",
      "305/305 [==============================] - 12s 40ms/step - loss: 0.0095 - accuracy: 0.9971\n",
      "Epoch 21/30\n",
      "305/305 [==============================] - 12s 40ms/step - loss: 0.0088 - accuracy: 0.9972\n",
      "Epoch 22/30\n",
      "305/305 [==============================] - 13s 41ms/step - loss: 0.0077 - accuracy: 0.9976\n",
      "Epoch 23/30\n",
      "305/305 [==============================] - 13s 41ms/step - loss: 0.0085 - accuracy: 0.9976\n",
      "Epoch 24/30\n",
      "305/305 [==============================] - 12s 41ms/step - loss: 0.0088 - accuracy: 0.9972\n",
      "Epoch 25/30\n",
      "305/305 [==============================] - 12s 40ms/step - loss: 0.0085 - accuracy: 0.9973\n",
      "Epoch 26/30\n",
      "305/305 [==============================] - 13s 42ms/step - loss: 0.0085 - accuracy: 0.9973\n",
      "Epoch 27/30\n",
      "305/305 [==============================] - 13s 42ms/step - loss: 0.0092 - accuracy: 0.9975\n",
      "Epoch 28/30\n",
      "305/305 [==============================] - 13s 43ms/step - loss: 0.0068 - accuracy: 0.9982\n",
      "Epoch 29/30\n",
      "305/305 [==============================] - 13s 41ms/step - loss: 0.0083 - accuracy: 0.9975\n",
      "Epoch 30/30\n",
      "305/305 [==============================] - 12s 40ms/step - loss: 0.0082 - accuracy: 0.9978\n"
     ]
    },
    {
     "data": {
      "text/plain": [
       "<keras.callbacks.History at 0x7f0bf3414cd0>"
      ]
     },
     "execution_count": 13,
     "metadata": {},
     "output_type": "execute_result"
    }
   ],
   "source": [
    "model.fit(x_train,\n",
    "          y_train,\n",
    "          epochs = 30, \n",
    "          batch_size = 124,\n",
    "          callbacks = [early_stopping],\n",
    "          verbose = 1\n",
    "         )"
   ]
  },
  {
   "cell_type": "markdown",
   "id": "734fe74c",
   "metadata": {
    "papermill": {
     "duration": 1.164193,
     "end_time": "2022-02-26T10:12:48.392502",
     "exception": false,
     "start_time": "2022-02-26T10:12:47.228309",
     "status": "completed"
    },
    "tags": []
   },
   "source": [
    "# Evaluating model on validation data"
   ]
  },
  {
   "cell_type": "code",
   "execution_count": 14,
   "id": "9b512fef",
   "metadata": {
    "execution": {
     "iopub.execute_input": "2022-02-26T10:12:50.741515Z",
     "iopub.status.busy": "2022-02-26T10:12:50.740909Z",
     "iopub.status.idle": "2022-02-26T10:12:51.789661Z",
     "shell.execute_reply": "2022-02-26T10:12:51.790154Z",
     "shell.execute_reply.started": "2022-02-26T09:34:30.665972Z"
    },
    "papermill": {
     "duration": 2.240863,
     "end_time": "2022-02-26T10:12:51.790349",
     "exception": false,
     "start_time": "2022-02-26T10:12:49.549486",
     "status": "completed"
    },
    "tags": []
   },
   "outputs": [
    {
     "name": "stdout",
     "output_type": "stream",
     "text": [
      "132/132 [==============================] - 1s 6ms/step - loss: 0.0935 - accuracy: 0.9871\n"
     ]
    },
    {
     "data": {
      "text/plain": [
       "0.9871428608894348"
      ]
     },
     "execution_count": 14,
     "metadata": {},
     "output_type": "execute_result"
    }
   ],
   "source": [
    "val_loss, val_acc = model.evaluate(x_valid, y_valid)\n",
    "val_acc"
   ]
  },
  {
   "cell_type": "markdown",
   "id": "dd6f6994",
   "metadata": {
    "papermill": {
     "duration": 1.833986,
     "end_time": "2022-02-26T10:12:55.556875",
     "exception": false,
     "start_time": "2022-02-26T10:12:53.722889",
     "status": "completed"
    },
    "tags": []
   },
   "source": [
    "**Final Predictions on test data**"
   ]
  },
  {
   "cell_type": "code",
   "execution_count": 15,
   "id": "b4e69863",
   "metadata": {
    "execution": {
     "iopub.execute_input": "2022-02-26T10:12:59.205715Z",
     "iopub.status.busy": "2022-02-26T10:12:59.205051Z",
     "iopub.status.idle": "2022-02-26T10:13:04.088118Z",
     "shell.execute_reply": "2022-02-26T10:13:04.087684Z",
     "shell.execute_reply.started": "2022-02-26T09:34:32.638449Z"
    },
    "papermill": {
     "duration": 6.703548,
     "end_time": "2022-02-26T10:13:04.088235",
     "exception": false,
     "start_time": "2022-02-26T10:12:57.384687",
     "status": "completed"
    },
    "tags": []
   },
   "outputs": [],
   "source": [
    "#final predictions\n",
    "predictions = model.predict(test_df, verbose=0)"
   ]
  },
  {
   "cell_type": "code",
   "execution_count": 16,
   "id": "e5aaf7ce",
   "metadata": {
    "execution": {
     "iopub.execute_input": "2022-02-26T10:13:07.410827Z",
     "iopub.status.busy": "2022-02-26T10:13:07.410080Z",
     "iopub.status.idle": "2022-02-26T10:13:07.415178Z",
     "shell.execute_reply": "2022-02-26T10:13:07.415578Z",
     "shell.execute_reply.started": "2022-02-26T09:34:32.640371Z"
    },
    "papermill": {
     "duration": 1.839024,
     "end_time": "2022-02-26T10:13:07.415722",
     "exception": false,
     "start_time": "2022-02-26T10:13:05.576698",
     "status": "completed"
    },
    "tags": []
   },
   "outputs": [
    {
     "data": {
      "text/plain": [
       "array([2, 0, 9, ..., 3, 9, 2])"
      ]
     },
     "execution_count": 16,
     "metadata": {},
     "output_type": "execute_result"
    }
   ],
   "source": [
    "predictions = np.argmax(predictions, axis = 1)\n",
    "predictions"
   ]
  },
  {
   "cell_type": "markdown",
   "id": "e73eff40",
   "metadata": {
    "papermill": {
     "duration": 1.916621,
     "end_time": "2022-02-26T10:13:10.845568",
     "exception": false,
     "start_time": "2022-02-26T10:13:08.928947",
     "status": "completed"
    },
    "tags": []
   },
   "source": [
    "**Submission**"
   ]
  },
  {
   "cell_type": "code",
   "execution_count": 17,
   "id": "a40424e1",
   "metadata": {
    "execution": {
     "iopub.execute_input": "2022-02-26T10:13:14.493301Z",
     "iopub.status.busy": "2022-02-26T10:13:14.480958Z",
     "iopub.status.idle": "2022-02-26T10:13:14.526003Z",
     "shell.execute_reply": "2022-02-26T10:13:14.526644Z",
     "shell.execute_reply.started": "2022-02-26T09:34:32.642096Z"
    },
    "papermill": {
     "duration": 1.866206,
     "end_time": "2022-02-26T10:13:14.526837",
     "exception": false,
     "start_time": "2022-02-26T10:13:12.660631",
     "status": "completed"
    },
    "tags": []
   },
   "outputs": [],
   "source": [
    "submissions = pd.DataFrame({\"ImageId\": list(range(1,test_df.shape[0]+1)),\n",
    "                         \"Label\": predictions})\n",
    "\n",
    "submissions.to_csv(\"output.csv\", index=False)\n"
   ]
  },
  {
   "cell_type": "code",
   "execution_count": 18,
   "id": "e811fc57",
   "metadata": {
    "execution": {
     "iopub.execute_input": "2022-02-26T10:13:18.209324Z",
     "iopub.status.busy": "2022-02-26T10:13:18.208688Z",
     "iopub.status.idle": "2022-02-26T10:13:18.221569Z",
     "shell.execute_reply": "2022-02-26T10:13:18.221961Z",
     "shell.execute_reply.started": "2022-02-26T09:34:32.643425Z"
    },
    "papermill": {
     "duration": 1.847672,
     "end_time": "2022-02-26T10:13:18.222107",
     "exception": false,
     "start_time": "2022-02-26T10:13:16.374435",
     "status": "completed"
    },
    "tags": []
   },
   "outputs": [
    {
     "data": {
      "text/html": [
       "<div>\n",
       "<style scoped>\n",
       "    .dataframe tbody tr th:only-of-type {\n",
       "        vertical-align: middle;\n",
       "    }\n",
       "\n",
       "    .dataframe tbody tr th {\n",
       "        vertical-align: top;\n",
       "    }\n",
       "\n",
       "    .dataframe thead th {\n",
       "        text-align: right;\n",
       "    }\n",
       "</style>\n",
       "<table border=\"1\" class=\"dataframe\">\n",
       "  <thead>\n",
       "    <tr style=\"text-align: right;\">\n",
       "      <th></th>\n",
       "      <th>ImageId</th>\n",
       "      <th>Label</th>\n",
       "    </tr>\n",
       "  </thead>\n",
       "  <tbody>\n",
       "    <tr>\n",
       "      <th>0</th>\n",
       "      <td>1</td>\n",
       "      <td>2</td>\n",
       "    </tr>\n",
       "    <tr>\n",
       "      <th>1</th>\n",
       "      <td>2</td>\n",
       "      <td>0</td>\n",
       "    </tr>\n",
       "    <tr>\n",
       "      <th>2</th>\n",
       "      <td>3</td>\n",
       "      <td>9</td>\n",
       "    </tr>\n",
       "    <tr>\n",
       "      <th>3</th>\n",
       "      <td>4</td>\n",
       "      <td>9</td>\n",
       "    </tr>\n",
       "    <tr>\n",
       "      <th>4</th>\n",
       "      <td>5</td>\n",
       "      <td>3</td>\n",
       "    </tr>\n",
       "  </tbody>\n",
       "</table>\n",
       "</div>"
      ],
      "text/plain": [
       "   ImageId  Label\n",
       "0        1      2\n",
       "1        2      0\n",
       "2        3      9\n",
       "3        4      9\n",
       "4        5      3"
      ]
     },
     "execution_count": 18,
     "metadata": {},
     "output_type": "execute_result"
    }
   ],
   "source": [
    "submissions.head()"
   ]
  },
  {
   "cell_type": "code",
   "execution_count": null,
   "id": "0cecd2f5",
   "metadata": {
    "papermill": {
     "duration": 1.176287,
     "end_time": "2022-02-26T10:13:20.671132",
     "exception": false,
     "start_time": "2022-02-26T10:13:19.494845",
     "status": "completed"
    },
    "tags": []
   },
   "outputs": [],
   "source": []
  }
 ],
 "metadata": {
  "kernelspec": {
   "display_name": "Python 3",
   "language": "python",
   "name": "python3"
  },
  "language_info": {
   "codemirror_mode": {
    "name": "ipython",
    "version": 3
   },
   "file_extension": ".py",
   "mimetype": "text/x-python",
   "name": "python",
   "nbconvert_exporter": "python",
   "pygments_lexer": "ipython3",
   "version": "3.7.12"
  },
  "papermill": {
   "default_parameters": {},
   "duration": 436.467244,
   "end_time": "2022-02-26T10:13:24.593060",
   "environment_variables": {},
   "exception": null,
   "input_path": "__notebook__.ipynb",
   "output_path": "__notebook__.ipynb",
   "parameters": {},
   "start_time": "2022-02-26T10:06:08.125816",
   "version": "2.3.3"
  }
 },
 "nbformat": 4,
 "nbformat_minor": 5
}
