{
 "cells": [
  {
   "cell_type": "code",
   "execution_count": 1,
   "id": "6cbd6031",
   "metadata": {
    "_cell_guid": "b1076dfc-b9ad-4769-8c92-a6c4dae69d19",
    "_uuid": "8f2839f25d086af736a60e9eeb907d3b93b6e0e5",
    "execution": {
     "iopub.execute_input": "2022-01-13T03:52:31.654642Z",
     "iopub.status.busy": "2022-01-13T03:52:31.654014Z",
     "iopub.status.idle": "2022-01-13T03:52:37.730335Z",
     "shell.execute_reply": "2022-01-13T03:52:37.729462Z",
     "shell.execute_reply.started": "2022-01-13T03:47:35.941283Z"
    },
    "papermill": {
     "duration": 6.111258,
     "end_time": "2022-01-13T03:52:37.730542",
     "exception": false,
     "start_time": "2022-01-13T03:52:31.619284",
     "status": "completed"
    },
    "tags": []
   },
   "outputs": [],
   "source": [
    "import numpy as np # linear algebra\n",
    "import pandas as pd # data processing, CSV file I/O (e.g. pd.read_csv)\n",
    "\n",
    "import warnings\n",
    "warnings.filterwarnings(\"ignore\")\n",
    "\n",
    "import matplotlib.pyplot as plt\n",
    "import seaborn as sns\n",
    "sns.set()\n",
    "\n",
    "import tensorflow as tf"
   ]
  },
  {
   "cell_type": "code",
   "execution_count": 2,
   "id": "ccd51c47",
   "metadata": {
    "execution": {
     "iopub.execute_input": "2022-01-13T03:52:37.783429Z",
     "iopub.status.busy": "2022-01-13T03:52:37.782739Z",
     "iopub.status.idle": "2022-01-13T03:52:42.105875Z",
     "shell.execute_reply": "2022-01-13T03:52:42.105292Z",
     "shell.execute_reply.started": "2022-01-13T03:47:41.779943Z"
    },
    "papermill": {
     "duration": 4.351295,
     "end_time": "2022-01-13T03:52:42.106047",
     "exception": false,
     "start_time": "2022-01-13T03:52:37.754752",
     "status": "completed"
    },
    "tags": []
   },
   "outputs": [],
   "source": [
    "data = pd.read_csv('../input/creditcardfraud/creditcard.csv')"
   ]
  },
  {
   "cell_type": "code",
   "execution_count": 3,
   "id": "17a16760",
   "metadata": {
    "execution": {
     "iopub.execute_input": "2022-01-13T03:52:42.166270Z",
     "iopub.status.busy": "2022-01-13T03:52:42.165602Z",
     "iopub.status.idle": "2022-01-13T03:52:42.194596Z",
     "shell.execute_reply": "2022-01-13T03:52:42.195122Z",
     "shell.execute_reply.started": "2022-01-13T03:47:45.946007Z"
    },
    "papermill": {
     "duration": 0.066651,
     "end_time": "2022-01-13T03:52:42.195292",
     "exception": false,
     "start_time": "2022-01-13T03:52:42.128641",
     "status": "completed"
    },
    "tags": []
   },
   "outputs": [
    {
     "data": {
      "text/html": [
       "<div>\n",
       "<style scoped>\n",
       "    .dataframe tbody tr th:only-of-type {\n",
       "        vertical-align: middle;\n",
       "    }\n",
       "\n",
       "    .dataframe tbody tr th {\n",
       "        vertical-align: top;\n",
       "    }\n",
       "\n",
       "    .dataframe thead th {\n",
       "        text-align: right;\n",
       "    }\n",
       "</style>\n",
       "<table border=\"1\" class=\"dataframe\">\n",
       "  <thead>\n",
       "    <tr style=\"text-align: right;\">\n",
       "      <th></th>\n",
       "      <th>Time</th>\n",
       "      <th>V1</th>\n",
       "      <th>V2</th>\n",
       "      <th>V3</th>\n",
       "      <th>V4</th>\n",
       "      <th>V5</th>\n",
       "      <th>V6</th>\n",
       "      <th>V7</th>\n",
       "      <th>V8</th>\n",
       "      <th>V9</th>\n",
       "      <th>...</th>\n",
       "      <th>V21</th>\n",
       "      <th>V22</th>\n",
       "      <th>V23</th>\n",
       "      <th>V24</th>\n",
       "      <th>V25</th>\n",
       "      <th>V26</th>\n",
       "      <th>V27</th>\n",
       "      <th>V28</th>\n",
       "      <th>Amount</th>\n",
       "      <th>Class</th>\n",
       "    </tr>\n",
       "  </thead>\n",
       "  <tbody>\n",
       "    <tr>\n",
       "      <th>0</th>\n",
       "      <td>0.0</td>\n",
       "      <td>-1.359807</td>\n",
       "      <td>-0.072781</td>\n",
       "      <td>2.536347</td>\n",
       "      <td>1.378155</td>\n",
       "      <td>-0.338321</td>\n",
       "      <td>0.462388</td>\n",
       "      <td>0.239599</td>\n",
       "      <td>0.098698</td>\n",
       "      <td>0.363787</td>\n",
       "      <td>...</td>\n",
       "      <td>-0.018307</td>\n",
       "      <td>0.277838</td>\n",
       "      <td>-0.110474</td>\n",
       "      <td>0.066928</td>\n",
       "      <td>0.128539</td>\n",
       "      <td>-0.189115</td>\n",
       "      <td>0.133558</td>\n",
       "      <td>-0.021053</td>\n",
       "      <td>149.62</td>\n",
       "      <td>0</td>\n",
       "    </tr>\n",
       "    <tr>\n",
       "      <th>1</th>\n",
       "      <td>0.0</td>\n",
       "      <td>1.191857</td>\n",
       "      <td>0.266151</td>\n",
       "      <td>0.166480</td>\n",
       "      <td>0.448154</td>\n",
       "      <td>0.060018</td>\n",
       "      <td>-0.082361</td>\n",
       "      <td>-0.078803</td>\n",
       "      <td>0.085102</td>\n",
       "      <td>-0.255425</td>\n",
       "      <td>...</td>\n",
       "      <td>-0.225775</td>\n",
       "      <td>-0.638672</td>\n",
       "      <td>0.101288</td>\n",
       "      <td>-0.339846</td>\n",
       "      <td>0.167170</td>\n",
       "      <td>0.125895</td>\n",
       "      <td>-0.008983</td>\n",
       "      <td>0.014724</td>\n",
       "      <td>2.69</td>\n",
       "      <td>0</td>\n",
       "    </tr>\n",
       "    <tr>\n",
       "      <th>2</th>\n",
       "      <td>1.0</td>\n",
       "      <td>-1.358354</td>\n",
       "      <td>-1.340163</td>\n",
       "      <td>1.773209</td>\n",
       "      <td>0.379780</td>\n",
       "      <td>-0.503198</td>\n",
       "      <td>1.800499</td>\n",
       "      <td>0.791461</td>\n",
       "      <td>0.247676</td>\n",
       "      <td>-1.514654</td>\n",
       "      <td>...</td>\n",
       "      <td>0.247998</td>\n",
       "      <td>0.771679</td>\n",
       "      <td>0.909412</td>\n",
       "      <td>-0.689281</td>\n",
       "      <td>-0.327642</td>\n",
       "      <td>-0.139097</td>\n",
       "      <td>-0.055353</td>\n",
       "      <td>-0.059752</td>\n",
       "      <td>378.66</td>\n",
       "      <td>0</td>\n",
       "    </tr>\n",
       "    <tr>\n",
       "      <th>3</th>\n",
       "      <td>1.0</td>\n",
       "      <td>-0.966272</td>\n",
       "      <td>-0.185226</td>\n",
       "      <td>1.792993</td>\n",
       "      <td>-0.863291</td>\n",
       "      <td>-0.010309</td>\n",
       "      <td>1.247203</td>\n",
       "      <td>0.237609</td>\n",
       "      <td>0.377436</td>\n",
       "      <td>-1.387024</td>\n",
       "      <td>...</td>\n",
       "      <td>-0.108300</td>\n",
       "      <td>0.005274</td>\n",
       "      <td>-0.190321</td>\n",
       "      <td>-1.175575</td>\n",
       "      <td>0.647376</td>\n",
       "      <td>-0.221929</td>\n",
       "      <td>0.062723</td>\n",
       "      <td>0.061458</td>\n",
       "      <td>123.50</td>\n",
       "      <td>0</td>\n",
       "    </tr>\n",
       "    <tr>\n",
       "      <th>4</th>\n",
       "      <td>2.0</td>\n",
       "      <td>-1.158233</td>\n",
       "      <td>0.877737</td>\n",
       "      <td>1.548718</td>\n",
       "      <td>0.403034</td>\n",
       "      <td>-0.407193</td>\n",
       "      <td>0.095921</td>\n",
       "      <td>0.592941</td>\n",
       "      <td>-0.270533</td>\n",
       "      <td>0.817739</td>\n",
       "      <td>...</td>\n",
       "      <td>-0.009431</td>\n",
       "      <td>0.798278</td>\n",
       "      <td>-0.137458</td>\n",
       "      <td>0.141267</td>\n",
       "      <td>-0.206010</td>\n",
       "      <td>0.502292</td>\n",
       "      <td>0.219422</td>\n",
       "      <td>0.215153</td>\n",
       "      <td>69.99</td>\n",
       "      <td>0</td>\n",
       "    </tr>\n",
       "  </tbody>\n",
       "</table>\n",
       "<p>5 rows × 31 columns</p>\n",
       "</div>"
      ],
      "text/plain": [
       "   Time        V1        V2        V3        V4        V5        V6        V7  \\\n",
       "0   0.0 -1.359807 -0.072781  2.536347  1.378155 -0.338321  0.462388  0.239599   \n",
       "1   0.0  1.191857  0.266151  0.166480  0.448154  0.060018 -0.082361 -0.078803   \n",
       "2   1.0 -1.358354 -1.340163  1.773209  0.379780 -0.503198  1.800499  0.791461   \n",
       "3   1.0 -0.966272 -0.185226  1.792993 -0.863291 -0.010309  1.247203  0.237609   \n",
       "4   2.0 -1.158233  0.877737  1.548718  0.403034 -0.407193  0.095921  0.592941   \n",
       "\n",
       "         V8        V9  ...       V21       V22       V23       V24       V25  \\\n",
       "0  0.098698  0.363787  ... -0.018307  0.277838 -0.110474  0.066928  0.128539   \n",
       "1  0.085102 -0.255425  ... -0.225775 -0.638672  0.101288 -0.339846  0.167170   \n",
       "2  0.247676 -1.514654  ...  0.247998  0.771679  0.909412 -0.689281 -0.327642   \n",
       "3  0.377436 -1.387024  ... -0.108300  0.005274 -0.190321 -1.175575  0.647376   \n",
       "4 -0.270533  0.817739  ... -0.009431  0.798278 -0.137458  0.141267 -0.206010   \n",
       "\n",
       "        V26       V27       V28  Amount  Class  \n",
       "0 -0.189115  0.133558 -0.021053  149.62      0  \n",
       "1  0.125895 -0.008983  0.014724    2.69      0  \n",
       "2 -0.139097 -0.055353 -0.059752  378.66      0  \n",
       "3 -0.221929  0.062723  0.061458  123.50      0  \n",
       "4  0.502292  0.219422  0.215153   69.99      0  \n",
       "\n",
       "[5 rows x 31 columns]"
      ]
     },
     "execution_count": 3,
     "metadata": {},
     "output_type": "execute_result"
    }
   ],
   "source": [
    "data.head()"
   ]
  },
  {
   "cell_type": "code",
   "execution_count": 4,
   "id": "a2f1845f",
   "metadata": {
    "execution": {
     "iopub.execute_input": "2022-01-13T03:52:42.251005Z",
     "iopub.status.busy": "2022-01-13T03:52:42.249684Z",
     "iopub.status.idle": "2022-01-13T03:52:42.293471Z",
     "shell.execute_reply": "2022-01-13T03:52:42.294008Z",
     "shell.execute_reply.started": "2022-01-13T03:47:45.987588Z"
    },
    "papermill": {
     "duration": 0.07544,
     "end_time": "2022-01-13T03:52:42.294216",
     "exception": false,
     "start_time": "2022-01-13T03:52:42.218776",
     "status": "completed"
    },
    "tags": []
   },
   "outputs": [
    {
     "name": "stdout",
     "output_type": "stream",
     "text": [
      "<class 'pandas.core.frame.DataFrame'>\n",
      "RangeIndex: 284807 entries, 0 to 284806\n",
      "Data columns (total 31 columns):\n",
      " #   Column  Non-Null Count   Dtype  \n",
      "---  ------  --------------   -----  \n",
      " 0   Time    284807 non-null  float64\n",
      " 1   V1      284807 non-null  float64\n",
      " 2   V2      284807 non-null  float64\n",
      " 3   V3      284807 non-null  float64\n",
      " 4   V4      284807 non-null  float64\n",
      " 5   V5      284807 non-null  float64\n",
      " 6   V6      284807 non-null  float64\n",
      " 7   V7      284807 non-null  float64\n",
      " 8   V8      284807 non-null  float64\n",
      " 9   V9      284807 non-null  float64\n",
      " 10  V10     284807 non-null  float64\n",
      " 11  V11     284807 non-null  float64\n",
      " 12  V12     284807 non-null  float64\n",
      " 13  V13     284807 non-null  float64\n",
      " 14  V14     284807 non-null  float64\n",
      " 15  V15     284807 non-null  float64\n",
      " 16  V16     284807 non-null  float64\n",
      " 17  V17     284807 non-null  float64\n",
      " 18  V18     284807 non-null  float64\n",
      " 19  V19     284807 non-null  float64\n",
      " 20  V20     284807 non-null  float64\n",
      " 21  V21     284807 non-null  float64\n",
      " 22  V22     284807 non-null  float64\n",
      " 23  V23     284807 non-null  float64\n",
      " 24  V24     284807 non-null  float64\n",
      " 25  V25     284807 non-null  float64\n",
      " 26  V26     284807 non-null  float64\n",
      " 27  V27     284807 non-null  float64\n",
      " 28  V28     284807 non-null  float64\n",
      " 29  Amount  284807 non-null  float64\n",
      " 30  Class   284807 non-null  int64  \n",
      "dtypes: float64(30), int64(1)\n",
      "memory usage: 67.4 MB\n"
     ]
    }
   ],
   "source": [
    "data.info()"
   ]
  },
  {
   "cell_type": "code",
   "execution_count": 5,
   "id": "ed79b1c5",
   "metadata": {
    "execution": {
     "iopub.execute_input": "2022-01-13T03:52:42.397303Z",
     "iopub.status.busy": "2022-01-13T03:52:42.396245Z",
     "iopub.status.idle": "2022-01-13T03:52:42.822136Z",
     "shell.execute_reply": "2022-01-13T03:52:42.822731Z",
     "shell.execute_reply.started": "2022-01-13T03:47:46.030776Z"
    },
    "papermill": {
     "duration": 0.504311,
     "end_time": "2022-01-13T03:52:42.822994",
     "exception": false,
     "start_time": "2022-01-13T03:52:42.318683",
     "status": "completed"
    },
    "tags": []
   },
   "outputs": [
    {
     "data": {
      "text/html": [
       "<div>\n",
       "<style scoped>\n",
       "    .dataframe tbody tr th:only-of-type {\n",
       "        vertical-align: middle;\n",
       "    }\n",
       "\n",
       "    .dataframe tbody tr th {\n",
       "        vertical-align: top;\n",
       "    }\n",
       "\n",
       "    .dataframe thead th {\n",
       "        text-align: right;\n",
       "    }\n",
       "</style>\n",
       "<table border=\"1\" class=\"dataframe\">\n",
       "  <thead>\n",
       "    <tr style=\"text-align: right;\">\n",
       "      <th></th>\n",
       "      <th>Time</th>\n",
       "      <th>V1</th>\n",
       "      <th>V2</th>\n",
       "      <th>V3</th>\n",
       "      <th>V4</th>\n",
       "      <th>V5</th>\n",
       "      <th>V6</th>\n",
       "      <th>V7</th>\n",
       "      <th>V8</th>\n",
       "      <th>V9</th>\n",
       "      <th>...</th>\n",
       "      <th>V21</th>\n",
       "      <th>V22</th>\n",
       "      <th>V23</th>\n",
       "      <th>V24</th>\n",
       "      <th>V25</th>\n",
       "      <th>V26</th>\n",
       "      <th>V27</th>\n",
       "      <th>V28</th>\n",
       "      <th>Amount</th>\n",
       "      <th>Class</th>\n",
       "    </tr>\n",
       "  </thead>\n",
       "  <tbody>\n",
       "    <tr>\n",
       "      <th>count</th>\n",
       "      <td>284807.000000</td>\n",
       "      <td>2.848070e+05</td>\n",
       "      <td>2.848070e+05</td>\n",
       "      <td>2.848070e+05</td>\n",
       "      <td>2.848070e+05</td>\n",
       "      <td>2.848070e+05</td>\n",
       "      <td>2.848070e+05</td>\n",
       "      <td>2.848070e+05</td>\n",
       "      <td>2.848070e+05</td>\n",
       "      <td>2.848070e+05</td>\n",
       "      <td>...</td>\n",
       "      <td>2.848070e+05</td>\n",
       "      <td>2.848070e+05</td>\n",
       "      <td>2.848070e+05</td>\n",
       "      <td>2.848070e+05</td>\n",
       "      <td>2.848070e+05</td>\n",
       "      <td>2.848070e+05</td>\n",
       "      <td>2.848070e+05</td>\n",
       "      <td>2.848070e+05</td>\n",
       "      <td>284807.000000</td>\n",
       "      <td>284807.000000</td>\n",
       "    </tr>\n",
       "    <tr>\n",
       "      <th>mean</th>\n",
       "      <td>94813.859575</td>\n",
       "      <td>3.918649e-15</td>\n",
       "      <td>5.682686e-16</td>\n",
       "      <td>-8.761736e-15</td>\n",
       "      <td>2.811118e-15</td>\n",
       "      <td>-1.552103e-15</td>\n",
       "      <td>2.040130e-15</td>\n",
       "      <td>-1.698953e-15</td>\n",
       "      <td>-1.893285e-16</td>\n",
       "      <td>-3.147640e-15</td>\n",
       "      <td>...</td>\n",
       "      <td>1.473120e-16</td>\n",
       "      <td>8.042109e-16</td>\n",
       "      <td>5.282512e-16</td>\n",
       "      <td>4.456271e-15</td>\n",
       "      <td>1.426896e-15</td>\n",
       "      <td>1.701640e-15</td>\n",
       "      <td>-3.662252e-16</td>\n",
       "      <td>-1.217809e-16</td>\n",
       "      <td>88.349619</td>\n",
       "      <td>0.001727</td>\n",
       "    </tr>\n",
       "    <tr>\n",
       "      <th>std</th>\n",
       "      <td>47488.145955</td>\n",
       "      <td>1.958696e+00</td>\n",
       "      <td>1.651309e+00</td>\n",
       "      <td>1.516255e+00</td>\n",
       "      <td>1.415869e+00</td>\n",
       "      <td>1.380247e+00</td>\n",
       "      <td>1.332271e+00</td>\n",
       "      <td>1.237094e+00</td>\n",
       "      <td>1.194353e+00</td>\n",
       "      <td>1.098632e+00</td>\n",
       "      <td>...</td>\n",
       "      <td>7.345240e-01</td>\n",
       "      <td>7.257016e-01</td>\n",
       "      <td>6.244603e-01</td>\n",
       "      <td>6.056471e-01</td>\n",
       "      <td>5.212781e-01</td>\n",
       "      <td>4.822270e-01</td>\n",
       "      <td>4.036325e-01</td>\n",
       "      <td>3.300833e-01</td>\n",
       "      <td>250.120109</td>\n",
       "      <td>0.041527</td>\n",
       "    </tr>\n",
       "    <tr>\n",
       "      <th>min</th>\n",
       "      <td>0.000000</td>\n",
       "      <td>-5.640751e+01</td>\n",
       "      <td>-7.271573e+01</td>\n",
       "      <td>-4.832559e+01</td>\n",
       "      <td>-5.683171e+00</td>\n",
       "      <td>-1.137433e+02</td>\n",
       "      <td>-2.616051e+01</td>\n",
       "      <td>-4.355724e+01</td>\n",
       "      <td>-7.321672e+01</td>\n",
       "      <td>-1.343407e+01</td>\n",
       "      <td>...</td>\n",
       "      <td>-3.483038e+01</td>\n",
       "      <td>-1.093314e+01</td>\n",
       "      <td>-4.480774e+01</td>\n",
       "      <td>-2.836627e+00</td>\n",
       "      <td>-1.029540e+01</td>\n",
       "      <td>-2.604551e+00</td>\n",
       "      <td>-2.256568e+01</td>\n",
       "      <td>-1.543008e+01</td>\n",
       "      <td>0.000000</td>\n",
       "      <td>0.000000</td>\n",
       "    </tr>\n",
       "    <tr>\n",
       "      <th>25%</th>\n",
       "      <td>54201.500000</td>\n",
       "      <td>-9.203734e-01</td>\n",
       "      <td>-5.985499e-01</td>\n",
       "      <td>-8.903648e-01</td>\n",
       "      <td>-8.486401e-01</td>\n",
       "      <td>-6.915971e-01</td>\n",
       "      <td>-7.682956e-01</td>\n",
       "      <td>-5.540759e-01</td>\n",
       "      <td>-2.086297e-01</td>\n",
       "      <td>-6.430976e-01</td>\n",
       "      <td>...</td>\n",
       "      <td>-2.283949e-01</td>\n",
       "      <td>-5.423504e-01</td>\n",
       "      <td>-1.618463e-01</td>\n",
       "      <td>-3.545861e-01</td>\n",
       "      <td>-3.171451e-01</td>\n",
       "      <td>-3.269839e-01</td>\n",
       "      <td>-7.083953e-02</td>\n",
       "      <td>-5.295979e-02</td>\n",
       "      <td>5.600000</td>\n",
       "      <td>0.000000</td>\n",
       "    </tr>\n",
       "    <tr>\n",
       "      <th>50%</th>\n",
       "      <td>84692.000000</td>\n",
       "      <td>1.810880e-02</td>\n",
       "      <td>6.548556e-02</td>\n",
       "      <td>1.798463e-01</td>\n",
       "      <td>-1.984653e-02</td>\n",
       "      <td>-5.433583e-02</td>\n",
       "      <td>-2.741871e-01</td>\n",
       "      <td>4.010308e-02</td>\n",
       "      <td>2.235804e-02</td>\n",
       "      <td>-5.142873e-02</td>\n",
       "      <td>...</td>\n",
       "      <td>-2.945017e-02</td>\n",
       "      <td>6.781943e-03</td>\n",
       "      <td>-1.119293e-02</td>\n",
       "      <td>4.097606e-02</td>\n",
       "      <td>1.659350e-02</td>\n",
       "      <td>-5.213911e-02</td>\n",
       "      <td>1.342146e-03</td>\n",
       "      <td>1.124383e-02</td>\n",
       "      <td>22.000000</td>\n",
       "      <td>0.000000</td>\n",
       "    </tr>\n",
       "    <tr>\n",
       "      <th>75%</th>\n",
       "      <td>139320.500000</td>\n",
       "      <td>1.315642e+00</td>\n",
       "      <td>8.037239e-01</td>\n",
       "      <td>1.027196e+00</td>\n",
       "      <td>7.433413e-01</td>\n",
       "      <td>6.119264e-01</td>\n",
       "      <td>3.985649e-01</td>\n",
       "      <td>5.704361e-01</td>\n",
       "      <td>3.273459e-01</td>\n",
       "      <td>5.971390e-01</td>\n",
       "      <td>...</td>\n",
       "      <td>1.863772e-01</td>\n",
       "      <td>5.285536e-01</td>\n",
       "      <td>1.476421e-01</td>\n",
       "      <td>4.395266e-01</td>\n",
       "      <td>3.507156e-01</td>\n",
       "      <td>2.409522e-01</td>\n",
       "      <td>9.104512e-02</td>\n",
       "      <td>7.827995e-02</td>\n",
       "      <td>77.165000</td>\n",
       "      <td>0.000000</td>\n",
       "    </tr>\n",
       "    <tr>\n",
       "      <th>max</th>\n",
       "      <td>172792.000000</td>\n",
       "      <td>2.454930e+00</td>\n",
       "      <td>2.205773e+01</td>\n",
       "      <td>9.382558e+00</td>\n",
       "      <td>1.687534e+01</td>\n",
       "      <td>3.480167e+01</td>\n",
       "      <td>7.330163e+01</td>\n",
       "      <td>1.205895e+02</td>\n",
       "      <td>2.000721e+01</td>\n",
       "      <td>1.559499e+01</td>\n",
       "      <td>...</td>\n",
       "      <td>2.720284e+01</td>\n",
       "      <td>1.050309e+01</td>\n",
       "      <td>2.252841e+01</td>\n",
       "      <td>4.584549e+00</td>\n",
       "      <td>7.519589e+00</td>\n",
       "      <td>3.517346e+00</td>\n",
       "      <td>3.161220e+01</td>\n",
       "      <td>3.384781e+01</td>\n",
       "      <td>25691.160000</td>\n",
       "      <td>1.000000</td>\n",
       "    </tr>\n",
       "  </tbody>\n",
       "</table>\n",
       "<p>8 rows × 31 columns</p>\n",
       "</div>"
      ],
      "text/plain": [
       "                Time            V1            V2            V3            V4  \\\n",
       "count  284807.000000  2.848070e+05  2.848070e+05  2.848070e+05  2.848070e+05   \n",
       "mean    94813.859575  3.918649e-15  5.682686e-16 -8.761736e-15  2.811118e-15   \n",
       "std     47488.145955  1.958696e+00  1.651309e+00  1.516255e+00  1.415869e+00   \n",
       "min         0.000000 -5.640751e+01 -7.271573e+01 -4.832559e+01 -5.683171e+00   \n",
       "25%     54201.500000 -9.203734e-01 -5.985499e-01 -8.903648e-01 -8.486401e-01   \n",
       "50%     84692.000000  1.810880e-02  6.548556e-02  1.798463e-01 -1.984653e-02   \n",
       "75%    139320.500000  1.315642e+00  8.037239e-01  1.027196e+00  7.433413e-01   \n",
       "max    172792.000000  2.454930e+00  2.205773e+01  9.382558e+00  1.687534e+01   \n",
       "\n",
       "                 V5            V6            V7            V8            V9  \\\n",
       "count  2.848070e+05  2.848070e+05  2.848070e+05  2.848070e+05  2.848070e+05   \n",
       "mean  -1.552103e-15  2.040130e-15 -1.698953e-15 -1.893285e-16 -3.147640e-15   \n",
       "std    1.380247e+00  1.332271e+00  1.237094e+00  1.194353e+00  1.098632e+00   \n",
       "min   -1.137433e+02 -2.616051e+01 -4.355724e+01 -7.321672e+01 -1.343407e+01   \n",
       "25%   -6.915971e-01 -7.682956e-01 -5.540759e-01 -2.086297e-01 -6.430976e-01   \n",
       "50%   -5.433583e-02 -2.741871e-01  4.010308e-02  2.235804e-02 -5.142873e-02   \n",
       "75%    6.119264e-01  3.985649e-01  5.704361e-01  3.273459e-01  5.971390e-01   \n",
       "max    3.480167e+01  7.330163e+01  1.205895e+02  2.000721e+01  1.559499e+01   \n",
       "\n",
       "       ...           V21           V22           V23           V24  \\\n",
       "count  ...  2.848070e+05  2.848070e+05  2.848070e+05  2.848070e+05   \n",
       "mean   ...  1.473120e-16  8.042109e-16  5.282512e-16  4.456271e-15   \n",
       "std    ...  7.345240e-01  7.257016e-01  6.244603e-01  6.056471e-01   \n",
       "min    ... -3.483038e+01 -1.093314e+01 -4.480774e+01 -2.836627e+00   \n",
       "25%    ... -2.283949e-01 -5.423504e-01 -1.618463e-01 -3.545861e-01   \n",
       "50%    ... -2.945017e-02  6.781943e-03 -1.119293e-02  4.097606e-02   \n",
       "75%    ...  1.863772e-01  5.285536e-01  1.476421e-01  4.395266e-01   \n",
       "max    ...  2.720284e+01  1.050309e+01  2.252841e+01  4.584549e+00   \n",
       "\n",
       "                V25           V26           V27           V28         Amount  \\\n",
       "count  2.848070e+05  2.848070e+05  2.848070e+05  2.848070e+05  284807.000000   \n",
       "mean   1.426896e-15  1.701640e-15 -3.662252e-16 -1.217809e-16      88.349619   \n",
       "std    5.212781e-01  4.822270e-01  4.036325e-01  3.300833e-01     250.120109   \n",
       "min   -1.029540e+01 -2.604551e+00 -2.256568e+01 -1.543008e+01       0.000000   \n",
       "25%   -3.171451e-01 -3.269839e-01 -7.083953e-02 -5.295979e-02       5.600000   \n",
       "50%    1.659350e-02 -5.213911e-02  1.342146e-03  1.124383e-02      22.000000   \n",
       "75%    3.507156e-01  2.409522e-01  9.104512e-02  7.827995e-02      77.165000   \n",
       "max    7.519589e+00  3.517346e+00  3.161220e+01  3.384781e+01   25691.160000   \n",
       "\n",
       "               Class  \n",
       "count  284807.000000  \n",
       "mean        0.001727  \n",
       "std         0.041527  \n",
       "min         0.000000  \n",
       "25%         0.000000  \n",
       "50%         0.000000  \n",
       "75%         0.000000  \n",
       "max         1.000000  \n",
       "\n",
       "[8 rows x 31 columns]"
      ]
     },
     "execution_count": 5,
     "metadata": {},
     "output_type": "execute_result"
    }
   ],
   "source": [
    "data.describe()"
   ]
  },
  {
   "cell_type": "code",
   "execution_count": 6,
   "id": "62a3541f",
   "metadata": {
    "execution": {
     "iopub.execute_input": "2022-01-13T03:52:42.882563Z",
     "iopub.status.busy": "2022-01-13T03:52:42.881878Z",
     "iopub.status.idle": "2022-01-13T03:52:42.906572Z",
     "shell.execute_reply": "2022-01-13T03:52:42.907109Z",
     "shell.execute_reply.started": "2022-01-13T03:47:46.467960Z"
    },
    "papermill": {
     "duration": 0.05853,
     "end_time": "2022-01-13T03:52:42.907304",
     "exception": false,
     "start_time": "2022-01-13T03:52:42.848774",
     "status": "completed"
    },
    "tags": []
   },
   "outputs": [
    {
     "data": {
      "text/plain": [
       "Time      0\n",
       "V1        0\n",
       "V2        0\n",
       "V3        0\n",
       "V4        0\n",
       "V5        0\n",
       "V6        0\n",
       "V7        0\n",
       "V8        0\n",
       "V9        0\n",
       "V10       0\n",
       "V11       0\n",
       "V12       0\n",
       "V13       0\n",
       "V14       0\n",
       "V15       0\n",
       "V16       0\n",
       "V17       0\n",
       "V18       0\n",
       "V19       0\n",
       "V20       0\n",
       "V21       0\n",
       "V22       0\n",
       "V23       0\n",
       "V24       0\n",
       "V25       0\n",
       "V26       0\n",
       "V27       0\n",
       "V28       0\n",
       "Amount    0\n",
       "Class     0\n",
       "dtype: int64"
      ]
     },
     "execution_count": 6,
     "metadata": {},
     "output_type": "execute_result"
    }
   ],
   "source": [
    "#Checking missing values\n",
    "data.isnull().sum()"
   ]
  },
  {
   "cell_type": "markdown",
   "id": "12f2eb69",
   "metadata": {
    "papermill": {
     "duration": 0.024167,
     "end_time": "2022-01-13T03:52:42.955993",
     "exception": false,
     "start_time": "2022-01-13T03:52:42.931826",
     "status": "completed"
    },
    "tags": []
   },
   "source": [
    "**Exploratory data analysis**"
   ]
  },
  {
   "cell_type": "code",
   "execution_count": 7,
   "id": "07ecb7da",
   "metadata": {
    "execution": {
     "iopub.execute_input": "2022-01-13T03:52:43.010460Z",
     "iopub.status.busy": "2022-01-13T03:52:43.008584Z",
     "iopub.status.idle": "2022-01-13T03:52:49.218829Z",
     "shell.execute_reply": "2022-01-13T03:52:49.219413Z",
     "shell.execute_reply.started": "2022-01-13T03:47:46.497057Z"
    },
    "papermill": {
     "duration": 6.239164,
     "end_time": "2022-01-13T03:52:49.219628",
     "exception": false,
     "start_time": "2022-01-13T03:52:42.980464",
     "status": "completed"
    },
    "tags": []
   },
   "outputs": [
    {
     "data": {
      "text/plain": [
       "array([[<AxesSubplot:title={'center':'Time'}>,\n",
       "        <AxesSubplot:title={'center':'V1'}>,\n",
       "        <AxesSubplot:title={'center':'V2'}>,\n",
       "        <AxesSubplot:title={'center':'V3'}>,\n",
       "        <AxesSubplot:title={'center':'V4'}>,\n",
       "        <AxesSubplot:title={'center':'V5'}>],\n",
       "       [<AxesSubplot:title={'center':'V6'}>,\n",
       "        <AxesSubplot:title={'center':'V7'}>,\n",
       "        <AxesSubplot:title={'center':'V8'}>,\n",
       "        <AxesSubplot:title={'center':'V9'}>,\n",
       "        <AxesSubplot:title={'center':'V10'}>,\n",
       "        <AxesSubplot:title={'center':'V11'}>],\n",
       "       [<AxesSubplot:title={'center':'V12'}>,\n",
       "        <AxesSubplot:title={'center':'V13'}>,\n",
       "        <AxesSubplot:title={'center':'V14'}>,\n",
       "        <AxesSubplot:title={'center':'V15'}>,\n",
       "        <AxesSubplot:title={'center':'V16'}>,\n",
       "        <AxesSubplot:title={'center':'V17'}>],\n",
       "       [<AxesSubplot:title={'center':'V18'}>,\n",
       "        <AxesSubplot:title={'center':'V19'}>,\n",
       "        <AxesSubplot:title={'center':'V20'}>,\n",
       "        <AxesSubplot:title={'center':'V21'}>,\n",
       "        <AxesSubplot:title={'center':'V22'}>,\n",
       "        <AxesSubplot:title={'center':'V23'}>],\n",
       "       [<AxesSubplot:title={'center':'V24'}>,\n",
       "        <AxesSubplot:title={'center':'V25'}>,\n",
       "        <AxesSubplot:title={'center':'V26'}>,\n",
       "        <AxesSubplot:title={'center':'V27'}>,\n",
       "        <AxesSubplot:title={'center':'V28'}>,\n",
       "        <AxesSubplot:title={'center':'Amount'}>],\n",
       "       [<AxesSubplot:title={'center':'Class'}>, <AxesSubplot:>,\n",
       "        <AxesSubplot:>, <AxesSubplot:>, <AxesSubplot:>, <AxesSubplot:>]],\n",
       "      dtype=object)"
      ]
     },
     "execution_count": 7,
     "metadata": {},
     "output_type": "execute_result"
    },
    {
     "data": {
      "image/png": "[encoded data removed]",
      "text/plain": [
       "<Figure size 1440x1440 with 36 Axes>"
      ]
     },
     "metadata": {},
     "output_type": "display_data"
    }
   ],
   "source": [
    "data.hist(figsize = (20,20))"
   ]
  },
  {
   "cell_type": "code",
   "execution_count": 8,
   "id": "3ce46aae",
   "metadata": {
    "execution": {
     "iopub.execute_input": "2022-01-13T03:52:49.279552Z",
     "iopub.status.busy": "2022-01-13T03:52:49.278892Z",
     "iopub.status.idle": "2022-01-13T03:52:49.287586Z",
     "shell.execute_reply": "2022-01-13T03:52:49.287049Z",
     "shell.execute_reply.started": "2022-01-13T03:47:52.571124Z"
    },
    "papermill": {
     "duration": 0.040154,
     "end_time": "2022-01-13T03:52:49.287732",
     "exception": false,
     "start_time": "2022-01-13T03:52:49.247578",
     "status": "completed"
    },
    "tags": []
   },
   "outputs": [
    {
     "data": {
      "text/plain": [
       "0    284315\n",
       "1       492\n",
       "Name: Class, dtype: int64"
      ]
     },
     "execution_count": 8,
     "metadata": {},
     "output_type": "execute_result"
    }
   ],
   "source": [
    "data.Class.value_counts()"
   ]
  },
  {
   "cell_type": "code",
   "execution_count": 9,
   "id": "7614cfb9",
   "metadata": {
    "execution": {
     "iopub.execute_input": "2022-01-13T03:52:49.351313Z",
     "iopub.status.busy": "2022-01-13T03:52:49.350615Z",
     "iopub.status.idle": "2022-01-13T03:52:49.555183Z",
     "shell.execute_reply": "2022-01-13T03:52:49.555702Z",
     "shell.execute_reply.started": "2022-01-13T03:47:52.582185Z"
    },
    "papermill": {
     "duration": 0.239621,
     "end_time": "2022-01-13T03:52:49.555918",
     "exception": false,
     "start_time": "2022-01-13T03:52:49.316297",
     "status": "completed"
    },
    "tags": []
   },
   "outputs": [
    {
     "data": {
      "text/plain": [
       "<AxesSubplot:xlabel='Class', ylabel='count'>"
      ]
     },
     "execution_count": 9,
     "metadata": {},
     "output_type": "execute_result"
    },
    {
     "data": {
      "image/png": "[encoded data removed]",
      "text/plain": [
       "<Figure size 432x288 with 1 Axes>"
      ]
     },
     "metadata": {},
     "output_type": "display_data"
    }
   ],
   "source": [
    "sns.countplot(data.Class)"
   ]
  },
  {
   "cell_type": "code",
   "execution_count": 10,
   "id": "de9e20ed",
   "metadata": {
    "execution": {
     "iopub.execute_input": "2022-01-13T03:52:49.619086Z",
     "iopub.status.busy": "2022-01-13T03:52:49.618402Z",
     "iopub.status.idle": "2022-01-13T03:52:49.777214Z",
     "shell.execute_reply": "2022-01-13T03:52:49.777735Z",
     "shell.execute_reply.started": "2022-01-13T03:47:52.803645Z"
    },
    "papermill": {
     "duration": 0.19167,
     "end_time": "2022-01-13T03:52:49.778011",
     "exception": false,
     "start_time": "2022-01-13T03:52:49.586341",
     "status": "completed"
    },
    "tags": []
   },
   "outputs": [
    {
     "data": {
      "text/html": [
       "<div>\n",
       "<style scoped>\n",
       "    .dataframe tbody tr th:only-of-type {\n",
       "        vertical-align: middle;\n",
       "    }\n",
       "\n",
       "    .dataframe tbody tr th {\n",
       "        vertical-align: top;\n",
       "    }\n",
       "\n",
       "    .dataframe thead th {\n",
       "        text-align: right;\n",
       "    }\n",
       "</style>\n",
       "<table border=\"1\" class=\"dataframe\">\n",
       "  <thead>\n",
       "    <tr style=\"text-align: right;\">\n",
       "      <th></th>\n",
       "      <th>Time</th>\n",
       "      <th>V1</th>\n",
       "      <th>V2</th>\n",
       "      <th>V3</th>\n",
       "      <th>V4</th>\n",
       "      <th>V5</th>\n",
       "      <th>V6</th>\n",
       "      <th>V7</th>\n",
       "      <th>V8</th>\n",
       "      <th>V9</th>\n",
       "      <th>...</th>\n",
       "      <th>V20</th>\n",
       "      <th>V21</th>\n",
       "      <th>V22</th>\n",
       "      <th>V23</th>\n",
       "      <th>V24</th>\n",
       "      <th>V25</th>\n",
       "      <th>V26</th>\n",
       "      <th>V27</th>\n",
       "      <th>V28</th>\n",
       "      <th>Amount</th>\n",
       "    </tr>\n",
       "    <tr>\n",
       "      <th>Class</th>\n",
       "      <th></th>\n",
       "      <th></th>\n",
       "      <th></th>\n",
       "      <th></th>\n",
       "      <th></th>\n",
       "      <th></th>\n",
       "      <th></th>\n",
       "      <th></th>\n",
       "      <th></th>\n",
       "      <th></th>\n",
       "      <th></th>\n",
       "      <th></th>\n",
       "      <th></th>\n",
       "      <th></th>\n",
       "      <th></th>\n",
       "      <th></th>\n",
       "      <th></th>\n",
       "      <th></th>\n",
       "      <th></th>\n",
       "      <th></th>\n",
       "      <th></th>\n",
       "    </tr>\n",
       "  </thead>\n",
       "  <tbody>\n",
       "    <tr>\n",
       "      <th>0</th>\n",
       "      <td>94838.202258</td>\n",
       "      <td>0.008258</td>\n",
       "      <td>-0.006271</td>\n",
       "      <td>0.012171</td>\n",
       "      <td>-0.007860</td>\n",
       "      <td>0.005453</td>\n",
       "      <td>0.002419</td>\n",
       "      <td>0.009637</td>\n",
       "      <td>-0.000987</td>\n",
       "      <td>0.004467</td>\n",
       "      <td>...</td>\n",
       "      <td>-0.000644</td>\n",
       "      <td>-0.001235</td>\n",
       "      <td>-0.000024</td>\n",
       "      <td>0.000070</td>\n",
       "      <td>0.000182</td>\n",
       "      <td>-0.000072</td>\n",
       "      <td>-0.000089</td>\n",
       "      <td>-0.000295</td>\n",
       "      <td>-0.000131</td>\n",
       "      <td>88.291022</td>\n",
       "    </tr>\n",
       "    <tr>\n",
       "      <th>1</th>\n",
       "      <td>80746.806911</td>\n",
       "      <td>-4.771948</td>\n",
       "      <td>3.623778</td>\n",
       "      <td>-7.033281</td>\n",
       "      <td>4.542029</td>\n",
       "      <td>-3.151225</td>\n",
       "      <td>-1.397737</td>\n",
       "      <td>-5.568731</td>\n",
       "      <td>0.570636</td>\n",
       "      <td>-2.581123</td>\n",
       "      <td>...</td>\n",
       "      <td>0.372319</td>\n",
       "      <td>0.713588</td>\n",
       "      <td>0.014049</td>\n",
       "      <td>-0.040308</td>\n",
       "      <td>-0.105130</td>\n",
       "      <td>0.041449</td>\n",
       "      <td>0.051648</td>\n",
       "      <td>0.170575</td>\n",
       "      <td>0.075667</td>\n",
       "      <td>122.211321</td>\n",
       "    </tr>\n",
       "  </tbody>\n",
       "</table>\n",
       "<p>2 rows × 30 columns</p>\n",
       "</div>"
      ],
      "text/plain": [
       "               Time        V1        V2        V3        V4        V5  \\\n",
       "Class                                                                   \n",
       "0      94838.202258  0.008258 -0.006271  0.012171 -0.007860  0.005453   \n",
       "1      80746.806911 -4.771948  3.623778 -7.033281  4.542029 -3.151225   \n",
       "\n",
       "             V6        V7        V8        V9  ...       V20       V21  \\\n",
       "Class                                          ...                       \n",
       "0      0.002419  0.009637 -0.000987  0.004467  ... -0.000644 -0.001235   \n",
       "1     -1.397737 -5.568731  0.570636 -2.581123  ...  0.372319  0.713588   \n",
       "\n",
       "            V22       V23       V24       V25       V26       V27       V28  \\\n",
       "Class                                                                         \n",
       "0     -0.000024  0.000070  0.000182 -0.000072 -0.000089 -0.000295 -0.000131   \n",
       "1      0.014049 -0.040308 -0.105130  0.041449  0.051648  0.170575  0.075667   \n",
       "\n",
       "           Amount  \n",
       "Class              \n",
       "0       88.291022  \n",
       "1      122.211321  \n",
       "\n",
       "[2 rows x 30 columns]"
      ]
     },
     "execution_count": 10,
     "metadata": {},
     "output_type": "execute_result"
    }
   ],
   "source": [
    "data.groupby('Class').mean()"
   ]
  },
  {
   "cell_type": "markdown",
   "id": "3150e603",
   "metadata": {
    "papermill": {
     "duration": 0.029962,
     "end_time": "2022-01-13T03:52:49.838710",
     "exception": false,
     "start_time": "2022-01-13T03:52:49.808748",
     "status": "completed"
    },
    "tags": []
   },
   "source": [
    "**Splitting data into features and targets**"
   ]
  },
  {
   "cell_type": "code",
   "execution_count": 11,
   "id": "9415c066",
   "metadata": {
    "execution": {
     "iopub.execute_input": "2022-01-13T03:52:49.944219Z",
     "iopub.status.busy": "2022-01-13T03:52:49.943176Z",
     "iopub.status.idle": "2022-01-13T03:52:49.945574Z",
     "shell.execute_reply": "2022-01-13T03:52:49.946060Z",
     "shell.execute_reply.started": "2022-01-13T03:47:53.209132Z"
    },
    "papermill": {
     "duration": 0.077318,
     "end_time": "2022-01-13T03:52:49.946275",
     "exception": false,
     "start_time": "2022-01-13T03:52:49.868957",
     "status": "completed"
    },
    "tags": []
   },
   "outputs": [],
   "source": [
    "X = data.drop('Class', axis = 1)\n",
    "y = data.Class.values"
   ]
  },
  {
   "cell_type": "markdown",
   "id": "ce92ff1e",
   "metadata": {
    "papermill": {
     "duration": 0.030207,
     "end_time": "2022-01-13T03:52:50.007431",
     "exception": false,
     "start_time": "2022-01-13T03:52:49.977224",
     "status": "completed"
    },
    "tags": []
   },
   "source": [
    "**Scaling data**"
   ]
  },
  {
   "cell_type": "code",
   "execution_count": 12,
   "id": "8df3957e",
   "metadata": {
    "execution": {
     "iopub.execute_input": "2022-01-13T03:52:50.075259Z",
     "iopub.status.busy": "2022-01-13T03:52:50.074489Z",
     "iopub.status.idle": "2022-01-13T03:52:50.494896Z",
     "shell.execute_reply": "2022-01-13T03:52:50.494231Z",
     "shell.execute_reply.started": "2022-01-13T03:47:53.210762Z"
    },
    "papermill": {
     "duration": 0.455574,
     "end_time": "2022-01-13T03:52:50.495061",
     "exception": false,
     "start_time": "2022-01-13T03:52:50.039487",
     "status": "completed"
    },
    "tags": []
   },
   "outputs": [],
   "source": [
    "from sklearn.preprocessing import StandardScaler\n",
    "\n",
    "scaler = StandardScaler()\n",
    "scaled_X = pd.DataFrame(data = scaler.fit_transform(X),columns =  X.columns)"
   ]
  },
  {
   "cell_type": "code",
   "execution_count": 13,
   "id": "1013bb26",
   "metadata": {
    "execution": {
     "iopub.execute_input": "2022-01-13T03:52:50.562257Z",
     "iopub.status.busy": "2022-01-13T03:52:50.561562Z",
     "iopub.status.idle": "2022-01-13T03:52:50.564214Z",
     "shell.execute_reply": "2022-01-13T03:52:50.563575Z",
     "shell.execute_reply.started": "2022-01-13T03:47:53.212286Z"
    },
    "papermill": {
     "duration": 0.038051,
     "end_time": "2022-01-13T03:52:50.564371",
     "exception": false,
     "start_time": "2022-01-13T03:52:50.526320",
     "status": "completed"
    },
    "tags": []
   },
   "outputs": [],
   "source": [
    "X = X.values"
   ]
  },
  {
   "cell_type": "markdown",
   "id": "3941bfb4",
   "metadata": {
    "papermill": {
     "duration": 0.02953,
     "end_time": "2022-01-13T03:52:50.623695",
     "exception": false,
     "start_time": "2022-01-13T03:52:50.594165",
     "status": "completed"
    },
    "tags": []
   },
   "source": [
    "**Splitting data for training, validation and testing**\n",
    "\n",
    "80% for training, 10% for validation, 10% for testing"
   ]
  },
  {
   "cell_type": "code",
   "execution_count": 14,
   "id": "3a0a2cc7",
   "metadata": {
    "execution": {
     "iopub.execute_input": "2022-01-13T03:52:50.686787Z",
     "iopub.status.busy": "2022-01-13T03:52:50.686133Z",
     "iopub.status.idle": "2022-01-13T03:52:51.070881Z",
     "shell.execute_reply": "2022-01-13T03:52:51.070100Z",
     "shell.execute_reply.started": "2022-01-13T03:47:53.213749Z"
    },
    "papermill": {
     "duration": 0.417345,
     "end_time": "2022-01-13T03:52:51.071054",
     "exception": false,
     "start_time": "2022-01-13T03:52:50.653709",
     "status": "completed"
    },
    "tags": []
   },
   "outputs": [],
   "source": [
    "from sklearn.model_selection import train_test_split as tts\n",
    "\n",
    "x_train, x_test, y_train, y_test = tts(X,y,test_size = 0.2, random_state = 0, stratify = y)"
   ]
  },
  {
   "cell_type": "code",
   "execution_count": 15,
   "id": "5563e7ac",
   "metadata": {
    "execution": {
     "iopub.execute_input": "2022-01-13T03:52:51.138302Z",
     "iopub.status.busy": "2022-01-13T03:52:51.137219Z",
     "iopub.status.idle": "2022-01-13T03:52:51.191630Z",
     "shell.execute_reply": "2022-01-13T03:52:51.192163Z",
     "shell.execute_reply.started": "2022-01-13T03:47:53.214999Z"
    },
    "papermill": {
     "duration": 0.091296,
     "end_time": "2022-01-13T03:52:51.192380",
     "exception": false,
     "start_time": "2022-01-13T03:52:51.101084",
     "status": "completed"
    },
    "tags": []
   },
   "outputs": [],
   "source": [
    "X_valid, X_test, Y_valid, Y_test =tts(x_test,y_test,test_size = 0.5, stratify = y_test )"
   ]
  },
  {
   "cell_type": "markdown",
   "id": "37198dfe",
   "metadata": {
    "papermill": {
     "duration": 0.029992,
     "end_time": "2022-01-13T03:52:51.254620",
     "exception": false,
     "start_time": "2022-01-13T03:52:51.224628",
     "status": "completed"
    },
    "tags": []
   },
   "source": [
    "**Training Sequential model**\n",
    "\n",
    "setting width = 100, depth = 2"
   ]
  },
  {
   "cell_type": "code",
   "execution_count": 16,
   "id": "ae87223b",
   "metadata": {
    "execution": {
     "iopub.execute_input": "2022-01-13T03:52:51.321934Z",
     "iopub.status.busy": "2022-01-13T03:52:51.321227Z",
     "iopub.status.idle": "2022-01-13T03:52:52.577339Z",
     "shell.execute_reply": "2022-01-13T03:52:52.577976Z",
     "shell.execute_reply.started": "2022-01-13T03:47:53.217393Z"
    },
    "papermill": {
     "duration": 1.293606,
     "end_time": "2022-01-13T03:52:52.578186",
     "exception": false,
     "start_time": "2022-01-13T03:52:51.284580",
     "status": "completed"
    },
    "tags": []
   },
   "outputs": [
    {
     "name": "stderr",
     "output_type": "stream",
     "text": [
      "\n",
      "User settings:\n",
      "\n",
      "   KMP_AFFINITY=granularity=fine,verbose,compact,1,0\n",
      "   KMP_BLOCKTIME=0\n",
      "   KMP_DUPLICATE_LIB_OK=True\n",
      "   KMP_INIT_AT_FORK=FALSE\n",
      "   KMP_SETTINGS=1\n",
      "   KMP_WARNINGS=0\n",
      "\n",
      "Effective settings:\n",
      "\n",
      "   KMP_ABORT_DELAY=0\n",
      "   KMP_ADAPTIVE_LOCK_PROPS='1,1024'\n",
      "   KMP_ALIGN_ALLOC=64\n",
      "   KMP_ALL_THREADPRIVATE=128\n",
      "   KMP_ATOMIC_MODE=2\n",
      "   KMP_BLOCKTIME=0\n",
      "   KMP_CPUINFO_FILE: value is not defined\n",
      "   KMP_DETERMINISTIC_REDUCTION=false\n",
      "   KMP_DEVICE_THREAD_LIMIT=2147483647\n",
      "   KMP_DISP_NUM_BUFFERS=7\n",
      "   KMP_DUPLICATE_LIB_OK=true\n",
      "   KMP_ENABLE_TASK_THROTTLING=true\n",
      "   KMP_FORCE_REDUCTION: value is not defined\n",
      "   KMP_FOREIGN_THREADS_THREADPRIVATE=true\n",
      "   KMP_FORKJOIN_BARRIER='2,2'\n",
      "   KMP_FORKJOIN_BARRIER_PATTERN='hyper,hyper'\n",
      "   KMP_GTID_MODE=3\n",
      "   KMP_HANDLE_SIGNALS=false\n",
      "   KMP_HOT_TEAMS_MAX_LEVEL=1\n",
      "   KMP_HOT_TEAMS_MODE=0\n",
      "   KMP_INIT_AT_FORK=true\n",
      "   KMP_LIBRARY=throughput\n",
      "   KMP_LOCK_KIND=queuing\n",
      "   KMP_MALLOC_POOL_INCR=1M\n",
      "   KMP_NUM_LOCKS_IN_BLOCK=1\n",
      "   KMP_PLAIN_BARRIER='2,2'\n",
      "   KMP_PLAIN_BARRIER_PATTERN='hyper,hyper'\n",
      "   KMP_REDUCTION_BARRIER='1,1'\n",
      "   KMP_REDUCTION_BARRIER_PATTERN='hyper,hyper'\n",
      "   KMP_SCHEDULE='static,balanced;guided,iterative'\n",
      "   KMP_SETTINGS=true\n",
      "   KMP_SPIN_BACKOFF_PARAMS='4096,100'\n",
      "   KMP_STACKOFFSET=64\n",
      "   KMP_STACKPAD=0\n",
      "   KMP_STACKSIZE=8M\n",
      "   KMP_STORAGE_MAP=false\n",
      "   KMP_TASKING=2\n",
      "   KMP_TASKLOOP_MIN_TASKS=0\n",
      "   KMP_TASK_STEALING_CONSTRAINT=1\n",
      "   KMP_TEAMS_THREAD_LIMIT=4\n",
      "   KMP_TOPOLOGY_METHOD=all\n",
      "   KMP_USE_YIELD=1\n",
      "   KMP_VERSION=false\n",
      "   KMP_WARNINGS=false\n",
      "   OMP_AFFINITY_FORMAT='OMP: pid %P tid %i thread %n bound to OS proc set {%A}'\n",
      "   OMP_ALLOCATOR=omp_default_mem_alloc\n",
      "   OMP_CANCELLATION=false\n",
      "   OMP_DEFAULT_DEVICE=0\n",
      "   OMP_DISPLAY_AFFINITY=false\n",
      "   OMP_DISPLAY_ENV=false\n",
      "   OMP_DYNAMIC=false\n",
      "   OMP_MAX_ACTIVE_LEVELS=1\n",
      "   OMP_MAX_TASK_PRIORITY=0\n",
      "   OMP_NESTED: deprecated; max-active-levels-var=1\n",
      "   OMP_NUM_THREADS: value is not defined\n",
      "   OMP_PLACES: value is not defined\n",
      "   OMP_PROC_BIND='intel'\n",
      "   OMP_SCHEDULE='static'\n",
      "   OMP_STACKSIZE=8M\n",
      "   OMP_TARGET_OFFLOAD=DEFAULT\n",
      "   OMP_THREAD_LIMIT=2147483647\n",
      "   OMP_WAIT_POLICY=PASSIVE\n",
      "   KMP_AFFINITY='verbose,warnings,respect,granularity=fine,compact,1,0'\n",
      "\n",
      "2022-01-13 03:52:52.475544: I tensorflow/core/common_runtime/process_util.cc:146] Creating new thread pool with default inter op setting: 2. Tune using inter_op_parallelism_threads for best performance.\n"
     ]
    }
   ],
   "source": [
    "input_size = [30]\n",
    "model = tf.keras.Sequential([\n",
    "    \n",
    "    tf.keras.layers.BatchNormalization(input_shape = [30]),\n",
    "    tf.keras.layers.Dense(100, activation = 'softmax'),\n",
    "    tf.keras.layers.Dropout(rate = 0.2),\n",
    "    \n",
    "    tf.keras.layers.BatchNormalization(),\n",
    "    tf.keras.layers.Dense(2, activation = 'softmax')\n",
    "])"
   ]
  },
  {
   "cell_type": "code",
   "execution_count": 17,
   "id": "ddd7d331",
   "metadata": {
    "execution": {
     "iopub.execute_input": "2022-01-13T03:52:52.648936Z",
     "iopub.status.busy": "2022-01-13T03:52:52.641986Z",
     "iopub.status.idle": "2022-01-13T03:52:52.658892Z",
     "shell.execute_reply": "2022-01-13T03:52:52.658324Z",
     "shell.execute_reply.started": "2022-01-13T03:47:53.218868Z"
    },
    "papermill": {
     "duration": 0.050364,
     "end_time": "2022-01-13T03:52:52.659066",
     "exception": false,
     "start_time": "2022-01-13T03:52:52.608702",
     "status": "completed"
    },
    "tags": []
   },
   "outputs": [],
   "source": [
    "model.compile(optimizer='adam', loss='sparse_categorical_crossentropy', metrics=['accuracy'])"
   ]
  },
  {
   "cell_type": "code",
   "execution_count": 18,
   "id": "c72d0b5a",
   "metadata": {
    "execution": {
     "iopub.execute_input": "2022-01-13T03:52:52.726420Z",
     "iopub.status.busy": "2022-01-13T03:52:52.725769Z",
     "iopub.status.idle": "2022-01-13T03:52:52.731717Z",
     "shell.execute_reply": "2022-01-13T03:52:52.731142Z",
     "shell.execute_reply.started": "2022-01-13T03:47:53.220291Z"
    },
    "papermill": {
     "duration": 0.042919,
     "end_time": "2022-01-13T03:52:52.731884",
     "exception": false,
     "start_time": "2022-01-13T03:52:52.688965",
     "status": "completed"
    },
    "tags": []
   },
   "outputs": [
    {
     "name": "stdout",
     "output_type": "stream",
     "text": [
      "Model: \"sequential\"\n",
      "_________________________________________________________________\n",
      "Layer (type)                 Output Shape              Param #   \n",
      "=================================================================\n",
      "batch_normalization (BatchNo (None, 30)                120       \n",
      "_________________________________________________________________\n",
      "dense (Dense)                (None, 100)               3100      \n",
      "_________________________________________________________________\n",
      "dropout (Dropout)            (None, 100)               0         \n",
      "_________________________________________________________________\n",
      "batch_normalization_1 (Batch (None, 100)               400       \n",
      "_________________________________________________________________\n",
      "dense_1 (Dense)              (None, 2)                 202       \n",
      "=================================================================\n",
      "Total params: 3,822\n",
      "Trainable params: 3,562\n",
      "Non-trainable params: 260\n",
      "_________________________________________________________________\n"
     ]
    }
   ],
   "source": [
    "model.summary()"
   ]
  },
  {
   "cell_type": "code",
   "execution_count": 19,
   "id": "e55f2fb3",
   "metadata": {
    "execution": {
     "iopub.execute_input": "2022-01-13T03:52:52.797410Z",
     "iopub.status.busy": "2022-01-13T03:52:52.796773Z",
     "iopub.status.idle": "2022-01-13T03:52:52.800012Z",
     "shell.execute_reply": "2022-01-13T03:52:52.799418Z",
     "shell.execute_reply.started": "2022-01-13T03:47:53.222116Z"
    },
    "papermill": {
     "duration": 0.038165,
     "end_time": "2022-01-13T03:52:52.800141",
     "exception": false,
     "start_time": "2022-01-13T03:52:52.761976",
     "status": "completed"
    },
    "tags": []
   },
   "outputs": [],
   "source": [
    "early_stopping = tf.keras.callbacks.EarlyStopping(\n",
    "    patience = 5,\n",
    "    min_delta = 0.001,\n",
    "    restore_best_weights = True,\n",
    ")"
   ]
  },
  {
   "cell_type": "code",
   "execution_count": 20,
   "id": "ad6e6cb1",
   "metadata": {
    "execution": {
     "iopub.execute_input": "2022-01-13T03:52:52.867100Z",
     "iopub.status.busy": "2022-01-13T03:52:52.866460Z",
     "iopub.status.idle": "2022-01-13T03:53:09.148146Z",
     "shell.execute_reply": "2022-01-13T03:53:09.148663Z",
     "shell.execute_reply.started": "2022-01-13T03:47:53.223471Z"
    },
    "papermill": {
     "duration": 16.318812,
     "end_time": "2022-01-13T03:53:09.148913",
     "exception": false,
     "start_time": "2022-01-13T03:52:52.830101",
     "status": "completed"
    },
    "tags": []
   },
   "outputs": [
    {
     "name": "stderr",
     "output_type": "stream",
     "text": [
      "2022-01-13 03:52:52.993269: I tensorflow/compiler/mlir/mlir_graph_optimization_pass.cc:185] None of the MLIR Optimization Passes are enabled (registered 2)\n"
     ]
    },
    {
     "name": "stdout",
     "output_type": "stream",
     "text": [
      "Epoch 1/50\n",
      "456/456 - 3s - loss: 0.0815 - accuracy: 0.9813 - val_loss: 0.0082 - val_accuracy: 0.9983\n",
      "Epoch 2/50\n",
      "456/456 - 2s - loss: 0.0043 - accuracy: 0.9993 - val_loss: 0.0031 - val_accuracy: 0.9994\n",
      "Epoch 3/50\n",
      "456/456 - 2s - loss: 0.0037 - accuracy: 0.9993 - val_loss: 0.0028 - val_accuracy: 0.9995\n",
      "Epoch 4/50\n",
      "456/456 - 2s - loss: 0.0031 - accuracy: 0.9993 - val_loss: 0.0026 - val_accuracy: 0.9995\n",
      "Epoch 5/50\n",
      "456/456 - 2s - loss: 0.0029 - accuracy: 0.9994 - val_loss: 0.0025 - val_accuracy: 0.9995\n",
      "Epoch 6/50\n",
      "456/456 - 2s - loss: 0.0027 - accuracy: 0.9995 - val_loss: 0.0026 - val_accuracy: 0.9995\n",
      "Epoch 7/50\n",
      "456/456 - 2s - loss: 0.0027 - accuracy: 0.9994 - val_loss: 0.0024 - val_accuracy: 0.9996\n"
     ]
    },
    {
     "data": {
      "text/plain": [
       "<keras.callbacks.History at 0x7f7de5f44290>"
      ]
     },
     "execution_count": 20,
     "metadata": {},
     "output_type": "execute_result"
    }
   ],
   "source": [
    "NUM_EPOCHS = 50\n",
    "batch_size = 500\n",
    "model.fit(x_train,y_train, \n",
    "          epochs = NUM_EPOCHS ,\n",
    "          batch_size = batch_size,\n",
    "          callbacks = [early_stopping],\n",
    "          validation_data=(X_valid, Y_valid),\n",
    "          verbose = 2,\n",
    "         )"
   ]
  },
  {
   "cell_type": "markdown",
   "id": "c239caff",
   "metadata": {
    "papermill": {
     "duration": 0.035655,
     "end_time": "2022-01-13T03:53:09.221721",
     "exception": false,
     "start_time": "2022-01-13T03:53:09.186066",
     "status": "completed"
    },
    "tags": []
   },
   "source": [
    "**Model Evaluation on test data**"
   ]
  },
  {
   "cell_type": "code",
   "execution_count": 21,
   "id": "bcb81369",
   "metadata": {
    "execution": {
     "iopub.execute_input": "2022-01-13T03:53:09.300896Z",
     "iopub.status.busy": "2022-01-13T03:53:09.300217Z",
     "iopub.status.idle": "2022-01-13T03:53:10.442520Z",
     "shell.execute_reply": "2022-01-13T03:53:10.443100Z",
     "shell.execute_reply.started": "2022-01-13T03:47:53.225459Z"
    },
    "papermill": {
     "duration": 1.185827,
     "end_time": "2022-01-13T03:53:10.443289",
     "exception": false,
     "start_time": "2022-01-13T03:53:09.257462",
     "status": "completed"
    },
    "tags": []
   },
   "outputs": [
    {
     "name": "stdout",
     "output_type": "stream",
     "text": [
      "891/891 - 1s - loss: 0.0040 - accuracy: 0.9993\n"
     ]
    }
   ],
   "source": [
    "valid_score = model.evaluate(X_test, Y_test, verbose=2)"
   ]
  },
  {
   "cell_type": "code",
   "execution_count": 22,
   "id": "cb363ab1",
   "metadata": {
    "execution": {
     "iopub.execute_input": "2022-01-13T03:53:10.523465Z",
     "iopub.status.busy": "2022-01-13T03:53:10.522814Z",
     "iopub.status.idle": "2022-01-13T03:53:11.623207Z",
     "shell.execute_reply": "2022-01-13T03:53:11.623659Z",
     "shell.execute_reply.started": "2022-01-13T03:47:53.226897Z"
    },
    "papermill": {
     "duration": 1.143372,
     "end_time": "2022-01-13T03:53:11.623868",
     "exception": false,
     "start_time": "2022-01-13T03:53:10.480496",
     "status": "completed"
    },
    "tags": []
   },
   "outputs": [
    {
     "data": {
      "text/plain": [
       "array([0, 0, 0, ..., 0, 0, 0])"
      ]
     },
     "execution_count": 22,
     "metadata": {},
     "output_type": "execute_result"
    }
   ],
   "source": [
    "preds = model.predict(X_test)\n",
    "preds = np.argmax(preds, axis=1)\n",
    "preds"
   ]
  },
  {
   "cell_type": "code",
   "execution_count": 23,
   "id": "84c1c2f2",
   "metadata": {
    "execution": {
     "iopub.execute_input": "2022-01-13T03:53:11.706614Z",
     "iopub.status.busy": "2022-01-13T03:53:11.705697Z",
     "iopub.status.idle": "2022-01-13T03:53:11.746701Z",
     "shell.execute_reply": "2022-01-13T03:53:11.747275Z",
     "shell.execute_reply.started": "2022-01-13T03:47:53.228063Z"
    },
    "papermill": {
     "duration": 0.086475,
     "end_time": "2022-01-13T03:53:11.747446",
     "exception": false,
     "start_time": "2022-01-13T03:53:11.660971",
     "status": "completed"
    },
    "tags": []
   },
   "outputs": [
    {
     "name": "stdout",
     "output_type": "stream",
     "text": [
      "              precision    recall  f1-score   support\n",
      "\n",
      "           0       1.00      1.00      1.00     28432\n",
      "           1       0.83      0.71      0.77        49\n",
      "\n",
      "    accuracy                           1.00     28481\n",
      "   macro avg       0.92      0.86      0.88     28481\n",
      "weighted avg       1.00      1.00      1.00     28481\n",
      "\n"
     ]
    }
   ],
   "source": [
    "from sklearn.metrics import classification_report\n",
    "print(classification_report(Y_test, preds))"
   ]
  },
  {
   "cell_type": "code",
   "execution_count": null,
   "id": "1f675006",
   "metadata": {
    "papermill": {
     "duration": 0.035907,
     "end_time": "2022-01-13T03:53:11.819575",
     "exception": false,
     "start_time": "2022-01-13T03:53:11.783668",
     "status": "completed"
    },
    "tags": []
   },
   "outputs": [],
   "source": []
  }
 ],
 "metadata": {
  "kernelspec": {
   "display_name": "Python 3",
   "language": "python",
   "name": "python3"
  },
  "language_info": {
   "codemirror_mode": {
    "name": "ipython",
    "version": 3
   },
   "file_extension": ".py",
   "mimetype": "text/x-python",
   "name": "python",
   "nbconvert_exporter": "python",
   "pygments_lexer": "ipython3",
   "version": "3.7.12"
  },
  "papermill": {
   "default_parameters": {},
   "duration": 53.790912,
   "end_time": "2022-01-13T03:53:15.033345",
   "environment_variables": {},
   "exception": null,
   "input_path": "__notebook__.ipynb",
   "output_path": "__notebook__.ipynb",
   "parameters": {},
   "start_time": "2022-01-13T03:52:21.242433",
   "version": "2.3.3"
  }
 },
 "nbformat": 4,
 "nbformat_minor": 5
}
