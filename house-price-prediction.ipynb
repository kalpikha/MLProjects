{
 "cells": [
  {
   "cell_type": "code",
   "execution_count": 1,
   "id": "0c8ae8f9",
   "metadata": {
    "_cell_guid": "b1076dfc-b9ad-4769-8c92-a6c4dae69d19",
    "_uuid": "8f2839f25d086af736a60e9eeb907d3b93b6e0e5",
    "execution": {
     "iopub.execute_input": "2022-01-02T06:52:16.769344Z",
     "iopub.status.busy": "2022-01-02T06:52:16.768078Z",
     "iopub.status.idle": "2022-01-02T06:52:16.783620Z",
     "shell.execute_reply": "2022-01-02T06:52:16.782923Z",
     "shell.execute_reply.started": "2022-01-02T06:51:09.996278Z"
    },
    "papermill": {
     "duration": 0.06255,
     "end_time": "2022-01-02T06:52:16.783798",
     "exception": false,
     "start_time": "2022-01-02T06:52:16.721248",
     "status": "completed"
    },
    "tags": []
   },
   "outputs": [
    {
     "name": "stdout",
     "output_type": "stream",
     "text": [
      "/kaggle/input/house-prices-advanced-regression-techniques/sample_submission.csv\n",
      "/kaggle/input/house-prices-advanced-regression-techniques/data_description.txt\n",
      "/kaggle/input/house-prices-advanced-regression-techniques/train.csv\n",
      "/kaggle/input/house-prices-advanced-regression-techniques/test.csv\n"
     ]
    }
   ],
   "source": [
    "# This Python 3 environment comes with many helpful analytics libraries installed\n",
    "# It is defined by the kaggle/python Docker image: https://github.com/kaggle/docker-python\n",
    "# For example, here's several helpful packages to load\n",
    "\n",
    "import numpy as np # linear algebra\n",
    "import pandas as pd # data processing, CSV file I/O (e.g. pd.read_csv)\n",
    "\n",
    "import warnings\n",
    "warnings.filterwarnings('ignore')\n",
    "# Input data files are available in the read-only \"../input/\" directory\n",
    "# For example, running this (by clicking run or pressing Shift+Enter) will list all files under the input directory\n",
    "\n",
    "import os\n",
    "for dirname, _, filenames in os.walk('/kaggle/input'):\n",
    "    for filename in filenames:\n",
    "        print(os.path.join(dirname, filename))\n",
    "\n",
    "# You can write up to 20GB to the current directory (/kaggle/working/) that gets preserved as output when you create a version using \"Save & Run All\" \n",
    "# You can also write temporary files to /kaggle/temp/, but they won't be saved outside of the current session"
   ]
  },
  {
   "cell_type": "code",
   "execution_count": 2,
   "id": "d968be1a",
   "metadata": {
    "execution": {
     "iopub.execute_input": "2022-01-02T06:52:16.877077Z",
     "iopub.status.busy": "2022-01-02T06:52:16.876384Z",
     "iopub.status.idle": "2022-01-02T06:52:17.115303Z",
     "shell.execute_reply": "2022-01-02T06:52:17.114769Z",
     "shell.execute_reply.started": "2022-01-02T06:51:10.012675Z"
    },
    "papermill": {
     "duration": 0.287453,
     "end_time": "2022-01-02T06:52:17.115469",
     "exception": false,
     "start_time": "2022-01-02T06:52:16.828016",
     "status": "completed"
    },
    "tags": []
   },
   "outputs": [
    {
     "data": {
      "text/html": [
       "<div>\n",
       "<style scoped>\n",
       "    .dataframe tbody tr th:only-of-type {\n",
       "        vertical-align: middle;\n",
       "    }\n",
       "\n",
       "    .dataframe tbody tr th {\n",
       "        vertical-align: top;\n",
       "    }\n",
       "\n",
       "    .dataframe thead th {\n",
       "        text-align: right;\n",
       "    }\n",
       "</style>\n",
       "<table border=\"1\" class=\"dataframe\">\n",
       "  <thead>\n",
       "    <tr style=\"text-align: right;\">\n",
       "      <th></th>\n",
       "      <th>MSSubClass</th>\n",
       "      <th>MSZoning</th>\n",
       "      <th>LotFrontage</th>\n",
       "      <th>LotArea</th>\n",
       "      <th>Street</th>\n",
       "      <th>Alley</th>\n",
       "      <th>LotShape</th>\n",
       "      <th>LandContour</th>\n",
       "      <th>Utilities</th>\n",
       "      <th>LotConfig</th>\n",
       "      <th>...</th>\n",
       "      <th>PoolArea</th>\n",
       "      <th>PoolQC</th>\n",
       "      <th>Fence</th>\n",
       "      <th>MiscFeature</th>\n",
       "      <th>MiscVal</th>\n",
       "      <th>MoSold</th>\n",
       "      <th>YrSold</th>\n",
       "      <th>SaleType</th>\n",
       "      <th>SaleCondition</th>\n",
       "      <th>SalePrice</th>\n",
       "    </tr>\n",
       "  </thead>\n",
       "  <tbody>\n",
       "    <tr>\n",
       "      <th>0</th>\n",
       "      <td>60</td>\n",
       "      <td>RL</td>\n",
       "      <td>65.0</td>\n",
       "      <td>8450</td>\n",
       "      <td>Pave</td>\n",
       "      <td>NaN</td>\n",
       "      <td>Reg</td>\n",
       "      <td>Lvl</td>\n",
       "      <td>AllPub</td>\n",
       "      <td>Inside</td>\n",
       "      <td>...</td>\n",
       "      <td>0</td>\n",
       "      <td>NaN</td>\n",
       "      <td>NaN</td>\n",
       "      <td>NaN</td>\n",
       "      <td>0</td>\n",
       "      <td>2</td>\n",
       "      <td>2008</td>\n",
       "      <td>WD</td>\n",
       "      <td>Normal</td>\n",
       "      <td>208500.0</td>\n",
       "    </tr>\n",
       "    <tr>\n",
       "      <th>1</th>\n",
       "      <td>20</td>\n",
       "      <td>RL</td>\n",
       "      <td>80.0</td>\n",
       "      <td>9600</td>\n",
       "      <td>Pave</td>\n",
       "      <td>NaN</td>\n",
       "      <td>Reg</td>\n",
       "      <td>Lvl</td>\n",
       "      <td>AllPub</td>\n",
       "      <td>FR2</td>\n",
       "      <td>...</td>\n",
       "      <td>0</td>\n",
       "      <td>NaN</td>\n",
       "      <td>NaN</td>\n",
       "      <td>NaN</td>\n",
       "      <td>0</td>\n",
       "      <td>5</td>\n",
       "      <td>2007</td>\n",
       "      <td>WD</td>\n",
       "      <td>Normal</td>\n",
       "      <td>181500.0</td>\n",
       "    </tr>\n",
       "    <tr>\n",
       "      <th>2</th>\n",
       "      <td>60</td>\n",
       "      <td>RL</td>\n",
       "      <td>68.0</td>\n",
       "      <td>11250</td>\n",
       "      <td>Pave</td>\n",
       "      <td>NaN</td>\n",
       "      <td>IR1</td>\n",
       "      <td>Lvl</td>\n",
       "      <td>AllPub</td>\n",
       "      <td>Inside</td>\n",
       "      <td>...</td>\n",
       "      <td>0</td>\n",
       "      <td>NaN</td>\n",
       "      <td>NaN</td>\n",
       "      <td>NaN</td>\n",
       "      <td>0</td>\n",
       "      <td>9</td>\n",
       "      <td>2008</td>\n",
       "      <td>WD</td>\n",
       "      <td>Normal</td>\n",
       "      <td>223500.0</td>\n",
       "    </tr>\n",
       "    <tr>\n",
       "      <th>3</th>\n",
       "      <td>70</td>\n",
       "      <td>RL</td>\n",
       "      <td>60.0</td>\n",
       "      <td>9550</td>\n",
       "      <td>Pave</td>\n",
       "      <td>NaN</td>\n",
       "      <td>IR1</td>\n",
       "      <td>Lvl</td>\n",
       "      <td>AllPub</td>\n",
       "      <td>Corner</td>\n",
       "      <td>...</td>\n",
       "      <td>0</td>\n",
       "      <td>NaN</td>\n",
       "      <td>NaN</td>\n",
       "      <td>NaN</td>\n",
       "      <td>0</td>\n",
       "      <td>2</td>\n",
       "      <td>2006</td>\n",
       "      <td>WD</td>\n",
       "      <td>Abnorml</td>\n",
       "      <td>140000.0</td>\n",
       "    </tr>\n",
       "    <tr>\n",
       "      <th>4</th>\n",
       "      <td>60</td>\n",
       "      <td>RL</td>\n",
       "      <td>84.0</td>\n",
       "      <td>14260</td>\n",
       "      <td>Pave</td>\n",
       "      <td>NaN</td>\n",
       "      <td>IR1</td>\n",
       "      <td>Lvl</td>\n",
       "      <td>AllPub</td>\n",
       "      <td>FR2</td>\n",
       "      <td>...</td>\n",
       "      <td>0</td>\n",
       "      <td>NaN</td>\n",
       "      <td>NaN</td>\n",
       "      <td>NaN</td>\n",
       "      <td>0</td>\n",
       "      <td>12</td>\n",
       "      <td>2008</td>\n",
       "      <td>WD</td>\n",
       "      <td>Normal</td>\n",
       "      <td>250000.0</td>\n",
       "    </tr>\n",
       "  </tbody>\n",
       "</table>\n",
       "<p>5 rows × 80 columns</p>\n",
       "</div>"
      ],
      "text/plain": [
       "   MSSubClass MSZoning  LotFrontage  LotArea Street Alley LotShape  \\\n",
       "0          60       RL         65.0     8450   Pave   NaN      Reg   \n",
       "1          20       RL         80.0     9600   Pave   NaN      Reg   \n",
       "2          60       RL         68.0    11250   Pave   NaN      IR1   \n",
       "3          70       RL         60.0     9550   Pave   NaN      IR1   \n",
       "4          60       RL         84.0    14260   Pave   NaN      IR1   \n",
       "\n",
       "  LandContour Utilities LotConfig  ... PoolArea PoolQC Fence MiscFeature  \\\n",
       "0         Lvl    AllPub    Inside  ...        0    NaN   NaN         NaN   \n",
       "1         Lvl    AllPub       FR2  ...        0    NaN   NaN         NaN   \n",
       "2         Lvl    AllPub    Inside  ...        0    NaN   NaN         NaN   \n",
       "3         Lvl    AllPub    Corner  ...        0    NaN   NaN         NaN   \n",
       "4         Lvl    AllPub       FR2  ...        0    NaN   NaN         NaN   \n",
       "\n",
       "  MiscVal MoSold  YrSold  SaleType  SaleCondition  SalePrice  \n",
       "0       0      2    2008        WD         Normal   208500.0  \n",
       "1       0      5    2007        WD         Normal   181500.0  \n",
       "2       0      9    2008        WD         Normal   223500.0  \n",
       "3       0      2    2006        WD        Abnorml   140000.0  \n",
       "4       0     12    2008        WD         Normal   250000.0  \n",
       "\n",
       "[5 rows x 80 columns]"
      ]
     },
     "execution_count": 2,
     "metadata": {},
     "output_type": "execute_result"
    }
   ],
   "source": [
    "traindata = pd.read_csv('../input/house-prices-advanced-regression-techniques/train.csv')\n",
    "testdata = pd.read_csv('../input/house-prices-advanced-regression-techniques/test.csv') \n",
    "\n",
    "testdata['SalePrice'] = np.NaN\n",
    "raw_data = pd.concat([traindata,testdata])\n",
    "raw_data = raw_data.drop('Id', axis = 1)\n",
    "raw_data.head()"
   ]
  },
  {
   "cell_type": "code",
   "execution_count": 3,
   "id": "2f9e2056",
   "metadata": {
    "execution": {
     "iopub.execute_input": "2022-01-02T06:52:17.221845Z",
     "iopub.status.busy": "2022-01-02T06:52:17.220833Z",
     "iopub.status.idle": "2022-01-02T06:52:17.254485Z",
     "shell.execute_reply": "2022-01-02T06:52:17.255184Z",
     "shell.execute_reply.started": "2022-01-02T06:51:10.114708Z"
    },
    "papermill": {
     "duration": 0.095905,
     "end_time": "2022-01-02T06:52:17.255452",
     "exception": false,
     "start_time": "2022-01-02T06:52:17.159547",
     "status": "completed"
    },
    "tags": []
   },
   "outputs": [
    {
     "data": {
      "text/html": [
       "<div>\n",
       "<style scoped>\n",
       "    .dataframe tbody tr th:only-of-type {\n",
       "        vertical-align: middle;\n",
       "    }\n",
       "\n",
       "    .dataframe tbody tr th {\n",
       "        vertical-align: top;\n",
       "    }\n",
       "\n",
       "    .dataframe thead th {\n",
       "        text-align: right;\n",
       "    }\n",
       "</style>\n",
       "<table border=\"1\" class=\"dataframe\">\n",
       "  <thead>\n",
       "    <tr style=\"text-align: right;\">\n",
       "      <th></th>\n",
       "      <th>MSSubClass</th>\n",
       "      <th>MSZoning</th>\n",
       "      <th>LotFrontage</th>\n",
       "      <th>LotArea</th>\n",
       "      <th>Street</th>\n",
       "      <th>Alley</th>\n",
       "      <th>LotShape</th>\n",
       "      <th>LandContour</th>\n",
       "      <th>Utilities</th>\n",
       "      <th>LotConfig</th>\n",
       "      <th>...</th>\n",
       "      <th>PoolArea</th>\n",
       "      <th>PoolQC</th>\n",
       "      <th>Fence</th>\n",
       "      <th>MiscFeature</th>\n",
       "      <th>MiscVal</th>\n",
       "      <th>MoSold</th>\n",
       "      <th>YrSold</th>\n",
       "      <th>SaleType</th>\n",
       "      <th>SaleCondition</th>\n",
       "      <th>SalePrice</th>\n",
       "    </tr>\n",
       "  </thead>\n",
       "  <tbody>\n",
       "    <tr>\n",
       "      <th>0</th>\n",
       "      <td>60</td>\n",
       "      <td>RL</td>\n",
       "      <td>65.0</td>\n",
       "      <td>8450</td>\n",
       "      <td>Pave</td>\n",
       "      <td>NaN</td>\n",
       "      <td>Reg</td>\n",
       "      <td>Lvl</td>\n",
       "      <td>AllPub</td>\n",
       "      <td>Inside</td>\n",
       "      <td>...</td>\n",
       "      <td>0</td>\n",
       "      <td>NaN</td>\n",
       "      <td>NaN</td>\n",
       "      <td>NaN</td>\n",
       "      <td>0</td>\n",
       "      <td>2</td>\n",
       "      <td>2008</td>\n",
       "      <td>WD</td>\n",
       "      <td>Normal</td>\n",
       "      <td>208500.0</td>\n",
       "    </tr>\n",
       "    <tr>\n",
       "      <th>1</th>\n",
       "      <td>20</td>\n",
       "      <td>RL</td>\n",
       "      <td>80.0</td>\n",
       "      <td>9600</td>\n",
       "      <td>Pave</td>\n",
       "      <td>NaN</td>\n",
       "      <td>Reg</td>\n",
       "      <td>Lvl</td>\n",
       "      <td>AllPub</td>\n",
       "      <td>FR2</td>\n",
       "      <td>...</td>\n",
       "      <td>0</td>\n",
       "      <td>NaN</td>\n",
       "      <td>NaN</td>\n",
       "      <td>NaN</td>\n",
       "      <td>0</td>\n",
       "      <td>5</td>\n",
       "      <td>2007</td>\n",
       "      <td>WD</td>\n",
       "      <td>Normal</td>\n",
       "      <td>181500.0</td>\n",
       "    </tr>\n",
       "    <tr>\n",
       "      <th>2</th>\n",
       "      <td>60</td>\n",
       "      <td>RL</td>\n",
       "      <td>68.0</td>\n",
       "      <td>11250</td>\n",
       "      <td>Pave</td>\n",
       "      <td>NaN</td>\n",
       "      <td>IR1</td>\n",
       "      <td>Lvl</td>\n",
       "      <td>AllPub</td>\n",
       "      <td>Inside</td>\n",
       "      <td>...</td>\n",
       "      <td>0</td>\n",
       "      <td>NaN</td>\n",
       "      <td>NaN</td>\n",
       "      <td>NaN</td>\n",
       "      <td>0</td>\n",
       "      <td>9</td>\n",
       "      <td>2008</td>\n",
       "      <td>WD</td>\n",
       "      <td>Normal</td>\n",
       "      <td>223500.0</td>\n",
       "    </tr>\n",
       "    <tr>\n",
       "      <th>3</th>\n",
       "      <td>70</td>\n",
       "      <td>RL</td>\n",
       "      <td>60.0</td>\n",
       "      <td>9550</td>\n",
       "      <td>Pave</td>\n",
       "      <td>NaN</td>\n",
       "      <td>IR1</td>\n",
       "      <td>Lvl</td>\n",
       "      <td>AllPub</td>\n",
       "      <td>Corner</td>\n",
       "      <td>...</td>\n",
       "      <td>0</td>\n",
       "      <td>NaN</td>\n",
       "      <td>NaN</td>\n",
       "      <td>NaN</td>\n",
       "      <td>0</td>\n",
       "      <td>2</td>\n",
       "      <td>2006</td>\n",
       "      <td>WD</td>\n",
       "      <td>Abnorml</td>\n",
       "      <td>140000.0</td>\n",
       "    </tr>\n",
       "    <tr>\n",
       "      <th>4</th>\n",
       "      <td>60</td>\n",
       "      <td>RL</td>\n",
       "      <td>84.0</td>\n",
       "      <td>14260</td>\n",
       "      <td>Pave</td>\n",
       "      <td>NaN</td>\n",
       "      <td>IR1</td>\n",
       "      <td>Lvl</td>\n",
       "      <td>AllPub</td>\n",
       "      <td>FR2</td>\n",
       "      <td>...</td>\n",
       "      <td>0</td>\n",
       "      <td>NaN</td>\n",
       "      <td>NaN</td>\n",
       "      <td>NaN</td>\n",
       "      <td>0</td>\n",
       "      <td>12</td>\n",
       "      <td>2008</td>\n",
       "      <td>WD</td>\n",
       "      <td>Normal</td>\n",
       "      <td>250000.0</td>\n",
       "    </tr>\n",
       "  </tbody>\n",
       "</table>\n",
       "<p>5 rows × 80 columns</p>\n",
       "</div>"
      ],
      "text/plain": [
       "   MSSubClass MSZoning  LotFrontage  LotArea Street Alley LotShape  \\\n",
       "0          60       RL         65.0     8450   Pave   NaN      Reg   \n",
       "1          20       RL         80.0     9600   Pave   NaN      Reg   \n",
       "2          60       RL         68.0    11250   Pave   NaN      IR1   \n",
       "3          70       RL         60.0     9550   Pave   NaN      IR1   \n",
       "4          60       RL         84.0    14260   Pave   NaN      IR1   \n",
       "\n",
       "  LandContour Utilities LotConfig  ... PoolArea PoolQC Fence MiscFeature  \\\n",
       "0         Lvl    AllPub    Inside  ...        0    NaN   NaN         NaN   \n",
       "1         Lvl    AllPub       FR2  ...        0    NaN   NaN         NaN   \n",
       "2         Lvl    AllPub    Inside  ...        0    NaN   NaN         NaN   \n",
       "3         Lvl    AllPub    Corner  ...        0    NaN   NaN         NaN   \n",
       "4         Lvl    AllPub       FR2  ...        0    NaN   NaN         NaN   \n",
       "\n",
       "  MiscVal MoSold  YrSold  SaleType  SaleCondition  SalePrice  \n",
       "0       0      2    2008        WD         Normal   208500.0  \n",
       "1       0      5    2007        WD         Normal   181500.0  \n",
       "2       0      9    2008        WD         Normal   223500.0  \n",
       "3       0      2    2006        WD        Abnorml   140000.0  \n",
       "4       0     12    2008        WD         Normal   250000.0  \n",
       "\n",
       "[5 rows x 80 columns]"
      ]
     },
     "execution_count": 3,
     "metadata": {},
     "output_type": "execute_result"
    }
   ],
   "source": [
    "raw_data.head()"
   ]
  },
  {
   "cell_type": "code",
   "execution_count": 4,
   "id": "ce800e70",
   "metadata": {
    "execution": {
     "iopub.execute_input": "2022-01-02T06:52:17.359476Z",
     "iopub.status.busy": "2022-01-02T06:52:17.358544Z",
     "iopub.status.idle": "2022-01-02T06:52:17.465978Z",
     "shell.execute_reply": "2022-01-02T06:52:17.466494Z",
     "shell.execute_reply.started": "2022-01-02T06:51:10.148540Z"
    },
    "papermill": {
     "duration": 0.156061,
     "end_time": "2022-01-02T06:52:17.466672",
     "exception": false,
     "start_time": "2022-01-02T06:52:17.310611",
     "status": "completed"
    },
    "tags": []
   },
   "outputs": [
    {
     "data": {
      "text/html": [
       "<div>\n",
       "<style scoped>\n",
       "    .dataframe tbody tr th:only-of-type {\n",
       "        vertical-align: middle;\n",
       "    }\n",
       "\n",
       "    .dataframe tbody tr th {\n",
       "        vertical-align: top;\n",
       "    }\n",
       "\n",
       "    .dataframe thead th {\n",
       "        text-align: right;\n",
       "    }\n",
       "</style>\n",
       "<table border=\"1\" class=\"dataframe\">\n",
       "  <thead>\n",
       "    <tr style=\"text-align: right;\">\n",
       "      <th></th>\n",
       "      <th>MSSubClass</th>\n",
       "      <th>LotFrontage</th>\n",
       "      <th>LotArea</th>\n",
       "      <th>OverallQual</th>\n",
       "      <th>OverallCond</th>\n",
       "      <th>YearBuilt</th>\n",
       "      <th>YearRemodAdd</th>\n",
       "      <th>MasVnrArea</th>\n",
       "      <th>BsmtFinSF1</th>\n",
       "      <th>BsmtFinSF2</th>\n",
       "      <th>...</th>\n",
       "      <th>WoodDeckSF</th>\n",
       "      <th>OpenPorchSF</th>\n",
       "      <th>EnclosedPorch</th>\n",
       "      <th>3SsnPorch</th>\n",
       "      <th>ScreenPorch</th>\n",
       "      <th>PoolArea</th>\n",
       "      <th>MiscVal</th>\n",
       "      <th>MoSold</th>\n",
       "      <th>YrSold</th>\n",
       "      <th>SalePrice</th>\n",
       "    </tr>\n",
       "  </thead>\n",
       "  <tbody>\n",
       "    <tr>\n",
       "      <th>count</th>\n",
       "      <td>2919.000000</td>\n",
       "      <td>2433.000000</td>\n",
       "      <td>2919.000000</td>\n",
       "      <td>2919.000000</td>\n",
       "      <td>2919.000000</td>\n",
       "      <td>2919.000000</td>\n",
       "      <td>2919.000000</td>\n",
       "      <td>2896.000000</td>\n",
       "      <td>2918.000000</td>\n",
       "      <td>2918.000000</td>\n",
       "      <td>...</td>\n",
       "      <td>2919.000000</td>\n",
       "      <td>2919.000000</td>\n",
       "      <td>2919.000000</td>\n",
       "      <td>2919.000000</td>\n",
       "      <td>2919.000000</td>\n",
       "      <td>2919.000000</td>\n",
       "      <td>2919.000000</td>\n",
       "      <td>2919.000000</td>\n",
       "      <td>2919.000000</td>\n",
       "      <td>1460.000000</td>\n",
       "    </tr>\n",
       "    <tr>\n",
       "      <th>mean</th>\n",
       "      <td>57.137718</td>\n",
       "      <td>69.305795</td>\n",
       "      <td>10168.114080</td>\n",
       "      <td>6.089072</td>\n",
       "      <td>5.564577</td>\n",
       "      <td>1971.312778</td>\n",
       "      <td>1984.264474</td>\n",
       "      <td>102.201312</td>\n",
       "      <td>441.423235</td>\n",
       "      <td>49.582248</td>\n",
       "      <td>...</td>\n",
       "      <td>93.709832</td>\n",
       "      <td>47.486811</td>\n",
       "      <td>23.098321</td>\n",
       "      <td>2.602261</td>\n",
       "      <td>16.062350</td>\n",
       "      <td>2.251799</td>\n",
       "      <td>50.825968</td>\n",
       "      <td>6.213087</td>\n",
       "      <td>2007.792737</td>\n",
       "      <td>180921.195890</td>\n",
       "    </tr>\n",
       "    <tr>\n",
       "      <th>std</th>\n",
       "      <td>42.517628</td>\n",
       "      <td>23.344905</td>\n",
       "      <td>7886.996359</td>\n",
       "      <td>1.409947</td>\n",
       "      <td>1.113131</td>\n",
       "      <td>30.291442</td>\n",
       "      <td>20.894344</td>\n",
       "      <td>179.334253</td>\n",
       "      <td>455.610826</td>\n",
       "      <td>169.205611</td>\n",
       "      <td>...</td>\n",
       "      <td>126.526589</td>\n",
       "      <td>67.575493</td>\n",
       "      <td>64.244246</td>\n",
       "      <td>25.188169</td>\n",
       "      <td>56.184365</td>\n",
       "      <td>35.663946</td>\n",
       "      <td>567.402211</td>\n",
       "      <td>2.714762</td>\n",
       "      <td>1.314964</td>\n",
       "      <td>79442.502883</td>\n",
       "    </tr>\n",
       "    <tr>\n",
       "      <th>min</th>\n",
       "      <td>20.000000</td>\n",
       "      <td>21.000000</td>\n",
       "      <td>1300.000000</td>\n",
       "      <td>1.000000</td>\n",
       "      <td>1.000000</td>\n",
       "      <td>1872.000000</td>\n",
       "      <td>1950.000000</td>\n",
       "      <td>0.000000</td>\n",
       "      <td>0.000000</td>\n",
       "      <td>0.000000</td>\n",
       "      <td>...</td>\n",
       "      <td>0.000000</td>\n",
       "      <td>0.000000</td>\n",
       "      <td>0.000000</td>\n",
       "      <td>0.000000</td>\n",
       "      <td>0.000000</td>\n",
       "      <td>0.000000</td>\n",
       "      <td>0.000000</td>\n",
       "      <td>1.000000</td>\n",
       "      <td>2006.000000</td>\n",
       "      <td>34900.000000</td>\n",
       "    </tr>\n",
       "    <tr>\n",
       "      <th>25%</th>\n",
       "      <td>20.000000</td>\n",
       "      <td>59.000000</td>\n",
       "      <td>7478.000000</td>\n",
       "      <td>5.000000</td>\n",
       "      <td>5.000000</td>\n",
       "      <td>1953.500000</td>\n",
       "      <td>1965.000000</td>\n",
       "      <td>0.000000</td>\n",
       "      <td>0.000000</td>\n",
       "      <td>0.000000</td>\n",
       "      <td>...</td>\n",
       "      <td>0.000000</td>\n",
       "      <td>0.000000</td>\n",
       "      <td>0.000000</td>\n",
       "      <td>0.000000</td>\n",
       "      <td>0.000000</td>\n",
       "      <td>0.000000</td>\n",
       "      <td>0.000000</td>\n",
       "      <td>4.000000</td>\n",
       "      <td>2007.000000</td>\n",
       "      <td>129975.000000</td>\n",
       "    </tr>\n",
       "    <tr>\n",
       "      <th>50%</th>\n",
       "      <td>50.000000</td>\n",
       "      <td>68.000000</td>\n",
       "      <td>9453.000000</td>\n",
       "      <td>6.000000</td>\n",
       "      <td>5.000000</td>\n",
       "      <td>1973.000000</td>\n",
       "      <td>1993.000000</td>\n",
       "      <td>0.000000</td>\n",
       "      <td>368.500000</td>\n",
       "      <td>0.000000</td>\n",
       "      <td>...</td>\n",
       "      <td>0.000000</td>\n",
       "      <td>26.000000</td>\n",
       "      <td>0.000000</td>\n",
       "      <td>0.000000</td>\n",
       "      <td>0.000000</td>\n",
       "      <td>0.000000</td>\n",
       "      <td>0.000000</td>\n",
       "      <td>6.000000</td>\n",
       "      <td>2008.000000</td>\n",
       "      <td>163000.000000</td>\n",
       "    </tr>\n",
       "    <tr>\n",
       "      <th>75%</th>\n",
       "      <td>70.000000</td>\n",
       "      <td>80.000000</td>\n",
       "      <td>11570.000000</td>\n",
       "      <td>7.000000</td>\n",
       "      <td>6.000000</td>\n",
       "      <td>2001.000000</td>\n",
       "      <td>2004.000000</td>\n",
       "      <td>164.000000</td>\n",
       "      <td>733.000000</td>\n",
       "      <td>0.000000</td>\n",
       "      <td>...</td>\n",
       "      <td>168.000000</td>\n",
       "      <td>70.000000</td>\n",
       "      <td>0.000000</td>\n",
       "      <td>0.000000</td>\n",
       "      <td>0.000000</td>\n",
       "      <td>0.000000</td>\n",
       "      <td>0.000000</td>\n",
       "      <td>8.000000</td>\n",
       "      <td>2009.000000</td>\n",
       "      <td>214000.000000</td>\n",
       "    </tr>\n",
       "    <tr>\n",
       "      <th>max</th>\n",
       "      <td>190.000000</td>\n",
       "      <td>313.000000</td>\n",
       "      <td>215245.000000</td>\n",
       "      <td>10.000000</td>\n",
       "      <td>9.000000</td>\n",
       "      <td>2010.000000</td>\n",
       "      <td>2010.000000</td>\n",
       "      <td>1600.000000</td>\n",
       "      <td>5644.000000</td>\n",
       "      <td>1526.000000</td>\n",
       "      <td>...</td>\n",
       "      <td>1424.000000</td>\n",
       "      <td>742.000000</td>\n",
       "      <td>1012.000000</td>\n",
       "      <td>508.000000</td>\n",
       "      <td>576.000000</td>\n",
       "      <td>800.000000</td>\n",
       "      <td>17000.000000</td>\n",
       "      <td>12.000000</td>\n",
       "      <td>2010.000000</td>\n",
       "      <td>755000.000000</td>\n",
       "    </tr>\n",
       "  </tbody>\n",
       "</table>\n",
       "<p>8 rows × 37 columns</p>\n",
       "</div>"
      ],
      "text/plain": [
       "        MSSubClass  LotFrontage        LotArea  OverallQual  OverallCond  \\\n",
       "count  2919.000000  2433.000000    2919.000000  2919.000000  2919.000000   \n",
       "mean     57.137718    69.305795   10168.114080     6.089072     5.564577   \n",
       "std      42.517628    23.344905    7886.996359     1.409947     1.113131   \n",
       "min      20.000000    21.000000    1300.000000     1.000000     1.000000   \n",
       "25%      20.000000    59.000000    7478.000000     5.000000     5.000000   \n",
       "50%      50.000000    68.000000    9453.000000     6.000000     5.000000   \n",
       "75%      70.000000    80.000000   11570.000000     7.000000     6.000000   \n",
       "max     190.000000   313.000000  215245.000000    10.000000     9.000000   \n",
       "\n",
       "         YearBuilt  YearRemodAdd   MasVnrArea   BsmtFinSF1   BsmtFinSF2  ...  \\\n",
       "count  2919.000000   2919.000000  2896.000000  2918.000000  2918.000000  ...   \n",
       "mean   1971.312778   1984.264474   102.201312   441.423235    49.582248  ...   \n",
       "std      30.291442     20.894344   179.334253   455.610826   169.205611  ...   \n",
       "min    1872.000000   1950.000000     0.000000     0.000000     0.000000  ...   \n",
       "25%    1953.500000   1965.000000     0.000000     0.000000     0.000000  ...   \n",
       "50%    1973.000000   1993.000000     0.000000   368.500000     0.000000  ...   \n",
       "75%    2001.000000   2004.000000   164.000000   733.000000     0.000000  ...   \n",
       "max    2010.000000   2010.000000  1600.000000  5644.000000  1526.000000  ...   \n",
       "\n",
       "        WoodDeckSF  OpenPorchSF  EnclosedPorch    3SsnPorch  ScreenPorch  \\\n",
       "count  2919.000000  2919.000000    2919.000000  2919.000000  2919.000000   \n",
       "mean     93.709832    47.486811      23.098321     2.602261    16.062350   \n",
       "std     126.526589    67.575493      64.244246    25.188169    56.184365   \n",
       "min       0.000000     0.000000       0.000000     0.000000     0.000000   \n",
       "25%       0.000000     0.000000       0.000000     0.000000     0.000000   \n",
       "50%       0.000000    26.000000       0.000000     0.000000     0.000000   \n",
       "75%     168.000000    70.000000       0.000000     0.000000     0.000000   \n",
       "max    1424.000000   742.000000    1012.000000   508.000000   576.000000   \n",
       "\n",
       "          PoolArea       MiscVal       MoSold       YrSold      SalePrice  \n",
       "count  2919.000000   2919.000000  2919.000000  2919.000000    1460.000000  \n",
       "mean      2.251799     50.825968     6.213087  2007.792737  180921.195890  \n",
       "std      35.663946    567.402211     2.714762     1.314964   79442.502883  \n",
       "min       0.000000      0.000000     1.000000  2006.000000   34900.000000  \n",
       "25%       0.000000      0.000000     4.000000  2007.000000  129975.000000  \n",
       "50%       0.000000      0.000000     6.000000  2008.000000  163000.000000  \n",
       "75%       0.000000      0.000000     8.000000  2009.000000  214000.000000  \n",
       "max     800.000000  17000.000000    12.000000  2010.000000  755000.000000  \n",
       "\n",
       "[8 rows x 37 columns]"
      ]
     },
     "execution_count": 4,
     "metadata": {},
     "output_type": "execute_result"
    }
   ],
   "source": [
    "raw_data.describe()"
   ]
  },
  {
   "cell_type": "code",
   "execution_count": 5,
   "id": "d7a5ca55",
   "metadata": {
    "execution": {
     "iopub.execute_input": "2022-01-02T06:52:17.559783Z",
     "iopub.status.busy": "2022-01-02T06:52:17.558779Z",
     "iopub.status.idle": "2022-01-02T06:52:17.564554Z",
     "shell.execute_reply": "2022-01-02T06:52:17.565087Z",
     "shell.execute_reply.started": "2022-01-02T06:51:10.259322Z"
    },
    "papermill": {
     "duration": 0.053602,
     "end_time": "2022-01-02T06:52:17.565256",
     "exception": false,
     "start_time": "2022-01-02T06:52:17.511654",
     "status": "completed"
    },
    "tags": []
   },
   "outputs": [
    {
     "data": {
      "text/plain": [
       "(2919, 80)"
      ]
     },
     "execution_count": 5,
     "metadata": {},
     "output_type": "execute_result"
    }
   ],
   "source": [
    "raw_data.shape"
   ]
  },
  {
   "cell_type": "markdown",
   "id": "abee93ea",
   "metadata": {
    "papermill": {
     "duration": 0.045728,
     "end_time": "2022-01-02T06:52:17.655556",
     "exception": false,
     "start_time": "2022-01-02T06:52:17.609828",
     "status": "completed"
    },
    "tags": []
   },
   "source": [
    "**To understand data more clearly, read data_description.txt**"
   ]
  },
  {
   "cell_type": "code",
   "execution_count": 6,
   "id": "866989b4",
   "metadata": {
    "execution": {
     "iopub.execute_input": "2022-01-02T06:52:17.748274Z",
     "iopub.status.busy": "2022-01-02T06:52:17.747329Z",
     "iopub.status.idle": "2022-01-02T06:52:17.769330Z",
     "shell.execute_reply": "2022-01-02T06:52:17.769888Z",
     "shell.execute_reply.started": "2022-01-02T06:51:10.265581Z"
    },
    "papermill": {
     "duration": 0.070151,
     "end_time": "2022-01-02T06:52:17.770057",
     "exception": false,
     "start_time": "2022-01-02T06:52:17.699906",
     "status": "completed"
    },
    "tags": []
   },
   "outputs": [
    {
     "data": {
      "text/plain": [
       "MSSubClass          0\n",
       "MSZoning            4\n",
       "LotFrontage       486\n",
       "LotArea             0\n",
       "Street              0\n",
       "Alley            2721\n",
       "LotShape            0\n",
       "LandContour         0\n",
       "Utilities           2\n",
       "LotConfig           0\n",
       "LandSlope           0\n",
       "Neighborhood        0\n",
       "Condition1          0\n",
       "Condition2          0\n",
       "BldgType            0\n",
       "HouseStyle          0\n",
       "OverallQual         0\n",
       "OverallCond         0\n",
       "YearBuilt           0\n",
       "YearRemodAdd        0\n",
       "RoofStyle           0\n",
       "RoofMatl            0\n",
       "Exterior1st         1\n",
       "Exterior2nd         1\n",
       "MasVnrType         24\n",
       "MasVnrArea         23\n",
       "ExterQual           0\n",
       "ExterCond           0\n",
       "Foundation          0\n",
       "BsmtQual           81\n",
       "BsmtCond           82\n",
       "BsmtExposure       82\n",
       "BsmtFinType1       79\n",
       "BsmtFinSF1          1\n",
       "BsmtFinType2       80\n",
       "BsmtFinSF2          1\n",
       "BsmtUnfSF           1\n",
       "TotalBsmtSF         1\n",
       "Heating             0\n",
       "HeatingQC           0\n",
       "CentralAir          0\n",
       "Electrical          1\n",
       "1stFlrSF            0\n",
       "2ndFlrSF            0\n",
       "LowQualFinSF        0\n",
       "GrLivArea           0\n",
       "BsmtFullBath        2\n",
       "BsmtHalfBath        2\n",
       "FullBath            0\n",
       "HalfBath            0\n",
       "BedroomAbvGr        0\n",
       "KitchenAbvGr        0\n",
       "KitchenQual         1\n",
       "TotRmsAbvGrd        0\n",
       "Functional          2\n",
       "Fireplaces          0\n",
       "FireplaceQu      1420\n",
       "GarageType        157\n",
       "GarageYrBlt       159\n",
       "GarageFinish      159\n",
       "GarageCars          1\n",
       "GarageArea          1\n",
       "GarageQual        159\n",
       "GarageCond        159\n",
       "PavedDrive          0\n",
       "WoodDeckSF          0\n",
       "OpenPorchSF         0\n",
       "EnclosedPorch       0\n",
       "3SsnPorch           0\n",
       "ScreenPorch         0\n",
       "PoolArea            0\n",
       "PoolQC           2909\n",
       "Fence            2348\n",
       "MiscFeature      2814\n",
       "MiscVal             0\n",
       "MoSold              0\n",
       "YrSold              0\n",
       "SaleType            1\n",
       "SaleCondition       0\n",
       "SalePrice        1459\n",
       "dtype: int64"
      ]
     },
     "execution_count": 6,
     "metadata": {},
     "output_type": "execute_result"
    }
   ],
   "source": [
    "#Checking null values\n",
    "\n",
    "pd.set_option('display.max_rows', 82)\n",
    "raw_data.isnull().sum()"
   ]
  },
  {
   "cell_type": "markdown",
   "id": "9a8a26df",
   "metadata": {
    "papermill": {
     "duration": 0.045206,
     "end_time": "2022-01-02T06:52:17.860129",
     "exception": false,
     "start_time": "2022-01-02T06:52:17.814923",
     "status": "completed"
    },
    "tags": []
   },
   "source": [
    "# Data Cleaning"
   ]
  },
  {
   "cell_type": "code",
   "execution_count": 7,
   "id": "da5a88ea",
   "metadata": {
    "execution": {
     "iopub.execute_input": "2022-01-02T06:52:17.954126Z",
     "iopub.status.busy": "2022-01-02T06:52:17.953087Z",
     "iopub.status.idle": "2022-01-02T06:52:17.999203Z",
     "shell.execute_reply": "2022-01-02T06:52:17.999662Z",
     "shell.execute_reply.started": "2022-01-02T06:51:10.295271Z"
    },
    "papermill": {
     "duration": 0.094786,
     "end_time": "2022-01-02T06:52:17.999835",
     "exception": false,
     "start_time": "2022-01-02T06:52:17.905049",
     "status": "completed"
    },
    "tags": []
   },
   "outputs": [
    {
     "data": {
      "text/html": [
       "<div>\n",
       "<style scoped>\n",
       "    .dataframe tbody tr th:only-of-type {\n",
       "        vertical-align: middle;\n",
       "    }\n",
       "\n",
       "    .dataframe tbody tr th {\n",
       "        vertical-align: top;\n",
       "    }\n",
       "\n",
       "    .dataframe thead th {\n",
       "        text-align: right;\n",
       "    }\n",
       "</style>\n",
       "<table border=\"1\" class=\"dataframe\">\n",
       "  <thead>\n",
       "    <tr style=\"text-align: right;\">\n",
       "      <th></th>\n",
       "      <th>percent_missing</th>\n",
       "    </tr>\n",
       "  </thead>\n",
       "  <tbody>\n",
       "    <tr>\n",
       "      <th>MSSubClass</th>\n",
       "      <td>0.000000</td>\n",
       "    </tr>\n",
       "    <tr>\n",
       "      <th>MSZoning</th>\n",
       "      <td>0.137033</td>\n",
       "    </tr>\n",
       "    <tr>\n",
       "      <th>LotFrontage</th>\n",
       "      <td>16.649538</td>\n",
       "    </tr>\n",
       "    <tr>\n",
       "      <th>LotArea</th>\n",
       "      <td>0.000000</td>\n",
       "    </tr>\n",
       "    <tr>\n",
       "      <th>Street</th>\n",
       "      <td>0.000000</td>\n",
       "    </tr>\n",
       "    <tr>\n",
       "      <th>Alley</th>\n",
       "      <td>93.216855</td>\n",
       "    </tr>\n",
       "    <tr>\n",
       "      <th>LotShape</th>\n",
       "      <td>0.000000</td>\n",
       "    </tr>\n",
       "    <tr>\n",
       "      <th>LandContour</th>\n",
       "      <td>0.000000</td>\n",
       "    </tr>\n",
       "    <tr>\n",
       "      <th>Utilities</th>\n",
       "      <td>0.068517</td>\n",
       "    </tr>\n",
       "    <tr>\n",
       "      <th>LotConfig</th>\n",
       "      <td>0.000000</td>\n",
       "    </tr>\n",
       "    <tr>\n",
       "      <th>LandSlope</th>\n",
       "      <td>0.000000</td>\n",
       "    </tr>\n",
       "    <tr>\n",
       "      <th>Neighborhood</th>\n",
       "      <td>0.000000</td>\n",
       "    </tr>\n",
       "    <tr>\n",
       "      <th>Condition1</th>\n",
       "      <td>0.000000</td>\n",
       "    </tr>\n",
       "    <tr>\n",
       "      <th>Condition2</th>\n",
       "      <td>0.000000</td>\n",
       "    </tr>\n",
       "    <tr>\n",
       "      <th>BldgType</th>\n",
       "      <td>0.000000</td>\n",
       "    </tr>\n",
       "    <tr>\n",
       "      <th>HouseStyle</th>\n",
       "      <td>0.000000</td>\n",
       "    </tr>\n",
       "    <tr>\n",
       "      <th>OverallQual</th>\n",
       "      <td>0.000000</td>\n",
       "    </tr>\n",
       "    <tr>\n",
       "      <th>OverallCond</th>\n",
       "      <td>0.000000</td>\n",
       "    </tr>\n",
       "    <tr>\n",
       "      <th>YearBuilt</th>\n",
       "      <td>0.000000</td>\n",
       "    </tr>\n",
       "    <tr>\n",
       "      <th>YearRemodAdd</th>\n",
       "      <td>0.000000</td>\n",
       "    </tr>\n",
       "    <tr>\n",
       "      <th>RoofStyle</th>\n",
       "      <td>0.000000</td>\n",
       "    </tr>\n",
       "    <tr>\n",
       "      <th>RoofMatl</th>\n",
       "      <td>0.000000</td>\n",
       "    </tr>\n",
       "    <tr>\n",
       "      <th>Exterior1st</th>\n",
       "      <td>0.034258</td>\n",
       "    </tr>\n",
       "    <tr>\n",
       "      <th>Exterior2nd</th>\n",
       "      <td>0.034258</td>\n",
       "    </tr>\n",
       "    <tr>\n",
       "      <th>MasVnrType</th>\n",
       "      <td>0.822199</td>\n",
       "    </tr>\n",
       "    <tr>\n",
       "      <th>MasVnrArea</th>\n",
       "      <td>0.787941</td>\n",
       "    </tr>\n",
       "    <tr>\n",
       "      <th>ExterQual</th>\n",
       "      <td>0.000000</td>\n",
       "    </tr>\n",
       "    <tr>\n",
       "      <th>ExterCond</th>\n",
       "      <td>0.000000</td>\n",
       "    </tr>\n",
       "    <tr>\n",
       "      <th>Foundation</th>\n",
       "      <td>0.000000</td>\n",
       "    </tr>\n",
       "    <tr>\n",
       "      <th>BsmtQual</th>\n",
       "      <td>2.774923</td>\n",
       "    </tr>\n",
       "    <tr>\n",
       "      <th>BsmtCond</th>\n",
       "      <td>2.809181</td>\n",
       "    </tr>\n",
       "    <tr>\n",
       "      <th>BsmtExposure</th>\n",
       "      <td>2.809181</td>\n",
       "    </tr>\n",
       "    <tr>\n",
       "      <th>BsmtFinType1</th>\n",
       "      <td>2.706406</td>\n",
       "    </tr>\n",
       "    <tr>\n",
       "      <th>BsmtFinSF1</th>\n",
       "      <td>0.034258</td>\n",
       "    </tr>\n",
       "    <tr>\n",
       "      <th>BsmtFinType2</th>\n",
       "      <td>2.740665</td>\n",
       "    </tr>\n",
       "    <tr>\n",
       "      <th>BsmtFinSF2</th>\n",
       "      <td>0.034258</td>\n",
       "    </tr>\n",
       "    <tr>\n",
       "      <th>BsmtUnfSF</th>\n",
       "      <td>0.034258</td>\n",
       "    </tr>\n",
       "    <tr>\n",
       "      <th>TotalBsmtSF</th>\n",
       "      <td>0.034258</td>\n",
       "    </tr>\n",
       "    <tr>\n",
       "      <th>Heating</th>\n",
       "      <td>0.000000</td>\n",
       "    </tr>\n",
       "    <tr>\n",
       "      <th>HeatingQC</th>\n",
       "      <td>0.000000</td>\n",
       "    </tr>\n",
       "    <tr>\n",
       "      <th>CentralAir</th>\n",
       "      <td>0.000000</td>\n",
       "    </tr>\n",
       "    <tr>\n",
       "      <th>Electrical</th>\n",
       "      <td>0.034258</td>\n",
       "    </tr>\n",
       "    <tr>\n",
       "      <th>1stFlrSF</th>\n",
       "      <td>0.000000</td>\n",
       "    </tr>\n",
       "    <tr>\n",
       "      <th>2ndFlrSF</th>\n",
       "      <td>0.000000</td>\n",
       "    </tr>\n",
       "    <tr>\n",
       "      <th>LowQualFinSF</th>\n",
       "      <td>0.000000</td>\n",
       "    </tr>\n",
       "    <tr>\n",
       "      <th>GrLivArea</th>\n",
       "      <td>0.000000</td>\n",
       "    </tr>\n",
       "    <tr>\n",
       "      <th>BsmtFullBath</th>\n",
       "      <td>0.068517</td>\n",
       "    </tr>\n",
       "    <tr>\n",
       "      <th>BsmtHalfBath</th>\n",
       "      <td>0.068517</td>\n",
       "    </tr>\n",
       "    <tr>\n",
       "      <th>FullBath</th>\n",
       "      <td>0.000000</td>\n",
       "    </tr>\n",
       "    <tr>\n",
       "      <th>HalfBath</th>\n",
       "      <td>0.000000</td>\n",
       "    </tr>\n",
       "    <tr>\n",
       "      <th>BedroomAbvGr</th>\n",
       "      <td>0.000000</td>\n",
       "    </tr>\n",
       "    <tr>\n",
       "      <th>KitchenAbvGr</th>\n",
       "      <td>0.000000</td>\n",
       "    </tr>\n",
       "    <tr>\n",
       "      <th>KitchenQual</th>\n",
       "      <td>0.034258</td>\n",
       "    </tr>\n",
       "    <tr>\n",
       "      <th>TotRmsAbvGrd</th>\n",
       "      <td>0.000000</td>\n",
       "    </tr>\n",
       "    <tr>\n",
       "      <th>Functional</th>\n",
       "      <td>0.068517</td>\n",
       "    </tr>\n",
       "    <tr>\n",
       "      <th>Fireplaces</th>\n",
       "      <td>0.000000</td>\n",
       "    </tr>\n",
       "    <tr>\n",
       "      <th>FireplaceQu</th>\n",
       "      <td>48.646797</td>\n",
       "    </tr>\n",
       "    <tr>\n",
       "      <th>GarageType</th>\n",
       "      <td>5.378554</td>\n",
       "    </tr>\n",
       "    <tr>\n",
       "      <th>GarageYrBlt</th>\n",
       "      <td>5.447071</td>\n",
       "    </tr>\n",
       "    <tr>\n",
       "      <th>GarageFinish</th>\n",
       "      <td>5.447071</td>\n",
       "    </tr>\n",
       "    <tr>\n",
       "      <th>GarageCars</th>\n",
       "      <td>0.034258</td>\n",
       "    </tr>\n",
       "    <tr>\n",
       "      <th>GarageArea</th>\n",
       "      <td>0.034258</td>\n",
       "    </tr>\n",
       "    <tr>\n",
       "      <th>GarageQual</th>\n",
       "      <td>5.447071</td>\n",
       "    </tr>\n",
       "    <tr>\n",
       "      <th>GarageCond</th>\n",
       "      <td>5.447071</td>\n",
       "    </tr>\n",
       "    <tr>\n",
       "      <th>PavedDrive</th>\n",
       "      <td>0.000000</td>\n",
       "    </tr>\n",
       "    <tr>\n",
       "      <th>WoodDeckSF</th>\n",
       "      <td>0.000000</td>\n",
       "    </tr>\n",
       "    <tr>\n",
       "      <th>OpenPorchSF</th>\n",
       "      <td>0.000000</td>\n",
       "    </tr>\n",
       "    <tr>\n",
       "      <th>EnclosedPorch</th>\n",
       "      <td>0.000000</td>\n",
       "    </tr>\n",
       "    <tr>\n",
       "      <th>3SsnPorch</th>\n",
       "      <td>0.000000</td>\n",
       "    </tr>\n",
       "    <tr>\n",
       "      <th>ScreenPorch</th>\n",
       "      <td>0.000000</td>\n",
       "    </tr>\n",
       "    <tr>\n",
       "      <th>PoolArea</th>\n",
       "      <td>0.000000</td>\n",
       "    </tr>\n",
       "    <tr>\n",
       "      <th>PoolQC</th>\n",
       "      <td>99.657417</td>\n",
       "    </tr>\n",
       "    <tr>\n",
       "      <th>Fence</th>\n",
       "      <td>80.438506</td>\n",
       "    </tr>\n",
       "    <tr>\n",
       "      <th>MiscFeature</th>\n",
       "      <td>96.402878</td>\n",
       "    </tr>\n",
       "    <tr>\n",
       "      <th>MiscVal</th>\n",
       "      <td>0.000000</td>\n",
       "    </tr>\n",
       "    <tr>\n",
       "      <th>MoSold</th>\n",
       "      <td>0.000000</td>\n",
       "    </tr>\n",
       "    <tr>\n",
       "      <th>YrSold</th>\n",
       "      <td>0.000000</td>\n",
       "    </tr>\n",
       "    <tr>\n",
       "      <th>SaleType</th>\n",
       "      <td>0.034258</td>\n",
       "    </tr>\n",
       "    <tr>\n",
       "      <th>SaleCondition</th>\n",
       "      <td>0.000000</td>\n",
       "    </tr>\n",
       "    <tr>\n",
       "      <th>SalePrice</th>\n",
       "      <td>49.982871</td>\n",
       "    </tr>\n",
       "  </tbody>\n",
       "</table>\n",
       "</div>"
      ],
      "text/plain": [
       "               percent_missing\n",
       "MSSubClass            0.000000\n",
       "MSZoning              0.137033\n",
       "LotFrontage          16.649538\n",
       "LotArea               0.000000\n",
       "Street                0.000000\n",
       "Alley                93.216855\n",
       "LotShape              0.000000\n",
       "LandContour           0.000000\n",
       "Utilities             0.068517\n",
       "LotConfig             0.000000\n",
       "LandSlope             0.000000\n",
       "Neighborhood          0.000000\n",
       "Condition1            0.000000\n",
       "Condition2            0.000000\n",
       "BldgType              0.000000\n",
       "HouseStyle            0.000000\n",
       "OverallQual           0.000000\n",
       "OverallCond           0.000000\n",
       "YearBuilt             0.000000\n",
       "YearRemodAdd          0.000000\n",
       "RoofStyle             0.000000\n",
       "RoofMatl              0.000000\n",
       "Exterior1st           0.034258\n",
       "Exterior2nd           0.034258\n",
       "MasVnrType            0.822199\n",
       "MasVnrArea            0.787941\n",
       "ExterQual             0.000000\n",
       "ExterCond             0.000000\n",
       "Foundation            0.000000\n",
       "BsmtQual              2.774923\n",
       "BsmtCond              2.809181\n",
       "BsmtExposure          2.809181\n",
       "BsmtFinType1          2.706406\n",
       "BsmtFinSF1            0.034258\n",
       "BsmtFinType2          2.740665\n",
       "BsmtFinSF2            0.034258\n",
       "BsmtUnfSF             0.034258\n",
       "TotalBsmtSF           0.034258\n",
       "Heating               0.000000\n",
       "HeatingQC             0.000000\n",
       "CentralAir            0.000000\n",
       "Electrical            0.034258\n",
       "1stFlrSF              0.000000\n",
       "2ndFlrSF              0.000000\n",
       "LowQualFinSF          0.000000\n",
       "GrLivArea             0.000000\n",
       "BsmtFullBath          0.068517\n",
       "BsmtHalfBath          0.068517\n",
       "FullBath              0.000000\n",
       "HalfBath              0.000000\n",
       "BedroomAbvGr          0.000000\n",
       "KitchenAbvGr          0.000000\n",
       "KitchenQual           0.034258\n",
       "TotRmsAbvGrd          0.000000\n",
       "Functional            0.068517\n",
       "Fireplaces            0.000000\n",
       "FireplaceQu          48.646797\n",
       "GarageType            5.378554\n",
       "GarageYrBlt           5.447071\n",
       "GarageFinish          5.447071\n",
       "GarageCars            0.034258\n",
       "GarageArea            0.034258\n",
       "GarageQual            5.447071\n",
       "GarageCond            5.447071\n",
       "PavedDrive            0.000000\n",
       "WoodDeckSF            0.000000\n",
       "OpenPorchSF           0.000000\n",
       "EnclosedPorch         0.000000\n",
       "3SsnPorch             0.000000\n",
       "ScreenPorch           0.000000\n",
       "PoolArea              0.000000\n",
       "PoolQC               99.657417\n",
       "Fence                80.438506\n",
       "MiscFeature          96.402878\n",
       "MiscVal               0.000000\n",
       "MoSold                0.000000\n",
       "YrSold                0.000000\n",
       "SaleType              0.034258\n",
       "SaleCondition         0.000000\n",
       "SalePrice            49.982871"
      ]
     },
     "execution_count": 7,
     "metadata": {},
     "output_type": "execute_result"
    }
   ],
   "source": [
    "#percentage of null values\n",
    "percent_missing = raw_data.isnull().sum() * 100 / len(raw_data)\n",
    "missing_value_df = pd.DataFrame({'percent_missing': percent_missing})\n",
    "missing_value_df"
   ]
  },
  {
   "cell_type": "code",
   "execution_count": 8,
   "id": "5f54c88f",
   "metadata": {
    "execution": {
     "iopub.execute_input": "2022-01-02T06:52:18.096244Z",
     "iopub.status.busy": "2022-01-02T06:52:18.095263Z",
     "iopub.status.idle": "2022-01-02T06:52:18.102180Z",
     "shell.execute_reply": "2022-01-02T06:52:18.102776Z",
     "shell.execute_reply.started": "2022-01-02T06:51:10.328804Z"
    },
    "papermill": {
     "duration": 0.057076,
     "end_time": "2022-01-02T06:52:18.102968",
     "exception": false,
     "start_time": "2022-01-02T06:52:18.045892",
     "status": "completed"
    },
    "tags": []
   },
   "outputs": [],
   "source": [
    "# dropping columns with null values > 90 %\n",
    "\n",
    "data = raw_data.drop(['Alley', 'MiscFeature', 'PoolQC'], axis = 1)"
   ]
  },
  {
   "cell_type": "code",
   "execution_count": 9,
   "id": "71db731e",
   "metadata": {
    "execution": {
     "iopub.execute_input": "2022-01-02T06:52:18.201673Z",
     "iopub.status.busy": "2022-01-02T06:52:18.201009Z",
     "iopub.status.idle": "2022-01-02T06:52:18.205665Z",
     "shell.execute_reply": "2022-01-02T06:52:18.206249Z",
     "shell.execute_reply.started": "2022-01-02T06:51:10.336535Z"
    },
    "papermill": {
     "duration": 0.05378,
     "end_time": "2022-01-02T06:52:18.206432",
     "exception": false,
     "start_time": "2022-01-02T06:52:18.152652",
     "status": "completed"
    },
    "tags": []
   },
   "outputs": [
    {
     "data": {
      "text/plain": [
       "(2919, 77)"
      ]
     },
     "execution_count": 9,
     "metadata": {},
     "output_type": "execute_result"
    }
   ],
   "source": [
    "#data.drop_duplicates(inplace = True)\n",
    "data.shape"
   ]
  },
  {
   "cell_type": "code",
   "execution_count": 10,
   "id": "0c02de41",
   "metadata": {
    "execution": {
     "iopub.execute_input": "2022-01-02T06:52:18.301712Z",
     "iopub.status.busy": "2022-01-02T06:52:18.301098Z",
     "iopub.status.idle": "2022-01-02T06:52:18.309872Z",
     "shell.execute_reply": "2022-01-02T06:52:18.310475Z",
     "shell.execute_reply.started": "2022-01-02T06:51:10.352084Z"
    },
    "papermill": {
     "duration": 0.058214,
     "end_time": "2022-01-02T06:52:18.310645",
     "exception": false,
     "start_time": "2022-01-02T06:52:18.252431",
     "status": "completed"
    },
    "tags": []
   },
   "outputs": [
    {
     "data": {
      "text/plain": [
       "MSSubClass         int64\n",
       "MSZoning          object\n",
       "LotFrontage      float64\n",
       "LotArea            int64\n",
       "Street            object\n",
       "LotShape          object\n",
       "LandContour       object\n",
       "Utilities         object\n",
       "LotConfig         object\n",
       "LandSlope         object\n",
       "Neighborhood      object\n",
       "Condition1        object\n",
       "Condition2        object\n",
       "BldgType          object\n",
       "HouseStyle        object\n",
       "OverallQual        int64\n",
       "OverallCond        int64\n",
       "YearBuilt          int64\n",
       "YearRemodAdd       int64\n",
       "RoofStyle         object\n",
       "RoofMatl          object\n",
       "Exterior1st       object\n",
       "Exterior2nd       object\n",
       "MasVnrType        object\n",
       "MasVnrArea       float64\n",
       "ExterQual         object\n",
       "ExterCond         object\n",
       "Foundation        object\n",
       "BsmtQual          object\n",
       "BsmtCond          object\n",
       "BsmtExposure      object\n",
       "BsmtFinType1      object\n",
       "BsmtFinSF1       float64\n",
       "BsmtFinType2      object\n",
       "BsmtFinSF2       float64\n",
       "BsmtUnfSF        float64\n",
       "TotalBsmtSF      float64\n",
       "Heating           object\n",
       "HeatingQC         object\n",
       "CentralAir        object\n",
       "Electrical        object\n",
       "1stFlrSF           int64\n",
       "2ndFlrSF           int64\n",
       "LowQualFinSF       int64\n",
       "GrLivArea          int64\n",
       "BsmtFullBath     float64\n",
       "BsmtHalfBath     float64\n",
       "FullBath           int64\n",
       "HalfBath           int64\n",
       "BedroomAbvGr       int64\n",
       "KitchenAbvGr       int64\n",
       "KitchenQual       object\n",
       "TotRmsAbvGrd       int64\n",
       "Functional        object\n",
       "Fireplaces         int64\n",
       "FireplaceQu       object\n",
       "GarageType        object\n",
       "GarageYrBlt      float64\n",
       "GarageFinish      object\n",
       "GarageCars       float64\n",
       "GarageArea       float64\n",
       "GarageQual        object\n",
       "GarageCond        object\n",
       "PavedDrive        object\n",
       "WoodDeckSF         int64\n",
       "OpenPorchSF        int64\n",
       "EnclosedPorch      int64\n",
       "3SsnPorch          int64\n",
       "ScreenPorch        int64\n",
       "PoolArea           int64\n",
       "Fence             object\n",
       "MiscVal            int64\n",
       "MoSold             int64\n",
       "YrSold             int64\n",
       "SaleType          object\n",
       "SaleCondition     object\n",
       "SalePrice        float64\n",
       "dtype: object"
      ]
     },
     "execution_count": 10,
     "metadata": {},
     "output_type": "execute_result"
    }
   ],
   "source": [
    "# Checking data types\n",
    "data.dtypes"
   ]
  },
  {
   "cell_type": "code",
   "execution_count": 11,
   "id": "b8697183",
   "metadata": {
    "execution": {
     "iopub.execute_input": "2022-01-02T06:52:18.406958Z",
     "iopub.status.busy": "2022-01-02T06:52:18.406328Z",
     "iopub.status.idle": "2022-01-02T06:52:18.411568Z",
     "shell.execute_reply": "2022-01-02T06:52:18.411019Z",
     "shell.execute_reply.started": "2022-01-02T06:51:10.367857Z"
    },
    "papermill": {
     "duration": 0.054218,
     "end_time": "2022-01-02T06:52:18.411710",
     "exception": false,
     "start_time": "2022-01-02T06:52:18.357492",
     "status": "completed"
    },
    "tags": []
   },
   "outputs": [],
   "source": [
    "cols = [i for i in data.columns ]\n",
    "cols.remove('SalePrice')"
   ]
  },
  {
   "cell_type": "code",
   "execution_count": 12,
   "id": "7020e546",
   "metadata": {
    "execution": {
     "iopub.execute_input": "2022-01-02T06:52:18.519407Z",
     "iopub.status.busy": "2022-01-02T06:52:18.518734Z",
     "iopub.status.idle": "2022-01-02T06:52:18.548237Z",
     "shell.execute_reply": "2022-01-02T06:52:18.548752Z",
     "shell.execute_reply.started": "2022-01-02T06:51:10.373661Z"
    },
    "papermill": {
     "duration": 0.090483,
     "end_time": "2022-01-02T06:52:18.548951",
     "exception": false,
     "start_time": "2022-01-02T06:52:18.458468",
     "status": "completed"
    },
    "tags": []
   },
   "outputs": [],
   "source": [
    "#Filling missing values with mean for numerical data\n",
    "\n",
    "for i in data[cols] :\n",
    "    if data[i].isnull().sum()>0:\n",
    "        if(data[i].dtype == 'int64' or data[i].dtype == 'float64'):\n",
    "            data[i].fillna(data[i].median(), inplace = True)"
   ]
  },
  {
   "cell_type": "code",
   "execution_count": 13,
   "id": "cf5f8d41",
   "metadata": {
    "execution": {
     "iopub.execute_input": "2022-01-02T06:52:18.645477Z",
     "iopub.status.busy": "2022-01-02T06:52:18.644826Z",
     "iopub.status.idle": "2022-01-02T06:52:18.670017Z",
     "shell.execute_reply": "2022-01-02T06:52:18.670515Z",
     "shell.execute_reply.started": "2022-01-02T06:51:10.420655Z"
    },
    "papermill": {
     "duration": 0.075188,
     "end_time": "2022-01-02T06:52:18.670708",
     "exception": false,
     "start_time": "2022-01-02T06:52:18.595520",
     "status": "completed"
    },
    "tags": []
   },
   "outputs": [
    {
     "data": {
      "text/plain": [
       "MSZoning            4\n",
       "Street              0\n",
       "LotShape            0\n",
       "LandContour         0\n",
       "Utilities           2\n",
       "LotConfig           0\n",
       "LandSlope           0\n",
       "Neighborhood        0\n",
       "Condition1          0\n",
       "Condition2          0\n",
       "BldgType            0\n",
       "HouseStyle          0\n",
       "RoofStyle           0\n",
       "RoofMatl            0\n",
       "Exterior1st         1\n",
       "Exterior2nd         1\n",
       "MasVnrType         24\n",
       "ExterQual           0\n",
       "ExterCond           0\n",
       "Foundation          0\n",
       "BsmtQual           81\n",
       "BsmtCond           82\n",
       "BsmtExposure       82\n",
       "BsmtFinType1       79\n",
       "BsmtFinType2       80\n",
       "Heating             0\n",
       "HeatingQC           0\n",
       "CentralAir          0\n",
       "Electrical          1\n",
       "KitchenQual         1\n",
       "Functional          2\n",
       "FireplaceQu      1420\n",
       "GarageType        157\n",
       "GarageFinish      159\n",
       "GarageQual        159\n",
       "GarageCond        159\n",
       "PavedDrive          0\n",
       "Fence            2348\n",
       "SaleType            1\n",
       "SaleCondition       0\n",
       "dtype: int64"
      ]
     },
     "execution_count": 13,
     "metadata": {},
     "output_type": "execute_result"
    }
   ],
   "source": [
    "#Numerical columns and categorical columns\n",
    "\n",
    "num_cols = data.select_dtypes(['int64', 'float64']).columns\n",
    "cat_cols = data.select_dtypes(['object']).columns\n",
    "\n",
    "data[cat_cols].isnull().sum()"
   ]
  },
  {
   "cell_type": "code",
   "execution_count": 14,
   "id": "cdebb8d2",
   "metadata": {
    "execution": {
     "iopub.execute_input": "2022-01-02T06:52:18.767916Z",
     "iopub.status.busy": "2022-01-02T06:52:18.767283Z",
     "iopub.status.idle": "2022-01-02T06:52:18.843939Z",
     "shell.execute_reply": "2022-01-02T06:52:18.844398Z",
     "shell.execute_reply.started": "2022-01-02T06:51:10.449615Z"
    },
    "papermill": {
     "duration": 0.126857,
     "end_time": "2022-01-02T06:52:18.844588",
     "exception": false,
     "start_time": "2022-01-02T06:52:18.717731",
     "status": "completed"
    },
    "tags": []
   },
   "outputs": [
    {
     "data": {
      "text/html": [
       "<div>\n",
       "<style scoped>\n",
       "    .dataframe tbody tr th:only-of-type {\n",
       "        vertical-align: middle;\n",
       "    }\n",
       "\n",
       "    .dataframe tbody tr th {\n",
       "        vertical-align: top;\n",
       "    }\n",
       "\n",
       "    .dataframe thead th {\n",
       "        text-align: right;\n",
       "    }\n",
       "</style>\n",
       "<table border=\"1\" class=\"dataframe\">\n",
       "  <thead>\n",
       "    <tr style=\"text-align: right;\">\n",
       "      <th></th>\n",
       "      <th>MSZoning</th>\n",
       "      <th>Exterior1st</th>\n",
       "      <th>Exterior2nd</th>\n",
       "      <th>MasVnrType</th>\n",
       "      <th>Functional</th>\n",
       "      <th>Utilities</th>\n",
       "      <th>BsmtQual</th>\n",
       "      <th>BsmtCond</th>\n",
       "      <th>BsmtExposure</th>\n",
       "      <th>BsmtFinType1</th>\n",
       "      <th>Electrical</th>\n",
       "      <th>BsmtFinType2</th>\n",
       "      <th>KitchenQual</th>\n",
       "      <th>FireplaceQu</th>\n",
       "      <th>GarageType</th>\n",
       "      <th>GarageFinish</th>\n",
       "      <th>GarageQual</th>\n",
       "      <th>GarageCond</th>\n",
       "      <th>Fence</th>\n",
       "      <th>SaleType</th>\n",
       "    </tr>\n",
       "  </thead>\n",
       "  <tbody>\n",
       "    <tr>\n",
       "      <th>count</th>\n",
       "      <td>2915</td>\n",
       "      <td>2918</td>\n",
       "      <td>2918</td>\n",
       "      <td>2895</td>\n",
       "      <td>2917</td>\n",
       "      <td>2917</td>\n",
       "      <td>2838</td>\n",
       "      <td>2837</td>\n",
       "      <td>2837</td>\n",
       "      <td>2840</td>\n",
       "      <td>2918</td>\n",
       "      <td>2839</td>\n",
       "      <td>2918</td>\n",
       "      <td>1499</td>\n",
       "      <td>2762</td>\n",
       "      <td>2760</td>\n",
       "      <td>2760</td>\n",
       "      <td>2760</td>\n",
       "      <td>571</td>\n",
       "      <td>2918</td>\n",
       "    </tr>\n",
       "    <tr>\n",
       "      <th>unique</th>\n",
       "      <td>5</td>\n",
       "      <td>15</td>\n",
       "      <td>16</td>\n",
       "      <td>4</td>\n",
       "      <td>7</td>\n",
       "      <td>2</td>\n",
       "      <td>4</td>\n",
       "      <td>4</td>\n",
       "      <td>4</td>\n",
       "      <td>6</td>\n",
       "      <td>5</td>\n",
       "      <td>6</td>\n",
       "      <td>4</td>\n",
       "      <td>5</td>\n",
       "      <td>6</td>\n",
       "      <td>3</td>\n",
       "      <td>5</td>\n",
       "      <td>5</td>\n",
       "      <td>4</td>\n",
       "      <td>9</td>\n",
       "    </tr>\n",
       "    <tr>\n",
       "      <th>top</th>\n",
       "      <td>RL</td>\n",
       "      <td>VinylSd</td>\n",
       "      <td>VinylSd</td>\n",
       "      <td>None</td>\n",
       "      <td>Typ</td>\n",
       "      <td>AllPub</td>\n",
       "      <td>TA</td>\n",
       "      <td>TA</td>\n",
       "      <td>No</td>\n",
       "      <td>Unf</td>\n",
       "      <td>SBrkr</td>\n",
       "      <td>Unf</td>\n",
       "      <td>TA</td>\n",
       "      <td>Gd</td>\n",
       "      <td>Attchd</td>\n",
       "      <td>Unf</td>\n",
       "      <td>TA</td>\n",
       "      <td>TA</td>\n",
       "      <td>MnPrv</td>\n",
       "      <td>WD</td>\n",
       "    </tr>\n",
       "    <tr>\n",
       "      <th>freq</th>\n",
       "      <td>2265</td>\n",
       "      <td>1025</td>\n",
       "      <td>1014</td>\n",
       "      <td>1742</td>\n",
       "      <td>2717</td>\n",
       "      <td>2916</td>\n",
       "      <td>1283</td>\n",
       "      <td>2606</td>\n",
       "      <td>1904</td>\n",
       "      <td>851</td>\n",
       "      <td>2671</td>\n",
       "      <td>2493</td>\n",
       "      <td>1492</td>\n",
       "      <td>744</td>\n",
       "      <td>1723</td>\n",
       "      <td>1230</td>\n",
       "      <td>2604</td>\n",
       "      <td>2654</td>\n",
       "      <td>329</td>\n",
       "      <td>2525</td>\n",
       "    </tr>\n",
       "  </tbody>\n",
       "</table>\n",
       "</div>"
      ],
      "text/plain": [
       "       MSZoning Exterior1st Exterior2nd MasVnrType Functional Utilities  \\\n",
       "count      2915        2918        2918       2895       2917      2917   \n",
       "unique        5          15          16          4          7         2   \n",
       "top          RL     VinylSd     VinylSd       None        Typ    AllPub   \n",
       "freq       2265        1025        1014       1742       2717      2916   \n",
       "\n",
       "       BsmtQual BsmtCond BsmtExposure BsmtFinType1 Electrical BsmtFinType2  \\\n",
       "count      2838     2837         2837         2840       2918         2839   \n",
       "unique        4        4            4            6          5            6   \n",
       "top          TA       TA           No          Unf      SBrkr          Unf   \n",
       "freq       1283     2606         1904          851       2671         2493   \n",
       "\n",
       "       KitchenQual FireplaceQu GarageType GarageFinish GarageQual GarageCond  \\\n",
       "count         2918        1499       2762         2760       2760       2760   \n",
       "unique           4           5          6            3          5          5   \n",
       "top             TA          Gd     Attchd          Unf         TA         TA   \n",
       "freq          1492         744       1723         1230       2604       2654   \n",
       "\n",
       "        Fence SaleType  \n",
       "count     571     2918  \n",
       "unique      4        9  \n",
       "top     MnPrv       WD  \n",
       "freq      329     2525  "
      ]
     },
     "execution_count": 14,
     "metadata": {},
     "output_type": "execute_result"
    }
   ],
   "source": [
    "#filling missing values for categorical columns with the most used values\n",
    "\n",
    "data[['MSZoning','Exterior1st', 'Exterior2nd' ,'MasVnrType','Functional', 'Utilities','BsmtQual', 'BsmtCond', 'BsmtExposure', 'BsmtFinType1','Electrical', 'BsmtFinType2','KitchenQual', 'FireplaceQu','GarageType', 'GarageFinish','GarageQual','GarageCond','Fence', 'SaleType']].describe()"
   ]
  },
  {
   "cell_type": "code",
   "execution_count": 15,
   "id": "fc5dcaab",
   "metadata": {
    "execution": {
     "iopub.execute_input": "2022-01-02T06:52:18.947783Z",
     "iopub.status.busy": "2022-01-02T06:52:18.946635Z",
     "iopub.status.idle": "2022-01-02T06:52:18.952494Z",
     "shell.execute_reply": "2022-01-02T06:52:18.952975Z",
     "shell.execute_reply.started": "2022-01-02T06:51:10.537346Z"
    },
    "papermill": {
     "duration": 0.057058,
     "end_time": "2022-01-02T06:52:18.953141",
     "exception": false,
     "start_time": "2022-01-02T06:52:18.896083",
     "status": "completed"
    },
    "tags": []
   },
   "outputs": [
    {
     "data": {
      "text/plain": [
       "(2919, 77)"
      ]
     },
     "execution_count": 15,
     "metadata": {},
     "output_type": "execute_result"
    }
   ],
   "source": [
    "data.shape"
   ]
  },
  {
   "cell_type": "code",
   "execution_count": 16,
   "id": "8360e7b7",
   "metadata": {
    "execution": {
     "iopub.execute_input": "2022-01-02T06:52:19.075852Z",
     "iopub.status.busy": "2022-01-02T06:52:19.074889Z",
     "iopub.status.idle": "2022-01-02T06:52:19.097421Z",
     "shell.execute_reply": "2022-01-02T06:52:19.096837Z",
     "shell.execute_reply.started": "2022-01-02T06:51:10.544552Z"
    },
    "papermill": {
     "duration": 0.096433,
     "end_time": "2022-01-02T06:52:19.097573",
     "exception": false,
     "start_time": "2022-01-02T06:52:19.001140",
     "status": "completed"
    },
    "tags": []
   },
   "outputs": [
    {
     "data": {
      "text/plain": [
       "MSZoning         0\n",
       "Street           0\n",
       "LotShape         0\n",
       "LandContour      0\n",
       "Utilities        0\n",
       "LotConfig        0\n",
       "LandSlope        0\n",
       "Neighborhood     0\n",
       "Condition1       0\n",
       "Condition2       0\n",
       "BldgType         0\n",
       "HouseStyle       0\n",
       "RoofStyle        0\n",
       "RoofMatl         0\n",
       "Exterior1st      0\n",
       "Exterior2nd      0\n",
       "MasVnrType       0\n",
       "ExterQual        0\n",
       "ExterCond        0\n",
       "Foundation       0\n",
       "BsmtQual         0\n",
       "BsmtCond         0\n",
       "BsmtExposure     0\n",
       "BsmtFinType1     0\n",
       "BsmtFinType2     0\n",
       "Heating          0\n",
       "HeatingQC        0\n",
       "CentralAir       0\n",
       "Electrical       0\n",
       "KitchenQual      0\n",
       "Functional       0\n",
       "FireplaceQu      0\n",
       "GarageType       0\n",
       "GarageFinish     0\n",
       "GarageQual       0\n",
       "GarageCond       0\n",
       "PavedDrive       0\n",
       "Fence            0\n",
       "SaleType         0\n",
       "SaleCondition    0\n",
       "dtype: int64"
      ]
     },
     "execution_count": 16,
     "metadata": {},
     "output_type": "execute_result"
    }
   ],
   "source": [
    "data['MSZoning'].fillna('RL', inplace = True)\n",
    "data['Utilities'].fillna('AllPub', inplace = True)\n",
    "data['BsmtQual'].fillna('TA', inplace = True)\n",
    "data['BsmtCond'].fillna('TA', inplace = True)\n",
    "data['BsmtExposure'].fillna('No', inplace = True)\n",
    "data['BsmtFinType1'].fillna('Unf', inplace = True)\n",
    "data['BsmtFinType2'].fillna('Unf', inplace = True)\n",
    "data['Electrical'].fillna('SBrkr', inplace = True)\n",
    "data['FireplaceQu'].fillna('Gd', inplace = True)\n",
    "data['GarageType'].fillna('Attchd', inplace = True)\n",
    "data['GarageFinish'].fillna('Unf', inplace = True)\n",
    "data['GarageQual'].fillna('TA', inplace = True)\n",
    "data['GarageCond'].fillna('TA', inplace = True)\n",
    "data['Fence'].fillna('MnPrv', inplace = True)\n",
    "data['KitchenQual'].fillna('TA', inplace = True)\n",
    "data['SaleType'].fillna('WD', inplace = True)\n",
    "data['Exterior1st'].fillna('VinlSd', inplace = True)\n",
    "data['Exterior2nd'].fillna('VinlSd', inplace = True)\n",
    "data['Functional'].fillna('Typ', inplace = True)\n",
    "data['MasVnrType'].fillna('None', inplace = True)\n",
    "data[cat_cols].isnull().sum()"
   ]
  },
  {
   "cell_type": "code",
   "execution_count": 17,
   "id": "258753ee",
   "metadata": {
    "execution": {
     "iopub.execute_input": "2022-01-02T06:52:19.198852Z",
     "iopub.status.busy": "2022-01-02T06:52:19.197997Z",
     "iopub.status.idle": "2022-01-02T06:52:20.068878Z",
     "shell.execute_reply": "2022-01-02T06:52:20.069406Z",
     "shell.execute_reply.started": "2022-01-02T06:51:10.594833Z"
    },
    "papermill": {
     "duration": 0.923904,
     "end_time": "2022-01-02T06:52:20.069615",
     "exception": false,
     "start_time": "2022-01-02T06:52:19.145711",
     "status": "completed"
    },
    "tags": []
   },
   "outputs": [],
   "source": [
    "import matplotlib.pyplot as plt\n",
    "import seaborn as sns"
   ]
  },
  {
   "cell_type": "markdown",
   "id": "4448a882",
   "metadata": {
    "papermill": {
     "duration": 0.052146,
     "end_time": "2022-01-02T06:52:20.177985",
     "exception": false,
     "start_time": "2022-01-02T06:52:20.125839",
     "status": "completed"
    },
    "tags": []
   },
   "source": [
    "**Distribution of numerical features**"
   ]
  },
  {
   "cell_type": "code",
   "execution_count": 18,
   "id": "5e6a84c1",
   "metadata": {
    "execution": {
     "iopub.execute_input": "2022-01-02T06:52:20.281344Z",
     "iopub.status.busy": "2022-01-02T06:52:20.280543Z",
     "iopub.status.idle": "2022-01-02T06:52:25.846808Z",
     "shell.execute_reply": "2022-01-02T06:52:25.847274Z",
     "shell.execute_reply.started": "2022-01-02T06:51:10.602079Z"
    },
    "papermill": {
     "duration": 5.620008,
     "end_time": "2022-01-02T06:52:25.847481",
     "exception": false,
     "start_time": "2022-01-02T06:52:20.227473",
     "status": "completed"
    },
    "tags": []
   },
   "outputs": [
    {
     "data": {
      "text/plain": [
       "array([[<AxesSubplot:title={'center':'MSSubClass'}>,\n",
       "        <AxesSubplot:title={'center':'LotFrontage'}>,\n",
       "        <AxesSubplot:title={'center':'LotArea'}>,\n",
       "        <AxesSubplot:title={'center':'OverallQual'}>,\n",
       "        <AxesSubplot:title={'center':'OverallCond'}>,\n",
       "        <AxesSubplot:title={'center':'YearBuilt'}>],\n",
       "       [<AxesSubplot:title={'center':'YearRemodAdd'}>,\n",
       "        <AxesSubplot:title={'center':'MasVnrArea'}>,\n",
       "        <AxesSubplot:title={'center':'BsmtFinSF1'}>,\n",
       "        <AxesSubplot:title={'center':'BsmtFinSF2'}>,\n",
       "        <AxesSubplot:title={'center':'BsmtUnfSF'}>,\n",
       "        <AxesSubplot:title={'center':'TotalBsmtSF'}>],\n",
       "       [<AxesSubplot:title={'center':'1stFlrSF'}>,\n",
       "        <AxesSubplot:title={'center':'2ndFlrSF'}>,\n",
       "        <AxesSubplot:title={'center':'LowQualFinSF'}>,\n",
       "        <AxesSubplot:title={'center':'GrLivArea'}>,\n",
       "        <AxesSubplot:title={'center':'BsmtFullBath'}>,\n",
       "        <AxesSubplot:title={'center':'BsmtHalfBath'}>],\n",
       "       [<AxesSubplot:title={'center':'FullBath'}>,\n",
       "        <AxesSubplot:title={'center':'HalfBath'}>,\n",
       "        <AxesSubplot:title={'center':'BedroomAbvGr'}>,\n",
       "        <AxesSubplot:title={'center':'KitchenAbvGr'}>,\n",
       "        <AxesSubplot:title={'center':'TotRmsAbvGrd'}>,\n",
       "        <AxesSubplot:title={'center':'Fireplaces'}>],\n",
       "       [<AxesSubplot:title={'center':'GarageYrBlt'}>,\n",
       "        <AxesSubplot:title={'center':'GarageCars'}>,\n",
       "        <AxesSubplot:title={'center':'GarageArea'}>,\n",
       "        <AxesSubplot:title={'center':'WoodDeckSF'}>,\n",
       "        <AxesSubplot:title={'center':'OpenPorchSF'}>,\n",
       "        <AxesSubplot:title={'center':'EnclosedPorch'}>],\n",
       "       [<AxesSubplot:title={'center':'3SsnPorch'}>,\n",
       "        <AxesSubplot:title={'center':'ScreenPorch'}>,\n",
       "        <AxesSubplot:title={'center':'PoolArea'}>,\n",
       "        <AxesSubplot:title={'center':'MiscVal'}>,\n",
       "        <AxesSubplot:title={'center':'MoSold'}>,\n",
       "        <AxesSubplot:title={'center':'YrSold'}>],\n",
       "       [<AxesSubplot:title={'center':'SalePrice'}>, <AxesSubplot:>,\n",
       "        <AxesSubplot:>, <AxesSubplot:>, <AxesSubplot:>, <AxesSubplot:>]],\n",
       "      dtype=object)"
      ]
     },
     "execution_count": 18,
     "metadata": {},
     "output_type": "execute_result"
    },
    {
     "data": {
      "image/png": "[encoded data removed]",
      "text/plain": [
       "<Figure size 1440x1440 with 42 Axes>"
      ]
     },
     "metadata": {
      "needs_background": "light"
     },
     "output_type": "display_data"
    }
   ],
   "source": [
    "data.hist(figsize = (20,20))"
   ]
  },
  {
   "cell_type": "code",
   "execution_count": 19,
   "id": "e8f5f602",
   "metadata": {
    "execution": {
     "iopub.execute_input": "2022-01-02T06:52:25.955144Z",
     "iopub.status.busy": "2022-01-02T06:52:25.954489Z",
     "iopub.status.idle": "2022-01-02T06:52:40.025804Z",
     "shell.execute_reply": "2022-01-02T06:52:40.025175Z",
     "shell.execute_reply.started": "2022-01-02T06:51:16.201119Z"
    },
    "papermill": {
     "duration": 14.126238,
     "end_time": "2022-01-02T06:52:40.025956",
     "exception": false,
     "start_time": "2022-01-02T06:52:25.899718",
     "status": "completed"
    },
    "tags": []
   },
   "outputs": [
    {
     "data": {
      "image/png": "[encoded data removed]",
      "text/plain": [
       "<Figure size 432x288 with 1 Axes>"
      ]
     },
     "metadata": {
      "needs_background": "light"
     },
     "output_type": "display_data"
    },
    {
     "data": {
      "image/png": "[encoded data removed]",
      "text/plain": [
       "<Figure size 432x288 with 1 Axes>"
      ]
     },
     "metadata": {
      "needs_background": "light"
     },
     "output_type": "display_data"
    },
    {
     "data": {
      "image/png": "[encoded data removed]",
      "text/plain": [
       "<Figure size 432x288 with 1 Axes>"
      ]
     },
     "metadata": {
      "needs_background": "light"
     },
     "output_type": "display_data"
    },
    {
     "data": {
      "image/png": "[encoded data removed]",
      "text/plain": [
       "<Figure size 432x288 with 1 Axes>"
      ]
     },
     "metadata": {
      "needs_background": "light"
     },
     "output_type": "display_data"
    },
    {
     "data": {
      "image/png": "[encoded data removed]",
      "text/plain": [
       "<Figure size 432x288 with 1 Axes>"
      ]
     },
     "metadata": {
      "needs_background": "light"
     },
     "output_type": "display_data"
    },
    {
     "data": {
      "image/png": "[encoded data removed]",
      "text/plain": [
       "<Figure size 432x288 with 1 Axes>"
      ]
     },
     "metadata": {
      "needs_background": "light"
     },
     "output_type": "display_data"
    },
    {
     "data": {
      "image/png": "[encoded data removed]",
      "text/plain": [
       "<Figure size 432x288 with 1 Axes>"
      ]
     },
     "metadata": {
      "needs_background": "light"
     },
     "output_type": "display_data"
    },
    {
     "data": {
      "image/png": "[encoded data removed]",
      "text/plain": [
       "<Figure size 432x288 with 1 Axes>"
      ]
     },
     "metadata": {
      "needs_background": "light"
     },
     "output_type": "display_data"
    },
    {
     "data": {
      "image/png": "[encoded data removed]",
      "text/plain": [
       "<Figure size 432x288 with 1 Axes>"
      ]
     },
     "metadata": {
      "needs_background": "light"
     },
     "output_type": "display_data"
    },
    {
     "data": {
      "image/png": "[encoded data removed]",
      "text/plain": [
       "<Figure size 432x288 with 1 Axes>"
      ]
     },
     "metadata": {
      "needs_background": "light"
     },
     "output_type": "display_data"
    },
    {
     "data": {
      "image/png": "[encoded data removed]",
      "text/plain": [
       "<Figure size 432x288 with 1 Axes>"
      ]
     },
     "metadata": {
      "needs_background": "light"
     },
     "output_type": "display_data"
    },
    {
     "data": {
      "image/png": "[encoded data removed]",
      "text/plain": [
       "<Figure size 432x288 with 1 Axes>"
      ]
     },
     "metadata": {
      "needs_background": "light"
     },
     "output_type": "display_data"
    },
    {
     "data": {
      "image/png": "[encoded data removed]",
      "text/plain": [
       "<Figure size 432x288 with 1 Axes>"
      ]
     },
     "metadata": {
      "needs_background": "light"
     },
     "output_type": "display_data"
    },
    {
     "data": {
      "image/png": "[encoded data removed]",
      "text/plain": [
       "<Figure size 432x288 with 1 Axes>"
      ]
     },
     "metadata": {
      "needs_background": "light"
     },
     "output_type": "display_data"
    },
    {
     "data": {
      "image/png": "[encoded data removed]",
      "text/plain": [
       "<Figure size 432x288 with 1 Axes>"
      ]
     },
     "metadata": {
      "needs_background": "light"
     },
     "output_type": "display_data"
    },
    {
     "data": {
      "image/png": "[encoded data removed]",
      "text/plain": [
       "<Figure size 432x288 with 1 Axes>"
      ]
     },
     "metadata": {
      "needs_background": "light"
     },
     "output_type": "display_data"
    },
    {
     "data": {
      "image/png": "[encoded data removed]",
      "text/plain": [
       "<Figure size 432x288 with 1 Axes>"
      ]
     },
     "metadata": {
      "needs_background": "light"
     },
     "output_type": "display_data"
    },
    {
     "data": {
      "image/png": "[encoded data removed]",
      "text/plain": [
       "<Figure size 432x288 with 1 Axes>"
      ]
     },
     "metadata": {
      "needs_background": "light"
     },
     "output_type": "display_data"
    },
    {
     "data": {
      "image/png": "[encoded data removed]",
      "text/plain": [
       "<Figure size 432x288 with 1 Axes>"
      ]
     },
     "metadata": {
      "needs_background": "light"
     },
     "output_type": "display_data"
    },
    {
     "data": {
      "image/png": "[encoded data removed]",
      "text/plain": [
       "<Figure size 432x288 with 1 Axes>"
      ]
     },
     "metadata": {
      "needs_background": "light"
     },
     "output_type": "display_data"
    },
    {
     "data": {
      "image/png": "[encoded data removed]",
      "text/plain": [
       "<Figure size 432x288 with 1 Axes>"
      ]
     },
     "metadata": {
      "needs_background": "light"
     },
     "output_type": "display_data"
    },
    {
     "data": {
      "image/png": "[encoded data removed]",
      "text/plain": [
       "<Figure size 432x288 with 1 Axes>"
      ]
     },
     "metadata": {
      "needs_background": "light"
     },
     "output_type": "display_data"
    },
    {
     "data": {
      "image/png": "[encoded data removed]",
      "text/plain": [
       "<Figure size 432x288 with 1 Axes>"
      ]
     },
     "metadata": {
      "needs_background": "light"
     },
     "output_type": "display_data"
    },
    {
     "data": {
      "image/png": "[encoded data removed]",
      "text/plain": [
       "<Figure size 432x288 with 1 Axes>"
      ]
     },
     "metadata": {
      "needs_background": "light"
     },
     "output_type": "display_data"
    },
    {
     "data": {
      "image/png": "[encoded data removed]",
      "text/plain": [
       "<Figure size 432x288 with 1 Axes>"
      ]
     },
     "metadata": {
      "needs_background": "light"
     },
     "output_type": "display_data"
    },
    {
     "data": {
      "image/png": "[encoded data removed]",
      "text/plain": [
       "<Figure size 432x288 with 1 Axes>"
      ]
     },
     "metadata": {
      "needs_background": "light"
     },
     "output_type": "display_data"
    },
    {
     "data": {
      "image/png": "[encoded data removed]",
      "text/plain": [
       "<Figure size 432x288 with 1 Axes>"
      ]
     },
     "metadata": {
      "needs_background": "light"
     },
     "output_type": "display_data"
    },
    {
     "data": {
      "image/png": "[encoded data removed]",
      "text/plain": [
       "<Figure size 432x288 with 1 Axes>"
      ]
     },
     "metadata": {
      "needs_background": "light"
     },
     "output_type": "display_data"
    },
    {
     "data": {
      "image/png": "[encoded data removed]",
      "text/plain": [
       "<Figure size 432x288 with 1 Axes>"
      ]
     },
     "metadata": {
      "needs_background": "light"
     },
     "output_type": "display_data"
    },
    {
     "data": {
      "image/png": "[encoded data removed]",
      "text/plain": [
       "<Figure size 432x288 with 1 Axes>"
      ]
     },
     "metadata": {
      "needs_background": "light"
     },
     "output_type": "display_data"
    },
    {
     "data": {
      "image/png": "[encoded data removed]",
      "text/plain": [
       "<Figure size 432x288 with 1 Axes>"
      ]
     },
     "metadata": {
      "needs_background": "light"
     },
     "output_type": "display_data"
    },
    {
     "data": {
      "image/png": "[encoded data removed]",
      "text/plain": [
       "<Figure size 432x288 with 1 Axes>"
      ]
     },
     "metadata": {
      "needs_background": "light"
     },
     "output_type": "display_data"
    },
    {
     "data": {
      "image/png": "[encoded data removed]",
      "text/plain": [
       "<Figure size 432x288 with 1 Axes>"
      ]
     },
     "metadata": {
      "needs_background": "light"
     },
     "output_type": "display_data"
    },
    {
     "data": {
      "image/png": "[encoded data removed]",
      "text/plain": [
       "<Figure size 432x288 with 1 Axes>"
      ]
     },
     "metadata": {
      "needs_background": "light"
     },
     "output_type": "display_data"
    },
    {
     "data": {
      "image/png": "[encoded data removed]",
      "text/plain": [
       "<Figure size 432x288 with 1 Axes>"
      ]
     },
     "metadata": {
      "needs_background": "light"
     },
     "output_type": "display_data"
    },
    {
     "data": {
      "image/png": "[encoded data removed]",
      "text/plain": [
       "<Figure size 432x288 with 1 Axes>"
      ]
     },
     "metadata": {
      "needs_background": "light"
     },
     "output_type": "display_data"
    },
    {
     "data": {
      "image/png": "[encoded data removed]",
      "text/plain": [
       "<Figure size 432x288 with 1 Axes>"
      ]
     },
     "metadata": {
      "needs_background": "light"
     },
     "output_type": "display_data"
    },
    {
     "data": {
      "image/png": "[encoded data removed]",
      "text/plain": [
       "<Figure size 432x288 with 1 Axes>"
      ]
     },
     "metadata": {
      "needs_background": "light"
     },
     "output_type": "display_data"
    },
    {
     "data": {
      "image/png": "[encoded data removed]",
      "text/plain": [
       "<Figure size 432x288 with 1 Axes>"
      ]
     },
     "metadata": {
      "needs_background": "light"
     },
     "output_type": "display_data"
    },
    {
     "data": {
      "image/png": "[encoded data removed]",
      "text/plain": [
       "<Figure size 432x288 with 1 Axes>"
      ]
     },
     "metadata": {
      "needs_background": "light"
     },
     "output_type": "display_data"
    }
   ],
   "source": [
    "for i in cat_cols:\n",
    "    sns.barplot(x = i, y = 'SalePrice', data = data)\n",
    "    plt.show()"
   ]
  },
  {
   "cell_type": "markdown",
   "id": "b1a4baf6",
   "metadata": {
    "papermill": {
     "duration": 0.082293,
     "end_time": "2022-01-02T06:52:40.190720",
     "exception": false,
     "start_time": "2022-01-02T06:52:40.108427",
     "status": "completed"
    },
    "tags": []
   },
   "source": [
    "# Feature Engineering"
   ]
  },
  {
   "cell_type": "code",
   "execution_count": 20,
   "id": "1aaf586f",
   "metadata": {
    "execution": {
     "iopub.execute_input": "2022-01-02T06:52:40.356738Z",
     "iopub.status.busy": "2022-01-02T06:52:40.356059Z",
     "iopub.status.idle": "2022-01-02T06:52:40.364078Z",
     "shell.execute_reply": "2022-01-02T06:52:40.364679Z",
     "shell.execute_reply.started": "2022-01-02T06:51:30.274339Z"
    },
    "papermill": {
     "duration": 0.091884,
     "end_time": "2022-01-02T06:52:40.364870",
     "exception": false,
     "start_time": "2022-01-02T06:52:40.272986",
     "status": "completed"
    },
    "tags": []
   },
   "outputs": [
    {
     "data": {
      "text/plain": [
       "array([ 60,  20,  70,  50, 190,  45,  90, 120,  30,  85,  80, 160,  75,\n",
       "       180,  40, 150])"
      ]
     },
     "execution_count": 20,
     "metadata": {},
     "output_type": "execute_result"
    }
   ],
   "source": [
    "data.MSSubClass.unique()"
   ]
  },
  {
   "cell_type": "code",
   "execution_count": 21,
   "id": "72a3c8cb",
   "metadata": {
    "execution": {
     "iopub.execute_input": "2022-01-02T06:52:40.531172Z",
     "iopub.status.busy": "2022-01-02T06:52:40.530518Z",
     "iopub.status.idle": "2022-01-02T06:52:40.541948Z",
     "shell.execute_reply": "2022-01-02T06:52:40.541298Z",
     "shell.execute_reply.started": "2022-01-02T06:51:30.282473Z"
    },
    "papermill": {
     "duration": 0.095794,
     "end_time": "2022-01-02T06:52:40.542097",
     "exception": false,
     "start_time": "2022-01-02T06:52:40.446303",
     "status": "completed"
    },
    "tags": []
   },
   "outputs": [
    {
     "data": {
      "text/plain": [
       "dtype('O')"
      ]
     },
     "execution_count": 21,
     "metadata": {},
     "output_type": "execute_result"
    }
   ],
   "source": [
    "#Classifying Subclass into more general groups\n",
    "\n",
    "def values(x):\n",
    "    if x>=20 and x<=55 or x == 120 or x == 150:\n",
    "        return '1'\n",
    "    elif x>=60 and x<= 75 or x ==160 or x==190:\n",
    "        return '2'\n",
    "    else:\n",
    "        return 'other'\n",
    "    \n",
    "data['MSClass'] = data['MSSubClass'].apply(values)\n",
    "data['MSClass'].dtype"
   ]
  },
  {
   "cell_type": "code",
   "execution_count": 22,
   "id": "53f562cb",
   "metadata": {
    "execution": {
     "iopub.execute_input": "2022-01-02T06:52:40.712621Z",
     "iopub.status.busy": "2022-01-02T06:52:40.711243Z",
     "iopub.status.idle": "2022-01-02T06:52:40.714767Z",
     "shell.execute_reply": "2022-01-02T06:52:40.715246Z",
     "shell.execute_reply.started": "2022-01-02T06:51:30.298316Z"
    },
    "papermill": {
     "duration": 0.092433,
     "end_time": "2022-01-02T06:52:40.715427",
     "exception": false,
     "start_time": "2022-01-02T06:52:40.622994",
     "status": "completed"
    },
    "tags": []
   },
   "outputs": [],
   "source": [
    "data['OverallCond'] = data['OverallCond'].astype('object')\n",
    "data['OverallQual'] = data['OverallQual'].astype('object')"
   ]
  },
  {
   "cell_type": "markdown",
   "id": "147fe9bf",
   "metadata": {
    "papermill": {
     "duration": 0.082126,
     "end_time": "2022-01-02T06:52:40.878107",
     "exception": false,
     "start_time": "2022-01-02T06:52:40.795981",
     "status": "completed"
    },
    "tags": []
   },
   "source": [
    "LivLotRatio: the ratio of GrLivArea to LotArea\n",
    "\n",
    "Spaciousness: the sum of 1stFlrSF and 2ndFlrSF divided by TotRmsAbvGrd\n",
    "\n",
    "TotalOutsideSF: the sum of WoodDeckSF, OpenPorchSF, EnclosedPorch, 3SsnPorch, and ScreenPorch"
   ]
  },
  {
   "cell_type": "code",
   "execution_count": 23,
   "id": "6dd66743",
   "metadata": {
    "execution": {
     "iopub.execute_input": "2022-01-02T06:52:41.045538Z",
     "iopub.status.busy": "2022-01-02T06:52:41.044842Z",
     "iopub.status.idle": "2022-01-02T06:52:41.050780Z",
     "shell.execute_reply": "2022-01-02T06:52:41.051304Z",
     "shell.execute_reply.started": "2022-01-02T06:51:30.307821Z"
    },
    "papermill": {
     "duration": 0.091013,
     "end_time": "2022-01-02T06:52:41.051492",
     "exception": false,
     "start_time": "2022-01-02T06:52:40.960479",
     "status": "completed"
    },
    "tags": []
   },
   "outputs": [],
   "source": [
    "data['TotalOutsideSF'] = data['WoodDeckSF'] + data['OpenPorchSF'] + data['EnclosedPorch'] + data['3SsnPorch'] + data['ScreenPorch'] \n"
   ]
  },
  {
   "cell_type": "code",
   "execution_count": 24,
   "id": "7a53e983",
   "metadata": {
    "execution": {
     "iopub.execute_input": "2022-01-02T06:52:41.218505Z",
     "iopub.status.busy": "2022-01-02T06:52:41.217855Z",
     "iopub.status.idle": "2022-01-02T06:52:41.223060Z",
     "shell.execute_reply": "2022-01-02T06:52:41.223530Z",
     "shell.execute_reply.started": "2022-01-02T06:51:30.323239Z"
    },
    "papermill": {
     "duration": 0.090387,
     "end_time": "2022-01-02T06:52:41.223705",
     "exception": false,
     "start_time": "2022-01-02T06:52:41.133318",
     "status": "completed"
    },
    "tags": []
   },
   "outputs": [],
   "source": [
    "data[\"Spaciousness\"] = (data['1stFlrSF'] + data['2ndFlrSF']) / data['TotRmsAbvGrd']"
   ]
  },
  {
   "cell_type": "code",
   "execution_count": 25,
   "id": "64c6e68a",
   "metadata": {
    "execution": {
     "iopub.execute_input": "2022-01-02T06:52:41.392239Z",
     "iopub.status.busy": "2022-01-02T06:52:41.389010Z",
     "iopub.status.idle": "2022-01-02T06:52:41.395529Z",
     "shell.execute_reply": "2022-01-02T06:52:41.394979Z",
     "shell.execute_reply.started": "2022-01-02T06:51:30.333959Z"
    },
    "papermill": {
     "duration": 0.090791,
     "end_time": "2022-01-02T06:52:41.395686",
     "exception": false,
     "start_time": "2022-01-02T06:52:41.304895",
     "status": "completed"
    },
    "tags": []
   },
   "outputs": [],
   "source": [
    "data[\"LivLotRatio\"] = data['GrLivArea'] / data['LotArea']"
   ]
  },
  {
   "cell_type": "code",
   "execution_count": 26,
   "id": "50872c46",
   "metadata": {
    "execution": {
     "iopub.execute_input": "2022-01-02T06:52:41.563629Z",
     "iopub.status.busy": "2022-01-02T06:52:41.562967Z",
     "iopub.status.idle": "2022-01-02T06:52:41.574788Z",
     "shell.execute_reply": "2022-01-02T06:52:41.575331Z",
     "shell.execute_reply.started": "2022-01-02T06:51:30.343693Z"
    },
    "papermill": {
     "duration": 0.096794,
     "end_time": "2022-01-02T06:52:41.575530",
     "exception": false,
     "start_time": "2022-01-02T06:52:41.478736",
     "status": "completed"
    },
    "tags": []
   },
   "outputs": [],
   "source": [
    "# PorchTypes that counts how many of the following are greater than 0.0:\n",
    "data[\"PorchTypes\"] = data[['WoodDeckSF', 'OpenPorchSF', 'EnclosedPorch', '3SsnPorch',  'ScreenPorch']].gt(0.0).sum(axis=1)"
   ]
  },
  {
   "cell_type": "code",
   "execution_count": 27,
   "id": "2247fa7d",
   "metadata": {
    "execution": {
     "iopub.execute_input": "2022-01-02T06:52:41.742192Z",
     "iopub.status.busy": "2022-01-02T06:52:41.741581Z",
     "iopub.status.idle": "2022-01-02T06:52:41.760149Z",
     "shell.execute_reply": "2022-01-02T06:52:41.759570Z",
     "shell.execute_reply.started": "2022-01-02T06:51:30.359733Z"
    },
    "papermill": {
     "duration": 0.102797,
     "end_time": "2022-01-02T06:52:41.760301",
     "exception": false,
     "start_time": "2022-01-02T06:52:41.657504",
     "status": "completed"
    },
    "tags": []
   },
   "outputs": [
    {
     "data": {
      "text/html": [
       "<div>\n",
       "<style scoped>\n",
       "    .dataframe tbody tr th:only-of-type {\n",
       "        vertical-align: middle;\n",
       "    }\n",
       "\n",
       "    .dataframe tbody tr th {\n",
       "        vertical-align: top;\n",
       "    }\n",
       "\n",
       "    .dataframe thead th {\n",
       "        text-align: right;\n",
       "    }\n",
       "</style>\n",
       "<table border=\"1\" class=\"dataframe\">\n",
       "  <thead>\n",
       "    <tr style=\"text-align: right;\">\n",
       "      <th></th>\n",
       "      <th>Bldg_1Fam</th>\n",
       "      <th>Bldg_2fmCon</th>\n",
       "      <th>Bldg_Duplex</th>\n",
       "      <th>Bldg_Twnhs</th>\n",
       "      <th>Bldg_TwnhsE</th>\n",
       "    </tr>\n",
       "  </thead>\n",
       "  <tbody>\n",
       "    <tr>\n",
       "      <th>0</th>\n",
       "      <td>1710</td>\n",
       "      <td>0</td>\n",
       "      <td>0</td>\n",
       "      <td>0</td>\n",
       "      <td>0</td>\n",
       "    </tr>\n",
       "    <tr>\n",
       "      <th>1</th>\n",
       "      <td>1262</td>\n",
       "      <td>0</td>\n",
       "      <td>0</td>\n",
       "      <td>0</td>\n",
       "      <td>0</td>\n",
       "    </tr>\n",
       "    <tr>\n",
       "      <th>2</th>\n",
       "      <td>1786</td>\n",
       "      <td>0</td>\n",
       "      <td>0</td>\n",
       "      <td>0</td>\n",
       "      <td>0</td>\n",
       "    </tr>\n",
       "    <tr>\n",
       "      <th>3</th>\n",
       "      <td>1717</td>\n",
       "      <td>0</td>\n",
       "      <td>0</td>\n",
       "      <td>0</td>\n",
       "      <td>0</td>\n",
       "    </tr>\n",
       "    <tr>\n",
       "      <th>4</th>\n",
       "      <td>2198</td>\n",
       "      <td>0</td>\n",
       "      <td>0</td>\n",
       "      <td>0</td>\n",
       "      <td>0</td>\n",
       "    </tr>\n",
       "    <tr>\n",
       "      <th>...</th>\n",
       "      <td>...</td>\n",
       "      <td>...</td>\n",
       "      <td>...</td>\n",
       "      <td>...</td>\n",
       "      <td>...</td>\n",
       "    </tr>\n",
       "    <tr>\n",
       "      <th>1454</th>\n",
       "      <td>0</td>\n",
       "      <td>0</td>\n",
       "      <td>0</td>\n",
       "      <td>1092</td>\n",
       "      <td>0</td>\n",
       "    </tr>\n",
       "    <tr>\n",
       "      <th>1455</th>\n",
       "      <td>0</td>\n",
       "      <td>0</td>\n",
       "      <td>0</td>\n",
       "      <td>0</td>\n",
       "      <td>1092</td>\n",
       "    </tr>\n",
       "    <tr>\n",
       "      <th>1456</th>\n",
       "      <td>1224</td>\n",
       "      <td>0</td>\n",
       "      <td>0</td>\n",
       "      <td>0</td>\n",
       "      <td>0</td>\n",
       "    </tr>\n",
       "    <tr>\n",
       "      <th>1457</th>\n",
       "      <td>970</td>\n",
       "      <td>0</td>\n",
       "      <td>0</td>\n",
       "      <td>0</td>\n",
       "      <td>0</td>\n",
       "    </tr>\n",
       "    <tr>\n",
       "      <th>1458</th>\n",
       "      <td>2000</td>\n",
       "      <td>0</td>\n",
       "      <td>0</td>\n",
       "      <td>0</td>\n",
       "      <td>0</td>\n",
       "    </tr>\n",
       "  </tbody>\n",
       "</table>\n",
       "<p>2919 rows × 5 columns</p>\n",
       "</div>"
      ],
      "text/plain": [
       "      Bldg_1Fam  Bldg_2fmCon  Bldg_Duplex  Bldg_Twnhs  Bldg_TwnhsE\n",
       "0          1710            0            0           0            0\n",
       "1          1262            0            0           0            0\n",
       "2          1786            0            0           0            0\n",
       "3          1717            0            0           0            0\n",
       "4          2198            0            0           0            0\n",
       "...         ...          ...          ...         ...          ...\n",
       "1454          0            0            0        1092            0\n",
       "1455          0            0            0           0         1092\n",
       "1456       1224            0            0           0            0\n",
       "1457        970            0            0           0            0\n",
       "1458       2000            0            0           0            0\n",
       "\n",
       "[2919 rows x 5 columns]"
      ]
     },
     "execution_count": 27,
     "metadata": {},
     "output_type": "execute_result"
    }
   ],
   "source": [
    "# an interaction between BldgType and GrLivArea \n",
    "\n",
    "# One-hot encode BldgType. Using`prefix=\"Bldg\"\n",
    "data_one = pd.get_dummies(data.BldgType, prefix = 'Bldg') \n",
    "# Multiply\n",
    "data_one = data_one.mul(data.GrLivArea, axis = 0)\n",
    "\n",
    "data_one"
   ]
  },
  {
   "cell_type": "code",
   "execution_count": 28,
   "id": "900ed570",
   "metadata": {
    "execution": {
     "iopub.execute_input": "2022-01-02T06:52:41.928995Z",
     "iopub.status.busy": "2022-01-02T06:52:41.928229Z",
     "iopub.status.idle": "2022-01-02T06:52:41.935619Z",
     "shell.execute_reply": "2022-01-02T06:52:41.936107Z",
     "shell.execute_reply.started": "2022-01-02T06:51:30.378382Z"
    },
    "papermill": {
     "duration": 0.093553,
     "end_time": "2022-01-02T06:52:41.936273",
     "exception": false,
     "start_time": "2022-01-02T06:52:41.842720",
     "status": "completed"
    },
    "tags": []
   },
   "outputs": [],
   "source": [
    "data['Bldg_1Fam']  = data_one['Bldg_1Fam'] \n",
    "data['Bldg_2fmCon'] = data_one['Bldg_2fmCon']\n",
    "data['Bldg_Duplex'] = data_one['Bldg_Duplex']\n",
    "data['Bldg_Twnhs'] = data_one['Bldg_Twnhs']\n",
    "data['Bldg_TwnhsE'] = data_one['Bldg_TwnhsE']"
   ]
  },
  {
   "cell_type": "markdown",
   "id": "63fb0761",
   "metadata": {
    "execution": {
     "iopub.execute_input": "2021-09-06T04:28:13.080962Z",
     "iopub.status.busy": "2021-09-06T04:28:13.08057Z",
     "iopub.status.idle": "2021-09-06T04:28:14.145579Z",
     "shell.execute_reply": "2021-09-06T04:28:14.144765Z",
     "shell.execute_reply.started": "2021-09-06T04:28:13.080928Z"
    },
    "papermill": {
     "duration": 0.082806,
     "end_time": "2022-01-02T06:52:42.101243",
     "exception": false,
     "start_time": "2022-01-02T06:52:42.018437",
     "status": "completed"
    },
    "tags": []
   },
   "source": [
    "**MedNhbdArea that describes the median of GrLivArea grouped on Neighborhood.\n",
    "The value of a home often depends on how it compares to typical homes in its neighborhood**"
   ]
  },
  {
   "cell_type": "code",
   "execution_count": 29,
   "id": "75b9901e",
   "metadata": {
    "execution": {
     "iopub.execute_input": "2022-01-02T06:52:42.270839Z",
     "iopub.status.busy": "2022-01-02T06:52:42.270123Z",
     "iopub.status.idle": "2022-01-02T06:52:42.280329Z",
     "shell.execute_reply": "2022-01-02T06:52:42.280882Z",
     "shell.execute_reply.started": "2022-01-02T06:51:30.389056Z"
    },
    "papermill": {
     "duration": 0.09697,
     "end_time": "2022-01-02T06:52:42.281068",
     "exception": false,
     "start_time": "2022-01-02T06:52:42.184098",
     "status": "completed"
    },
    "tags": []
   },
   "outputs": [],
   "source": [
    "data[\"MedNhbdArea\"] = data.groupby('Neighborhood')['GrLivArea'].transform('median')"
   ]
  },
  {
   "cell_type": "code",
   "execution_count": 30,
   "id": "4c398a6a",
   "metadata": {
    "execution": {
     "iopub.execute_input": "2022-01-02T06:52:42.450254Z",
     "iopub.status.busy": "2022-01-02T06:52:42.449612Z",
     "iopub.status.idle": "2022-01-02T06:52:42.478051Z",
     "shell.execute_reply": "2022-01-02T06:52:42.478640Z",
     "shell.execute_reply.started": "2022-01-02T06:51:30.399203Z"
    },
    "papermill": {
     "duration": 0.115579,
     "end_time": "2022-01-02T06:52:42.478808",
     "exception": false,
     "start_time": "2022-01-02T06:52:42.363229",
     "status": "completed"
    },
    "tags": []
   },
   "outputs": [
    {
     "data": {
      "text/html": [
       "<div>\n",
       "<style scoped>\n",
       "    .dataframe tbody tr th:only-of-type {\n",
       "        vertical-align: middle;\n",
       "    }\n",
       "\n",
       "    .dataframe tbody tr th {\n",
       "        vertical-align: top;\n",
       "    }\n",
       "\n",
       "    .dataframe thead th {\n",
       "        text-align: right;\n",
       "    }\n",
       "</style>\n",
       "<table border=\"1\" class=\"dataframe\">\n",
       "  <thead>\n",
       "    <tr style=\"text-align: right;\">\n",
       "      <th></th>\n",
       "      <th>MSSubClass</th>\n",
       "      <th>MSZoning</th>\n",
       "      <th>LotFrontage</th>\n",
       "      <th>LotArea</th>\n",
       "      <th>Street</th>\n",
       "      <th>LotShape</th>\n",
       "      <th>LandContour</th>\n",
       "      <th>Utilities</th>\n",
       "      <th>LotConfig</th>\n",
       "      <th>LandSlope</th>\n",
       "      <th>...</th>\n",
       "      <th>TotalOutsideSF</th>\n",
       "      <th>Spaciousness</th>\n",
       "      <th>LivLotRatio</th>\n",
       "      <th>PorchTypes</th>\n",
       "      <th>Bldg_1Fam</th>\n",
       "      <th>Bldg_2fmCon</th>\n",
       "      <th>Bldg_Duplex</th>\n",
       "      <th>Bldg_Twnhs</th>\n",
       "      <th>Bldg_TwnhsE</th>\n",
       "      <th>MedNhbdArea</th>\n",
       "    </tr>\n",
       "  </thead>\n",
       "  <tbody>\n",
       "    <tr>\n",
       "      <th>0</th>\n",
       "      <td>60</td>\n",
       "      <td>RL</td>\n",
       "      <td>65.0</td>\n",
       "      <td>8450</td>\n",
       "      <td>Pave</td>\n",
       "      <td>Reg</td>\n",
       "      <td>Lvl</td>\n",
       "      <td>AllPub</td>\n",
       "      <td>Inside</td>\n",
       "      <td>Gtl</td>\n",
       "      <td>...</td>\n",
       "      <td>61</td>\n",
       "      <td>213.750000</td>\n",
       "      <td>0.202367</td>\n",
       "      <td>1</td>\n",
       "      <td>1710</td>\n",
       "      <td>0</td>\n",
       "      <td>0</td>\n",
       "      <td>0</td>\n",
       "      <td>0</td>\n",
       "      <td>1504.0</td>\n",
       "    </tr>\n",
       "    <tr>\n",
       "      <th>1</th>\n",
       "      <td>20</td>\n",
       "      <td>RL</td>\n",
       "      <td>80.0</td>\n",
       "      <td>9600</td>\n",
       "      <td>Pave</td>\n",
       "      <td>Reg</td>\n",
       "      <td>Lvl</td>\n",
       "      <td>AllPub</td>\n",
       "      <td>FR2</td>\n",
       "      <td>Gtl</td>\n",
       "      <td>...</td>\n",
       "      <td>298</td>\n",
       "      <td>210.333333</td>\n",
       "      <td>0.131458</td>\n",
       "      <td>1</td>\n",
       "      <td>1262</td>\n",
       "      <td>0</td>\n",
       "      <td>0</td>\n",
       "      <td>0</td>\n",
       "      <td>0</td>\n",
       "      <td>1706.5</td>\n",
       "    </tr>\n",
       "    <tr>\n",
       "      <th>2</th>\n",
       "      <td>60</td>\n",
       "      <td>RL</td>\n",
       "      <td>68.0</td>\n",
       "      <td>11250</td>\n",
       "      <td>Pave</td>\n",
       "      <td>IR1</td>\n",
       "      <td>Lvl</td>\n",
       "      <td>AllPub</td>\n",
       "      <td>Inside</td>\n",
       "      <td>Gtl</td>\n",
       "      <td>...</td>\n",
       "      <td>42</td>\n",
       "      <td>297.666667</td>\n",
       "      <td>0.158756</td>\n",
       "      <td>1</td>\n",
       "      <td>1786</td>\n",
       "      <td>0</td>\n",
       "      <td>0</td>\n",
       "      <td>0</td>\n",
       "      <td>0</td>\n",
       "      <td>1504.0</td>\n",
       "    </tr>\n",
       "    <tr>\n",
       "      <th>3</th>\n",
       "      <td>70</td>\n",
       "      <td>RL</td>\n",
       "      <td>60.0</td>\n",
       "      <td>9550</td>\n",
       "      <td>Pave</td>\n",
       "      <td>IR1</td>\n",
       "      <td>Lvl</td>\n",
       "      <td>AllPub</td>\n",
       "      <td>Corner</td>\n",
       "      <td>Gtl</td>\n",
       "      <td>...</td>\n",
       "      <td>307</td>\n",
       "      <td>245.285714</td>\n",
       "      <td>0.179791</td>\n",
       "      <td>2</td>\n",
       "      <td>1717</td>\n",
       "      <td>0</td>\n",
       "      <td>0</td>\n",
       "      <td>0</td>\n",
       "      <td>0</td>\n",
       "      <td>1648.0</td>\n",
       "    </tr>\n",
       "    <tr>\n",
       "      <th>4</th>\n",
       "      <td>60</td>\n",
       "      <td>RL</td>\n",
       "      <td>84.0</td>\n",
       "      <td>14260</td>\n",
       "      <td>Pave</td>\n",
       "      <td>IR1</td>\n",
       "      <td>Lvl</td>\n",
       "      <td>AllPub</td>\n",
       "      <td>FR2</td>\n",
       "      <td>Gtl</td>\n",
       "      <td>...</td>\n",
       "      <td>276</td>\n",
       "      <td>244.222222</td>\n",
       "      <td>0.154137</td>\n",
       "      <td>2</td>\n",
       "      <td>2198</td>\n",
       "      <td>0</td>\n",
       "      <td>0</td>\n",
       "      <td>0</td>\n",
       "      <td>0</td>\n",
       "      <td>2418.0</td>\n",
       "    </tr>\n",
       "  </tbody>\n",
       "</table>\n",
       "<p>5 rows × 88 columns</p>\n",
       "</div>"
      ],
      "text/plain": [
       "   MSSubClass MSZoning  LotFrontage  LotArea Street LotShape LandContour  \\\n",
       "0          60       RL         65.0     8450   Pave      Reg         Lvl   \n",
       "1          20       RL         80.0     9600   Pave      Reg         Lvl   \n",
       "2          60       RL         68.0    11250   Pave      IR1         Lvl   \n",
       "3          70       RL         60.0     9550   Pave      IR1         Lvl   \n",
       "4          60       RL         84.0    14260   Pave      IR1         Lvl   \n",
       "\n",
       "  Utilities LotConfig LandSlope  ... TotalOutsideSF Spaciousness LivLotRatio  \\\n",
       "0    AllPub    Inside       Gtl  ...             61   213.750000    0.202367   \n",
       "1    AllPub       FR2       Gtl  ...            298   210.333333    0.131458   \n",
       "2    AllPub    Inside       Gtl  ...             42   297.666667    0.158756   \n",
       "3    AllPub    Corner       Gtl  ...            307   245.285714    0.179791   \n",
       "4    AllPub       FR2       Gtl  ...            276   244.222222    0.154137   \n",
       "\n",
       "  PorchTypes Bldg_1Fam Bldg_2fmCon Bldg_Duplex  Bldg_Twnhs  Bldg_TwnhsE  \\\n",
       "0          1      1710           0           0           0            0   \n",
       "1          1      1262           0           0           0            0   \n",
       "2          1      1786           0           0           0            0   \n",
       "3          2      1717           0           0           0            0   \n",
       "4          2      2198           0           0           0            0   \n",
       "\n",
       "  MedNhbdArea  \n",
       "0      1504.0  \n",
       "1      1706.5  \n",
       "2      1504.0  \n",
       "3      1648.0  \n",
       "4      2418.0  \n",
       "\n",
       "[5 rows x 88 columns]"
      ]
     },
     "execution_count": 30,
     "metadata": {},
     "output_type": "execute_result"
    }
   ],
   "source": [
    "data.head()"
   ]
  },
  {
   "cell_type": "markdown",
   "id": "1fb7b330",
   "metadata": {
    "papermill": {
     "duration": 0.081449,
     "end_time": "2022-01-02T06:52:42.642701",
     "exception": false,
     "start_time": "2022-01-02T06:52:42.561252",
     "status": "completed"
    },
    "tags": []
   },
   "source": [
    "**ENCODING with LABEL ENCODER**"
   ]
  },
  {
   "cell_type": "code",
   "execution_count": 31,
   "id": "ec4a6682",
   "metadata": {
    "execution": {
     "iopub.execute_input": "2022-01-02T06:52:42.813537Z",
     "iopub.status.busy": "2022-01-02T06:52:42.810363Z",
     "iopub.status.idle": "2022-01-02T06:52:42.819955Z",
     "shell.execute_reply": "2022-01-02T06:52:42.820509Z",
     "shell.execute_reply.started": "2022-01-02T06:51:30.436207Z"
    },
    "papermill": {
     "duration": 0.0957,
     "end_time": "2022-01-02T06:52:42.820680",
     "exception": false,
     "start_time": "2022-01-02T06:52:42.724980",
     "status": "completed"
    },
    "tags": []
   },
   "outputs": [],
   "source": [
    "cat_cols=data.select_dtypes('object').columns\n",
    "num_cols=data.select_dtypes(['int64', 'float64']).columns"
   ]
  },
  {
   "cell_type": "code",
   "execution_count": 32,
   "id": "c386899b",
   "metadata": {
    "execution": {
     "iopub.execute_input": "2022-01-02T06:52:42.988699Z",
     "iopub.status.busy": "2022-01-02T06:52:42.987943Z",
     "iopub.status.idle": "2022-01-02T06:52:43.184976Z",
     "shell.execute_reply": "2022-01-02T06:52:43.184266Z",
     "shell.execute_reply.started": "2022-01-02T06:51:30.452606Z"
    },
    "papermill": {
     "duration": 0.282295,
     "end_time": "2022-01-02T06:52:43.185132",
     "exception": false,
     "start_time": "2022-01-02T06:52:42.902837",
     "status": "completed"
    },
    "tags": []
   },
   "outputs": [],
   "source": [
    "from sklearn.preprocessing import LabelEncoder\n",
    "le = LabelEncoder()\n",
    "for col in cat_cols:\n",
    "    data[col] = le.fit_transform(data[col])"
   ]
  },
  {
   "cell_type": "markdown",
   "id": "e80141aa",
   "metadata": {
    "papermill": {
     "duration": 0.081909,
     "end_time": "2022-01-02T06:52:43.350608",
     "exception": false,
     "start_time": "2022-01-02T06:52:43.268699",
     "status": "completed"
    },
    "tags": []
   },
   "source": [
    "**Separating train and test data**"
   ]
  },
  {
   "cell_type": "code",
   "execution_count": 33,
   "id": "f8d8c260",
   "metadata": {
    "execution": {
     "iopub.execute_input": "2022-01-02T06:52:43.520586Z",
     "iopub.status.busy": "2022-01-02T06:52:43.519888Z",
     "iopub.status.idle": "2022-01-02T06:52:43.566699Z",
     "shell.execute_reply": "2022-01-02T06:52:43.567187Z",
     "shell.execute_reply.started": "2022-01-02T06:51:30.532149Z"
    },
    "papermill": {
     "duration": 0.133047,
     "end_time": "2022-01-02T06:52:43.567356",
     "exception": false,
     "start_time": "2022-01-02T06:52:43.434309",
     "status": "completed"
    },
    "tags": []
   },
   "outputs": [
    {
     "data": {
      "text/plain": [
       "(1459, 88)"
      ]
     },
     "execution_count": 33,
     "metadata": {},
     "output_type": "execute_result"
    }
   ],
   "source": [
    "train = data[data.SalePrice.notna()]\n",
    "test = data[data.SalePrice.isna()]\n",
    "\n",
    "train.drop_duplicates(inplace = True)\n",
    "test.drop_duplicates(inplace = True)\n",
    "train.shape\n",
    "test.shape"
   ]
  },
  {
   "cell_type": "code",
   "execution_count": 34,
   "id": "a4c89f78",
   "metadata": {
    "execution": {
     "iopub.execute_input": "2022-01-02T06:52:43.736633Z",
     "iopub.status.busy": "2022-01-02T06:52:43.735954Z",
     "iopub.status.idle": "2022-01-02T06:52:43.985649Z",
     "shell.execute_reply": "2022-01-02T06:52:43.986178Z",
     "shell.execute_reply.started": "2022-01-02T06:51:30.586068Z"
    },
    "papermill": {
     "duration": 0.336066,
     "end_time": "2022-01-02T06:52:43.986377",
     "exception": false,
     "start_time": "2022-01-02T06:52:43.650311",
     "status": "completed"
    },
    "tags": []
   },
   "outputs": [],
   "source": [
    "\n",
    "from sklearn.ensemble import RandomForestRegressor\n",
    "from sklearn.metrics import mean_absolute_error\n",
    "\n",
    "\n",
    "from sklearn.model_selection import train_test_split\n",
    "\n",
    "X = train\n",
    "y = train.pop('SalePrice')\n",
    "x_train, x_valid, y_train, y_valid = train_test_split(X, y ,test_size = 0.15, random_state = 67 )\n"
   ]
  },
  {
   "cell_type": "code",
   "execution_count": 35,
   "id": "2c93232a",
   "metadata": {
    "execution": {
     "iopub.execute_input": "2022-01-02T06:52:44.156157Z",
     "iopub.status.busy": "2022-01-02T06:52:44.155488Z",
     "iopub.status.idle": "2022-01-02T06:52:44.165201Z",
     "shell.execute_reply": "2022-01-02T06:52:44.165905Z",
     "shell.execute_reply.started": "2022-01-02T06:51:30.597960Z"
    },
    "papermill": {
     "duration": 0.096206,
     "end_time": "2022-01-02T06:52:44.166075",
     "exception": false,
     "start_time": "2022-01-02T06:52:44.069869",
     "status": "completed"
    },
    "tags": []
   },
   "outputs": [
    {
     "name": "stdout",
     "output_type": "stream",
     "text": [
      "0       208500.0\n",
      "1       181500.0\n",
      "2       223500.0\n",
      "3       140000.0\n",
      "4       250000.0\n",
      "          ...   \n",
      "1455    175000.0\n",
      "1456    210000.0\n",
      "1457    266500.0\n",
      "1458    142125.0\n",
      "1459    147500.0\n",
      "Name: SalePrice, Length: 1460, dtype: float64\n"
     ]
    },
    {
     "data": {
      "text/plain": [
       "Index(['MSSubClass', 'MSZoning', 'LotFrontage', 'LotArea', 'Street',\n",
       "       'LotShape', 'LandContour', 'Utilities', 'LotConfig', 'LandSlope',\n",
       "       'Neighborhood', 'Condition1', 'Condition2', 'BldgType', 'HouseStyle',\n",
       "       'OverallQual', 'OverallCond', 'YearBuilt', 'YearRemodAdd', 'RoofStyle',\n",
       "       'RoofMatl', 'Exterior1st', 'Exterior2nd', 'MasVnrType', 'MasVnrArea',\n",
       "       'ExterQual', 'ExterCond', 'Foundation', 'BsmtQual', 'BsmtCond',\n",
       "       'BsmtExposure', 'BsmtFinType1', 'BsmtFinSF1', 'BsmtFinType2',\n",
       "       'BsmtFinSF2', 'BsmtUnfSF', 'TotalBsmtSF', 'Heating', 'HeatingQC',\n",
       "       'CentralAir', 'Electrical', '1stFlrSF', '2ndFlrSF', 'LowQualFinSF',\n",
       "       'GrLivArea', 'BsmtFullBath', 'BsmtHalfBath', 'FullBath', 'HalfBath',\n",
       "       'BedroomAbvGr', 'KitchenAbvGr', 'KitchenQual', 'TotRmsAbvGrd',\n",
       "       'Functional', 'Fireplaces', 'FireplaceQu', 'GarageType', 'GarageYrBlt',\n",
       "       'GarageFinish', 'GarageCars', 'GarageArea', 'GarageQual', 'GarageCond',\n",
       "       'PavedDrive', 'WoodDeckSF', 'OpenPorchSF', 'EnclosedPorch', '3SsnPorch',\n",
       "       'ScreenPorch', 'PoolArea', 'Fence', 'MiscVal', 'MoSold', 'YrSold',\n",
       "       'SaleType', 'SaleCondition', 'MSClass', 'TotalOutsideSF',\n",
       "       'Spaciousness', 'LivLotRatio', 'PorchTypes', 'Bldg_1Fam', 'Bldg_2fmCon',\n",
       "       'Bldg_Duplex', 'Bldg_Twnhs', 'Bldg_TwnhsE', 'MedNhbdArea'],\n",
       "      dtype='object')"
      ]
     },
     "execution_count": 35,
     "metadata": {},
     "output_type": "execute_result"
    }
   ],
   "source": [
    "print(y)\n",
    "X.columns"
   ]
  },
  {
   "cell_type": "code",
   "execution_count": 36,
   "id": "ec43e142",
   "metadata": {
    "execution": {
     "iopub.execute_input": "2022-01-02T06:52:44.341799Z",
     "iopub.status.busy": "2022-01-02T06:52:44.341085Z",
     "iopub.status.idle": "2022-01-02T06:52:44.883007Z",
     "shell.execute_reply": "2022-01-02T06:52:44.884031Z",
     "shell.execute_reply.started": "2022-01-02T06:51:30.616498Z"
    },
    "papermill": {
     "duration": 0.633404,
     "end_time": "2022-01-02T06:52:44.884394",
     "exception": false,
     "start_time": "2022-01-02T06:52:44.250990",
     "status": "completed"
    },
    "tags": []
   },
   "outputs": [
    {
     "name": "stdout",
     "output_type": "stream",
     "text": [
      "Training acc : 0.9954921818109259\n",
      "Validation acc : 0.888183219440228\n"
     ]
    }
   ],
   "source": [
    "from xgboost import XGBRegressor\n",
    "model = XGBRegressor(learning_rate = 0.095, n_estimators = 100)\n",
    "\n",
    "\n",
    "model.fit(x_train, y_train)\n",
    "\n",
    "# Preprocessing of validation data, get predictions\n",
    "preds =  model.predict(x_valid)\n",
    "\n",
    "\n",
    "# Evaluate the model\n",
    "from sklearn.metrics import explained_variance_score\n",
    "acc_training = explained_variance_score(model.predict(x_train), y_train)\n",
    "acc = explained_variance_score(preds, y_valid)\n",
    "print(\"Training acc :\",acc_training)\n",
    "print (\"Validation acc :\",acc)"
   ]
  },
  {
   "cell_type": "code",
   "execution_count": 37,
   "id": "662ad2e9",
   "metadata": {
    "execution": {
     "iopub.execute_input": "2022-01-02T06:52:45.061336Z",
     "iopub.status.busy": "2022-01-02T06:52:45.060690Z",
     "iopub.status.idle": "2022-01-02T06:52:45.063041Z",
     "shell.execute_reply": "2022-01-02T06:52:45.063557Z",
     "shell.execute_reply.started": "2022-01-02T06:51:31.061276Z"
    },
    "papermill": {
     "duration": 0.093179,
     "end_time": "2022-01-02T06:52:45.063732",
     "exception": false,
     "start_time": "2022-01-02T06:52:44.970553",
     "status": "completed"
    },
    "tags": []
   },
   "outputs": [],
   "source": [
    "\n",
    "from sklearn.model_selection import cross_val_score\n",
    "\n",
    "def score_dataset(X, y, model=XGBRegressor(learning_rate = 0.095, n_estimators = 100)):\n",
    "    # Label encoding for categoricals\n",
    "    for colname in X.select_dtypes([\"category\", \"object\"]):\n",
    "        X[colname], _ = X[colname].factorize()\n",
    "    # Metric for Housing competition is RMSLE (Root Mean Squared Log Error)\n",
    "    score = cross_val_score(\n",
    "        model, X, y, cv=5, scoring=\"neg_mean_squared_log_error\",\n",
    "    )\n",
    "    score = -1 * score.mean()\n",
    "    score = np.sqrt(score)\n",
    "    return score"
   ]
  },
  {
   "cell_type": "code",
   "execution_count": 38,
   "id": "2ee05e4a",
   "metadata": {
    "execution": {
     "iopub.execute_input": "2022-01-02T06:52:45.251836Z",
     "iopub.status.busy": "2022-01-02T06:52:45.250947Z",
     "iopub.status.idle": "2022-01-02T06:52:47.347261Z",
     "shell.execute_reply": "2022-01-02T06:52:47.347838Z",
     "shell.execute_reply.started": "2022-01-02T06:51:31.069724Z"
    },
    "papermill": {
     "duration": 2.198286,
     "end_time": "2022-01-02T06:52:47.348065",
     "exception": false,
     "start_time": "2022-01-02T06:52:45.149779",
     "status": "completed"
    },
    "tags": []
   },
   "outputs": [
    {
     "data": {
      "text/plain": [
       "0.13015899512392054"
      ]
     },
     "execution_count": 38,
     "metadata": {},
     "output_type": "execute_result"
    }
   ],
   "source": [
    "score_dataset(X, y)"
   ]
  },
  {
   "cell_type": "code",
   "execution_count": 39,
   "id": "512c1102",
   "metadata": {
    "execution": {
     "iopub.execute_input": "2022-01-02T06:52:47.525036Z",
     "iopub.status.busy": "2022-01-02T06:52:47.524297Z",
     "iopub.status.idle": "2022-01-02T06:52:47.527136Z",
     "shell.execute_reply": "2022-01-02T06:52:47.527871Z",
     "shell.execute_reply.started": "2022-01-02T06:51:33.148381Z"
    },
    "papermill": {
     "duration": 0.09411,
     "end_time": "2022-01-02T06:52:47.528054",
     "exception": false,
     "start_time": "2022-01-02T06:52:47.433944",
     "status": "completed"
    },
    "tags": []
   },
   "outputs": [
    {
     "name": "stdout",
     "output_type": "stream",
     "text": [
      "MAE: 16129.495897545663\n"
     ]
    }
   ],
   "source": [
    "from sklearn.metrics import mean_absolute_error\n",
    "score = mean_absolute_error(preds, y_valid)\n",
    "print('MAE:', score)"
   ]
  },
  {
   "cell_type": "code",
   "execution_count": 40,
   "id": "c34d004b",
   "metadata": {
    "execution": {
     "iopub.execute_input": "2022-01-02T06:52:47.701873Z",
     "iopub.status.busy": "2022-01-02T06:52:47.701212Z",
     "iopub.status.idle": "2022-01-02T06:52:47.896122Z",
     "shell.execute_reply": "2022-01-02T06:52:47.895535Z",
     "shell.execute_reply.started": "2022-01-02T06:51:33.158791Z"
    },
    "papermill": {
     "duration": 0.282039,
     "end_time": "2022-01-02T06:52:47.896270",
     "exception": false,
     "start_time": "2022-01-02T06:52:47.614231",
     "status": "completed"
    },
    "tags": []
   },
   "outputs": [
    {
     "data": {
      "text/plain": [
       "Text(0, 0.5, 'Predicted')"
      ]
     },
     "execution_count": 40,
     "metadata": {},
     "output_type": "execute_result"
    },
    {
     "data": {
      "image/png": "[encoded data removed]",
      "text/plain": [
       "<Figure size 432x288 with 1 Axes>"
      ]
     },
     "metadata": {
      "needs_background": "light"
     },
     "output_type": "display_data"
    }
   ],
   "source": [
    "sns.scatterplot(y_valid, preds)\n",
    "plt.xlabel('Actual')\n",
    "plt.ylabel('Predicted')"
   ]
  },
  {
   "cell_type": "code",
   "execution_count": 41,
   "id": "3f110d45",
   "metadata": {
    "execution": {
     "iopub.execute_input": "2022-01-02T06:52:48.074080Z",
     "iopub.status.busy": "2022-01-02T06:52:48.073328Z",
     "iopub.status.idle": "2022-01-02T06:52:48.081597Z",
     "shell.execute_reply": "2022-01-02T06:52:48.082149Z",
     "shell.execute_reply.started": "2022-01-02T06:51:33.345944Z"
    },
    "papermill": {
     "duration": 0.09956,
     "end_time": "2022-01-02T06:52:48.082323",
     "exception": false,
     "start_time": "2022-01-02T06:52:47.982763",
     "status": "completed"
    },
    "tags": []
   },
   "outputs": [
    {
     "data": {
      "text/plain": [
       "Index(['MSSubClass', 'MSZoning', 'LotFrontage', 'LotArea', 'Street',\n",
       "       'LotShape', 'LandContour', 'Utilities', 'LotConfig', 'LandSlope',\n",
       "       'Neighborhood', 'Condition1', 'Condition2', 'BldgType', 'HouseStyle',\n",
       "       'OverallQual', 'OverallCond', 'YearBuilt', 'YearRemodAdd', 'RoofStyle',\n",
       "       'RoofMatl', 'Exterior1st', 'Exterior2nd', 'MasVnrType', 'MasVnrArea',\n",
       "       'ExterQual', 'ExterCond', 'Foundation', 'BsmtQual', 'BsmtCond',\n",
       "       'BsmtExposure', 'BsmtFinType1', 'BsmtFinSF1', 'BsmtFinType2',\n",
       "       'BsmtFinSF2', 'BsmtUnfSF', 'TotalBsmtSF', 'Heating', 'HeatingQC',\n",
       "       'CentralAir', 'Electrical', '1stFlrSF', '2ndFlrSF', 'LowQualFinSF',\n",
       "       'GrLivArea', 'BsmtFullBath', 'BsmtHalfBath', 'FullBath', 'HalfBath',\n",
       "       'BedroomAbvGr', 'KitchenAbvGr', 'KitchenQual', 'TotRmsAbvGrd',\n",
       "       'Functional', 'Fireplaces', 'FireplaceQu', 'GarageType', 'GarageYrBlt',\n",
       "       'GarageFinish', 'GarageCars', 'GarageArea', 'GarageQual', 'GarageCond',\n",
       "       'PavedDrive', 'WoodDeckSF', 'OpenPorchSF', 'EnclosedPorch', '3SsnPorch',\n",
       "       'ScreenPorch', 'PoolArea', 'Fence', 'MiscVal', 'MoSold', 'YrSold',\n",
       "       'SaleType', 'SaleCondition', 'MSClass', 'TotalOutsideSF',\n",
       "       'Spaciousness', 'LivLotRatio', 'PorchTypes', 'Bldg_1Fam', 'Bldg_2fmCon',\n",
       "       'Bldg_Duplex', 'Bldg_Twnhs', 'Bldg_TwnhsE', 'MedNhbdArea'],\n",
       "      dtype='object')"
      ]
     },
     "execution_count": 41,
     "metadata": {},
     "output_type": "execute_result"
    }
   ],
   "source": [
    "test.drop('SalePrice', axis = 1, inplace = True)\n",
    "test.columns"
   ]
  },
  {
   "cell_type": "code",
   "execution_count": 42,
   "id": "0231fbf5",
   "metadata": {
    "execution": {
     "iopub.execute_input": "2022-01-02T06:52:48.261092Z",
     "iopub.status.busy": "2022-01-02T06:52:48.260434Z",
     "iopub.status.idle": "2022-01-02T06:52:48.270677Z",
     "shell.execute_reply": "2022-01-02T06:52:48.271187Z",
     "shell.execute_reply.started": "2022-01-02T06:51:33.357105Z"
    },
    "papermill": {
     "duration": 0.101555,
     "end_time": "2022-01-02T06:52:48.271403",
     "exception": false,
     "start_time": "2022-01-02T06:52:48.169848",
     "status": "completed"
    },
    "tags": []
   },
   "outputs": [],
   "source": [
    "preds_test = model.predict(test)"
   ]
  },
  {
   "cell_type": "code",
   "execution_count": 43,
   "id": "ae1cbdf3",
   "metadata": {
    "execution": {
     "iopub.execute_input": "2022-01-02T06:52:48.452188Z",
     "iopub.status.busy": "2022-01-02T06:52:48.451566Z",
     "iopub.status.idle": "2022-01-02T06:52:48.453440Z",
     "shell.execute_reply": "2022-01-02T06:52:48.453945Z",
     "shell.execute_reply.started": "2022-01-02T06:51:33.376095Z"
    },
    "papermill": {
     "duration": 0.094165,
     "end_time": "2022-01-02T06:52:48.454110",
     "exception": false,
     "start_time": "2022-01-02T06:52:48.359945",
     "status": "completed"
    },
    "tags": []
   },
   "outputs": [],
   "source": [
    "\n",
    "output = pd.DataFrame({'Id': pd.Series(np.arange(1461,2920,1)),\n",
    "                       'SalePrice': preds_test})\n"
   ]
  },
  {
   "cell_type": "code",
   "execution_count": 44,
   "id": "39596b89",
   "metadata": {
    "execution": {
     "iopub.execute_input": "2022-01-02T06:52:48.631275Z",
     "iopub.status.busy": "2022-01-02T06:52:48.630284Z",
     "iopub.status.idle": "2022-01-02T06:52:48.638225Z",
     "shell.execute_reply": "2022-01-02T06:52:48.638832Z",
     "shell.execute_reply.started": "2022-01-02T06:51:33.384946Z"
    },
    "papermill": {
     "duration": 0.097974,
     "end_time": "2022-01-02T06:52:48.639003",
     "exception": false,
     "start_time": "2022-01-02T06:52:48.541029",
     "status": "completed"
    },
    "tags": []
   },
   "outputs": [
    {
     "data": {
      "text/plain": [
       "0       1461\n",
       "1       1462\n",
       "2       1463\n",
       "3       1464\n",
       "4       1465\n",
       "        ... \n",
       "1454    2915\n",
       "1455    2916\n",
       "1456    2917\n",
       "1457    2918\n",
       "1458    2919\n",
       "Length: 1459, dtype: int64"
      ]
     },
     "execution_count": 44,
     "metadata": {},
     "output_type": "execute_result"
    }
   ],
   "source": [
    "pd.Series(np.arange(1461,2920,1))"
   ]
  },
  {
   "cell_type": "code",
   "execution_count": 45,
   "id": "5793a20b",
   "metadata": {
    "execution": {
     "iopub.execute_input": "2022-01-02T06:52:48.817531Z",
     "iopub.status.busy": "2022-01-02T06:52:48.816848Z",
     "iopub.status.idle": "2022-01-02T06:52:48.825726Z",
     "shell.execute_reply": "2022-01-02T06:52:48.826226Z",
     "shell.execute_reply.started": "2022-01-02T06:51:33.397978Z"
    },
    "papermill": {
     "duration": 0.100586,
     "end_time": "2022-01-02T06:52:48.826423",
     "exception": false,
     "start_time": "2022-01-02T06:52:48.725837",
     "status": "completed"
    },
    "tags": []
   },
   "outputs": [],
   "source": [
    "output.to_csv('submission.csv', index=False)"
   ]
  },
  {
   "cell_type": "code",
   "execution_count": 46,
   "id": "31e180c0",
   "metadata": {
    "execution": {
     "iopub.execute_input": "2022-01-02T06:52:49.003588Z",
     "iopub.status.busy": "2022-01-02T06:52:49.002938Z",
     "iopub.status.idle": "2022-01-02T06:52:49.014830Z",
     "shell.execute_reply": "2022-01-02T06:52:49.015340Z",
     "shell.execute_reply.started": "2022-01-02T06:51:33.415566Z"
    },
    "papermill": {
     "duration": 0.10245,
     "end_time": "2022-01-02T06:52:49.015530",
     "exception": false,
     "start_time": "2022-01-02T06:52:48.913080",
     "status": "completed"
    },
    "tags": []
   },
   "outputs": [
    {
     "data": {
      "text/html": [
       "<div>\n",
       "<style scoped>\n",
       "    .dataframe tbody tr th:only-of-type {\n",
       "        vertical-align: middle;\n",
       "    }\n",
       "\n",
       "    .dataframe tbody tr th {\n",
       "        vertical-align: top;\n",
       "    }\n",
       "\n",
       "    .dataframe thead th {\n",
       "        text-align: right;\n",
       "    }\n",
       "</style>\n",
       "<table border=\"1\" class=\"dataframe\">\n",
       "  <thead>\n",
       "    <tr style=\"text-align: right;\">\n",
       "      <th></th>\n",
       "      <th>Id</th>\n",
       "      <th>SalePrice</th>\n",
       "    </tr>\n",
       "  </thead>\n",
       "  <tbody>\n",
       "    <tr>\n",
       "      <th>0</th>\n",
       "      <td>1461</td>\n",
       "      <td>127792.234375</td>\n",
       "    </tr>\n",
       "    <tr>\n",
       "      <th>1</th>\n",
       "      <td>1462</td>\n",
       "      <td>151034.437500</td>\n",
       "    </tr>\n",
       "    <tr>\n",
       "      <th>2</th>\n",
       "      <td>1463</td>\n",
       "      <td>193185.718750</td>\n",
       "    </tr>\n",
       "    <tr>\n",
       "      <th>3</th>\n",
       "      <td>1464</td>\n",
       "      <td>188510.578125</td>\n",
       "    </tr>\n",
       "    <tr>\n",
       "      <th>4</th>\n",
       "      <td>1465</td>\n",
       "      <td>185247.390625</td>\n",
       "    </tr>\n",
       "    <tr>\n",
       "      <th>...</th>\n",
       "      <td>...</td>\n",
       "      <td>...</td>\n",
       "    </tr>\n",
       "    <tr>\n",
       "      <th>1454</th>\n",
       "      <td>2915</td>\n",
       "      <td>81186.601562</td>\n",
       "    </tr>\n",
       "    <tr>\n",
       "      <th>1455</th>\n",
       "      <td>2916</td>\n",
       "      <td>85361.757812</td>\n",
       "    </tr>\n",
       "    <tr>\n",
       "      <th>1456</th>\n",
       "      <td>2917</td>\n",
       "      <td>164111.390625</td>\n",
       "    </tr>\n",
       "    <tr>\n",
       "      <th>1457</th>\n",
       "      <td>2918</td>\n",
       "      <td>118638.664062</td>\n",
       "    </tr>\n",
       "    <tr>\n",
       "      <th>1458</th>\n",
       "      <td>2919</td>\n",
       "      <td>211921.125000</td>\n",
       "    </tr>\n",
       "  </tbody>\n",
       "</table>\n",
       "<p>1459 rows × 2 columns</p>\n",
       "</div>"
      ],
      "text/plain": [
       "        Id      SalePrice\n",
       "0     1461  127792.234375\n",
       "1     1462  151034.437500\n",
       "2     1463  193185.718750\n",
       "3     1464  188510.578125\n",
       "4     1465  185247.390625\n",
       "...    ...            ...\n",
       "1454  2915   81186.601562\n",
       "1455  2916   85361.757812\n",
       "1456  2917  164111.390625\n",
       "1457  2918  118638.664062\n",
       "1458  2919  211921.125000\n",
       "\n",
       "[1459 rows x 2 columns]"
      ]
     },
     "execution_count": 46,
     "metadata": {},
     "output_type": "execute_result"
    }
   ],
   "source": [
    "output"
   ]
  },
  {
   "cell_type": "code",
   "execution_count": 47,
   "id": "acf51268",
   "metadata": {
    "execution": {
     "iopub.execute_input": "2022-01-02T06:52:49.196340Z",
     "iopub.status.busy": "2022-01-02T06:52:49.195723Z",
     "iopub.status.idle": "2022-01-02T06:52:49.216760Z",
     "shell.execute_reply": "2022-01-02T06:52:49.217357Z",
     "shell.execute_reply.started": "2022-01-02T06:51:33.431030Z"
    },
    "papermill": {
     "duration": 0.11344,
     "end_time": "2022-01-02T06:52:49.217544",
     "exception": false,
     "start_time": "2022-01-02T06:52:49.104104",
     "status": "completed"
    },
    "tags": []
   },
   "outputs": [
    {
     "data": {
      "text/html": [
       "<div>\n",
       "<style scoped>\n",
       "    .dataframe tbody tr th:only-of-type {\n",
       "        vertical-align: middle;\n",
       "    }\n",
       "\n",
       "    .dataframe tbody tr th {\n",
       "        vertical-align: top;\n",
       "    }\n",
       "\n",
       "    .dataframe thead th {\n",
       "        text-align: right;\n",
       "    }\n",
       "</style>\n",
       "<table border=\"1\" class=\"dataframe\">\n",
       "  <thead>\n",
       "    <tr style=\"text-align: right;\">\n",
       "      <th></th>\n",
       "      <th>Id</th>\n",
       "      <th>SalePrice</th>\n",
       "    </tr>\n",
       "  </thead>\n",
       "  <tbody>\n",
       "    <tr>\n",
       "      <th>0</th>\n",
       "      <td>1461</td>\n",
       "      <td>169277.052498</td>\n",
       "    </tr>\n",
       "    <tr>\n",
       "      <th>1</th>\n",
       "      <td>1462</td>\n",
       "      <td>187758.393989</td>\n",
       "    </tr>\n",
       "    <tr>\n",
       "      <th>2</th>\n",
       "      <td>1463</td>\n",
       "      <td>183583.683570</td>\n",
       "    </tr>\n",
       "    <tr>\n",
       "      <th>3</th>\n",
       "      <td>1464</td>\n",
       "      <td>179317.477511</td>\n",
       "    </tr>\n",
       "    <tr>\n",
       "      <th>4</th>\n",
       "      <td>1465</td>\n",
       "      <td>150730.079977</td>\n",
       "    </tr>\n",
       "    <tr>\n",
       "      <th>...</th>\n",
       "      <td>...</td>\n",
       "      <td>...</td>\n",
       "    </tr>\n",
       "    <tr>\n",
       "      <th>1454</th>\n",
       "      <td>2915</td>\n",
       "      <td>167081.220949</td>\n",
       "    </tr>\n",
       "    <tr>\n",
       "      <th>1455</th>\n",
       "      <td>2916</td>\n",
       "      <td>164788.778231</td>\n",
       "    </tr>\n",
       "    <tr>\n",
       "      <th>1456</th>\n",
       "      <td>2917</td>\n",
       "      <td>219222.423400</td>\n",
       "    </tr>\n",
       "    <tr>\n",
       "      <th>1457</th>\n",
       "      <td>2918</td>\n",
       "      <td>184924.279659</td>\n",
       "    </tr>\n",
       "    <tr>\n",
       "      <th>1458</th>\n",
       "      <td>2919</td>\n",
       "      <td>187741.866657</td>\n",
       "    </tr>\n",
       "  </tbody>\n",
       "</table>\n",
       "<p>1459 rows × 2 columns</p>\n",
       "</div>"
      ],
      "text/plain": [
       "        Id      SalePrice\n",
       "0     1461  169277.052498\n",
       "1     1462  187758.393989\n",
       "2     1463  183583.683570\n",
       "3     1464  179317.477511\n",
       "4     1465  150730.079977\n",
       "...    ...            ...\n",
       "1454  2915  167081.220949\n",
       "1455  2916  164788.778231\n",
       "1456  2917  219222.423400\n",
       "1457  2918  184924.279659\n",
       "1458  2919  187741.866657\n",
       "\n",
       "[1459 rows x 2 columns]"
      ]
     },
     "execution_count": 47,
     "metadata": {},
     "output_type": "execute_result"
    }
   ],
   "source": [
    "sample = pd.read_csv('../input/house-prices-advanced-regression-techniques/sample_submission.csv')\n",
    "sample"
   ]
  },
  {
   "cell_type": "code",
   "execution_count": null,
   "id": "9c5e6549",
   "metadata": {
    "papermill": {
     "duration": 0.087339,
     "end_time": "2022-01-02T06:52:49.393912",
     "exception": false,
     "start_time": "2022-01-02T06:52:49.306573",
     "status": "completed"
    },
    "tags": []
   },
   "outputs": [],
   "source": []
  }
 ],
 "metadata": {
  "kernelspec": {
   "display_name": "Python 3",
   "language": "python",
   "name": "python3"
  },
  "language_info": {
   "codemirror_mode": {
    "name": "ipython",
    "version": 3
   },
   "file_extension": ".py",
   "mimetype": "text/x-python",
   "name": "python",
   "nbconvert_exporter": "python",
   "pygments_lexer": "ipython3",
   "version": "3.7.10"
  },
  "papermill": {
   "default_parameters": {},
   "duration": 42.889263,
   "end_time": "2022-01-02T06:52:51.238306",
   "environment_variables": {},
   "exception": null,
   "input_path": "__notebook__.ipynb",
   "output_path": "__notebook__.ipynb",
   "parameters": {},
   "start_time": "2022-01-02T06:52:08.349043",
   "version": "2.3.3"
  }
 },
 "nbformat": 4,
 "nbformat_minor": 5
}
