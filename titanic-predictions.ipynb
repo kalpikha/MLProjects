{
 "cells": [
  {
   "cell_type": "code",
   "execution_count": 1,
   "id": "e1bc45a3",
   "metadata": {
    "_cell_guid": "b1076dfc-b9ad-4769-8c92-a6c4dae69d19",
    "_uuid": "8f2839f25d086af736a60e9eeb907d3b93b6e0e5",
    "execution": {
     "iopub.execute_input": "2021-10-13T08:27:38.543604Z",
     "iopub.status.busy": "2021-10-13T08:27:38.542694Z",
     "iopub.status.idle": "2021-10-13T08:27:38.550202Z",
     "shell.execute_reply": "2021-10-13T08:27:38.549292Z",
     "shell.execute_reply.started": "2021-10-13T08:26:50.952175Z"
    },
    "papermill": {
     "duration": 0.105629,
     "end_time": "2021-10-13T08:27:38.550440",
     "exception": false,
     "start_time": "2021-10-13T08:27:38.444811",
     "status": "completed"
    },
    "tags": []
   },
   "outputs": [
    {
     "name": "stdout",
     "output_type": "stream",
     "text": [
      "/kaggle/input/titanic/train.csv\n",
      "/kaggle/input/titanic/test.csv\n",
      "/kaggle/input/titanic/gender_submission.csv\n"
     ]
    }
   ],
   "source": [
    "# This Python 3 environment comes with many helpful analytics libraries installed\n",
    "# It is defined by the kaggle/python Docker image: https://github.com/kaggle/docker-python\n",
    "# For example, here's several helpful packages to load\n",
    "\n",
    "import numpy as np # linear algebra\n",
    "import pandas as pd # data processing, CSV file I/O (e.g. pd.read_csv)\n",
    "\n",
    "# Input data files are available in the read-only \"../input/\" directory\n",
    "# For example, running this (by clicking run or pressing Shift+Enter) will list all files under the input directory\n",
    "\n",
    "import os\n",
    "for dirname, _, filenames in os.walk('/kaggle/input'):\n",
    "    for filename in filenames:\n",
    "        print(os.path.join(dirname, filename))\n",
    "\n",
    "# You can write up to 20GB to the current directory (/kaggle/working/) that gets preserved as output when you create a version using \"Save & Run All\" \n",
    "# You can also write temporary files to /kaggle/temp/, but they won't be saved outside of the current session"
   ]
  },
  {
   "cell_type": "code",
   "execution_count": 2,
   "id": "378e885b",
   "metadata": {
    "execution": {
     "iopub.execute_input": "2021-10-13T08:27:38.718980Z",
     "iopub.status.busy": "2021-10-13T08:27:38.718297Z",
     "iopub.status.idle": "2021-10-13T08:27:38.720873Z",
     "shell.execute_reply": "2021-10-13T08:27:38.720217Z",
     "shell.execute_reply.started": "2021-10-13T08:26:50.973534Z"
    },
    "papermill": {
     "duration": 0.087837,
     "end_time": "2021-10-13T08:27:38.721021",
     "exception": false,
     "start_time": "2021-10-13T08:27:38.633184",
     "status": "completed"
    },
    "tags": []
   },
   "outputs": [],
   "source": [
    "import warnings\n",
    "warnings.filterwarnings(\"ignore\")"
   ]
  },
  {
   "cell_type": "code",
   "execution_count": 3,
   "id": "3393af6b",
   "metadata": {
    "execution": {
     "iopub.execute_input": "2021-10-13T08:27:38.891611Z",
     "iopub.status.busy": "2021-10-13T08:27:38.890611Z",
     "iopub.status.idle": "2021-10-13T08:27:38.911432Z",
     "shell.execute_reply": "2021-10-13T08:27:38.910652Z",
     "shell.execute_reply.started": "2021-10-13T08:26:50.980936Z"
    },
    "papermill": {
     "duration": 0.108329,
     "end_time": "2021-10-13T08:27:38.911607",
     "exception": false,
     "start_time": "2021-10-13T08:27:38.803278",
     "status": "completed"
    },
    "tags": []
   },
   "outputs": [],
   "source": [
    "data = pd.read_csv('../input/titanic/train.csv')"
   ]
  },
  {
   "cell_type": "code",
   "execution_count": 4,
   "id": "31a08cc6",
   "metadata": {
    "execution": {
     "iopub.execute_input": "2021-10-13T08:27:39.083140Z",
     "iopub.status.busy": "2021-10-13T08:27:39.082063Z",
     "iopub.status.idle": "2021-10-13T08:27:39.103407Z",
     "shell.execute_reply": "2021-10-13T08:27:39.102609Z",
     "shell.execute_reply.started": "2021-10-13T08:26:51.006008Z"
    },
    "papermill": {
     "duration": 0.111626,
     "end_time": "2021-10-13T08:27:39.103614",
     "exception": false,
     "start_time": "2021-10-13T08:27:38.991988",
     "status": "completed"
    },
    "tags": []
   },
   "outputs": [
    {
     "data": {
      "text/html": [
       "<div>\n",
       "<style scoped>\n",
       "    .dataframe tbody tr th:only-of-type {\n",
       "        vertical-align: middle;\n",
       "    }\n",
       "\n",
       "    .dataframe tbody tr th {\n",
       "        vertical-align: top;\n",
       "    }\n",
       "\n",
       "    .dataframe thead th {\n",
       "        text-align: right;\n",
       "    }\n",
       "</style>\n",
       "<table border=\"1\" class=\"dataframe\">\n",
       "  <thead>\n",
       "    <tr style=\"text-align: right;\">\n",
       "      <th></th>\n",
       "      <th>PassengerId</th>\n",
       "      <th>Survived</th>\n",
       "      <th>Pclass</th>\n",
       "      <th>Name</th>\n",
       "      <th>Sex</th>\n",
       "      <th>Age</th>\n",
       "      <th>SibSp</th>\n",
       "      <th>Parch</th>\n",
       "      <th>Ticket</th>\n",
       "      <th>Fare</th>\n",
       "      <th>Cabin</th>\n",
       "      <th>Embarked</th>\n",
       "    </tr>\n",
       "  </thead>\n",
       "  <tbody>\n",
       "    <tr>\n",
       "      <th>0</th>\n",
       "      <td>1</td>\n",
       "      <td>0</td>\n",
       "      <td>3</td>\n",
       "      <td>Braund, Mr. Owen Harris</td>\n",
       "      <td>male</td>\n",
       "      <td>22.0</td>\n",
       "      <td>1</td>\n",
       "      <td>0</td>\n",
       "      <td>A/5 21171</td>\n",
       "      <td>7.2500</td>\n",
       "      <td>NaN</td>\n",
       "      <td>S</td>\n",
       "    </tr>\n",
       "    <tr>\n",
       "      <th>1</th>\n",
       "      <td>2</td>\n",
       "      <td>1</td>\n",
       "      <td>1</td>\n",
       "      <td>Cumings, Mrs. John Bradley (Florence Briggs Th...</td>\n",
       "      <td>female</td>\n",
       "      <td>38.0</td>\n",
       "      <td>1</td>\n",
       "      <td>0</td>\n",
       "      <td>PC 17599</td>\n",
       "      <td>71.2833</td>\n",
       "      <td>C85</td>\n",
       "      <td>C</td>\n",
       "    </tr>\n",
       "    <tr>\n",
       "      <th>2</th>\n",
       "      <td>3</td>\n",
       "      <td>1</td>\n",
       "      <td>3</td>\n",
       "      <td>Heikkinen, Miss. Laina</td>\n",
       "      <td>female</td>\n",
       "      <td>26.0</td>\n",
       "      <td>0</td>\n",
       "      <td>0</td>\n",
       "      <td>STON/O2. 3101282</td>\n",
       "      <td>7.9250</td>\n",
       "      <td>NaN</td>\n",
       "      <td>S</td>\n",
       "    </tr>\n",
       "    <tr>\n",
       "      <th>3</th>\n",
       "      <td>4</td>\n",
       "      <td>1</td>\n",
       "      <td>1</td>\n",
       "      <td>Futrelle, Mrs. Jacques Heath (Lily May Peel)</td>\n",
       "      <td>female</td>\n",
       "      <td>35.0</td>\n",
       "      <td>1</td>\n",
       "      <td>0</td>\n",
       "      <td>113803</td>\n",
       "      <td>53.1000</td>\n",
       "      <td>C123</td>\n",
       "      <td>S</td>\n",
       "    </tr>\n",
       "    <tr>\n",
       "      <th>4</th>\n",
       "      <td>5</td>\n",
       "      <td>0</td>\n",
       "      <td>3</td>\n",
       "      <td>Allen, Mr. William Henry</td>\n",
       "      <td>male</td>\n",
       "      <td>35.0</td>\n",
       "      <td>0</td>\n",
       "      <td>0</td>\n",
       "      <td>373450</td>\n",
       "      <td>8.0500</td>\n",
       "      <td>NaN</td>\n",
       "      <td>S</td>\n",
       "    </tr>\n",
       "  </tbody>\n",
       "</table>\n",
       "</div>"
      ],
      "text/plain": [
       "   PassengerId  Survived  Pclass  \\\n",
       "0            1         0       3   \n",
       "1            2         1       1   \n",
       "2            3         1       3   \n",
       "3            4         1       1   \n",
       "4            5         0       3   \n",
       "\n",
       "                                                Name     Sex   Age  SibSp  \\\n",
       "0                            Braund, Mr. Owen Harris    male  22.0      1   \n",
       "1  Cumings, Mrs. John Bradley (Florence Briggs Th...  female  38.0      1   \n",
       "2                             Heikkinen, Miss. Laina  female  26.0      0   \n",
       "3       Futrelle, Mrs. Jacques Heath (Lily May Peel)  female  35.0      1   \n",
       "4                           Allen, Mr. William Henry    male  35.0      0   \n",
       "\n",
       "   Parch            Ticket     Fare Cabin Embarked  \n",
       "0      0         A/5 21171   7.2500   NaN        S  \n",
       "1      0          PC 17599  71.2833   C85        C  \n",
       "2      0  STON/O2. 3101282   7.9250   NaN        S  \n",
       "3      0            113803  53.1000  C123        S  \n",
       "4      0            373450   8.0500   NaN        S  "
      ]
     },
     "execution_count": 4,
     "metadata": {},
     "output_type": "execute_result"
    }
   ],
   "source": [
    "data.head()"
   ]
  },
  {
   "cell_type": "markdown",
   "id": "edd02d15",
   "metadata": {
    "papermill": {
     "duration": 0.086047,
     "end_time": "2021-10-13T08:27:39.291399",
     "exception": false,
     "start_time": "2021-10-13T08:27:39.205352",
     "status": "completed"
    },
    "tags": []
   },
   "source": [
    "**UNIVARIATE ANALYSIS**\n"
   ]
  },
  {
   "cell_type": "code",
   "execution_count": 5,
   "id": "d1f8fae1",
   "metadata": {
    "execution": {
     "iopub.execute_input": "2021-10-13T08:27:39.458848Z",
     "iopub.status.busy": "2021-10-13T08:27:39.458174Z",
     "iopub.status.idle": "2021-10-13T08:27:40.282049Z",
     "shell.execute_reply": "2021-10-13T08:27:40.281437Z",
     "shell.execute_reply.started": "2021-10-13T08:26:51.031261Z"
    },
    "papermill": {
     "duration": 0.910948,
     "end_time": "2021-10-13T08:27:40.282211",
     "exception": false,
     "start_time": "2021-10-13T08:27:39.371263",
     "status": "completed"
    },
    "tags": []
   },
   "outputs": [],
   "source": [
    "import matplotlib.pyplot as plt\n",
    "%matplotlib inline\n",
    "import seaborn as sns\n",
    "sns.set()"
   ]
  },
  {
   "cell_type": "markdown",
   "id": "76e15afd",
   "metadata": {
    "papermill": {
     "duration": 0.07975,
     "end_time": "2021-10-13T08:27:40.442035",
     "exception": false,
     "start_time": "2021-10-13T08:27:40.362285",
     "status": "completed"
    },
    "tags": []
   },
   "source": [
    "**1. Pclass**"
   ]
  },
  {
   "cell_type": "code",
   "execution_count": 6,
   "id": "2712fe84",
   "metadata": {
    "execution": {
     "iopub.execute_input": "2021-10-13T08:27:40.609521Z",
     "iopub.status.busy": "2021-10-13T08:27:40.608867Z",
     "iopub.status.idle": "2021-10-13T08:27:40.821045Z",
     "shell.execute_reply": "2021-10-13T08:27:40.821580Z",
     "shell.execute_reply.started": "2021-10-13T08:26:51.420695Z"
    },
    "papermill": {
     "duration": 0.30025,
     "end_time": "2021-10-13T08:27:40.821875",
     "exception": false,
     "start_time": "2021-10-13T08:27:40.521625",
     "status": "completed"
    },
    "tags": []
   },
   "outputs": [
    {
     "data": {
      "text/plain": [
       "<AxesSubplot:xlabel='Pclass', ylabel='count'>"
      ]
     },
     "execution_count": 6,
     "metadata": {},
     "output_type": "execute_result"
    },
    {
     "data": {
      "image/png": "[encoded data removed]",
      "text/plain": [
       "<Figure size 432x288 with 1 Axes>"
      ]
     },
     "metadata": {},
     "output_type": "display_data"
    }
   ],
   "source": [
    "sns.countplot(x = data.Pclass)"
   ]
  },
  {
   "cell_type": "markdown",
   "id": "a4ead4cf",
   "metadata": {
    "papermill": {
     "duration": 0.081919,
     "end_time": "2021-10-13T08:27:40.986710",
     "exception": false,
     "start_time": "2021-10-13T08:27:40.904791",
     "status": "completed"
    },
    "tags": []
   },
   "source": [
    "**2. Sex**"
   ]
  },
  {
   "cell_type": "code",
   "execution_count": 7,
   "id": "cdc68db2",
   "metadata": {
    "execution": {
     "iopub.execute_input": "2021-10-13T08:27:41.153785Z",
     "iopub.status.busy": "2021-10-13T08:27:41.152812Z",
     "iopub.status.idle": "2021-10-13T08:27:41.309289Z",
     "shell.execute_reply": "2021-10-13T08:27:41.309839Z",
     "shell.execute_reply.started": "2021-10-13T08:26:51.609113Z"
    },
    "papermill": {
     "duration": 0.240732,
     "end_time": "2021-10-13T08:27:41.310019",
     "exception": false,
     "start_time": "2021-10-13T08:27:41.069287",
     "status": "completed"
    },
    "tags": []
   },
   "outputs": [
    {
     "data": {
      "text/plain": [
       "<AxesSubplot:xlabel='Sex', ylabel='count'>"
      ]
     },
     "execution_count": 7,
     "metadata": {},
     "output_type": "execute_result"
    },
    {
     "data": {
      "image/png": "[encoded data removed]",
      "text/plain": [
       "<Figure size 432x288 with 1 Axes>"
      ]
     },
     "metadata": {},
     "output_type": "display_data"
    }
   ],
   "source": [
    "sns.countplot(x = data.Sex)"
   ]
  },
  {
   "cell_type": "markdown",
   "id": "78756179",
   "metadata": {
    "papermill": {
     "duration": 0.080758,
     "end_time": "2021-10-13T08:27:41.472326",
     "exception": false,
     "start_time": "2021-10-13T08:27:41.391568",
     "status": "completed"
    },
    "tags": []
   },
   "source": [
    "**3. Age**"
   ]
  },
  {
   "cell_type": "code",
   "execution_count": 8,
   "id": "6b7a90e8",
   "metadata": {
    "execution": {
     "iopub.execute_input": "2021-10-13T08:27:41.638942Z",
     "iopub.status.busy": "2021-10-13T08:27:41.637946Z",
     "iopub.status.idle": "2021-10-13T08:27:41.646964Z",
     "shell.execute_reply": "2021-10-13T08:27:41.647634Z",
     "shell.execute_reply.started": "2021-10-13T08:26:51.775300Z"
    },
    "papermill": {
     "duration": 0.094518,
     "end_time": "2021-10-13T08:27:41.647864",
     "exception": false,
     "start_time": "2021-10-13T08:27:41.553346",
     "status": "completed"
    },
    "tags": []
   },
   "outputs": [
    {
     "data": {
      "text/plain": [
       "count    714.000000\n",
       "mean      29.699118\n",
       "std       14.526497\n",
       "min        0.420000\n",
       "25%       20.125000\n",
       "50%       28.000000\n",
       "75%       38.000000\n",
       "max       80.000000\n",
       "Name: Age, dtype: float64"
      ]
     },
     "execution_count": 8,
     "metadata": {},
     "output_type": "execute_result"
    }
   ],
   "source": [
    "data.Age.describe()"
   ]
  },
  {
   "cell_type": "code",
   "execution_count": 9,
   "id": "eba31547",
   "metadata": {
    "execution": {
     "iopub.execute_input": "2021-10-13T08:27:41.816003Z",
     "iopub.status.busy": "2021-10-13T08:27:41.815022Z",
     "iopub.status.idle": "2021-10-13T08:27:42.276620Z",
     "shell.execute_reply": "2021-10-13T08:27:42.276030Z",
     "shell.execute_reply.started": "2021-10-13T08:26:51.788761Z"
    },
    "papermill": {
     "duration": 0.546762,
     "end_time": "2021-10-13T08:27:42.276782",
     "exception": false,
     "start_time": "2021-10-13T08:27:41.730020",
     "status": "completed"
    },
    "tags": []
   },
   "outputs": [
    {
     "data": {
      "text/plain": [
       "<AxesSubplot:xlabel='Age', ylabel='Density'>"
      ]
     },
     "execution_count": 9,
     "metadata": {},
     "output_type": "execute_result"
    },
    {
     "data": {
      "image/png": "[encoded data removed]",
      "text/plain": [
       "<Figure size 432x288 with 1 Axes>"
      ]
     },
     "metadata": {},
     "output_type": "display_data"
    }
   ],
   "source": [
    "sns.distplot(data.Age, bins = 100)"
   ]
  },
  {
   "cell_type": "markdown",
   "id": "38d2e722",
   "metadata": {
    "papermill": {
     "duration": 0.082403,
     "end_time": "2021-10-13T08:27:42.442138",
     "exception": false,
     "start_time": "2021-10-13T08:27:42.359735",
     "status": "completed"
    },
    "tags": []
   },
   "source": [
    "**4. SibSp**"
   ]
  },
  {
   "cell_type": "code",
   "execution_count": 10,
   "id": "7084e62f",
   "metadata": {
    "execution": {
     "iopub.execute_input": "2021-10-13T08:27:42.614696Z",
     "iopub.status.busy": "2021-10-13T08:27:42.613625Z",
     "iopub.status.idle": "2021-10-13T08:27:42.822535Z",
     "shell.execute_reply": "2021-10-13T08:27:42.823019Z",
     "shell.execute_reply.started": "2021-10-13T08:26:52.265757Z"
    },
    "papermill": {
     "duration": 0.297933,
     "end_time": "2021-10-13T08:27:42.823212",
     "exception": false,
     "start_time": "2021-10-13T08:27:42.525279",
     "status": "completed"
    },
    "tags": []
   },
   "outputs": [
    {
     "data": {
      "text/plain": [
       "<AxesSubplot:xlabel='SibSp', ylabel='count'>"
      ]
     },
     "execution_count": 10,
     "metadata": {},
     "output_type": "execute_result"
    },
    {
     "data": {
      "image/png": "[encoded data removed]",
      "text/plain": [
       "<Figure size 432x288 with 1 Axes>"
      ]
     },
     "metadata": {},
     "output_type": "display_data"
    }
   ],
   "source": [
    "sns.countplot(data.SibSp)"
   ]
  },
  {
   "cell_type": "markdown",
   "id": "fb1f7978",
   "metadata": {
    "papermill": {
     "duration": 0.085132,
     "end_time": "2021-10-13T08:27:42.995127",
     "exception": false,
     "start_time": "2021-10-13T08:27:42.909995",
     "status": "completed"
    },
    "tags": []
   },
   "source": [
    "**5. Parch**"
   ]
  },
  {
   "cell_type": "code",
   "execution_count": 11,
   "id": "4cd3f2ee",
   "metadata": {
    "execution": {
     "iopub.execute_input": "2021-10-13T08:27:43.170027Z",
     "iopub.status.busy": "2021-10-13T08:27:43.169104Z",
     "iopub.status.idle": "2021-10-13T08:27:43.385124Z",
     "shell.execute_reply": "2021-10-13T08:27:43.385594Z",
     "shell.execute_reply.started": "2021-10-13T08:26:52.501160Z"
    },
    "papermill": {
     "duration": 0.304675,
     "end_time": "2021-10-13T08:27:43.385806",
     "exception": false,
     "start_time": "2021-10-13T08:27:43.081131",
     "status": "completed"
    },
    "tags": []
   },
   "outputs": [
    {
     "data": {
      "text/plain": [
       "<AxesSubplot:xlabel='Parch', ylabel='count'>"
      ]
     },
     "execution_count": 11,
     "metadata": {},
     "output_type": "execute_result"
    },
    {
     "data": {
      "image/png": "[encoded data removed]",
      "text/plain": [
       "<Figure size 432x288 with 1 Axes>"
      ]
     },
     "metadata": {},
     "output_type": "display_data"
    }
   ],
   "source": [
    "sns.countplot(data.Parch)"
   ]
  },
  {
   "cell_type": "markdown",
   "id": "131d4cfd",
   "metadata": {
    "papermill": {
     "duration": 0.085459,
     "end_time": "2021-10-13T08:27:43.556722",
     "exception": false,
     "start_time": "2021-10-13T08:27:43.471263",
     "status": "completed"
    },
    "tags": []
   },
   "source": [
    "**6. Fare**"
   ]
  },
  {
   "cell_type": "code",
   "execution_count": 12,
   "id": "4ed29e4e",
   "metadata": {
    "execution": {
     "iopub.execute_input": "2021-10-13T08:27:43.739452Z",
     "iopub.status.busy": "2021-10-13T08:27:43.738634Z",
     "iopub.status.idle": "2021-10-13T08:27:43.742313Z",
     "shell.execute_reply": "2021-10-13T08:27:43.741701Z",
     "shell.execute_reply.started": "2021-10-13T08:26:52.745470Z"
    },
    "papermill": {
     "duration": 0.098717,
     "end_time": "2021-10-13T08:27:43.742452",
     "exception": false,
     "start_time": "2021-10-13T08:27:43.643735",
     "status": "completed"
    },
    "tags": []
   },
   "outputs": [
    {
     "data": {
      "text/plain": [
       "count    891.000000\n",
       "mean      32.204208\n",
       "std       49.693429\n",
       "min        0.000000\n",
       "25%        7.910400\n",
       "50%       14.454200\n",
       "75%       31.000000\n",
       "max      512.329200\n",
       "Name: Fare, dtype: float64"
      ]
     },
     "execution_count": 12,
     "metadata": {},
     "output_type": "execute_result"
    }
   ],
   "source": [
    "data.Fare.describe()"
   ]
  },
  {
   "cell_type": "code",
   "execution_count": 13,
   "id": "8a6bc6d4",
   "metadata": {
    "execution": {
     "iopub.execute_input": "2021-10-13T08:27:44.055604Z",
     "iopub.status.busy": "2021-10-13T08:27:43.925344Z",
     "iopub.status.idle": "2021-10-13T08:27:44.398867Z",
     "shell.execute_reply": "2021-10-13T08:27:44.398332Z",
     "shell.execute_reply.started": "2021-10-13T08:26:52.760482Z"
    },
    "papermill": {
     "duration": 0.570541,
     "end_time": "2021-10-13T08:27:44.399012",
     "exception": false,
     "start_time": "2021-10-13T08:27:43.828471",
     "status": "completed"
    },
    "tags": []
   },
   "outputs": [
    {
     "data": {
      "text/plain": [
       "<AxesSubplot:xlabel='Fare', ylabel='Density'>"
      ]
     },
     "execution_count": 13,
     "metadata": {},
     "output_type": "execute_result"
    },
    {
     "data": {
      "image/png": "[encoded data removed]",
      "text/plain": [
       "<Figure size 432x288 with 1 Axes>"
      ]
     },
     "metadata": {},
     "output_type": "display_data"
    }
   ],
   "source": [
    "sns.distplot((data.Fare), bins = 50)"
   ]
  },
  {
   "cell_type": "markdown",
   "id": "a1a41f68",
   "metadata": {
    "papermill": {
     "duration": 0.138423,
     "end_time": "2021-10-13T08:27:44.623732",
     "exception": false,
     "start_time": "2021-10-13T08:27:44.485309",
     "status": "completed"
    },
    "tags": []
   },
   "source": [
    "**7. Cabin**"
   ]
  },
  {
   "cell_type": "code",
   "execution_count": 14,
   "id": "844f02ac",
   "metadata": {
    "execution": {
     "iopub.execute_input": "2021-10-13T08:27:44.805330Z",
     "iopub.status.busy": "2021-10-13T08:27:44.804550Z",
     "iopub.status.idle": "2021-10-13T08:27:44.808772Z",
     "shell.execute_reply": "2021-10-13T08:27:44.808202Z",
     "shell.execute_reply.started": "2021-10-13T08:26:53.291762Z"
    },
    "papermill": {
     "duration": 0.099068,
     "end_time": "2021-10-13T08:27:44.808919",
     "exception": false,
     "start_time": "2021-10-13T08:27:44.709851",
     "status": "completed"
    },
    "tags": []
   },
   "outputs": [
    {
     "data": {
      "text/plain": [
       "count         204\n",
       "unique        147\n",
       "top       B96 B98\n",
       "freq            4\n",
       "Name: Cabin, dtype: object"
      ]
     },
     "execution_count": 14,
     "metadata": {},
     "output_type": "execute_result"
    }
   ],
   "source": [
    "data.Cabin.describe()"
   ]
  },
  {
   "cell_type": "markdown",
   "id": "db15868d",
   "metadata": {
    "papermill": {
     "duration": 0.088822,
     "end_time": "2021-10-13T08:27:44.987433",
     "exception": false,
     "start_time": "2021-10-13T08:27:44.898611",
     "status": "completed"
    },
    "tags": []
   },
   "source": [
    "**8. Embarked**"
   ]
  },
  {
   "cell_type": "code",
   "execution_count": 15,
   "id": "5d4c554b",
   "metadata": {
    "execution": {
     "iopub.execute_input": "2021-10-13T08:27:45.173835Z",
     "iopub.status.busy": "2021-10-13T08:27:45.173048Z",
     "iopub.status.idle": "2021-10-13T08:27:45.177497Z",
     "shell.execute_reply": "2021-10-13T08:27:45.176933Z",
     "shell.execute_reply.started": "2021-10-13T08:26:53.305576Z"
    },
    "papermill": {
     "duration": 0.102125,
     "end_time": "2021-10-13T08:27:45.177647",
     "exception": false,
     "start_time": "2021-10-13T08:27:45.075522",
     "status": "completed"
    },
    "tags": []
   },
   "outputs": [
    {
     "data": {
      "text/plain": [
       "count     889\n",
       "unique      3\n",
       "top         S\n",
       "freq      644\n",
       "Name: Embarked, dtype: object"
      ]
     },
     "execution_count": 15,
     "metadata": {},
     "output_type": "execute_result"
    }
   ],
   "source": [
    "data.Embarked.describe()"
   ]
  },
  {
   "cell_type": "code",
   "execution_count": 16,
   "id": "12b21998",
   "metadata": {
    "execution": {
     "iopub.execute_input": "2021-10-13T08:27:45.396757Z",
     "iopub.status.busy": "2021-10-13T08:27:45.394123Z",
     "iopub.status.idle": "2021-10-13T08:27:45.538046Z",
     "shell.execute_reply": "2021-10-13T08:27:45.538935Z",
     "shell.execute_reply.started": "2021-10-13T08:26:53.321823Z"
    },
    "papermill": {
     "duration": 0.269591,
     "end_time": "2021-10-13T08:27:45.539219",
     "exception": false,
     "start_time": "2021-10-13T08:27:45.269628",
     "status": "completed"
    },
    "tags": []
   },
   "outputs": [
    {
     "data": {
      "text/plain": [
       "<AxesSubplot:xlabel='Embarked', ylabel='count'>"
      ]
     },
     "execution_count": 16,
     "metadata": {},
     "output_type": "execute_result"
    },
    {
     "data": {
      "image/png": "[encoded data removed]",
      "text/plain": [
       "<Figure size 432x288 with 1 Axes>"
      ]
     },
     "metadata": {},
     "output_type": "display_data"
    }
   ],
   "source": [
    "sns.countplot(data.Embarked)"
   ]
  },
  {
   "cell_type": "markdown",
   "id": "1f9cb35c",
   "metadata": {
    "execution": {
     "iopub.execute_input": "2021-10-12T13:22:52.308328Z",
     "iopub.status.busy": "2021-10-12T13:22:52.307909Z",
     "iopub.status.idle": "2021-10-12T13:22:52.333859Z",
     "shell.execute_reply": "2021-10-12T13:22:52.332773Z",
     "shell.execute_reply.started": "2021-10-12T13:22:52.308231Z"
    },
    "papermill": {
     "duration": 0.088429,
     "end_time": "2021-10-13T08:27:45.718743",
     "exception": false,
     "start_time": "2021-10-13T08:27:45.630314",
     "status": "completed"
    },
    "tags": []
   },
   "source": [
    "**BIVARIATE ANALYSIS**"
   ]
  },
  {
   "cell_type": "markdown",
   "id": "04b65da3",
   "metadata": {
    "papermill": {
     "duration": 0.093923,
     "end_time": "2021-10-13T08:27:45.900983",
     "exception": false,
     "start_time": "2021-10-13T08:27:45.807060",
     "status": "completed"
    },
    "tags": []
   },
   "source": [
    "**Pclass and Survival**"
   ]
  },
  {
   "cell_type": "code",
   "execution_count": 17,
   "id": "3db145a6",
   "metadata": {
    "execution": {
     "iopub.execute_input": "2021-10-13T08:27:46.104201Z",
     "iopub.status.busy": "2021-10-13T08:27:46.096312Z",
     "iopub.status.idle": "2021-10-13T08:27:46.121085Z",
     "shell.execute_reply": "2021-10-13T08:27:46.120402Z",
     "shell.execute_reply.started": "2021-10-13T08:26:53.505279Z"
    },
    "papermill": {
     "duration": 0.125488,
     "end_time": "2021-10-13T08:27:46.121234",
     "exception": false,
     "start_time": "2021-10-13T08:27:45.995746",
     "status": "completed"
    },
    "tags": []
   },
   "outputs": [
    {
     "data": {
      "text/html": [
       "<div>\n",
       "<style scoped>\n",
       "    .dataframe tbody tr th:only-of-type {\n",
       "        vertical-align: middle;\n",
       "    }\n",
       "\n",
       "    .dataframe tbody tr th {\n",
       "        vertical-align: top;\n",
       "    }\n",
       "\n",
       "    .dataframe thead th {\n",
       "        text-align: right;\n",
       "    }\n",
       "</style>\n",
       "<table border=\"1\" class=\"dataframe\">\n",
       "  <thead>\n",
       "    <tr style=\"text-align: right;\">\n",
       "      <th>Survived</th>\n",
       "      <th>0</th>\n",
       "      <th>1</th>\n",
       "    </tr>\n",
       "    <tr>\n",
       "      <th>Pclass</th>\n",
       "      <th></th>\n",
       "      <th></th>\n",
       "    </tr>\n",
       "  </thead>\n",
       "  <tbody>\n",
       "    <tr>\n",
       "      <th>1</th>\n",
       "      <td>80</td>\n",
       "      <td>136</td>\n",
       "    </tr>\n",
       "    <tr>\n",
       "      <th>2</th>\n",
       "      <td>97</td>\n",
       "      <td>87</td>\n",
       "    </tr>\n",
       "    <tr>\n",
       "      <th>3</th>\n",
       "      <td>372</td>\n",
       "      <td>119</td>\n",
       "    </tr>\n",
       "  </tbody>\n",
       "</table>\n",
       "</div>"
      ],
      "text/plain": [
       "Survived    0    1\n",
       "Pclass            \n",
       "1          80  136\n",
       "2          97   87\n",
       "3         372  119"
      ]
     },
     "execution_count": 17,
     "metadata": {},
     "output_type": "execute_result"
    }
   ],
   "source": [
    "pd.crosstab(data['Pclass'], data['Survived'])"
   ]
  },
  {
   "cell_type": "code",
   "execution_count": 18,
   "id": "61f5e0e0",
   "metadata": {
    "execution": {
     "iopub.execute_input": "2021-10-13T08:27:46.316886Z",
     "iopub.status.busy": "2021-10-13T08:27:46.316102Z",
     "iopub.status.idle": "2021-10-13T08:27:46.318664Z",
     "shell.execute_reply": "2021-10-13T08:27:46.319267Z",
     "shell.execute_reply.started": "2021-10-13T08:26:53.531762Z"
    },
    "papermill": {
     "duration": 0.108201,
     "end_time": "2021-10-13T08:27:46.319434",
     "exception": false,
     "start_time": "2021-10-13T08:27:46.211233",
     "status": "completed"
    },
    "tags": []
   },
   "outputs": [
    {
     "data": {
      "text/html": [
       "<div>\n",
       "<style scoped>\n",
       "    .dataframe tbody tr th:only-of-type {\n",
       "        vertical-align: middle;\n",
       "    }\n",
       "\n",
       "    .dataframe tbody tr th {\n",
       "        vertical-align: top;\n",
       "    }\n",
       "\n",
       "    .dataframe thead th {\n",
       "        text-align: right;\n",
       "    }\n",
       "</style>\n",
       "<table border=\"1\" class=\"dataframe\">\n",
       "  <thead>\n",
       "    <tr style=\"text-align: right;\">\n",
       "      <th></th>\n",
       "      <th>Pclass</th>\n",
       "      <th>Survived</th>\n",
       "    </tr>\n",
       "  </thead>\n",
       "  <tbody>\n",
       "    <tr>\n",
       "      <th>0</th>\n",
       "      <td>1</td>\n",
       "      <td>0.629630</td>\n",
       "    </tr>\n",
       "    <tr>\n",
       "      <th>1</th>\n",
       "      <td>2</td>\n",
       "      <td>0.472826</td>\n",
       "    </tr>\n",
       "    <tr>\n",
       "      <th>2</th>\n",
       "      <td>3</td>\n",
       "      <td>0.242363</td>\n",
       "    </tr>\n",
       "  </tbody>\n",
       "</table>\n",
       "</div>"
      ],
      "text/plain": [
       "   Pclass  Survived\n",
       "0       1  0.629630\n",
       "1       2  0.472826\n",
       "2       3  0.242363"
      ]
     },
     "execution_count": 18,
     "metadata": {},
     "output_type": "execute_result"
    }
   ],
   "source": [
    "survival_percent = data.groupby('Pclass')['Survived'].mean().reset_index()\n",
    "survival_percent"
   ]
  },
  {
   "cell_type": "code",
   "execution_count": 19,
   "id": "2234606e",
   "metadata": {
    "execution": {
     "iopub.execute_input": "2021-10-13T08:27:46.507065Z",
     "iopub.status.busy": "2021-10-13T08:27:46.506373Z",
     "iopub.status.idle": "2021-10-13T08:27:46.739062Z",
     "shell.execute_reply": "2021-10-13T08:27:46.739590Z",
     "shell.execute_reply.started": "2021-10-13T08:26:53.548116Z"
    },
    "papermill": {
     "duration": 0.327231,
     "end_time": "2021-10-13T08:27:46.739781",
     "exception": false,
     "start_time": "2021-10-13T08:27:46.412550",
     "status": "completed"
    },
    "tags": []
   },
   "outputs": [
    {
     "data": {
      "text/plain": [
       "Text(0.5, 1.0, 'Percentage of survivors based on Pclass')"
      ]
     },
     "execution_count": 19,
     "metadata": {},
     "output_type": "execute_result"
    },
    {
     "data": {
      "image/png": "[encoded data removed]",
      "text/plain": [
       "<Figure size 432x288 with 1 Axes>"
      ]
     },
     "metadata": {},
     "output_type": "display_data"
    }
   ],
   "source": [
    "sns.barplot( data=survival_percent,x=\"Pclass\", y=\"Survived\")\n",
    "plt.title('Percentage of survivors based on Pclass')"
   ]
  },
  {
   "cell_type": "markdown",
   "id": "16c38cda",
   "metadata": {
    "papermill": {
     "duration": 0.093155,
     "end_time": "2021-10-13T08:27:46.924763",
     "exception": false,
     "start_time": "2021-10-13T08:27:46.831608",
     "status": "completed"
    },
    "tags": []
   },
   "source": [
    "**Sex and Survival**"
   ]
  },
  {
   "cell_type": "code",
   "execution_count": 20,
   "id": "048513da",
   "metadata": {
    "execution": {
     "iopub.execute_input": "2021-10-13T08:27:47.114122Z",
     "iopub.status.busy": "2021-10-13T08:27:47.113292Z",
     "iopub.status.idle": "2021-10-13T08:27:47.134722Z",
     "shell.execute_reply": "2021-10-13T08:27:47.133815Z",
     "shell.execute_reply.started": "2021-10-13T08:26:53.747287Z"
    },
    "papermill": {
     "duration": 0.118674,
     "end_time": "2021-10-13T08:27:47.134897",
     "exception": false,
     "start_time": "2021-10-13T08:27:47.016223",
     "status": "completed"
    },
    "tags": []
   },
   "outputs": [
    {
     "data": {
      "text/html": [
       "<div>\n",
       "<style scoped>\n",
       "    .dataframe tbody tr th:only-of-type {\n",
       "        vertical-align: middle;\n",
       "    }\n",
       "\n",
       "    .dataframe tbody tr th {\n",
       "        vertical-align: top;\n",
       "    }\n",
       "\n",
       "    .dataframe thead th {\n",
       "        text-align: right;\n",
       "    }\n",
       "</style>\n",
       "<table border=\"1\" class=\"dataframe\">\n",
       "  <thead>\n",
       "    <tr style=\"text-align: right;\">\n",
       "      <th>Survived</th>\n",
       "      <th>0</th>\n",
       "      <th>1</th>\n",
       "    </tr>\n",
       "    <tr>\n",
       "      <th>Sex</th>\n",
       "      <th></th>\n",
       "      <th></th>\n",
       "    </tr>\n",
       "  </thead>\n",
       "  <tbody>\n",
       "    <tr>\n",
       "      <th>female</th>\n",
       "      <td>81</td>\n",
       "      <td>233</td>\n",
       "    </tr>\n",
       "    <tr>\n",
       "      <th>male</th>\n",
       "      <td>468</td>\n",
       "      <td>109</td>\n",
       "    </tr>\n",
       "  </tbody>\n",
       "</table>\n",
       "</div>"
      ],
      "text/plain": [
       "Survived    0    1\n",
       "Sex               \n",
       "female     81  233\n",
       "male      468  109"
      ]
     },
     "execution_count": 20,
     "metadata": {},
     "output_type": "execute_result"
    }
   ],
   "source": [
    "pd.crosstab(data['Sex'], data['Survived'])"
   ]
  },
  {
   "cell_type": "code",
   "execution_count": 21,
   "id": "9e478766",
   "metadata": {
    "execution": {
     "iopub.execute_input": "2021-10-13T08:27:47.320448Z",
     "iopub.status.busy": "2021-10-13T08:27:47.319680Z",
     "iopub.status.idle": "2021-10-13T08:27:47.539637Z",
     "shell.execute_reply": "2021-10-13T08:27:47.540151Z",
     "shell.execute_reply.started": "2021-10-13T08:26:53.772955Z"
    },
    "papermill": {
     "duration": 0.314697,
     "end_time": "2021-10-13T08:27:47.540321",
     "exception": false,
     "start_time": "2021-10-13T08:27:47.225624",
     "status": "completed"
    },
    "tags": []
   },
   "outputs": [
    {
     "data": {
      "text/plain": [
       "Text(0.5, 1.0, 'Percentage of survivors based on Sex')"
      ]
     },
     "execution_count": 21,
     "metadata": {},
     "output_type": "execute_result"
    },
    {
     "data": {
      "image/png": "[encoded data removed]",
      "text/plain": [
       "<Figure size 432x288 with 1 Axes>"
      ]
     },
     "metadata": {},
     "output_type": "display_data"
    }
   ],
   "source": [
    "sns.barplot( data = data.groupby('Sex')['Survived'].mean().reset_index() ,x=\"Sex\", y=\"Survived\")\n",
    "plt.title('Percentage of survivors based on Sex')"
   ]
  },
  {
   "cell_type": "markdown",
   "id": "f7caf573",
   "metadata": {
    "papermill": {
     "duration": 0.091687,
     "end_time": "2021-10-13T08:27:47.724807",
     "exception": false,
     "start_time": "2021-10-13T08:27:47.633120",
     "status": "completed"
    },
    "tags": []
   },
   "source": [
    "**Parch and Survival**\n"
   ]
  },
  {
   "cell_type": "code",
   "execution_count": 22,
   "id": "59801b6a",
   "metadata": {
    "execution": {
     "iopub.execute_input": "2021-10-13T08:27:47.918953Z",
     "iopub.status.busy": "2021-10-13T08:27:47.918229Z",
     "iopub.status.idle": "2021-10-13T08:27:47.933377Z",
     "shell.execute_reply": "2021-10-13T08:27:47.933992Z",
     "shell.execute_reply.started": "2021-10-13T08:26:53.958549Z"
    },
    "papermill": {
     "duration": 0.116121,
     "end_time": "2021-10-13T08:27:47.934172",
     "exception": false,
     "start_time": "2021-10-13T08:27:47.818051",
     "status": "completed"
    },
    "tags": []
   },
   "outputs": [
    {
     "data": {
      "text/html": [
       "<div>\n",
       "<style scoped>\n",
       "    .dataframe tbody tr th:only-of-type {\n",
       "        vertical-align: middle;\n",
       "    }\n",
       "\n",
       "    .dataframe tbody tr th {\n",
       "        vertical-align: top;\n",
       "    }\n",
       "\n",
       "    .dataframe thead th {\n",
       "        text-align: right;\n",
       "    }\n",
       "</style>\n",
       "<table border=\"1\" class=\"dataframe\">\n",
       "  <thead>\n",
       "    <tr style=\"text-align: right;\">\n",
       "      <th>Survived</th>\n",
       "      <th>0</th>\n",
       "      <th>1</th>\n",
       "    </tr>\n",
       "    <tr>\n",
       "      <th>Parch</th>\n",
       "      <th></th>\n",
       "      <th></th>\n",
       "    </tr>\n",
       "  </thead>\n",
       "  <tbody>\n",
       "    <tr>\n",
       "      <th>0</th>\n",
       "      <td>445</td>\n",
       "      <td>233</td>\n",
       "    </tr>\n",
       "    <tr>\n",
       "      <th>1</th>\n",
       "      <td>53</td>\n",
       "      <td>65</td>\n",
       "    </tr>\n",
       "    <tr>\n",
       "      <th>2</th>\n",
       "      <td>40</td>\n",
       "      <td>40</td>\n",
       "    </tr>\n",
       "    <tr>\n",
       "      <th>3</th>\n",
       "      <td>2</td>\n",
       "      <td>3</td>\n",
       "    </tr>\n",
       "    <tr>\n",
       "      <th>4</th>\n",
       "      <td>4</td>\n",
       "      <td>0</td>\n",
       "    </tr>\n",
       "    <tr>\n",
       "      <th>5</th>\n",
       "      <td>4</td>\n",
       "      <td>1</td>\n",
       "    </tr>\n",
       "    <tr>\n",
       "      <th>6</th>\n",
       "      <td>1</td>\n",
       "      <td>0</td>\n",
       "    </tr>\n",
       "  </tbody>\n",
       "</table>\n",
       "</div>"
      ],
      "text/plain": [
       "Survived    0    1\n",
       "Parch             \n",
       "0         445  233\n",
       "1          53   65\n",
       "2          40   40\n",
       "3           2    3\n",
       "4           4    0\n",
       "5           4    1\n",
       "6           1    0"
      ]
     },
     "execution_count": 22,
     "metadata": {},
     "output_type": "execute_result"
    }
   ],
   "source": [
    "pd.crosstab(data['Parch'], data['Survived'])"
   ]
  },
  {
   "cell_type": "code",
   "execution_count": 23,
   "id": "8fb94c94",
   "metadata": {
    "execution": {
     "iopub.execute_input": "2021-10-13T08:27:48.124721Z",
     "iopub.status.busy": "2021-10-13T08:27:48.123982Z",
     "iopub.status.idle": "2021-10-13T08:27:48.412044Z",
     "shell.execute_reply": "2021-10-13T08:27:48.411260Z",
     "shell.execute_reply.started": "2021-10-13T08:26:53.983955Z"
    },
    "papermill": {
     "duration": 0.385107,
     "end_time": "2021-10-13T08:27:48.412194",
     "exception": false,
     "start_time": "2021-10-13T08:27:48.027087",
     "status": "completed"
    },
    "tags": []
   },
   "outputs": [
    {
     "data": {
      "text/plain": [
       "Text(0.5, 1.0, 'Percentage of survivors based on Parch')"
      ]
     },
     "execution_count": 23,
     "metadata": {},
     "output_type": "execute_result"
    },
    {
     "data": {
      "image/png": "[encoded data removed]",
      "text/plain": [
       "<Figure size 432x288 with 1 Axes>"
      ]
     },
     "metadata": {},
     "output_type": "display_data"
    }
   ],
   "source": [
    "sns.barplot( data = data.groupby('Parch')['Survived'].mean().reset_index() ,x=\"Parch\", y=\"Survived\")\n",
    "plt.title('Percentage of survivors based on Parch')"
   ]
  },
  {
   "cell_type": "markdown",
   "id": "36d21438",
   "metadata": {
    "papermill": {
     "duration": 0.093677,
     "end_time": "2021-10-13T08:27:48.601094",
     "exception": false,
     "start_time": "2021-10-13T08:27:48.507417",
     "status": "completed"
    },
    "tags": []
   },
   "source": [
    "**SibSp and Survival**"
   ]
  },
  {
   "cell_type": "code",
   "execution_count": 24,
   "id": "8c5d9a19",
   "metadata": {
    "execution": {
     "iopub.execute_input": "2021-10-13T08:27:48.797563Z",
     "iopub.status.busy": "2021-10-13T08:27:48.796462Z",
     "iopub.status.idle": "2021-10-13T08:27:48.813765Z",
     "shell.execute_reply": "2021-10-13T08:27:48.813128Z",
     "shell.execute_reply.started": "2021-10-13T08:26:54.239341Z"
    },
    "papermill": {
     "duration": 0.11882,
     "end_time": "2021-10-13T08:27:48.813904",
     "exception": false,
     "start_time": "2021-10-13T08:27:48.695084",
     "status": "completed"
    },
    "tags": []
   },
   "outputs": [
    {
     "data": {
      "text/html": [
       "<div>\n",
       "<style scoped>\n",
       "    .dataframe tbody tr th:only-of-type {\n",
       "        vertical-align: middle;\n",
       "    }\n",
       "\n",
       "    .dataframe tbody tr th {\n",
       "        vertical-align: top;\n",
       "    }\n",
       "\n",
       "    .dataframe thead th {\n",
       "        text-align: right;\n",
       "    }\n",
       "</style>\n",
       "<table border=\"1\" class=\"dataframe\">\n",
       "  <thead>\n",
       "    <tr style=\"text-align: right;\">\n",
       "      <th>Survived</th>\n",
       "      <th>0</th>\n",
       "      <th>1</th>\n",
       "    </tr>\n",
       "    <tr>\n",
       "      <th>SibSp</th>\n",
       "      <th></th>\n",
       "      <th></th>\n",
       "    </tr>\n",
       "  </thead>\n",
       "  <tbody>\n",
       "    <tr>\n",
       "      <th>0</th>\n",
       "      <td>398</td>\n",
       "      <td>210</td>\n",
       "    </tr>\n",
       "    <tr>\n",
       "      <th>1</th>\n",
       "      <td>97</td>\n",
       "      <td>112</td>\n",
       "    </tr>\n",
       "    <tr>\n",
       "      <th>2</th>\n",
       "      <td>15</td>\n",
       "      <td>13</td>\n",
       "    </tr>\n",
       "    <tr>\n",
       "      <th>3</th>\n",
       "      <td>12</td>\n",
       "      <td>4</td>\n",
       "    </tr>\n",
       "    <tr>\n",
       "      <th>4</th>\n",
       "      <td>15</td>\n",
       "      <td>3</td>\n",
       "    </tr>\n",
       "    <tr>\n",
       "      <th>5</th>\n",
       "      <td>5</td>\n",
       "      <td>0</td>\n",
       "    </tr>\n",
       "    <tr>\n",
       "      <th>8</th>\n",
       "      <td>7</td>\n",
       "      <td>0</td>\n",
       "    </tr>\n",
       "  </tbody>\n",
       "</table>\n",
       "</div>"
      ],
      "text/plain": [
       "Survived    0    1\n",
       "SibSp             \n",
       "0         398  210\n",
       "1          97  112\n",
       "2          15   13\n",
       "3          12    4\n",
       "4          15    3\n",
       "5           5    0\n",
       "8           7    0"
      ]
     },
     "execution_count": 24,
     "metadata": {},
     "output_type": "execute_result"
    }
   ],
   "source": [
    "pd.crosstab(data['SibSp'], data['Survived'])"
   ]
  },
  {
   "cell_type": "code",
   "execution_count": 25,
   "id": "4f59cae4",
   "metadata": {
    "execution": {
     "iopub.execute_input": "2021-10-13T08:27:49.045003Z",
     "iopub.status.busy": "2021-10-13T08:27:49.009416Z",
     "iopub.status.idle": "2021-10-13T08:27:49.298663Z",
     "shell.execute_reply": "2021-10-13T08:27:49.299183Z",
     "shell.execute_reply.started": "2021-10-13T08:26:54.262832Z"
    },
    "papermill": {
     "duration": 0.389247,
     "end_time": "2021-10-13T08:27:49.299362",
     "exception": false,
     "start_time": "2021-10-13T08:27:48.910115",
     "status": "completed"
    },
    "tags": []
   },
   "outputs": [
    {
     "data": {
      "text/plain": [
       "Text(0.5, 1.0, 'Percentage of survivors based on SibSp')"
      ]
     },
     "execution_count": 25,
     "metadata": {},
     "output_type": "execute_result"
    },
    {
     "data": {
      "image/png": "[encoded data removed]",
      "text/plain": [
       "<Figure size 432x288 with 1 Axes>"
      ]
     },
     "metadata": {},
     "output_type": "display_data"
    }
   ],
   "source": [
    "sns.barplot( data = data.groupby('SibSp')['Survived'].mean().reset_index() ,x=\"SibSp\", y=\"Survived\")\n",
    "plt.title('Percentage of survivors based on SibSp')"
   ]
  },
  {
   "cell_type": "markdown",
   "id": "80840526",
   "metadata": {
    "papermill": {
     "duration": 0.095708,
     "end_time": "2021-10-13T08:27:49.490523",
     "exception": false,
     "start_time": "2021-10-13T08:27:49.394815",
     "status": "completed"
    },
    "tags": []
   },
   "source": [
    "**Embarked and Survival**"
   ]
  },
  {
   "cell_type": "code",
   "execution_count": 26,
   "id": "e4e6e51d",
   "metadata": {
    "execution": {
     "iopub.execute_input": "2021-10-13T08:27:49.704009Z",
     "iopub.status.busy": "2021-10-13T08:27:49.695175Z",
     "iopub.status.idle": "2021-10-13T08:27:49.708067Z",
     "shell.execute_reply": "2021-10-13T08:27:49.707517Z",
     "shell.execute_reply.started": "2021-10-13T08:26:54.509930Z"
    },
    "papermill": {
     "duration": 0.122214,
     "end_time": "2021-10-13T08:27:49.708205",
     "exception": false,
     "start_time": "2021-10-13T08:27:49.585991",
     "status": "completed"
    },
    "tags": []
   },
   "outputs": [
    {
     "data": {
      "text/html": [
       "<div>\n",
       "<style scoped>\n",
       "    .dataframe tbody tr th:only-of-type {\n",
       "        vertical-align: middle;\n",
       "    }\n",
       "\n",
       "    .dataframe tbody tr th {\n",
       "        vertical-align: top;\n",
       "    }\n",
       "\n",
       "    .dataframe thead th {\n",
       "        text-align: right;\n",
       "    }\n",
       "</style>\n",
       "<table border=\"1\" class=\"dataframe\">\n",
       "  <thead>\n",
       "    <tr style=\"text-align: right;\">\n",
       "      <th>Survived</th>\n",
       "      <th>0</th>\n",
       "      <th>1</th>\n",
       "    </tr>\n",
       "    <tr>\n",
       "      <th>Embarked</th>\n",
       "      <th></th>\n",
       "      <th></th>\n",
       "    </tr>\n",
       "  </thead>\n",
       "  <tbody>\n",
       "    <tr>\n",
       "      <th>C</th>\n",
       "      <td>75</td>\n",
       "      <td>93</td>\n",
       "    </tr>\n",
       "    <tr>\n",
       "      <th>Q</th>\n",
       "      <td>47</td>\n",
       "      <td>30</td>\n",
       "    </tr>\n",
       "    <tr>\n",
       "      <th>S</th>\n",
       "      <td>427</td>\n",
       "      <td>217</td>\n",
       "    </tr>\n",
       "  </tbody>\n",
       "</table>\n",
       "</div>"
      ],
      "text/plain": [
       "Survived    0    1\n",
       "Embarked          \n",
       "C          75   93\n",
       "Q          47   30\n",
       "S         427  217"
      ]
     },
     "execution_count": 26,
     "metadata": {},
     "output_type": "execute_result"
    }
   ],
   "source": [
    "pd.crosstab(data['Embarked'], data['Survived'])"
   ]
  },
  {
   "cell_type": "code",
   "execution_count": 27,
   "id": "b3903cbd",
   "metadata": {
    "execution": {
     "iopub.execute_input": "2021-10-13T08:27:49.915274Z",
     "iopub.status.busy": "2021-10-13T08:27:49.914556Z",
     "iopub.status.idle": "2021-10-13T08:27:50.143513Z",
     "shell.execute_reply": "2021-10-13T08:27:50.144082Z",
     "shell.execute_reply.started": "2021-10-13T08:26:54.535392Z"
    },
    "papermill": {
     "duration": 0.340456,
     "end_time": "2021-10-13T08:27:50.144288",
     "exception": false,
     "start_time": "2021-10-13T08:27:49.803832",
     "status": "completed"
    },
    "tags": []
   },
   "outputs": [
    {
     "data": {
      "text/plain": [
       "Text(0.5, 1.0, 'Percentage of survivors based on Embarked')"
      ]
     },
     "execution_count": 27,
     "metadata": {},
     "output_type": "execute_result"
    },
    {
     "data": {
      "image/png": "[encoded data removed]",
      "text/plain": [
       "<Figure size 432x288 with 1 Axes>"
      ]
     },
     "metadata": {},
     "output_type": "display_data"
    }
   ],
   "source": [
    "sns.barplot( data = data.groupby('Embarked')['Survived'].mean().reset_index() ,x=\"Embarked\", y=\"Survived\")\n",
    "plt.title('Percentage of survivors based on Embarked')"
   ]
  },
  {
   "cell_type": "markdown",
   "id": "412d1318",
   "metadata": {
    "papermill": {
     "duration": 0.095784,
     "end_time": "2021-10-13T08:27:50.354939",
     "exception": false,
     "start_time": "2021-10-13T08:27:50.259155",
     "status": "completed"
    },
    "tags": []
   },
   "source": [
    "\n",
    "\n",
    "\n",
    "**COMBINING TEST AND TRAIN DATA**\n"
   ]
  },
  {
   "cell_type": "code",
   "execution_count": 28,
   "id": "83545eaf",
   "metadata": {
    "execution": {
     "iopub.execute_input": "2021-10-13T08:27:50.555495Z",
     "iopub.status.busy": "2021-10-13T08:27:50.554818Z",
     "iopub.status.idle": "2021-10-13T08:27:50.593588Z",
     "shell.execute_reply": "2021-10-13T08:27:50.594119Z",
     "shell.execute_reply.started": "2021-10-13T08:26:54.789597Z"
    },
    "papermill": {
     "duration": 0.141794,
     "end_time": "2021-10-13T08:27:50.594292",
     "exception": false,
     "start_time": "2021-10-13T08:27:50.452498",
     "status": "completed"
    },
    "tags": []
   },
   "outputs": [
    {
     "data": {
      "text/html": [
       "<div>\n",
       "<style scoped>\n",
       "    .dataframe tbody tr th:only-of-type {\n",
       "        vertical-align: middle;\n",
       "    }\n",
       "\n",
       "    .dataframe tbody tr th {\n",
       "        vertical-align: top;\n",
       "    }\n",
       "\n",
       "    .dataframe thead th {\n",
       "        text-align: right;\n",
       "    }\n",
       "</style>\n",
       "<table border=\"1\" class=\"dataframe\">\n",
       "  <thead>\n",
       "    <tr style=\"text-align: right;\">\n",
       "      <th></th>\n",
       "      <th>PassengerId</th>\n",
       "      <th>Survived</th>\n",
       "      <th>Pclass</th>\n",
       "      <th>Name</th>\n",
       "      <th>Sex</th>\n",
       "      <th>Age</th>\n",
       "      <th>SibSp</th>\n",
       "      <th>Parch</th>\n",
       "      <th>Ticket</th>\n",
       "      <th>Fare</th>\n",
       "      <th>Cabin</th>\n",
       "      <th>Embarked</th>\n",
       "    </tr>\n",
       "  </thead>\n",
       "  <tbody>\n",
       "    <tr>\n",
       "      <th>0</th>\n",
       "      <td>1</td>\n",
       "      <td>0.0</td>\n",
       "      <td>3</td>\n",
       "      <td>Braund, Mr. Owen Harris</td>\n",
       "      <td>male</td>\n",
       "      <td>22.0</td>\n",
       "      <td>1</td>\n",
       "      <td>0</td>\n",
       "      <td>A/5 21171</td>\n",
       "      <td>7.2500</td>\n",
       "      <td>NaN</td>\n",
       "      <td>S</td>\n",
       "    </tr>\n",
       "    <tr>\n",
       "      <th>1</th>\n",
       "      <td>2</td>\n",
       "      <td>1.0</td>\n",
       "      <td>1</td>\n",
       "      <td>Cumings, Mrs. John Bradley (Florence Briggs Th...</td>\n",
       "      <td>female</td>\n",
       "      <td>38.0</td>\n",
       "      <td>1</td>\n",
       "      <td>0</td>\n",
       "      <td>PC 17599</td>\n",
       "      <td>71.2833</td>\n",
       "      <td>C85</td>\n",
       "      <td>C</td>\n",
       "    </tr>\n",
       "    <tr>\n",
       "      <th>2</th>\n",
       "      <td>3</td>\n",
       "      <td>1.0</td>\n",
       "      <td>3</td>\n",
       "      <td>Heikkinen, Miss. Laina</td>\n",
       "      <td>female</td>\n",
       "      <td>26.0</td>\n",
       "      <td>0</td>\n",
       "      <td>0</td>\n",
       "      <td>STON/O2. 3101282</td>\n",
       "      <td>7.9250</td>\n",
       "      <td>NaN</td>\n",
       "      <td>S</td>\n",
       "    </tr>\n",
       "    <tr>\n",
       "      <th>3</th>\n",
       "      <td>4</td>\n",
       "      <td>1.0</td>\n",
       "      <td>1</td>\n",
       "      <td>Futrelle, Mrs. Jacques Heath (Lily May Peel)</td>\n",
       "      <td>female</td>\n",
       "      <td>35.0</td>\n",
       "      <td>1</td>\n",
       "      <td>0</td>\n",
       "      <td>113803</td>\n",
       "      <td>53.1000</td>\n",
       "      <td>C123</td>\n",
       "      <td>S</td>\n",
       "    </tr>\n",
       "    <tr>\n",
       "      <th>4</th>\n",
       "      <td>5</td>\n",
       "      <td>0.0</td>\n",
       "      <td>3</td>\n",
       "      <td>Allen, Mr. William Henry</td>\n",
       "      <td>male</td>\n",
       "      <td>35.0</td>\n",
       "      <td>0</td>\n",
       "      <td>0</td>\n",
       "      <td>373450</td>\n",
       "      <td>8.0500</td>\n",
       "      <td>NaN</td>\n",
       "      <td>S</td>\n",
       "    </tr>\n",
       "  </tbody>\n",
       "</table>\n",
       "</div>"
      ],
      "text/plain": [
       "   PassengerId  Survived  Pclass  \\\n",
       "0            1       0.0       3   \n",
       "1            2       1.0       1   \n",
       "2            3       1.0       3   \n",
       "3            4       1.0       1   \n",
       "4            5       0.0       3   \n",
       "\n",
       "                                                Name     Sex   Age  SibSp  \\\n",
       "0                            Braund, Mr. Owen Harris    male  22.0      1   \n",
       "1  Cumings, Mrs. John Bradley (Florence Briggs Th...  female  38.0      1   \n",
       "2                             Heikkinen, Miss. Laina  female  26.0      0   \n",
       "3       Futrelle, Mrs. Jacques Heath (Lily May Peel)  female  35.0      1   \n",
       "4                           Allen, Mr. William Henry    male  35.0      0   \n",
       "\n",
       "   Parch            Ticket     Fare Cabin Embarked  \n",
       "0      0         A/5 21171   7.2500   NaN        S  \n",
       "1      0          PC 17599  71.2833   C85        C  \n",
       "2      0  STON/O2. 3101282   7.9250   NaN        S  \n",
       "3      0            113803  53.1000  C123        S  \n",
       "4      0            373450   8.0500   NaN        S  "
      ]
     },
     "execution_count": 28,
     "metadata": {},
     "output_type": "execute_result"
    }
   ],
   "source": [
    "train = pd.read_csv('../input/titanic/train.csv')\n",
    "test = pd.read_csv('../input/titanic/test.csv')\n",
    "\n",
    "df = pd.concat([train, test])\n",
    "\n",
    "df.reset_index(drop = True, inplace = True)\n",
    "df.head()"
   ]
  },
  {
   "cell_type": "code",
   "execution_count": 29,
   "id": "cd58f398",
   "metadata": {
    "execution": {
     "iopub.execute_input": "2021-10-13T08:27:50.795967Z",
     "iopub.status.busy": "2021-10-13T08:27:50.795160Z",
     "iopub.status.idle": "2021-10-13T08:27:50.798985Z",
     "shell.execute_reply": "2021-10-13T08:27:50.798458Z",
     "shell.execute_reply.started": "2021-10-13T08:26:54.827826Z"
    },
    "papermill": {
     "duration": 0.107265,
     "end_time": "2021-10-13T08:27:50.799123",
     "exception": false,
     "start_time": "2021-10-13T08:27:50.691858",
     "status": "completed"
    },
    "tags": []
   },
   "outputs": [
    {
     "data": {
      "text/plain": [
       "(1309, 12)"
      ]
     },
     "execution_count": 29,
     "metadata": {},
     "output_type": "execute_result"
    }
   ],
   "source": [
    "df.shape"
   ]
  },
  {
   "cell_type": "markdown",
   "id": "a3a61b6a",
   "metadata": {
    "papermill": {
     "duration": 0.09799,
     "end_time": "2021-10-13T08:27:50.996761",
     "exception": false,
     "start_time": "2021-10-13T08:27:50.898771",
     "status": "completed"
    },
    "tags": []
   },
   "source": [
    "\n",
    "**FILLING MISSING VALUES**\n"
   ]
  },
  {
   "cell_type": "code",
   "execution_count": 30,
   "id": "64c12a46",
   "metadata": {
    "execution": {
     "iopub.execute_input": "2021-10-13T08:27:51.204990Z",
     "iopub.status.busy": "2021-10-13T08:27:51.204282Z",
     "iopub.status.idle": "2021-10-13T08:27:51.207060Z",
     "shell.execute_reply": "2021-10-13T08:27:51.207563Z",
     "shell.execute_reply.started": "2021-10-13T08:26:54.836349Z"
    },
    "papermill": {
     "duration": 0.113336,
     "end_time": "2021-10-13T08:27:51.207757",
     "exception": false,
     "start_time": "2021-10-13T08:27:51.094421",
     "status": "completed"
    },
    "tags": []
   },
   "outputs": [
    {
     "data": {
      "text/plain": [
       "PassengerId       0\n",
       "Survived        418\n",
       "Pclass            0\n",
       "Name              0\n",
       "Sex               0\n",
       "Age             263\n",
       "SibSp             0\n",
       "Parch             0\n",
       "Ticket            0\n",
       "Fare              1\n",
       "Cabin          1014\n",
       "Embarked          2\n",
       "dtype: int64"
      ]
     },
     "execution_count": 30,
     "metadata": {},
     "output_type": "execute_result"
    }
   ],
   "source": [
    "df.isna().sum()"
   ]
  },
  {
   "cell_type": "code",
   "execution_count": 31,
   "id": "ba2f91d8",
   "metadata": {
    "execution": {
     "iopub.execute_input": "2021-10-13T08:27:51.409302Z",
     "iopub.status.busy": "2021-10-13T08:27:51.406748Z",
     "iopub.status.idle": "2021-10-13T08:27:51.413126Z",
     "shell.execute_reply": "2021-10-13T08:27:51.412556Z",
     "shell.execute_reply.started": "2021-10-13T08:26:54.854950Z"
    },
    "papermill": {
     "duration": 0.10743,
     "end_time": "2021-10-13T08:27:51.413267",
     "exception": false,
     "start_time": "2021-10-13T08:27:51.305837",
     "status": "completed"
    },
    "tags": []
   },
   "outputs": [],
   "source": [
    "df.Fare.fillna(df.Fare.median(), inplace = True)"
   ]
  },
  {
   "cell_type": "code",
   "execution_count": 32,
   "id": "2d9162eb",
   "metadata": {
    "execution": {
     "iopub.execute_input": "2021-10-13T08:27:51.616712Z",
     "iopub.status.busy": "2021-10-13T08:27:51.615996Z",
     "iopub.status.idle": "2021-10-13T08:27:51.623647Z",
     "shell.execute_reply": "2021-10-13T08:27:51.624114Z",
     "shell.execute_reply.started": "2021-10-13T08:26:54.870172Z"
    },
    "papermill": {
     "duration": 0.111043,
     "end_time": "2021-10-13T08:27:51.624299",
     "exception": false,
     "start_time": "2021-10-13T08:27:51.513256",
     "status": "completed"
    },
    "tags": []
   },
   "outputs": [
    {
     "data": {
      "text/plain": [
       "count     1307\n",
       "unique       3\n",
       "top          S\n",
       "freq       914\n",
       "Name: Embarked, dtype: object"
      ]
     },
     "execution_count": 32,
     "metadata": {},
     "output_type": "execute_result"
    }
   ],
   "source": [
    "df.Embarked.describe()"
   ]
  },
  {
   "cell_type": "code",
   "execution_count": 33,
   "id": "e11ed16a",
   "metadata": {
    "execution": {
     "iopub.execute_input": "2021-10-13T08:27:51.827947Z",
     "iopub.status.busy": "2021-10-13T08:27:51.827292Z",
     "iopub.status.idle": "2021-10-13T08:27:51.832035Z",
     "shell.execute_reply": "2021-10-13T08:27:51.832557Z",
     "shell.execute_reply.started": "2021-10-13T08:26:54.887633Z"
    },
    "papermill": {
     "duration": 0.1087,
     "end_time": "2021-10-13T08:27:51.832772",
     "exception": false,
     "start_time": "2021-10-13T08:27:51.724072",
     "status": "completed"
    },
    "tags": []
   },
   "outputs": [],
   "source": [
    "df.Embarked.fillna('S', inplace = True)"
   ]
  },
  {
   "cell_type": "markdown",
   "id": "abe86cdd",
   "metadata": {
    "papermill": {
     "duration": 0.097758,
     "end_time": "2021-10-13T08:27:52.030997",
     "exception": false,
     "start_time": "2021-10-13T08:27:51.933239",
     "status": "completed"
    },
    "tags": []
   },
   "source": [
    "**Extracting Titles as 'Age' can be filled according to titles**"
   ]
  },
  {
   "cell_type": "code",
   "execution_count": 34,
   "id": "33598d7a",
   "metadata": {
    "execution": {
     "iopub.execute_input": "2021-10-13T08:27:52.241174Z",
     "iopub.status.busy": "2021-10-13T08:27:52.240271Z",
     "iopub.status.idle": "2021-10-13T08:27:52.247599Z",
     "shell.execute_reply": "2021-10-13T08:27:52.248120Z",
     "shell.execute_reply.started": "2021-10-13T08:26:54.895460Z"
    },
    "papermill": {
     "duration": 0.117773,
     "end_time": "2021-10-13T08:27:52.248290",
     "exception": false,
     "start_time": "2021-10-13T08:27:52.130517",
     "status": "completed"
    },
    "tags": []
   },
   "outputs": [
    {
     "data": {
      "text/plain": [
       "0           Mr\n",
       "1          Mrs\n",
       "2         Miss\n",
       "3          Mrs\n",
       "4           Mr\n",
       "         ...  \n",
       "1304        Mr\n",
       "1305      Dona\n",
       "1306        Mr\n",
       "1307        Mr\n",
       "1308    Master\n",
       "Name: title, Length: 1309, dtype: object"
      ]
     },
     "execution_count": 34,
     "metadata": {},
     "output_type": "execute_result"
    }
   ],
   "source": [
    "df['title'] = df.Name.str.extract('([A-Za-z]+)\\.')\n",
    "df['title']"
   ]
  },
  {
   "cell_type": "code",
   "execution_count": 35,
   "id": "cfc28890",
   "metadata": {
    "execution": {
     "iopub.execute_input": "2021-10-13T08:27:52.454268Z",
     "iopub.status.busy": "2021-10-13T08:27:52.453479Z",
     "iopub.status.idle": "2021-10-13T08:27:52.471397Z",
     "shell.execute_reply": "2021-10-13T08:27:52.470803Z",
     "shell.execute_reply.started": "2021-10-13T08:26:54.923769Z"
    },
    "papermill": {
     "duration": 0.124132,
     "end_time": "2021-10-13T08:27:52.471534",
     "exception": false,
     "start_time": "2021-10-13T08:27:52.347402",
     "status": "completed"
    },
    "tags": []
   },
   "outputs": [
    {
     "data": {
      "text/html": [
       "<div>\n",
       "<style scoped>\n",
       "    .dataframe tbody tr th:only-of-type {\n",
       "        vertical-align: middle;\n",
       "    }\n",
       "\n",
       "    .dataframe tbody tr th {\n",
       "        vertical-align: top;\n",
       "    }\n",
       "\n",
       "    .dataframe thead th {\n",
       "        text-align: right;\n",
       "    }\n",
       "</style>\n",
       "<table border=\"1\" class=\"dataframe\">\n",
       "  <thead>\n",
       "    <tr style=\"text-align: right;\">\n",
       "      <th>Sex</th>\n",
       "      <th>female</th>\n",
       "      <th>male</th>\n",
       "    </tr>\n",
       "    <tr>\n",
       "      <th>title</th>\n",
       "      <th></th>\n",
       "      <th></th>\n",
       "    </tr>\n",
       "  </thead>\n",
       "  <tbody>\n",
       "    <tr>\n",
       "      <th>Capt</th>\n",
       "      <td>0</td>\n",
       "      <td>1</td>\n",
       "    </tr>\n",
       "    <tr>\n",
       "      <th>Col</th>\n",
       "      <td>0</td>\n",
       "      <td>4</td>\n",
       "    </tr>\n",
       "    <tr>\n",
       "      <th>Countess</th>\n",
       "      <td>1</td>\n",
       "      <td>0</td>\n",
       "    </tr>\n",
       "    <tr>\n",
       "      <th>Don</th>\n",
       "      <td>0</td>\n",
       "      <td>1</td>\n",
       "    </tr>\n",
       "    <tr>\n",
       "      <th>Dona</th>\n",
       "      <td>1</td>\n",
       "      <td>0</td>\n",
       "    </tr>\n",
       "    <tr>\n",
       "      <th>Dr</th>\n",
       "      <td>1</td>\n",
       "      <td>7</td>\n",
       "    </tr>\n",
       "    <tr>\n",
       "      <th>Jonkheer</th>\n",
       "      <td>0</td>\n",
       "      <td>1</td>\n",
       "    </tr>\n",
       "    <tr>\n",
       "      <th>Lady</th>\n",
       "      <td>1</td>\n",
       "      <td>0</td>\n",
       "    </tr>\n",
       "    <tr>\n",
       "      <th>Major</th>\n",
       "      <td>0</td>\n",
       "      <td>2</td>\n",
       "    </tr>\n",
       "    <tr>\n",
       "      <th>Master</th>\n",
       "      <td>0</td>\n",
       "      <td>61</td>\n",
       "    </tr>\n",
       "    <tr>\n",
       "      <th>Miss</th>\n",
       "      <td>260</td>\n",
       "      <td>0</td>\n",
       "    </tr>\n",
       "    <tr>\n",
       "      <th>Mlle</th>\n",
       "      <td>2</td>\n",
       "      <td>0</td>\n",
       "    </tr>\n",
       "    <tr>\n",
       "      <th>Mme</th>\n",
       "      <td>1</td>\n",
       "      <td>0</td>\n",
       "    </tr>\n",
       "    <tr>\n",
       "      <th>Mr</th>\n",
       "      <td>0</td>\n",
       "      <td>757</td>\n",
       "    </tr>\n",
       "    <tr>\n",
       "      <th>Mrs</th>\n",
       "      <td>197</td>\n",
       "      <td>0</td>\n",
       "    </tr>\n",
       "    <tr>\n",
       "      <th>Ms</th>\n",
       "      <td>2</td>\n",
       "      <td>0</td>\n",
       "    </tr>\n",
       "    <tr>\n",
       "      <th>Rev</th>\n",
       "      <td>0</td>\n",
       "      <td>8</td>\n",
       "    </tr>\n",
       "    <tr>\n",
       "      <th>Sir</th>\n",
       "      <td>0</td>\n",
       "      <td>1</td>\n",
       "    </tr>\n",
       "  </tbody>\n",
       "</table>\n",
       "</div>"
      ],
      "text/plain": [
       "Sex       female  male\n",
       "title                 \n",
       "Capt           0     1\n",
       "Col            0     4\n",
       "Countess       1     0\n",
       "Don            0     1\n",
       "Dona           1     0\n",
       "Dr             1     7\n",
       "Jonkheer       0     1\n",
       "Lady           1     0\n",
       "Major          0     2\n",
       "Master         0    61\n",
       "Miss         260     0\n",
       "Mlle           2     0\n",
       "Mme            1     0\n",
       "Mr             0   757\n",
       "Mrs          197     0\n",
       "Ms             2     0\n",
       "Rev            0     8\n",
       "Sir            0     1"
      ]
     },
     "execution_count": 35,
     "metadata": {},
     "output_type": "execute_result"
    }
   ],
   "source": [
    "pd.crosstab(df['title'],df['Sex'] )"
   ]
  },
  {
   "cell_type": "code",
   "execution_count": 36,
   "id": "f8f9d09c",
   "metadata": {
    "execution": {
     "iopub.execute_input": "2021-10-13T08:27:52.678755Z",
     "iopub.status.busy": "2021-10-13T08:27:52.676424Z",
     "iopub.status.idle": "2021-10-13T08:27:52.689893Z",
     "shell.execute_reply": "2021-10-13T08:27:52.690391Z",
     "shell.execute_reply.started": "2021-10-13T08:26:54.950383Z"
    },
    "papermill": {
     "duration": 0.119352,
     "end_time": "2021-10-13T08:27:52.690553",
     "exception": false,
     "start_time": "2021-10-13T08:27:52.571201",
     "status": "completed"
    },
    "tags": []
   },
   "outputs": [
    {
     "data": {
      "text/html": [
       "<div>\n",
       "<style scoped>\n",
       "    .dataframe tbody tr th:only-of-type {\n",
       "        vertical-align: middle;\n",
       "    }\n",
       "\n",
       "    .dataframe tbody tr th {\n",
       "        vertical-align: top;\n",
       "    }\n",
       "\n",
       "    .dataframe thead th {\n",
       "        text-align: right;\n",
       "    }\n",
       "</style>\n",
       "<table border=\"1\" class=\"dataframe\">\n",
       "  <thead>\n",
       "    <tr style=\"text-align: right;\">\n",
       "      <th></th>\n",
       "      <th>title</th>\n",
       "      <th>Age</th>\n",
       "    </tr>\n",
       "  </thead>\n",
       "  <tbody>\n",
       "    <tr>\n",
       "      <th>0</th>\n",
       "      <td>Capt</td>\n",
       "      <td>70.0</td>\n",
       "    </tr>\n",
       "    <tr>\n",
       "      <th>1</th>\n",
       "      <td>Col</td>\n",
       "      <td>54.5</td>\n",
       "    </tr>\n",
       "    <tr>\n",
       "      <th>2</th>\n",
       "      <td>Countess</td>\n",
       "      <td>33.0</td>\n",
       "    </tr>\n",
       "    <tr>\n",
       "      <th>3</th>\n",
       "      <td>Don</td>\n",
       "      <td>40.0</td>\n",
       "    </tr>\n",
       "    <tr>\n",
       "      <th>4</th>\n",
       "      <td>Dona</td>\n",
       "      <td>39.0</td>\n",
       "    </tr>\n",
       "    <tr>\n",
       "      <th>5</th>\n",
       "      <td>Dr</td>\n",
       "      <td>49.0</td>\n",
       "    </tr>\n",
       "    <tr>\n",
       "      <th>6</th>\n",
       "      <td>Jonkheer</td>\n",
       "      <td>38.0</td>\n",
       "    </tr>\n",
       "    <tr>\n",
       "      <th>7</th>\n",
       "      <td>Lady</td>\n",
       "      <td>48.0</td>\n",
       "    </tr>\n",
       "    <tr>\n",
       "      <th>8</th>\n",
       "      <td>Major</td>\n",
       "      <td>48.5</td>\n",
       "    </tr>\n",
       "    <tr>\n",
       "      <th>9</th>\n",
       "      <td>Master</td>\n",
       "      <td>4.0</td>\n",
       "    </tr>\n",
       "    <tr>\n",
       "      <th>10</th>\n",
       "      <td>Miss</td>\n",
       "      <td>22.0</td>\n",
       "    </tr>\n",
       "    <tr>\n",
       "      <th>11</th>\n",
       "      <td>Mlle</td>\n",
       "      <td>24.0</td>\n",
       "    </tr>\n",
       "    <tr>\n",
       "      <th>12</th>\n",
       "      <td>Mme</td>\n",
       "      <td>24.0</td>\n",
       "    </tr>\n",
       "    <tr>\n",
       "      <th>13</th>\n",
       "      <td>Mr</td>\n",
       "      <td>29.0</td>\n",
       "    </tr>\n",
       "    <tr>\n",
       "      <th>14</th>\n",
       "      <td>Mrs</td>\n",
       "      <td>35.5</td>\n",
       "    </tr>\n",
       "    <tr>\n",
       "      <th>15</th>\n",
       "      <td>Ms</td>\n",
       "      <td>28.0</td>\n",
       "    </tr>\n",
       "    <tr>\n",
       "      <th>16</th>\n",
       "      <td>Rev</td>\n",
       "      <td>41.5</td>\n",
       "    </tr>\n",
       "    <tr>\n",
       "      <th>17</th>\n",
       "      <td>Sir</td>\n",
       "      <td>49.0</td>\n",
       "    </tr>\n",
       "  </tbody>\n",
       "</table>\n",
       "</div>"
      ],
      "text/plain": [
       "       title   Age\n",
       "0       Capt  70.0\n",
       "1        Col  54.5\n",
       "2   Countess  33.0\n",
       "3        Don  40.0\n",
       "4       Dona  39.0\n",
       "5         Dr  49.0\n",
       "6   Jonkheer  38.0\n",
       "7       Lady  48.0\n",
       "8      Major  48.5\n",
       "9     Master   4.0\n",
       "10      Miss  22.0\n",
       "11      Mlle  24.0\n",
       "12       Mme  24.0\n",
       "13        Mr  29.0\n",
       "14       Mrs  35.5\n",
       "15        Ms  28.0\n",
       "16       Rev  41.5\n",
       "17       Sir  49.0"
      ]
     },
     "execution_count": 36,
     "metadata": {},
     "output_type": "execute_result"
    }
   ],
   "source": [
    "df.groupby('title')['Age'].median().reset_index()"
   ]
  },
  {
   "cell_type": "code",
   "execution_count": 37,
   "id": "5f830dbf",
   "metadata": {
    "execution": {
     "iopub.execute_input": "2021-10-13T08:27:52.900483Z",
     "iopub.status.busy": "2021-10-13T08:27:52.895067Z",
     "iopub.status.idle": "2021-10-13T08:27:52.903982Z",
     "shell.execute_reply": "2021-10-13T08:27:52.903384Z",
     "shell.execute_reply.started": "2021-10-13T08:26:54.968027Z"
    },
    "papermill": {
     "duration": 0.112406,
     "end_time": "2021-10-13T08:27:52.904157",
     "exception": false,
     "start_time": "2021-10-13T08:27:52.791751",
     "status": "completed"
    },
    "tags": []
   },
   "outputs": [],
   "source": [
    "df.loc[df.Age.isna(), 'Age'] = df.groupby('title')['Age'].transform('median')"
   ]
  },
  {
   "cell_type": "code",
   "execution_count": 38,
   "id": "b2c913a3",
   "metadata": {
    "execution": {
     "iopub.execute_input": "2021-10-13T08:27:53.118420Z",
     "iopub.status.busy": "2021-10-13T08:27:53.111372Z",
     "iopub.status.idle": "2021-10-13T08:27:53.120885Z",
     "shell.execute_reply": "2021-10-13T08:27:53.121374Z",
     "shell.execute_reply.started": "2021-10-13T08:26:54.982628Z"
    },
    "papermill": {
     "duration": 0.11515,
     "end_time": "2021-10-13T08:27:53.121546",
     "exception": false,
     "start_time": "2021-10-13T08:27:53.006396",
     "status": "completed"
    },
    "tags": []
   },
   "outputs": [
    {
     "data": {
      "text/plain": [
       "PassengerId       0\n",
       "Survived        418\n",
       "Pclass            0\n",
       "Name              0\n",
       "Sex               0\n",
       "Age               0\n",
       "SibSp             0\n",
       "Parch             0\n",
       "Ticket            0\n",
       "Fare              0\n",
       "Cabin          1014\n",
       "Embarked          0\n",
       "title             0\n",
       "dtype: int64"
      ]
     },
     "execution_count": 38,
     "metadata": {},
     "output_type": "execute_result"
    }
   ],
   "source": [
    "df.isna().sum()"
   ]
  },
  {
   "cell_type": "code",
   "execution_count": 39,
   "id": "6cb487c6",
   "metadata": {
    "execution": {
     "iopub.execute_input": "2021-10-13T08:27:53.332604Z",
     "iopub.status.busy": "2021-10-13T08:27:53.328945Z",
     "iopub.status.idle": "2021-10-13T08:27:53.336791Z",
     "shell.execute_reply": "2021-10-13T08:27:53.336257Z",
     "shell.execute_reply.started": "2021-10-13T08:26:54.999509Z"
    },
    "papermill": {
     "duration": 0.1146,
     "end_time": "2021-10-13T08:27:53.336932",
     "exception": false,
     "start_time": "2021-10-13T08:27:53.222332",
     "status": "completed"
    },
    "tags": []
   },
   "outputs": [
    {
     "data": {
      "text/plain": [
       "77.46371275783041"
      ]
     },
     "execution_count": 39,
     "metadata": {},
     "output_type": "execute_result"
    }
   ],
   "source": [
    "na_percent_cabin = df.Cabin.isna().sum()/df.shape[0]*100\n",
    "na_percent_cabin"
   ]
  },
  {
   "cell_type": "markdown",
   "id": "4cd26f6e",
   "metadata": {
    "papermill": {
     "duration": 0.100562,
     "end_time": "2021-10-13T08:27:53.538344",
     "exception": false,
     "start_time": "2021-10-13T08:27:53.437782",
     "status": "completed"
    },
    "tags": []
   },
   "source": [
    "\n",
    "**CORRELATION HEATMAP**\n"
   ]
  },
  {
   "cell_type": "code",
   "execution_count": 40,
   "id": "9e7a92bb",
   "metadata": {
    "execution": {
     "iopub.execute_input": "2021-10-13T08:27:53.750285Z",
     "iopub.status.busy": "2021-10-13T08:27:53.749269Z",
     "iopub.status.idle": "2021-10-13T08:27:54.394293Z",
     "shell.execute_reply": "2021-10-13T08:27:54.394821Z",
     "shell.execute_reply.started": "2021-10-13T08:26:55.018658Z"
    },
    "papermill": {
     "duration": 0.755918,
     "end_time": "2021-10-13T08:27:54.395002",
     "exception": false,
     "start_time": "2021-10-13T08:27:53.639084",
     "status": "completed"
    },
    "tags": []
   },
   "outputs": [
    {
     "data": {
      "text/plain": [
       "<AxesSubplot:>"
      ]
     },
     "execution_count": 40,
     "metadata": {},
     "output_type": "execute_result"
    },
    {
     "data": {
      "image/png": "[encoded data removed]",
      "text/plain": [
       "<Figure size 432x288 with 2 Axes>"
      ]
     },
     "metadata": {},
     "output_type": "display_data"
    }
   ],
   "source": [
    "sns.heatmap(df.corr(), annot = True)"
   ]
  },
  {
   "cell_type": "markdown",
   "id": "b1499f5e",
   "metadata": {
    "papermill": {
     "duration": 0.102337,
     "end_time": "2021-10-13T08:27:54.601871",
     "exception": false,
     "start_time": "2021-10-13T08:27:54.499534",
     "status": "completed"
    },
    "tags": []
   },
   "source": [
    "\n",
    "**FEATURE ENGINEERING**\n"
   ]
  },
  {
   "cell_type": "markdown",
   "id": "c88d4958",
   "metadata": {
    "papermill": {
     "duration": 0.102092,
     "end_time": "2021-10-13T08:27:54.806479",
     "exception": false,
     "start_time": "2021-10-13T08:27:54.704387",
     "status": "completed"
    },
    "tags": []
   },
   "source": [
    "\n",
    "SEX, EMBARKED AND PCLASS AS OBJECT\n"
   ]
  },
  {
   "cell_type": "code",
   "execution_count": 41,
   "id": "2cc1f025",
   "metadata": {
    "execution": {
     "iopub.execute_input": "2021-10-13T08:27:55.020981Z",
     "iopub.status.busy": "2021-10-13T08:27:55.020008Z",
     "iopub.status.idle": "2021-10-13T08:27:55.022941Z",
     "shell.execute_reply": "2021-10-13T08:27:55.022412Z",
     "shell.execute_reply.started": "2021-10-13T08:26:55.697946Z"
    },
    "papermill": {
     "duration": 0.113143,
     "end_time": "2021-10-13T08:27:55.023079",
     "exception": false,
     "start_time": "2021-10-13T08:27:54.909936",
     "status": "completed"
    },
    "tags": []
   },
   "outputs": [],
   "source": [
    "df['family_members'] = df.Parch + df.SibSp"
   ]
  },
  {
   "cell_type": "code",
   "execution_count": 42,
   "id": "b5c2974f",
   "metadata": {
    "execution": {
     "iopub.execute_input": "2021-10-13T08:27:55.235172Z",
     "iopub.status.busy": "2021-10-13T08:27:55.234270Z",
     "iopub.status.idle": "2021-10-13T08:27:55.237265Z",
     "shell.execute_reply": "2021-10-13T08:27:55.236747Z",
     "shell.execute_reply.started": "2021-10-13T08:26:55.705931Z"
    },
    "papermill": {
     "duration": 0.112096,
     "end_time": "2021-10-13T08:27:55.237400",
     "exception": false,
     "start_time": "2021-10-13T08:27:55.125304",
     "status": "completed"
    },
    "tags": []
   },
   "outputs": [],
   "source": [
    "df['IsAlone'] = (df['family_members']>0).astype('int64')"
   ]
  },
  {
   "cell_type": "code",
   "execution_count": 43,
   "id": "fda640ed",
   "metadata": {
    "execution": {
     "iopub.execute_input": "2021-10-13T08:27:55.445443Z",
     "iopub.status.busy": "2021-10-13T08:27:55.444821Z",
     "iopub.status.idle": "2021-10-13T08:27:55.465839Z",
     "shell.execute_reply": "2021-10-13T08:27:55.465207Z",
     "shell.execute_reply.started": "2021-10-13T08:26:55.719596Z"
    },
    "papermill": {
     "duration": 0.126399,
     "end_time": "2021-10-13T08:27:55.465978",
     "exception": false,
     "start_time": "2021-10-13T08:27:55.339579",
     "status": "completed"
    },
    "tags": []
   },
   "outputs": [
    {
     "data": {
      "text/plain": [
       "(-0.001, 7.896]      337\n",
       "(14.454, 31.275]     328\n",
       "(31.275, 512.329]    323\n",
       "(7.896, 14.454]      321\n",
       "Name: Fare, dtype: int64"
      ]
     },
     "execution_count": 43,
     "metadata": {},
     "output_type": "execute_result"
    }
   ],
   "source": [
    "pd.qcut(df['Fare'], 4).value_counts()"
   ]
  },
  {
   "cell_type": "code",
   "execution_count": 44,
   "id": "a4ceeea6",
   "metadata": {
    "execution": {
     "iopub.execute_input": "2021-10-13T08:27:55.682787Z",
     "iopub.status.busy": "2021-10-13T08:27:55.681851Z",
     "iopub.status.idle": "2021-10-13T08:27:55.684861Z",
     "shell.execute_reply": "2021-10-13T08:27:55.684152Z",
     "shell.execute_reply.started": "2021-10-13T08:26:55.740644Z"
    },
    "papermill": {
     "duration": 0.115663,
     "end_time": "2021-10-13T08:27:55.685054",
     "exception": false,
     "start_time": "2021-10-13T08:27:55.569391",
     "status": "completed"
    },
    "tags": []
   },
   "outputs": [],
   "source": [
    "df.loc[df['Fare'] <= 7.8, 'FareBand'] = 0\n",
    "df.loc[(df['Fare'] > 7.8) & (df['Fare'] <= 14.5), 'FareBand'] = 1\n",
    "df.loc[(df['Fare'] > 14.5) & (df['Fare'] <= 31.27), 'FareBand'] = 2\n",
    "df.loc[df['Fare'] > 31.27, 'FareBand'] = 4\n"
   ]
  },
  {
   "cell_type": "code",
   "execution_count": 45,
   "id": "bcc5ce2c",
   "metadata": {
    "execution": {
     "iopub.execute_input": "2021-10-13T08:27:55.916020Z",
     "iopub.status.busy": "2021-10-13T08:27:55.915060Z",
     "iopub.status.idle": "2021-10-13T08:27:55.919198Z",
     "shell.execute_reply": "2021-10-13T08:27:55.918571Z",
     "shell.execute_reply.started": "2021-10-13T08:26:55.754188Z"
    },
    "papermill": {
     "duration": 0.127462,
     "end_time": "2021-10-13T08:27:55.919339",
     "exception": false,
     "start_time": "2021-10-13T08:27:55.791877",
     "status": "completed"
    },
    "tags": []
   },
   "outputs": [
    {
     "data": {
      "text/html": [
       "<div>\n",
       "<style scoped>\n",
       "    .dataframe tbody tr th:only-of-type {\n",
       "        vertical-align: middle;\n",
       "    }\n",
       "\n",
       "    .dataframe tbody tr th {\n",
       "        vertical-align: top;\n",
       "    }\n",
       "\n",
       "    .dataframe thead th {\n",
       "        text-align: right;\n",
       "    }\n",
       "</style>\n",
       "<table border=\"1\" class=\"dataframe\">\n",
       "  <thead>\n",
       "    <tr style=\"text-align: right;\">\n",
       "      <th></th>\n",
       "      <th>PassengerId</th>\n",
       "      <th>Survived</th>\n",
       "      <th>Pclass</th>\n",
       "      <th>Name</th>\n",
       "      <th>Sex</th>\n",
       "      <th>Age</th>\n",
       "      <th>SibSp</th>\n",
       "      <th>Parch</th>\n",
       "      <th>Ticket</th>\n",
       "      <th>Fare</th>\n",
       "      <th>Cabin</th>\n",
       "      <th>Embarked</th>\n",
       "      <th>title</th>\n",
       "      <th>family_members</th>\n",
       "      <th>IsAlone</th>\n",
       "      <th>FareBand</th>\n",
       "    </tr>\n",
       "  </thead>\n",
       "  <tbody>\n",
       "    <tr>\n",
       "      <th>0</th>\n",
       "      <td>1</td>\n",
       "      <td>0.0</td>\n",
       "      <td>3</td>\n",
       "      <td>Braund, Mr. Owen Harris</td>\n",
       "      <td>male</td>\n",
       "      <td>22.0</td>\n",
       "      <td>1</td>\n",
       "      <td>0</td>\n",
       "      <td>A/5 21171</td>\n",
       "      <td>7.2500</td>\n",
       "      <td>NaN</td>\n",
       "      <td>S</td>\n",
       "      <td>Mr</td>\n",
       "      <td>1</td>\n",
       "      <td>1</td>\n",
       "      <td>0</td>\n",
       "    </tr>\n",
       "    <tr>\n",
       "      <th>1</th>\n",
       "      <td>2</td>\n",
       "      <td>1.0</td>\n",
       "      <td>1</td>\n",
       "      <td>Cumings, Mrs. John Bradley (Florence Briggs Th...</td>\n",
       "      <td>female</td>\n",
       "      <td>38.0</td>\n",
       "      <td>1</td>\n",
       "      <td>0</td>\n",
       "      <td>PC 17599</td>\n",
       "      <td>71.2833</td>\n",
       "      <td>C85</td>\n",
       "      <td>C</td>\n",
       "      <td>Mrs</td>\n",
       "      <td>1</td>\n",
       "      <td>1</td>\n",
       "      <td>4</td>\n",
       "    </tr>\n",
       "    <tr>\n",
       "      <th>2</th>\n",
       "      <td>3</td>\n",
       "      <td>1.0</td>\n",
       "      <td>3</td>\n",
       "      <td>Heikkinen, Miss. Laina</td>\n",
       "      <td>female</td>\n",
       "      <td>26.0</td>\n",
       "      <td>0</td>\n",
       "      <td>0</td>\n",
       "      <td>STON/O2. 3101282</td>\n",
       "      <td>7.9250</td>\n",
       "      <td>NaN</td>\n",
       "      <td>S</td>\n",
       "      <td>Miss</td>\n",
       "      <td>0</td>\n",
       "      <td>0</td>\n",
       "      <td>1</td>\n",
       "    </tr>\n",
       "    <tr>\n",
       "      <th>3</th>\n",
       "      <td>4</td>\n",
       "      <td>1.0</td>\n",
       "      <td>1</td>\n",
       "      <td>Futrelle, Mrs. Jacques Heath (Lily May Peel)</td>\n",
       "      <td>female</td>\n",
       "      <td>35.0</td>\n",
       "      <td>1</td>\n",
       "      <td>0</td>\n",
       "      <td>113803</td>\n",
       "      <td>53.1000</td>\n",
       "      <td>C123</td>\n",
       "      <td>S</td>\n",
       "      <td>Mrs</td>\n",
       "      <td>1</td>\n",
       "      <td>1</td>\n",
       "      <td>4</td>\n",
       "    </tr>\n",
       "    <tr>\n",
       "      <th>4</th>\n",
       "      <td>5</td>\n",
       "      <td>0.0</td>\n",
       "      <td>3</td>\n",
       "      <td>Allen, Mr. William Henry</td>\n",
       "      <td>male</td>\n",
       "      <td>35.0</td>\n",
       "      <td>0</td>\n",
       "      <td>0</td>\n",
       "      <td>373450</td>\n",
       "      <td>8.0500</td>\n",
       "      <td>NaN</td>\n",
       "      <td>S</td>\n",
       "      <td>Mr</td>\n",
       "      <td>0</td>\n",
       "      <td>0</td>\n",
       "      <td>1</td>\n",
       "    </tr>\n",
       "  </tbody>\n",
       "</table>\n",
       "</div>"
      ],
      "text/plain": [
       "   PassengerId  Survived  Pclass  \\\n",
       "0            1       0.0       3   \n",
       "1            2       1.0       1   \n",
       "2            3       1.0       3   \n",
       "3            4       1.0       1   \n",
       "4            5       0.0       3   \n",
       "\n",
       "                                                Name     Sex   Age  SibSp  \\\n",
       "0                            Braund, Mr. Owen Harris    male  22.0      1   \n",
       "1  Cumings, Mrs. John Bradley (Florence Briggs Th...  female  38.0      1   \n",
       "2                             Heikkinen, Miss. Laina  female  26.0      0   \n",
       "3       Futrelle, Mrs. Jacques Heath (Lily May Peel)  female  35.0      1   \n",
       "4                           Allen, Mr. William Henry    male  35.0      0   \n",
       "\n",
       "   Parch            Ticket     Fare Cabin Embarked title  family_members  \\\n",
       "0      0         A/5 21171   7.2500   NaN        S    Mr               1   \n",
       "1      0          PC 17599  71.2833   C85        C   Mrs               1   \n",
       "2      0  STON/O2. 3101282   7.9250   NaN        S  Miss               0   \n",
       "3      0            113803  53.1000  C123        S   Mrs               1   \n",
       "4      0            373450   8.0500   NaN        S    Mr               0   \n",
       "\n",
       "   IsAlone  FareBand  \n",
       "0        1         0  \n",
       "1        1         4  \n",
       "2        0         1  \n",
       "3        1         4  \n",
       "4        0         1  "
      ]
     },
     "execution_count": 45,
     "metadata": {},
     "output_type": "execute_result"
    }
   ],
   "source": [
    "df.FareBand = df.FareBand.astype('int64')\n",
    "df.head()"
   ]
  },
  {
   "cell_type": "code",
   "execution_count": 46,
   "id": "3f09e869",
   "metadata": {
    "execution": {
     "iopub.execute_input": "2021-10-13T08:27:56.138247Z",
     "iopub.status.busy": "2021-10-13T08:27:56.137526Z",
     "iopub.status.idle": "2021-10-13T08:27:56.140416Z",
     "shell.execute_reply": "2021-10-13T08:27:56.139930Z",
     "shell.execute_reply.started": "2021-10-13T08:26:55.778688Z"
    },
    "papermill": {
     "duration": 0.116462,
     "end_time": "2021-10-13T08:27:56.140553",
     "exception": false,
     "start_time": "2021-10-13T08:27:56.024091",
     "status": "completed"
    },
    "tags": []
   },
   "outputs": [],
   "source": [
    "bins = [1,19,30,50,100]\n",
    "labels = ['minor','young','old','very_old']\n",
    "\n",
    "df['age_range'] = pd.cut(df['Age'],bins = bins, labels = labels)"
   ]
  },
  {
   "cell_type": "code",
   "execution_count": 47,
   "id": "e4d05f4c",
   "metadata": {
    "execution": {
     "iopub.execute_input": "2021-10-13T08:27:56.370309Z",
     "iopub.status.busy": "2021-10-13T08:27:56.356267Z",
     "iopub.status.idle": "2021-10-13T08:27:56.373338Z",
     "shell.execute_reply": "2021-10-13T08:27:56.373805Z",
     "shell.execute_reply.started": "2021-10-13T08:26:55.789806Z"
    },
    "papermill": {
     "duration": 0.129255,
     "end_time": "2021-10-13T08:27:56.373980",
     "exception": false,
     "start_time": "2021-10-13T08:27:56.244725",
     "status": "completed"
    },
    "tags": []
   },
   "outputs": [
    {
     "data": {
      "text/html": [
       "<div>\n",
       "<style scoped>\n",
       "    .dataframe tbody tr th:only-of-type {\n",
       "        vertical-align: middle;\n",
       "    }\n",
       "\n",
       "    .dataframe tbody tr th {\n",
       "        vertical-align: top;\n",
       "    }\n",
       "\n",
       "    .dataframe thead th {\n",
       "        text-align: right;\n",
       "    }\n",
       "</style>\n",
       "<table border=\"1\" class=\"dataframe\">\n",
       "  <thead>\n",
       "    <tr style=\"text-align: right;\">\n",
       "      <th></th>\n",
       "      <th>PassengerId</th>\n",
       "      <th>Survived</th>\n",
       "      <th>Pclass</th>\n",
       "      <th>Name</th>\n",
       "      <th>Sex</th>\n",
       "      <th>Age</th>\n",
       "      <th>SibSp</th>\n",
       "      <th>Parch</th>\n",
       "      <th>Ticket</th>\n",
       "      <th>Fare</th>\n",
       "      <th>Cabin</th>\n",
       "      <th>Embarked</th>\n",
       "      <th>title</th>\n",
       "      <th>family_members</th>\n",
       "      <th>IsAlone</th>\n",
       "      <th>FareBand</th>\n",
       "      <th>age_range</th>\n",
       "    </tr>\n",
       "  </thead>\n",
       "  <tbody>\n",
       "    <tr>\n",
       "      <th>0</th>\n",
       "      <td>1</td>\n",
       "      <td>0.0</td>\n",
       "      <td>3</td>\n",
       "      <td>Braund, Mr. Owen Harris</td>\n",
       "      <td>male</td>\n",
       "      <td>22.0</td>\n",
       "      <td>1</td>\n",
       "      <td>0</td>\n",
       "      <td>A/5 21171</td>\n",
       "      <td>7.2500</td>\n",
       "      <td>NaN</td>\n",
       "      <td>S</td>\n",
       "      <td>Mr</td>\n",
       "      <td>1</td>\n",
       "      <td>1</td>\n",
       "      <td>0</td>\n",
       "      <td>1</td>\n",
       "    </tr>\n",
       "    <tr>\n",
       "      <th>1</th>\n",
       "      <td>2</td>\n",
       "      <td>1.0</td>\n",
       "      <td>1</td>\n",
       "      <td>Cumings, Mrs. John Bradley (Florence Briggs Th...</td>\n",
       "      <td>female</td>\n",
       "      <td>38.0</td>\n",
       "      <td>1</td>\n",
       "      <td>0</td>\n",
       "      <td>PC 17599</td>\n",
       "      <td>71.2833</td>\n",
       "      <td>C85</td>\n",
       "      <td>C</td>\n",
       "      <td>Mrs</td>\n",
       "      <td>1</td>\n",
       "      <td>1</td>\n",
       "      <td>4</td>\n",
       "      <td>2</td>\n",
       "    </tr>\n",
       "    <tr>\n",
       "      <th>2</th>\n",
       "      <td>3</td>\n",
       "      <td>1.0</td>\n",
       "      <td>3</td>\n",
       "      <td>Heikkinen, Miss. Laina</td>\n",
       "      <td>female</td>\n",
       "      <td>26.0</td>\n",
       "      <td>0</td>\n",
       "      <td>0</td>\n",
       "      <td>STON/O2. 3101282</td>\n",
       "      <td>7.9250</td>\n",
       "      <td>NaN</td>\n",
       "      <td>S</td>\n",
       "      <td>Miss</td>\n",
       "      <td>0</td>\n",
       "      <td>0</td>\n",
       "      <td>1</td>\n",
       "      <td>1</td>\n",
       "    </tr>\n",
       "    <tr>\n",
       "      <th>3</th>\n",
       "      <td>4</td>\n",
       "      <td>1.0</td>\n",
       "      <td>1</td>\n",
       "      <td>Futrelle, Mrs. Jacques Heath (Lily May Peel)</td>\n",
       "      <td>female</td>\n",
       "      <td>35.0</td>\n",
       "      <td>1</td>\n",
       "      <td>0</td>\n",
       "      <td>113803</td>\n",
       "      <td>53.1000</td>\n",
       "      <td>C123</td>\n",
       "      <td>S</td>\n",
       "      <td>Mrs</td>\n",
       "      <td>1</td>\n",
       "      <td>1</td>\n",
       "      <td>4</td>\n",
       "      <td>2</td>\n",
       "    </tr>\n",
       "    <tr>\n",
       "      <th>4</th>\n",
       "      <td>5</td>\n",
       "      <td>0.0</td>\n",
       "      <td>3</td>\n",
       "      <td>Allen, Mr. William Henry</td>\n",
       "      <td>male</td>\n",
       "      <td>35.0</td>\n",
       "      <td>0</td>\n",
       "      <td>0</td>\n",
       "      <td>373450</td>\n",
       "      <td>8.0500</td>\n",
       "      <td>NaN</td>\n",
       "      <td>S</td>\n",
       "      <td>Mr</td>\n",
       "      <td>0</td>\n",
       "      <td>0</td>\n",
       "      <td>1</td>\n",
       "      <td>2</td>\n",
       "    </tr>\n",
       "  </tbody>\n",
       "</table>\n",
       "</div>"
      ],
      "text/plain": [
       "   PassengerId  Survived  Pclass  \\\n",
       "0            1       0.0       3   \n",
       "1            2       1.0       1   \n",
       "2            3       1.0       3   \n",
       "3            4       1.0       1   \n",
       "4            5       0.0       3   \n",
       "\n",
       "                                                Name     Sex   Age  SibSp  \\\n",
       "0                            Braund, Mr. Owen Harris    male  22.0      1   \n",
       "1  Cumings, Mrs. John Bradley (Florence Briggs Th...  female  38.0      1   \n",
       "2                             Heikkinen, Miss. Laina  female  26.0      0   \n",
       "3       Futrelle, Mrs. Jacques Heath (Lily May Peel)  female  35.0      1   \n",
       "4                           Allen, Mr. William Henry    male  35.0      0   \n",
       "\n",
       "   Parch            Ticket     Fare Cabin Embarked title  family_members  \\\n",
       "0      0         A/5 21171   7.2500   NaN        S    Mr               1   \n",
       "1      0          PC 17599  71.2833   C85        C   Mrs               1   \n",
       "2      0  STON/O2. 3101282   7.9250   NaN        S  Miss               0   \n",
       "3      0            113803  53.1000  C123        S   Mrs               1   \n",
       "4      0            373450   8.0500   NaN        S    Mr               0   \n",
       "\n",
       "   IsAlone  FareBand age_range  \n",
       "0        1         0         1  \n",
       "1        1         4         2  \n",
       "2        0         1         1  \n",
       "3        1         4         2  \n",
       "4        0         1         2  "
      ]
     },
     "execution_count": 47,
     "metadata": {},
     "output_type": "execute_result"
    }
   ],
   "source": [
    "df['age_range'] = df.age_range.map({'minor':0,'young':1,'old':2,'very_old':3})\n",
    "df.head()"
   ]
  },
  {
   "cell_type": "code",
   "execution_count": 48,
   "id": "30680399",
   "metadata": {
    "execution": {
     "iopub.execute_input": "2021-10-13T08:27:56.595563Z",
     "iopub.status.busy": "2021-10-13T08:27:56.594900Z",
     "iopub.status.idle": "2021-10-13T08:27:56.597744Z",
     "shell.execute_reply": "2021-10-13T08:27:56.597105Z",
     "shell.execute_reply.started": "2021-10-13T08:26:55.819955Z"
    },
    "papermill": {
     "duration": 0.118432,
     "end_time": "2021-10-13T08:27:56.597882",
     "exception": false,
     "start_time": "2021-10-13T08:27:56.479450",
     "status": "completed"
    },
    "tags": []
   },
   "outputs": [],
   "source": [
    "df['title'] = df['title'].replace(['Lady', 'Countess','Capt', 'Col', 'Don', 'Dr', 'Major', 'Rev', 'Sir', 'Jonkheer', 'Dona'], 'Other')"
   ]
  },
  {
   "cell_type": "code",
   "execution_count": 49,
   "id": "45586aa1",
   "metadata": {
    "execution": {
     "iopub.execute_input": "2021-10-13T08:27:56.829923Z",
     "iopub.status.busy": "2021-10-13T08:27:56.816436Z",
     "iopub.status.idle": "2021-10-13T08:27:56.833399Z",
     "shell.execute_reply": "2021-10-13T08:27:56.832875Z",
     "shell.execute_reply.started": "2021-10-13T08:26:55.831808Z"
    },
    "papermill": {
     "duration": 0.131254,
     "end_time": "2021-10-13T08:27:56.833535",
     "exception": false,
     "start_time": "2021-10-13T08:27:56.702281",
     "status": "completed"
    },
    "tags": []
   },
   "outputs": [
    {
     "data": {
      "text/html": [
       "<div>\n",
       "<style scoped>\n",
       "    .dataframe tbody tr th:only-of-type {\n",
       "        vertical-align: middle;\n",
       "    }\n",
       "\n",
       "    .dataframe tbody tr th {\n",
       "        vertical-align: top;\n",
       "    }\n",
       "\n",
       "    .dataframe thead th {\n",
       "        text-align: right;\n",
       "    }\n",
       "</style>\n",
       "<table border=\"1\" class=\"dataframe\">\n",
       "  <thead>\n",
       "    <tr style=\"text-align: right;\">\n",
       "      <th></th>\n",
       "      <th>PassengerId</th>\n",
       "      <th>Survived</th>\n",
       "      <th>Pclass</th>\n",
       "      <th>Name</th>\n",
       "      <th>Sex</th>\n",
       "      <th>Age</th>\n",
       "      <th>SibSp</th>\n",
       "      <th>Parch</th>\n",
       "      <th>Ticket</th>\n",
       "      <th>Fare</th>\n",
       "      <th>Cabin</th>\n",
       "      <th>Embarked</th>\n",
       "      <th>title</th>\n",
       "      <th>family_members</th>\n",
       "      <th>IsAlone</th>\n",
       "      <th>FareBand</th>\n",
       "      <th>age_range</th>\n",
       "    </tr>\n",
       "  </thead>\n",
       "  <tbody>\n",
       "    <tr>\n",
       "      <th>0</th>\n",
       "      <td>1</td>\n",
       "      <td>0.0</td>\n",
       "      <td>3</td>\n",
       "      <td>Braund, Mr. Owen Harris</td>\n",
       "      <td>male</td>\n",
       "      <td>22.0</td>\n",
       "      <td>1</td>\n",
       "      <td>0</td>\n",
       "      <td>A/5 21171</td>\n",
       "      <td>7.2500</td>\n",
       "      <td>NaN</td>\n",
       "      <td>S</td>\n",
       "      <td>Mr</td>\n",
       "      <td>1</td>\n",
       "      <td>1</td>\n",
       "      <td>0</td>\n",
       "      <td>1</td>\n",
       "    </tr>\n",
       "    <tr>\n",
       "      <th>1</th>\n",
       "      <td>2</td>\n",
       "      <td>1.0</td>\n",
       "      <td>1</td>\n",
       "      <td>Cumings, Mrs. John Bradley (Florence Briggs Th...</td>\n",
       "      <td>female</td>\n",
       "      <td>38.0</td>\n",
       "      <td>1</td>\n",
       "      <td>0</td>\n",
       "      <td>PC 17599</td>\n",
       "      <td>71.2833</td>\n",
       "      <td>C85</td>\n",
       "      <td>C</td>\n",
       "      <td>Mrs</td>\n",
       "      <td>1</td>\n",
       "      <td>1</td>\n",
       "      <td>4</td>\n",
       "      <td>2</td>\n",
       "    </tr>\n",
       "    <tr>\n",
       "      <th>2</th>\n",
       "      <td>3</td>\n",
       "      <td>1.0</td>\n",
       "      <td>3</td>\n",
       "      <td>Heikkinen, Miss. Laina</td>\n",
       "      <td>female</td>\n",
       "      <td>26.0</td>\n",
       "      <td>0</td>\n",
       "      <td>0</td>\n",
       "      <td>STON/O2. 3101282</td>\n",
       "      <td>7.9250</td>\n",
       "      <td>NaN</td>\n",
       "      <td>S</td>\n",
       "      <td>Miss</td>\n",
       "      <td>0</td>\n",
       "      <td>0</td>\n",
       "      <td>1</td>\n",
       "      <td>1</td>\n",
       "    </tr>\n",
       "    <tr>\n",
       "      <th>3</th>\n",
       "      <td>4</td>\n",
       "      <td>1.0</td>\n",
       "      <td>1</td>\n",
       "      <td>Futrelle, Mrs. Jacques Heath (Lily May Peel)</td>\n",
       "      <td>female</td>\n",
       "      <td>35.0</td>\n",
       "      <td>1</td>\n",
       "      <td>0</td>\n",
       "      <td>113803</td>\n",
       "      <td>53.1000</td>\n",
       "      <td>C123</td>\n",
       "      <td>S</td>\n",
       "      <td>Mrs</td>\n",
       "      <td>1</td>\n",
       "      <td>1</td>\n",
       "      <td>4</td>\n",
       "      <td>2</td>\n",
       "    </tr>\n",
       "    <tr>\n",
       "      <th>4</th>\n",
       "      <td>5</td>\n",
       "      <td>0.0</td>\n",
       "      <td>3</td>\n",
       "      <td>Allen, Mr. William Henry</td>\n",
       "      <td>male</td>\n",
       "      <td>35.0</td>\n",
       "      <td>0</td>\n",
       "      <td>0</td>\n",
       "      <td>373450</td>\n",
       "      <td>8.0500</td>\n",
       "      <td>NaN</td>\n",
       "      <td>S</td>\n",
       "      <td>Mr</td>\n",
       "      <td>0</td>\n",
       "      <td>0</td>\n",
       "      <td>1</td>\n",
       "      <td>2</td>\n",
       "    </tr>\n",
       "  </tbody>\n",
       "</table>\n",
       "</div>"
      ],
      "text/plain": [
       "   PassengerId  Survived  Pclass  \\\n",
       "0            1       0.0       3   \n",
       "1            2       1.0       1   \n",
       "2            3       1.0       3   \n",
       "3            4       1.0       1   \n",
       "4            5       0.0       3   \n",
       "\n",
       "                                                Name     Sex   Age  SibSp  \\\n",
       "0                            Braund, Mr. Owen Harris    male  22.0      1   \n",
       "1  Cumings, Mrs. John Bradley (Florence Briggs Th...  female  38.0      1   \n",
       "2                             Heikkinen, Miss. Laina  female  26.0      0   \n",
       "3       Futrelle, Mrs. Jacques Heath (Lily May Peel)  female  35.0      1   \n",
       "4                           Allen, Mr. William Henry    male  35.0      0   \n",
       "\n",
       "   Parch            Ticket     Fare Cabin Embarked title  family_members  \\\n",
       "0      0         A/5 21171   7.2500   NaN        S    Mr               1   \n",
       "1      0          PC 17599  71.2833   C85        C   Mrs               1   \n",
       "2      0  STON/O2. 3101282   7.9250   NaN        S  Miss               0   \n",
       "3      0            113803  53.1000  C123        S   Mrs               1   \n",
       "4      0            373450   8.0500   NaN        S    Mr               0   \n",
       "\n",
       "   IsAlone  FareBand age_range  \n",
       "0        1         0         1  \n",
       "1        1         4         2  \n",
       "2        0         1         1  \n",
       "3        1         4         2  \n",
       "4        0         1         2  "
      ]
     },
     "execution_count": 49,
     "metadata": {},
     "output_type": "execute_result"
    }
   ],
   "source": [
    "df['title'] = df['title'].replace('Mlle', 'Miss')\n",
    "df['title'] = df['title'].replace('Ms', 'Miss')\n",
    "df['title'] = df['title'].replace('Mme', 'Mrs')\n",
    "\n",
    "df.head()"
   ]
  },
  {
   "cell_type": "markdown",
   "id": "3004e26d",
   "metadata": {
    "papermill": {
     "duration": 0.105387,
     "end_time": "2021-10-13T08:27:57.045371",
     "exception": false,
     "start_time": "2021-10-13T08:27:56.939984",
     "status": "completed"
    },
    "tags": []
   },
   "source": [
    "**Drop unnecessary columns**"
   ]
  },
  {
   "cell_type": "code",
   "execution_count": 50,
   "id": "c79350ca",
   "metadata": {
    "execution": {
     "iopub.execute_input": "2021-10-13T08:27:57.267247Z",
     "iopub.status.busy": "2021-10-13T08:27:57.266592Z",
     "iopub.status.idle": "2021-10-13T08:27:57.270181Z",
     "shell.execute_reply": "2021-10-13T08:27:57.269608Z",
     "shell.execute_reply.started": "2021-10-13T08:26:55.863760Z"
    },
    "papermill": {
     "duration": 0.113725,
     "end_time": "2021-10-13T08:27:57.270336",
     "exception": false,
     "start_time": "2021-10-13T08:27:57.156611",
     "status": "completed"
    },
    "tags": []
   },
   "outputs": [],
   "source": [
    "drop_cols = ['Name', 'Ticket', 'Cabin', 'Fare', 'Age', 'Parch', 'SibSp', ]\n",
    "df.drop(drop_cols, axis = 1, inplace = True)"
   ]
  },
  {
   "cell_type": "markdown",
   "id": "df1b98e6",
   "metadata": {
    "papermill": {
     "duration": 0.10403,
     "end_time": "2021-10-13T08:27:57.478791",
     "exception": false,
     "start_time": "2021-10-13T08:27:57.374761",
     "status": "completed"
    },
    "tags": []
   },
   "source": [
    "\n",
    "**LABEL ENCODING**\n"
   ]
  },
  {
   "cell_type": "code",
   "execution_count": 51,
   "id": "15719396",
   "metadata": {
    "execution": {
     "iopub.execute_input": "2021-10-13T08:27:57.690470Z",
     "iopub.status.busy": "2021-10-13T08:27:57.689863Z",
     "iopub.status.idle": "2021-10-13T08:27:57.818754Z",
     "shell.execute_reply": "2021-10-13T08:27:57.819236Z",
     "shell.execute_reply.started": "2021-10-13T08:26:55.872631Z"
    },
    "papermill": {
     "duration": 0.236326,
     "end_time": "2021-10-13T08:27:57.819426",
     "exception": false,
     "start_time": "2021-10-13T08:27:57.583100",
     "status": "completed"
    },
    "tags": []
   },
   "outputs": [],
   "source": [
    "from sklearn.preprocessing import LabelEncoder\n",
    "\n",
    "le = LabelEncoder()\n",
    "col = ['Sex', 'Embarked', 'title']\n",
    "df['Sex'] = le.fit_transform(df['Sex'])\n",
    "df['Embarked'] = le.fit_transform(df['Embarked'])\n",
    "df['title'] = le.fit_transform(df['title'])"
   ]
  },
  {
   "cell_type": "code",
   "execution_count": 52,
   "id": "7af026a7",
   "metadata": {
    "execution": {
     "iopub.execute_input": "2021-10-13T08:27:58.045089Z",
     "iopub.status.busy": "2021-10-13T08:27:58.044411Z",
     "iopub.status.idle": "2021-10-13T08:27:58.047440Z",
     "shell.execute_reply": "2021-10-13T08:27:58.047939Z",
     "shell.execute_reply.started": "2021-10-13T08:26:55.930129Z"
    },
    "papermill": {
     "duration": 0.122885,
     "end_time": "2021-10-13T08:27:58.048110",
     "exception": false,
     "start_time": "2021-10-13T08:27:57.925225",
     "status": "completed"
    },
    "tags": []
   },
   "outputs": [
    {
     "data": {
      "text/html": [
       "<div>\n",
       "<style scoped>\n",
       "    .dataframe tbody tr th:only-of-type {\n",
       "        vertical-align: middle;\n",
       "    }\n",
       "\n",
       "    .dataframe tbody tr th {\n",
       "        vertical-align: top;\n",
       "    }\n",
       "\n",
       "    .dataframe thead th {\n",
       "        text-align: right;\n",
       "    }\n",
       "</style>\n",
       "<table border=\"1\" class=\"dataframe\">\n",
       "  <thead>\n",
       "    <tr style=\"text-align: right;\">\n",
       "      <th></th>\n",
       "      <th>PassengerId</th>\n",
       "      <th>Survived</th>\n",
       "      <th>Pclass</th>\n",
       "      <th>Sex</th>\n",
       "      <th>Embarked</th>\n",
       "      <th>title</th>\n",
       "      <th>family_members</th>\n",
       "      <th>IsAlone</th>\n",
       "      <th>FareBand</th>\n",
       "      <th>age_range</th>\n",
       "    </tr>\n",
       "  </thead>\n",
       "  <tbody>\n",
       "    <tr>\n",
       "      <th>0</th>\n",
       "      <td>1</td>\n",
       "      <td>0.0</td>\n",
       "      <td>3</td>\n",
       "      <td>1</td>\n",
       "      <td>2</td>\n",
       "      <td>2</td>\n",
       "      <td>1</td>\n",
       "      <td>1</td>\n",
       "      <td>0</td>\n",
       "      <td>1</td>\n",
       "    </tr>\n",
       "    <tr>\n",
       "      <th>1</th>\n",
       "      <td>2</td>\n",
       "      <td>1.0</td>\n",
       "      <td>1</td>\n",
       "      <td>0</td>\n",
       "      <td>0</td>\n",
       "      <td>3</td>\n",
       "      <td>1</td>\n",
       "      <td>1</td>\n",
       "      <td>4</td>\n",
       "      <td>2</td>\n",
       "    </tr>\n",
       "    <tr>\n",
       "      <th>2</th>\n",
       "      <td>3</td>\n",
       "      <td>1.0</td>\n",
       "      <td>3</td>\n",
       "      <td>0</td>\n",
       "      <td>2</td>\n",
       "      <td>1</td>\n",
       "      <td>0</td>\n",
       "      <td>0</td>\n",
       "      <td>1</td>\n",
       "      <td>1</td>\n",
       "    </tr>\n",
       "    <tr>\n",
       "      <th>3</th>\n",
       "      <td>4</td>\n",
       "      <td>1.0</td>\n",
       "      <td>1</td>\n",
       "      <td>0</td>\n",
       "      <td>2</td>\n",
       "      <td>3</td>\n",
       "      <td>1</td>\n",
       "      <td>1</td>\n",
       "      <td>4</td>\n",
       "      <td>2</td>\n",
       "    </tr>\n",
       "    <tr>\n",
       "      <th>4</th>\n",
       "      <td>5</td>\n",
       "      <td>0.0</td>\n",
       "      <td>3</td>\n",
       "      <td>1</td>\n",
       "      <td>2</td>\n",
       "      <td>2</td>\n",
       "      <td>0</td>\n",
       "      <td>0</td>\n",
       "      <td>1</td>\n",
       "      <td>2</td>\n",
       "    </tr>\n",
       "  </tbody>\n",
       "</table>\n",
       "</div>"
      ],
      "text/plain": [
       "   PassengerId  Survived  Pclass  Sex  Embarked  title  family_members  \\\n",
       "0            1       0.0       3    1         2      2               1   \n",
       "1            2       1.0       1    0         0      3               1   \n",
       "2            3       1.0       3    0         2      1               0   \n",
       "3            4       1.0       1    0         2      3               1   \n",
       "4            5       0.0       3    1         2      2               0   \n",
       "\n",
       "   IsAlone  FareBand age_range  \n",
       "0        1         0         1  \n",
       "1        1         4         2  \n",
       "2        0         1         1  \n",
       "3        1         4         2  \n",
       "4        0         1         2  "
      ]
     },
     "execution_count": 52,
     "metadata": {},
     "output_type": "execute_result"
    }
   ],
   "source": [
    "df.head()"
   ]
  },
  {
   "cell_type": "markdown",
   "id": "7555c110",
   "metadata": {
    "papermill": {
     "duration": 0.106363,
     "end_time": "2021-10-13T08:27:58.260826",
     "exception": false,
     "start_time": "2021-10-13T08:27:58.154463",
     "status": "completed"
    },
    "tags": []
   },
   "source": [
    "**Variance Inflation Factor**"
   ]
  },
  {
   "cell_type": "code",
   "execution_count": 53,
   "id": "3251c955",
   "metadata": {
    "execution": {
     "iopub.execute_input": "2021-10-13T08:27:58.474186Z",
     "iopub.status.busy": "2021-10-13T08:27:58.473545Z",
     "iopub.status.idle": "2021-10-13T08:27:58.483058Z",
     "shell.execute_reply": "2021-10-13T08:27:58.482467Z",
     "shell.execute_reply.started": "2021-10-13T08:26:55.951498Z"
    },
    "papermill": {
     "duration": 0.117315,
     "end_time": "2021-10-13T08:27:58.483200",
     "exception": false,
     "start_time": "2021-10-13T08:27:58.365885",
     "status": "completed"
    },
    "tags": []
   },
   "outputs": [
    {
     "data": {
      "text/plain": [
       "0"
      ]
     },
     "execution_count": 53,
     "metadata": {},
     "output_type": "execute_result"
    }
   ],
   "source": [
    "cat = df.select_dtypes(['int64', 'float64'])\n",
    "cat = cat[cat['Survived'].notna()]\n",
    "cat.Survived.isnull().sum()"
   ]
  },
  {
   "cell_type": "code",
   "execution_count": 54,
   "id": "a903fc2c",
   "metadata": {
    "execution": {
     "iopub.execute_input": "2021-10-13T08:27:58.699480Z",
     "iopub.status.busy": "2021-10-13T08:27:58.696893Z",
     "iopub.status.idle": "2021-10-13T08:27:58.859320Z",
     "shell.execute_reply": "2021-10-13T08:27:58.860019Z",
     "shell.execute_reply.started": "2021-10-13T08:26:55.970470Z"
    },
    "papermill": {
     "duration": 0.271626,
     "end_time": "2021-10-13T08:27:58.860289",
     "exception": false,
     "start_time": "2021-10-13T08:27:58.588663",
     "status": "completed"
    },
    "tags": []
   },
   "outputs": [
    {
     "data": {
      "text/plain": [
       "PassengerId       3.862955\n",
       "Survived          2.271541\n",
       "Pclass            7.641692\n",
       "Sex               3.857327\n",
       "Embarked          4.801827\n",
       "title             6.408511\n",
       "family_members    3.356480\n",
       "IsAlone           3.848880\n",
       "FareBand          4.884309\n",
       "dtype: float64"
      ]
     },
     "execution_count": 54,
     "metadata": {},
     "output_type": "execute_result"
    }
   ],
   "source": [
    "from statsmodels.stats.outliers_influence import variance_inflation_factor\n",
    "\n",
    "# Calculating VIF for every column (only works for the not Catagorical)\n",
    "VIF = pd.Series([variance_inflation_factor(cat.values, i) for i in range(cat.shape[1])], index =cat.columns)\n",
    "VIF"
   ]
  },
  {
   "cell_type": "code",
   "execution_count": 55,
   "id": "91912585",
   "metadata": {
    "execution": {
     "iopub.execute_input": "2021-10-13T08:27:59.081009Z",
     "iopub.status.busy": "2021-10-13T08:27:59.079744Z",
     "iopub.status.idle": "2021-10-13T08:27:59.977198Z",
     "shell.execute_reply": "2021-10-13T08:27:59.977696Z",
     "shell.execute_reply.started": "2021-10-13T08:26:56.043880Z"
    },
    "papermill": {
     "duration": 1.007732,
     "end_time": "2021-10-13T08:27:59.977865",
     "exception": false,
     "start_time": "2021-10-13T08:27:58.970133",
     "status": "completed"
    },
    "tags": []
   },
   "outputs": [
    {
     "data": {
      "text/plain": [
       "<AxesSubplot:>"
      ]
     },
     "execution_count": 55,
     "metadata": {},
     "output_type": "execute_result"
    },
    {
     "data": {
      "image/png": "[encoded data removed]",
      "text/plain": [
       "<Figure size 432x288 with 2 Axes>"
      ]
     },
     "metadata": {},
     "output_type": "display_data"
    }
   ],
   "source": [
    "sns.heatmap(df.corr(), annot = True)"
   ]
  },
  {
   "cell_type": "markdown",
   "id": "2409ba23",
   "metadata": {
    "papermill": {
     "duration": 0.113386,
     "end_time": "2021-10-13T08:28:00.201076",
     "exception": false,
     "start_time": "2021-10-13T08:28:00.087690",
     "status": "completed"
    },
    "tags": []
   },
   "source": [
    "**Separating train and test data**"
   ]
  },
  {
   "cell_type": "code",
   "execution_count": 56,
   "id": "46a1f045",
   "metadata": {
    "execution": {
     "iopub.execute_input": "2021-10-13T08:28:00.425462Z",
     "iopub.status.busy": "2021-10-13T08:28:00.424796Z",
     "iopub.status.idle": "2021-10-13T08:28:00.427833Z",
     "shell.execute_reply": "2021-10-13T08:28:00.427270Z",
     "shell.execute_reply.started": "2021-10-13T08:26:56.977513Z"
    },
    "papermill": {
     "duration": 0.118265,
     "end_time": "2021-10-13T08:28:00.427970",
     "exception": false,
     "start_time": "2021-10-13T08:28:00.309705",
     "status": "completed"
    },
    "tags": []
   },
   "outputs": [],
   "source": [
    "traindata = df[df.Survived.notna()]\n",
    "traindata.Survived = traindata.Survived.astype('int64')"
   ]
  },
  {
   "cell_type": "code",
   "execution_count": 57,
   "id": "4ed7db0a",
   "metadata": {
    "execution": {
     "iopub.execute_input": "2021-10-13T08:28:00.649274Z",
     "iopub.status.busy": "2021-10-13T08:28:00.648571Z",
     "iopub.status.idle": "2021-10-13T08:28:00.652904Z",
     "shell.execute_reply": "2021-10-13T08:28:00.653481Z",
     "shell.execute_reply.started": "2021-10-13T08:26:56.986803Z"
    },
    "papermill": {
     "duration": 0.116912,
     "end_time": "2021-10-13T08:28:00.653706",
     "exception": false,
     "start_time": "2021-10-13T08:28:00.536794",
     "status": "completed"
    },
    "tags": []
   },
   "outputs": [],
   "source": [
    "testdata = df[df.Survived.isna()]"
   ]
  },
  {
   "cell_type": "code",
   "execution_count": 58,
   "id": "8bdb3af2",
   "metadata": {
    "execution": {
     "iopub.execute_input": "2021-10-13T08:28:00.877856Z",
     "iopub.status.busy": "2021-10-13T08:28:00.877111Z",
     "iopub.status.idle": "2021-10-13T08:28:00.881447Z",
     "shell.execute_reply": "2021-10-13T08:28:00.882058Z",
     "shell.execute_reply.started": "2021-10-13T08:26:56.998598Z"
    },
    "papermill": {
     "duration": 0.117844,
     "end_time": "2021-10-13T08:28:00.882237",
     "exception": false,
     "start_time": "2021-10-13T08:28:00.764393",
     "status": "completed"
    },
    "tags": []
   },
   "outputs": [],
   "source": [
    "testdata.drop('Survived', inplace = True, axis = 1)"
   ]
  },
  {
   "cell_type": "markdown",
   "id": "e449d01f",
   "metadata": {
    "papermill": {
     "duration": 0.109524,
     "end_time": "2021-10-13T08:28:01.102078",
     "exception": false,
     "start_time": "2021-10-13T08:28:00.992554",
     "status": "completed"
    },
    "tags": []
   },
   "source": [
    "**Splitting into train and validation data**"
   ]
  },
  {
   "cell_type": "code",
   "execution_count": 59,
   "id": "caf0e005",
   "metadata": {
    "execution": {
     "iopub.execute_input": "2021-10-13T08:28:01.350132Z",
     "iopub.status.busy": "2021-10-13T08:28:01.349434Z",
     "iopub.status.idle": "2021-10-13T08:28:01.354226Z",
     "shell.execute_reply": "2021-10-13T08:28:01.353715Z",
     "shell.execute_reply.started": "2021-10-13T08:26:57.011535Z"
    },
    "papermill": {
     "duration": 0.120991,
     "end_time": "2021-10-13T08:28:01.354369",
     "exception": false,
     "start_time": "2021-10-13T08:28:01.233378",
     "status": "completed"
    },
    "tags": []
   },
   "outputs": [],
   "source": [
    "X = traindata\n",
    "y = traindata.pop('Survived')"
   ]
  },
  {
   "cell_type": "code",
   "execution_count": 60,
   "id": "a285ef97",
   "metadata": {
    "execution": {
     "iopub.execute_input": "2021-10-13T08:28:01.580352Z",
     "iopub.status.busy": "2021-10-13T08:28:01.579492Z",
     "iopub.status.idle": "2021-10-13T08:28:01.638292Z",
     "shell.execute_reply": "2021-10-13T08:28:01.637741Z",
     "shell.execute_reply.started": "2021-10-13T08:26:57.024846Z"
    },
    "papermill": {
     "duration": 0.17488,
     "end_time": "2021-10-13T08:28:01.638446",
     "exception": false,
     "start_time": "2021-10-13T08:28:01.463566",
     "status": "completed"
    },
    "tags": []
   },
   "outputs": [],
   "source": [
    "from sklearn.model_selection import train_test_split as tts\n",
    "\n",
    "train_x, valid_x, train_y, valid_y = tts(X, y, test_size = 0.15, stratify = y, random_state = 45)"
   ]
  },
  {
   "cell_type": "code",
   "execution_count": 61,
   "id": "763d50c8",
   "metadata": {
    "execution": {
     "iopub.execute_input": "2021-10-13T08:28:01.869001Z",
     "iopub.status.busy": "2021-10-13T08:28:01.868274Z",
     "iopub.status.idle": "2021-10-13T08:28:01.871397Z",
     "shell.execute_reply": "2021-10-13T08:28:01.871936Z",
     "shell.execute_reply.started": "2021-10-13T08:26:57.061443Z"
    },
    "papermill": {
     "duration": 0.122894,
     "end_time": "2021-10-13T08:28:01.872108",
     "exception": false,
     "start_time": "2021-10-13T08:28:01.749214",
     "status": "completed"
    },
    "tags": []
   },
   "outputs": [
    {
     "data": {
      "text/plain": [
       "0    0.615588\n",
       "1    0.384412\n",
       "Name: Survived, dtype: float64"
      ]
     },
     "execution_count": 61,
     "metadata": {},
     "output_type": "execute_result"
    }
   ],
   "source": [
    "train_y.value_counts(normalize = True)"
   ]
  },
  {
   "cell_type": "code",
   "execution_count": 62,
   "id": "d1aeceae",
   "metadata": {
    "execution": {
     "iopub.execute_input": "2021-10-13T08:28:02.099911Z",
     "iopub.status.busy": "2021-10-13T08:28:02.095434Z",
     "iopub.status.idle": "2021-10-13T08:28:02.103405Z",
     "shell.execute_reply": "2021-10-13T08:28:02.102870Z",
     "shell.execute_reply.started": "2021-10-13T08:26:57.073310Z"
    },
    "papermill": {
     "duration": 0.120577,
     "end_time": "2021-10-13T08:28:02.103551",
     "exception": false,
     "start_time": "2021-10-13T08:28:01.982974",
     "status": "completed"
    },
    "tags": []
   },
   "outputs": [
    {
     "data": {
      "text/plain": [
       "0    0.619403\n",
       "1    0.380597\n",
       "Name: Survived, dtype: float64"
      ]
     },
     "execution_count": 62,
     "metadata": {},
     "output_type": "execute_result"
    }
   ],
   "source": [
    "valid_y.value_counts(normalize=True)"
   ]
  },
  {
   "cell_type": "markdown",
   "id": "c12ef589",
   "metadata": {
    "papermill": {
     "duration": 0.109215,
     "end_time": "2021-10-13T08:28:02.322566",
     "exception": false,
     "start_time": "2021-10-13T08:28:02.213351",
     "status": "completed"
    },
    "tags": []
   },
   "source": [
    "\n",
    "**MODEL BUILDING - DECISION TREE**\n"
   ]
  },
  {
   "cell_type": "code",
   "execution_count": 63,
   "id": "c7081193",
   "metadata": {
    "execution": {
     "iopub.execute_input": "2021-10-13T08:28:02.547355Z",
     "iopub.status.busy": "2021-10-13T08:28:02.546612Z",
     "iopub.status.idle": "2021-10-13T08:28:02.705956Z",
     "shell.execute_reply": "2021-10-13T08:28:02.705297Z",
     "shell.execute_reply.started": "2021-10-13T08:26:57.089491Z"
    },
    "papermill": {
     "duration": 0.273835,
     "end_time": "2021-10-13T08:28:02.706111",
     "exception": false,
     "start_time": "2021-10-13T08:28:02.432276",
     "status": "completed"
    },
    "tags": []
   },
   "outputs": [],
   "source": [
    "from sklearn.linear_model import LogisticRegression\n",
    "from sklearn.tree import DecisionTreeClassifier\n",
    "\n",
    "from sklearn.metrics import accuracy_score\n",
    "from sklearn.metrics import f1_score "
   ]
  },
  {
   "cell_type": "code",
   "execution_count": 64,
   "id": "e3fe409a",
   "metadata": {
    "execution": {
     "iopub.execute_input": "2021-10-13T08:28:02.932953Z",
     "iopub.status.busy": "2021-10-13T08:28:02.932262Z",
     "iopub.status.idle": "2021-10-13T08:28:02.946744Z",
     "shell.execute_reply": "2021-10-13T08:28:02.946192Z",
     "shell.execute_reply.started": "2021-10-13T08:26:57.153334Z"
    },
    "papermill": {
     "duration": 0.128613,
     "end_time": "2021-10-13T08:28:02.946893",
     "exception": false,
     "start_time": "2021-10-13T08:28:02.818280",
     "status": "completed"
    },
    "tags": []
   },
   "outputs": [
    {
     "data": {
      "text/plain": [
       "DecisionTreeClassifier(random_state=0)"
      ]
     },
     "execution_count": 64,
     "metadata": {},
     "output_type": "execute_result"
    }
   ],
   "source": [
    "dt = DecisionTreeClassifier( random_state = 0)\n",
    "dt.fit(train_x, train_y)"
   ]
  },
  {
   "cell_type": "code",
   "execution_count": 65,
   "id": "58886303",
   "metadata": {
    "execution": {
     "iopub.execute_input": "2021-10-13T08:28:03.177730Z",
     "iopub.status.busy": "2021-10-13T08:28:03.177059Z",
     "iopub.status.idle": "2021-10-13T08:28:03.182750Z",
     "shell.execute_reply": "2021-10-13T08:28:03.182137Z",
     "shell.execute_reply.started": "2021-10-13T08:26:57.171288Z"
    },
    "papermill": {
     "duration": 0.122766,
     "end_time": "2021-10-13T08:28:03.182886",
     "exception": false,
     "start_time": "2021-10-13T08:28:03.060120",
     "status": "completed"
    },
    "tags": []
   },
   "outputs": [
    {
     "data": {
      "text/plain": [
       "1.0"
      ]
     },
     "execution_count": 65,
     "metadata": {},
     "output_type": "execute_result"
    }
   ],
   "source": [
    "#training score\n",
    "dt.score(train_x, train_y)"
   ]
  },
  {
   "cell_type": "code",
   "execution_count": 66,
   "id": "0e27ddb4",
   "metadata": {
    "execution": {
     "iopub.execute_input": "2021-10-13T08:28:03.407664Z",
     "iopub.status.busy": "2021-10-13T08:28:03.406981Z",
     "iopub.status.idle": "2021-10-13T08:28:03.413869Z",
     "shell.execute_reply": "2021-10-13T08:28:03.414337Z",
     "shell.execute_reply.started": "2021-10-13T08:26:57.181969Z"
    },
    "papermill": {
     "duration": 0.121056,
     "end_time": "2021-10-13T08:28:03.414512",
     "exception": false,
     "start_time": "2021-10-13T08:28:03.293456",
     "status": "completed"
    },
    "tags": []
   },
   "outputs": [
    {
     "data": {
      "text/plain": [
       "0.7313432835820896"
      ]
     },
     "execution_count": 66,
     "metadata": {},
     "output_type": "execute_result"
    }
   ],
   "source": [
    "#validation score\n",
    "dt.score(valid_x, valid_y)"
   ]
  },
  {
   "cell_type": "code",
   "execution_count": 67,
   "id": "996031ff",
   "metadata": {
    "execution": {
     "iopub.execute_input": "2021-10-13T08:28:03.640609Z",
     "iopub.status.busy": "2021-10-13T08:28:03.639942Z",
     "iopub.status.idle": "2021-10-13T08:28:03.649657Z",
     "shell.execute_reply": "2021-10-13T08:28:03.649067Z",
     "shell.execute_reply.started": "2021-10-13T08:26:57.194691Z"
    },
    "papermill": {
     "duration": 0.123137,
     "end_time": "2021-10-13T08:28:03.649834",
     "exception": false,
     "start_time": "2021-10-13T08:28:03.526697",
     "status": "completed"
    },
    "tags": []
   },
   "outputs": [
    {
     "data": {
      "text/plain": [
       "0.6896551724137931"
      ]
     },
     "execution_count": 67,
     "metadata": {},
     "output_type": "execute_result"
    }
   ],
   "source": [
    "predictions_dt = dt.predict(valid_x)\n",
    "f1_score(predictions_dt, valid_y)"
   ]
  },
  {
   "cell_type": "markdown",
   "id": "de30c647",
   "metadata": {
    "papermill": {
     "duration": 0.113987,
     "end_time": "2021-10-13T08:28:03.877404",
     "exception": false,
     "start_time": "2021-10-13T08:28:03.763417",
     "status": "completed"
    },
    "tags": []
   },
   "source": [
    "\n",
    "**Making predictions using predict_proba function**\n"
   ]
  },
  {
   "cell_type": "code",
   "execution_count": 68,
   "id": "afef829c",
   "metadata": {
    "execution": {
     "iopub.execute_input": "2021-10-13T08:28:04.107098Z",
     "iopub.status.busy": "2021-10-13T08:28:04.102866Z",
     "iopub.status.idle": "2021-10-13T08:28:04.109688Z",
     "shell.execute_reply": "2021-10-13T08:28:04.110203Z",
     "shell.execute_reply.started": "2021-10-13T08:26:57.213202Z"
    },
    "papermill": {
     "duration": 0.120944,
     "end_time": "2021-10-13T08:28:04.110388",
     "exception": false,
     "start_time": "2021-10-13T08:28:03.989444",
     "status": "completed"
    },
    "tags": []
   },
   "outputs": [],
   "source": [
    "y_pred = dt.predict_proba(valid_x)[:,1]"
   ]
  },
  {
   "cell_type": "code",
   "execution_count": 69,
   "id": "0633b332",
   "metadata": {
    "execution": {
     "iopub.execute_input": "2021-10-13T08:28:04.340559Z",
     "iopub.status.busy": "2021-10-13T08:28:04.337642Z",
     "iopub.status.idle": "2021-10-13T08:28:04.343302Z",
     "shell.execute_reply": "2021-10-13T08:28:04.343846Z",
     "shell.execute_reply.started": "2021-10-13T08:26:57.223067Z"
    },
    "papermill": {
     "duration": 0.122505,
     "end_time": "2021-10-13T08:28:04.344014",
     "exception": false,
     "start_time": "2021-10-13T08:28:04.221509",
     "status": "completed"
    },
    "tags": []
   },
   "outputs": [],
   "source": [
    "y_new = []\n",
    "for i in range(len(y_pred)):\n",
    "    if y_pred[i]<=0.7:\n",
    "        y_new.append(0)\n",
    "    else:\n",
    "        y_new.append(1)"
   ]
  },
  {
   "cell_type": "code",
   "execution_count": 70,
   "id": "7895f894",
   "metadata": {
    "execution": {
     "iopub.execute_input": "2021-10-13T08:28:04.576507Z",
     "iopub.status.busy": "2021-10-13T08:28:04.575150Z",
     "iopub.status.idle": "2021-10-13T08:28:04.581763Z",
     "shell.execute_reply": "2021-10-13T08:28:04.582259Z",
     "shell.execute_reply.started": "2021-10-13T08:26:57.235751Z"
    },
    "papermill": {
     "duration": 0.12547,
     "end_time": "2021-10-13T08:28:04.582438",
     "exception": false,
     "start_time": "2021-10-13T08:28:04.456968",
     "status": "completed"
    },
    "tags": []
   },
   "outputs": [
    {
     "name": "stdout",
     "output_type": "stream",
     "text": [
      "0.6896551724137931\n"
     ]
    },
    {
     "data": {
      "text/plain": [
       "0.7313432835820896"
      ]
     },
     "execution_count": 70,
     "metadata": {},
     "output_type": "execute_result"
    }
   ],
   "source": [
    "print(f1_score(valid_y, y_new))\n",
    "accuracy_score(valid_y, y_new)\n"
   ]
  },
  {
   "cell_type": "markdown",
   "id": "033dd726",
   "metadata": {
    "papermill": {
     "duration": 0.112229,
     "end_time": "2021-10-13T08:28:04.807615",
     "exception": false,
     "start_time": "2021-10-13T08:28:04.695386",
     "status": "completed"
    },
    "tags": []
   },
   "source": [
    "**Changing max depth**"
   ]
  },
  {
   "cell_type": "code",
   "execution_count": 71,
   "id": "d042cdad",
   "metadata": {
    "execution": {
     "iopub.execute_input": "2021-10-13T08:28:05.044395Z",
     "iopub.status.busy": "2021-10-13T08:28:05.043708Z",
     "iopub.status.idle": "2021-10-13T08:28:05.101971Z",
     "shell.execute_reply": "2021-10-13T08:28:05.102536Z",
     "shell.execute_reply.started": "2021-10-13T08:26:57.252759Z"
    },
    "papermill": {
     "duration": 0.181263,
     "end_time": "2021-10-13T08:28:05.102744",
     "exception": false,
     "start_time": "2021-10-13T08:28:04.921481",
     "status": "completed"
    },
    "tags": []
   },
   "outputs": [],
   "source": [
    "train_accuracy = []\n",
    "validation_accuracy = []\n",
    "for depth in range(1,10):\n",
    "    dt_model = DecisionTreeClassifier(max_depth=depth, random_state=10)\n",
    "    dt_model.fit(train_x, train_y)\n",
    "    train_accuracy.append(dt_model.score(train_x, train_y))\n",
    "    validation_accuracy.append(dt_model.score(valid_x, valid_y))"
   ]
  },
  {
   "cell_type": "code",
   "execution_count": 72,
   "id": "0846f0fc",
   "metadata": {
    "execution": {
     "iopub.execute_input": "2021-10-13T08:28:05.331570Z",
     "iopub.status.busy": "2021-10-13T08:28:05.330912Z",
     "iopub.status.idle": "2021-10-13T08:28:05.341132Z",
     "shell.execute_reply": "2021-10-13T08:28:05.341697Z",
     "shell.execute_reply.started": "2021-10-13T08:26:57.322124Z"
    },
    "papermill": {
     "duration": 0.127303,
     "end_time": "2021-10-13T08:28:05.341873",
     "exception": false,
     "start_time": "2021-10-13T08:28:05.214570",
     "status": "completed"
    },
    "tags": []
   },
   "outputs": [
    {
     "data": {
      "text/html": [
       "<div>\n",
       "<style scoped>\n",
       "    .dataframe tbody tr th:only-of-type {\n",
       "        vertical-align: middle;\n",
       "    }\n",
       "\n",
       "    .dataframe tbody tr th {\n",
       "        vertical-align: top;\n",
       "    }\n",
       "\n",
       "    .dataframe thead th {\n",
       "        text-align: right;\n",
       "    }\n",
       "</style>\n",
       "<table border=\"1\" class=\"dataframe\">\n",
       "  <thead>\n",
       "    <tr style=\"text-align: right;\">\n",
       "      <th></th>\n",
       "      <th>max_depth</th>\n",
       "      <th>train_acc</th>\n",
       "      <th>valid_acc</th>\n",
       "    </tr>\n",
       "  </thead>\n",
       "  <tbody>\n",
       "    <tr>\n",
       "      <th>0</th>\n",
       "      <td>1</td>\n",
       "      <td>0.783355</td>\n",
       "      <td>0.805970</td>\n",
       "    </tr>\n",
       "    <tr>\n",
       "      <th>1</th>\n",
       "      <td>2</td>\n",
       "      <td>0.785997</td>\n",
       "      <td>0.791045</td>\n",
       "    </tr>\n",
       "    <tr>\n",
       "      <th>2</th>\n",
       "      <td>3</td>\n",
       "      <td>0.807133</td>\n",
       "      <td>0.828358</td>\n",
       "    </tr>\n",
       "    <tr>\n",
       "      <th>3</th>\n",
       "      <td>4</td>\n",
       "      <td>0.826948</td>\n",
       "      <td>0.798507</td>\n",
       "    </tr>\n",
       "    <tr>\n",
       "      <th>4</th>\n",
       "      <td>5</td>\n",
       "      <td>0.852048</td>\n",
       "      <td>0.858209</td>\n",
       "    </tr>\n",
       "  </tbody>\n",
       "</table>\n",
       "</div>"
      ],
      "text/plain": [
       "   max_depth  train_acc  valid_acc\n",
       "0          1   0.783355   0.805970\n",
       "1          2   0.785997   0.791045\n",
       "2          3   0.807133   0.828358\n",
       "3          4   0.826948   0.798507\n",
       "4          5   0.852048   0.858209"
      ]
     },
     "execution_count": 72,
     "metadata": {},
     "output_type": "execute_result"
    }
   ],
   "source": [
    "frame = pd.DataFrame({'max_depth':range(1,10), 'train_acc':train_accuracy, 'valid_acc':validation_accuracy})\n",
    "frame.head()"
   ]
  },
  {
   "cell_type": "code",
   "execution_count": 73,
   "id": "bfca930b",
   "metadata": {
    "execution": {
     "iopub.execute_input": "2021-10-13T08:28:05.603761Z",
     "iopub.status.busy": "2021-10-13T08:28:05.601192Z",
     "iopub.status.idle": "2021-10-13T08:28:06.070512Z",
     "shell.execute_reply": "2021-10-13T08:28:06.070001Z",
     "shell.execute_reply.started": "2021-10-13T08:26:57.337638Z"
    },
    "papermill": {
     "duration": 0.616215,
     "end_time": "2021-10-13T08:28:06.070659",
     "exception": false,
     "start_time": "2021-10-13T08:28:05.454444",
     "status": "completed"
    },
    "tags": []
   },
   "outputs": [
    {
     "data": {
      "text/plain": [
       "<matplotlib.legend.Legend at 0x7f1295d2d2d0>"
      ]
     },
     "execution_count": 73,
     "metadata": {},
     "output_type": "execute_result"
    },
    {
     "data": {
      "image/png": "[encoded data removed]",
      "text/plain": [
       "<Figure size 864x432 with 1 Axes>"
      ]
     },
     "metadata": {},
     "output_type": "display_data"
    }
   ],
   "source": [
    "plt.figure(figsize=(12,6))\n",
    "plt.plot(frame['max_depth'], frame['train_acc'], marker='o')\n",
    "plt.plot(frame['max_depth'], frame['valid_acc'], marker='o')\n",
    "plt.xlabel('Depth of tree')\n",
    "plt.ylabel('performance')\n",
    "plt.legend()"
   ]
  },
  {
   "cell_type": "code",
   "execution_count": 74,
   "id": "05cc60c7",
   "metadata": {
    "execution": {
     "iopub.execute_input": "2021-10-13T08:28:06.304706Z",
     "iopub.status.busy": "2021-10-13T08:28:06.304043Z",
     "iopub.status.idle": "2021-10-13T08:28:06.343062Z",
     "shell.execute_reply": "2021-10-13T08:28:06.342081Z",
     "shell.execute_reply.started": "2021-10-13T08:26:57.897858Z"
    },
    "papermill": {
     "duration": 0.158526,
     "end_time": "2021-10-13T08:28:06.343243",
     "exception": false,
     "start_time": "2021-10-13T08:28:06.184717",
     "status": "completed"
    },
    "tags": []
   },
   "outputs": [
    {
     "name": "stdout",
     "output_type": "stream",
     "text": [
      "f1 score : 0.7522935779816514 for depth 4\n",
      "accuracy score : 0.7985074626865671 for depth 4\n",
      "\n",
      "f1 score : 0.8224299065420562 for depth 5\n",
      "accuracy score : 0.8582089552238806 for depth 5\n",
      "\n",
      "f1 score : 0.7799999999999999 for depth 6\n",
      "accuracy score : 0.835820895522388 for depth 6\n",
      "\n",
      "f1 score : 0.8076923076923077 for depth 7\n",
      "accuracy score : 0.8507462686567164 for depth 7\n",
      "\n"
     ]
    }
   ],
   "source": [
    "m_depth = [4,5,6,7]\n",
    "\n",
    "for depth in m_depth:\n",
    "    model = DecisionTreeClassifier(max_depth=depth, random_state=10)\n",
    "    model.fit(train_x, train_y)\n",
    "    pred = model.predict(valid_x)\n",
    "    print('f1 score :', f1_score(pred, valid_y), 'for depth', depth)\n",
    "    print('accuracy score :',accuracy_score(pred, valid_y), 'for depth', depth)\n",
    "    print()\n",
    "          "
   ]
  },
  {
   "cell_type": "markdown",
   "id": "61df512c",
   "metadata": {
    "papermill": {
     "duration": 0.115399,
     "end_time": "2021-10-13T08:28:06.574278",
     "exception": false,
     "start_time": "2021-10-13T08:28:06.458879",
     "status": "completed"
    },
    "tags": []
   },
   "source": [
    "choosing max_depth as 6"
   ]
  },
  {
   "cell_type": "code",
   "execution_count": 75,
   "id": "0046b4ba",
   "metadata": {
    "execution": {
     "iopub.execute_input": "2021-10-13T08:28:06.806724Z",
     "iopub.status.busy": "2021-10-13T08:28:06.806044Z",
     "iopub.status.idle": "2021-10-13T08:28:06.809815Z",
     "shell.execute_reply": "2021-10-13T08:28:06.810362Z",
     "shell.execute_reply.started": "2021-10-13T08:26:57.942450Z"
    },
    "papermill": {
     "duration": 0.122192,
     "end_time": "2021-10-13T08:28:06.810528",
     "exception": false,
     "start_time": "2021-10-13T08:28:06.688336",
     "status": "completed"
    },
    "tags": []
   },
   "outputs": [],
   "source": [
    "my_model = DecisionTreeClassifier(max_depth = 6, max_leaf_nodes = 8,random_state = 10)"
   ]
  },
  {
   "cell_type": "code",
   "execution_count": 76,
   "id": "f86f9eb4",
   "metadata": {
    "execution": {
     "iopub.execute_input": "2021-10-13T08:28:07.045896Z",
     "iopub.status.busy": "2021-10-13T08:28:07.045189Z",
     "iopub.status.idle": "2021-10-13T08:28:07.059145Z",
     "shell.execute_reply": "2021-10-13T08:28:07.059604Z",
     "shell.execute_reply.started": "2021-10-13T08:26:57.949573Z"
    },
    "papermill": {
     "duration": 0.133346,
     "end_time": "2021-10-13T08:28:07.059793",
     "exception": false,
     "start_time": "2021-10-13T08:28:06.926447",
     "status": "completed"
    },
    "tags": []
   },
   "outputs": [
    {
     "name": "stdout",
     "output_type": "stream",
     "text": [
      "0.8203434610303831\n"
     ]
    },
    {
     "data": {
      "text/plain": [
       "0.8955223880597015"
      ]
     },
     "execution_count": 76,
     "metadata": {},
     "output_type": "execute_result"
    }
   ],
   "source": [
    "my_model.fit(train_x, train_y)\n",
    "print(my_model.score(train_x, train_y))\n",
    "my_model.score(valid_x, valid_y)"
   ]
  },
  {
   "cell_type": "code",
   "execution_count": 77,
   "id": "fdba49cd",
   "metadata": {
    "execution": {
     "iopub.execute_input": "2021-10-13T08:28:07.294373Z",
     "iopub.status.busy": "2021-10-13T08:28:07.293689Z",
     "iopub.status.idle": "2021-10-13T08:28:07.302767Z",
     "shell.execute_reply": "2021-10-13T08:28:07.303476Z",
     "shell.execute_reply.started": "2021-10-13T08:26:57.974211Z"
    },
    "papermill": {
     "duration": 0.127079,
     "end_time": "2021-10-13T08:28:07.303714",
     "exception": false,
     "start_time": "2021-10-13T08:28:07.176635",
     "status": "completed"
    },
    "tags": []
   },
   "outputs": [
    {
     "name": "stdout",
     "output_type": "stream",
     "text": [
      "0.8541666666666666\n",
      "0.8955223880597015\n"
     ]
    }
   ],
   "source": [
    "preds = my_model.predict(valid_x)\n",
    "print(f1_score(preds, valid_y))\n",
    "print(accuracy_score(preds, valid_y))"
   ]
  },
  {
   "cell_type": "markdown",
   "id": "6d5bdb8b",
   "metadata": {
    "papermill": {
     "duration": 0.114617,
     "end_time": "2021-10-13T08:28:07.533646",
     "exception": false,
     "start_time": "2021-10-13T08:28:07.419029",
     "status": "completed"
    },
    "tags": []
   },
   "source": [
    "\n",
    "**Decision tree visualization**"
   ]
  },
  {
   "cell_type": "code",
   "execution_count": 78,
   "id": "d327f516",
   "metadata": {
    "execution": {
     "iopub.execute_input": "2021-10-13T08:28:07.771584Z",
     "iopub.status.busy": "2021-10-13T08:28:07.770866Z",
     "iopub.status.idle": "2021-10-13T08:28:07.773908Z",
     "shell.execute_reply": "2021-10-13T08:28:07.773375Z",
     "shell.execute_reply.started": "2021-10-13T08:26:57.986884Z"
    },
    "papermill": {
     "duration": 0.124214,
     "end_time": "2021-10-13T08:28:07.774056",
     "exception": false,
     "start_time": "2021-10-13T08:28:07.649842",
     "status": "completed"
    },
    "tags": []
   },
   "outputs": [],
   "source": [
    "from sklearn import tree"
   ]
  },
  {
   "cell_type": "code",
   "execution_count": 79,
   "id": "39251f43",
   "metadata": {
    "execution": {
     "iopub.execute_input": "2021-10-13T08:28:08.011591Z",
     "iopub.status.busy": "2021-10-13T08:28:08.010955Z",
     "iopub.status.idle": "2021-10-13T08:28:08.017696Z",
     "shell.execute_reply": "2021-10-13T08:28:08.018243Z",
     "shell.execute_reply.started": "2021-10-13T08:26:57.996391Z"
    },
    "papermill": {
     "duration": 0.127741,
     "end_time": "2021-10-13T08:28:08.018426",
     "exception": false,
     "start_time": "2021-10-13T08:28:07.890685",
     "status": "completed"
    },
    "tags": []
   },
   "outputs": [],
   "source": [
    "decision_tree = tree.export_graphviz(model,out_file='tree.dot',feature_names = train_x.columns, max_depth = 3,filled=True)"
   ]
  },
  {
   "cell_type": "code",
   "execution_count": 80,
   "id": "343be9be",
   "metadata": {
    "execution": {
     "iopub.execute_input": "2021-10-13T08:28:08.252754Z",
     "iopub.status.busy": "2021-10-13T08:28:08.252044Z",
     "iopub.status.idle": "2021-10-13T08:28:10.059095Z",
     "shell.execute_reply": "2021-10-13T08:28:10.058436Z",
     "shell.execute_reply.started": "2021-10-13T08:26:58.013898Z"
    },
    "papermill": {
     "duration": 1.925024,
     "end_time": "2021-10-13T08:28:10.059246",
     "exception": false,
     "start_time": "2021-10-13T08:28:08.134222",
     "status": "completed"
    },
    "tags": []
   },
   "outputs": [],
   "source": [
    "!dot -Tpng tree.dot -o tree.png"
   ]
  },
  {
   "cell_type": "code",
   "execution_count": 81,
   "id": "3c6896b7",
   "metadata": {
    "execution": {
     "iopub.execute_input": "2021-10-13T08:28:10.298296Z",
     "iopub.status.busy": "2021-10-13T08:28:10.297632Z",
     "iopub.status.idle": "2021-10-13T08:28:11.114435Z",
     "shell.execute_reply": "2021-10-13T08:28:11.113889Z",
     "shell.execute_reply.started": "2021-10-13T08:26:58.921341Z"
    },
    "papermill": {
     "duration": 0.938124,
     "end_time": "2021-10-13T08:28:11.114581",
     "exception": false,
     "start_time": "2021-10-13T08:28:10.176457",
     "status": "completed"
    },
    "tags": []
   },
   "outputs": [
    {
     "data": {
      "text/plain": [
       "<matplotlib.image.AxesImage at 0x7f129563b750>"
      ]
     },
     "execution_count": 81,
     "metadata": {},
     "output_type": "execute_result"
    },
    {
     "data": {
      "image/png": "[encoded data removed]",
      "text/plain": [
       "<Figure size 1440x1440 with 1 Axes>"
      ]
     },
     "metadata": {},
     "output_type": "display_data"
    }
   ],
   "source": [
    "image = plt.imread('tree.png')\n",
    "plt.figure(figsize=(20,20))\n",
    "plt.imshow(image)"
   ]
  },
  {
   "cell_type": "code",
   "execution_count": 82,
   "id": "17304089",
   "metadata": {
    "execution": {
     "iopub.execute_input": "2021-10-13T08:28:11.373091Z",
     "iopub.status.busy": "2021-10-13T08:28:11.372423Z",
     "iopub.status.idle": "2021-10-13T08:28:11.375945Z",
     "shell.execute_reply": "2021-10-13T08:28:11.375334Z",
     "shell.execute_reply.started": "2021-10-13T08:26:59.795863Z"
    },
    "papermill": {
     "duration": 0.140806,
     "end_time": "2021-10-13T08:28:11.376081",
     "exception": false,
     "start_time": "2021-10-13T08:28:11.235275",
     "status": "completed"
    },
    "tags": []
   },
   "outputs": [
    {
     "data": {
      "text/html": [
       "<div>\n",
       "<style scoped>\n",
       "    .dataframe tbody tr th:only-of-type {\n",
       "        vertical-align: middle;\n",
       "    }\n",
       "\n",
       "    .dataframe tbody tr th {\n",
       "        vertical-align: top;\n",
       "    }\n",
       "\n",
       "    .dataframe thead th {\n",
       "        text-align: right;\n",
       "    }\n",
       "</style>\n",
       "<table border=\"1\" class=\"dataframe\">\n",
       "  <thead>\n",
       "    <tr style=\"text-align: right;\">\n",
       "      <th></th>\n",
       "      <th>PassengerId</th>\n",
       "      <th>Pclass</th>\n",
       "      <th>Sex</th>\n",
       "      <th>Embarked</th>\n",
       "      <th>title</th>\n",
       "      <th>family_members</th>\n",
       "      <th>IsAlone</th>\n",
       "      <th>FareBand</th>\n",
       "      <th>age_range</th>\n",
       "    </tr>\n",
       "  </thead>\n",
       "  <tbody>\n",
       "    <tr>\n",
       "      <th>891</th>\n",
       "      <td>892</td>\n",
       "      <td>3</td>\n",
       "      <td>1</td>\n",
       "      <td>1</td>\n",
       "      <td>2</td>\n",
       "      <td>0</td>\n",
       "      <td>0</td>\n",
       "      <td>1</td>\n",
       "      <td>2</td>\n",
       "    </tr>\n",
       "    <tr>\n",
       "      <th>892</th>\n",
       "      <td>893</td>\n",
       "      <td>3</td>\n",
       "      <td>0</td>\n",
       "      <td>2</td>\n",
       "      <td>3</td>\n",
       "      <td>1</td>\n",
       "      <td>1</td>\n",
       "      <td>0</td>\n",
       "      <td>2</td>\n",
       "    </tr>\n",
       "    <tr>\n",
       "      <th>893</th>\n",
       "      <td>894</td>\n",
       "      <td>2</td>\n",
       "      <td>1</td>\n",
       "      <td>1</td>\n",
       "      <td>2</td>\n",
       "      <td>0</td>\n",
       "      <td>0</td>\n",
       "      <td>1</td>\n",
       "      <td>3</td>\n",
       "    </tr>\n",
       "    <tr>\n",
       "      <th>894</th>\n",
       "      <td>895</td>\n",
       "      <td>3</td>\n",
       "      <td>1</td>\n",
       "      <td>2</td>\n",
       "      <td>2</td>\n",
       "      <td>0</td>\n",
       "      <td>0</td>\n",
       "      <td>1</td>\n",
       "      <td>1</td>\n",
       "    </tr>\n",
       "    <tr>\n",
       "      <th>895</th>\n",
       "      <td>896</td>\n",
       "      <td>3</td>\n",
       "      <td>0</td>\n",
       "      <td>2</td>\n",
       "      <td>3</td>\n",
       "      <td>2</td>\n",
       "      <td>1</td>\n",
       "      <td>1</td>\n",
       "      <td>1</td>\n",
       "    </tr>\n",
       "    <tr>\n",
       "      <th>...</th>\n",
       "      <td>...</td>\n",
       "      <td>...</td>\n",
       "      <td>...</td>\n",
       "      <td>...</td>\n",
       "      <td>...</td>\n",
       "      <td>...</td>\n",
       "      <td>...</td>\n",
       "      <td>...</td>\n",
       "      <td>...</td>\n",
       "    </tr>\n",
       "    <tr>\n",
       "      <th>1304</th>\n",
       "      <td>1305</td>\n",
       "      <td>3</td>\n",
       "      <td>1</td>\n",
       "      <td>2</td>\n",
       "      <td>2</td>\n",
       "      <td>0</td>\n",
       "      <td>0</td>\n",
       "      <td>1</td>\n",
       "      <td>1</td>\n",
       "    </tr>\n",
       "    <tr>\n",
       "      <th>1305</th>\n",
       "      <td>1306</td>\n",
       "      <td>1</td>\n",
       "      <td>0</td>\n",
       "      <td>0</td>\n",
       "      <td>4</td>\n",
       "      <td>0</td>\n",
       "      <td>0</td>\n",
       "      <td>4</td>\n",
       "      <td>2</td>\n",
       "    </tr>\n",
       "    <tr>\n",
       "      <th>1306</th>\n",
       "      <td>1307</td>\n",
       "      <td>3</td>\n",
       "      <td>1</td>\n",
       "      <td>2</td>\n",
       "      <td>2</td>\n",
       "      <td>0</td>\n",
       "      <td>0</td>\n",
       "      <td>0</td>\n",
       "      <td>2</td>\n",
       "    </tr>\n",
       "    <tr>\n",
       "      <th>1307</th>\n",
       "      <td>1308</td>\n",
       "      <td>3</td>\n",
       "      <td>1</td>\n",
       "      <td>2</td>\n",
       "      <td>2</td>\n",
       "      <td>0</td>\n",
       "      <td>0</td>\n",
       "      <td>1</td>\n",
       "      <td>1</td>\n",
       "    </tr>\n",
       "    <tr>\n",
       "      <th>1308</th>\n",
       "      <td>1309</td>\n",
       "      <td>3</td>\n",
       "      <td>1</td>\n",
       "      <td>0</td>\n",
       "      <td>0</td>\n",
       "      <td>2</td>\n",
       "      <td>1</td>\n",
       "      <td>2</td>\n",
       "      <td>0</td>\n",
       "    </tr>\n",
       "  </tbody>\n",
       "</table>\n",
       "<p>418 rows × 9 columns</p>\n",
       "</div>"
      ],
      "text/plain": [
       "      PassengerId  Pclass  Sex  Embarked  title  family_members  IsAlone  \\\n",
       "891           892       3    1         1      2               0        0   \n",
       "892           893       3    0         2      3               1        1   \n",
       "893           894       2    1         1      2               0        0   \n",
       "894           895       3    1         2      2               0        0   \n",
       "895           896       3    0         2      3               2        1   \n",
       "...           ...     ...  ...       ...    ...             ...      ...   \n",
       "1304         1305       3    1         2      2               0        0   \n",
       "1305         1306       1    0         0      4               0        0   \n",
       "1306         1307       3    1         2      2               0        0   \n",
       "1307         1308       3    1         2      2               0        0   \n",
       "1308         1309       3    1         0      0               2        1   \n",
       "\n",
       "      FareBand age_range  \n",
       "891          1         2  \n",
       "892          0         2  \n",
       "893          1         3  \n",
       "894          1         1  \n",
       "895          1         1  \n",
       "...        ...       ...  \n",
       "1304         1         1  \n",
       "1305         4         2  \n",
       "1306         0         2  \n",
       "1307         1         1  \n",
       "1308         2         0  \n",
       "\n",
       "[418 rows x 9 columns]"
      ]
     },
     "execution_count": 82,
     "metadata": {},
     "output_type": "execute_result"
    }
   ],
   "source": [
    "testdata"
   ]
  },
  {
   "cell_type": "code",
   "execution_count": 83,
   "id": "4cd2b07c",
   "metadata": {
    "execution": {
     "iopub.execute_input": "2021-10-13T08:28:11.627725Z",
     "iopub.status.busy": "2021-10-13T08:28:11.627051Z",
     "iopub.status.idle": "2021-10-13T08:28:11.637258Z",
     "shell.execute_reply": "2021-10-13T08:28:11.636647Z",
     "shell.execute_reply.started": "2021-10-13T08:26:59.817534Z"
    },
    "papermill": {
     "duration": 0.13953,
     "end_time": "2021-10-13T08:28:11.637408",
     "exception": false,
     "start_time": "2021-10-13T08:28:11.497878",
     "status": "completed"
    },
    "tags": []
   },
   "outputs": [
    {
     "name": "stdout",
     "output_type": "stream",
     "text": [
      "Your submission was successfully saved!\n"
     ]
    }
   ],
   "source": [
    "predictions = my_model.predict(testdata)\n",
    "output = pd.DataFrame({'PassengerId': testdata.PassengerId, 'Survived': predictions})\n",
    "output.to_csv('submission.csv', index=False)\n",
    "print(\"Your submission was successfully saved!\")"
   ]
  },
  {
   "cell_type": "code",
   "execution_count": null,
   "id": "123dee05",
   "metadata": {
    "papermill": {
     "duration": 0.121633,
     "end_time": "2021-10-13T08:28:11.880250",
     "exception": false,
     "start_time": "2021-10-13T08:28:11.758617",
     "status": "completed"
    },
    "tags": []
   },
   "outputs": [],
   "source": []
  }
 ],
 "metadata": {
  "kernelspec": {
   "display_name": "Python 3",
   "language": "python",
   "name": "python3"
  },
  "language_info": {
   "codemirror_mode": {
    "name": "ipython",
    "version": 3
   },
   "file_extension": ".py",
   "mimetype": "text/x-python",
   "name": "python",
   "nbconvert_exporter": "python",
   "pygments_lexer": "ipython3",
   "version": "3.7.10"
  },
  "papermill": {
   "default_parameters": {},
   "duration": 42.85955,
   "end_time": "2021-10-13T08:28:12.812884",
   "environment_variables": {},
   "exception": null,
   "input_path": "__notebook__.ipynb",
   "output_path": "__notebook__.ipynb",
   "parameters": {},
   "start_time": "2021-10-13T08:27:29.953334",
   "version": "2.3.3"
  }
 },
 "nbformat": 4,
 "nbformat_minor": 5
}
